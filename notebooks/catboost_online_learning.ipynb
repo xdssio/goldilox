{
 "cells": [
  {
   "cell_type": "markdown",
   "id": "5cfa1674",
   "metadata": {},
   "source": [
    "# CatBoost - batch learning"
   ]
  },
  {
   "cell_type": "markdown",
   "id": "95924944",
   "metadata": {},
   "source": [
    "## [Add a vaex accesor](https://vaex.io/docs/tutorial.html#Adding-DataFrame-accessors) (optional)\n",
    "* The numpy version is about 2X fast"
   ]
  },
  {
   "cell_type": "code",
   "execution_count": 2,
   "id": "b650d3b7",
   "metadata": {
    "ExecuteTime": {
     "end_time": "2022-01-13T14:33:29.385563Z",
     "start_time": "2022-01-13T14:33:28.070781Z"
    },
    "code_folding": [
     5,
     6
    ]
   },
   "outputs": [],
   "source": [
    "import vaex\n",
    "import numpy as np\n",
    "\n",
    "\n",
    "@vaex.register_dataframe_accessor('online', override=True)\n",
    "class Online(object):\n",
    "    def __init__(self, df):\n",
    "        self.df = df\n",
    "\n",
    "    def to_pandas_x_y(self, features=None, target=None, num_epochs=1, batch_size=1000, shuffle=False):\n",
    "        \"\"\"Return a tuple X, y which fits the sklearn pattern\"\"\"\n",
    "        num_features = len(features)        \n",
    "        column_names = features.copy()\n",
    "        n_samples = len(self.df)\n",
    "        if target is not None:\n",
    "            column_names.append(target)\n",
    "        progressbar = vaex.utils.progressbars(True, title=\"training\")\n",
    "        progressbar(0)\n",
    "        def iterator():\n",
    "            for epoch in range(num_epochs):\n",
    "                for i1, i2, chunks in self.df.to_pandas_df(column_names=column_names, \n",
    "                                                           chunk_size=batch_size):\n",
    "                    if shuffle and epoch > 0:\n",
    "                        chunks = chunks.sample(frac=1)\n",
    "                    X = chunks[column_names]\n",
    "                    y = chunks[target]\n",
    "                    yield X, y\n",
    "                    progressbar((n_samples * epoch + i1) / (num_epochs * n_samples))\n",
    "            progressbar(1.0)\n",
    "        return iterator()\n",
    "\n",
    "    def to_x_y(self, features=None, target=None, num_epochs=1, batch_size=1000, shuffle=False):\n",
    "        \"\"\"Return a tuple X, y which fits the sklearn pattern\"\"\"\n",
    "        num_features = len(features)        \n",
    "        column_names = features.copy()\n",
    "        n_samples = len(self.df)\n",
    "        if target is not None:\n",
    "            column_names.append(target)\n",
    "        progressbar = vaex.utils.progressbars(True, title=\"training\")\n",
    "        progressbar(0)\n",
    "        y = None\n",
    "        def iterator():\n",
    "            for epoch in range(num_epochs):\n",
    "                for i1, i2, chunks in self.df.evaluate_iterator(column_names, \n",
    "                                                                chunk_size=batch_size, \n",
    "                                                                progress=False):\n",
    "                    chunks = np.array(chunks).T\n",
    "                    if shuffle and epoch > 0:\n",
    "                        np.random.shuffle(chunks)\n",
    "                    X = chunks[:, 0 : num_features]\n",
    "                    if target is not None:\n",
    "                        y = chunks[:, -1]\n",
    "                    yield X, y\n",
    "                    progressbar((n_samples * epoch + i1) / (num_epochs * n_samples))\n",
    "            progressbar(1.0)\n",
    "        return iterator()"
   ]
  },
  {
   "cell_type": "markdown",
   "id": "0ac7f267",
   "metadata": {},
   "source": [
    "# Get data"
   ]
  },
  {
   "cell_type": "code",
   "execution_count": 3,
   "id": "9eda8502",
   "metadata": {
    "ExecuteTime": {
     "end_time": "2022-01-13T14:33:29.694223Z",
     "start_time": "2022-01-13T14:33:29.386736Z"
    }
   },
   "outputs": [
    {
     "data": {
      "text/html": [
       "<table>\n",
       "<thead>\n",
       "<tr><th>#                            </th><th style=\"text-align: right;\">  feature0</th><th style=\"text-align: right;\">  feature1</th><th style=\"text-align: right;\">  feature2</th><th style=\"text-align: right;\">  feature3</th><th style=\"text-align: right;\">  feature4</th><th style=\"text-align: right;\">  feature5</th><th style=\"text-align: right;\">  feature6</th><th style=\"text-align: right;\">  feature7</th><th style=\"text-align: right;\">  feature8</th><th style=\"text-align: right;\">  feature9</th><th style=\"text-align: right;\">  feature10</th><th style=\"text-align: right;\">  feature11</th><th style=\"text-align: right;\">  feature12</th><th style=\"text-align: right;\">  feature13</th><th style=\"text-align: right;\">  feature14</th><th style=\"text-align: right;\">  feature15</th><th style=\"text-align: right;\">  feature16</th><th style=\"text-align: right;\">  feature17</th><th style=\"text-align: right;\">  feature18</th><th style=\"text-align: right;\">  feature19</th><th style=\"text-align: right;\">  target</th></tr>\n",
       "</thead>\n",
       "<tbody>\n",
       "<tr><td><i style='opacity: 0.6'>0</i></td><td style=\"text-align: right;\">  0.626102</td><td style=\"text-align: right;\"> 0.277363 </td><td style=\"text-align: right;\">   1.80445</td><td style=\"text-align: right;\"> -0.387044</td><td style=\"text-align: right;\">  -1.97737</td><td style=\"text-align: right;\"> -1.18679 </td><td style=\"text-align: right;\"> -0.705145</td><td style=\"text-align: right;\"> -0.877054</td><td style=\"text-align: right;\">  0.562539</td><td style=\"text-align: right;\">  0.331714</td><td style=\"text-align: right;\">  -0.308297</td><td style=\"text-align: right;\">  -1.37148 </td><td style=\"text-align: right;\">   0.437633</td><td style=\"text-align: right;\">   0.948141</td><td style=\"text-align: right;\">   0.212583</td><td style=\"text-align: right;\">   0.513524</td><td style=\"text-align: right;\">    1.15034</td><td style=\"text-align: right;\"> -4.40183  </td><td style=\"text-align: right;\">  -1.46181 </td><td style=\"text-align: right;\">   1.09662 </td><td style=\"text-align: right;\">       2</td></tr>\n",
       "<tr><td><i style='opacity: 0.6'>1</i></td><td style=\"text-align: right;\">  2.63686 </td><td style=\"text-align: right;\">-0.0297119</td><td style=\"text-align: right;\">  -0.74685</td><td style=\"text-align: right;\">  0.527176</td><td style=\"text-align: right;\">  -2.39969</td><td style=\"text-align: right;\">  0.133636</td><td style=\"text-align: right;\">  1.80218 </td><td style=\"text-align: right;\">  0.622773</td><td style=\"text-align: right;\">  0.212612</td><td style=\"text-align: right;\"> -1.40264 </td><td style=\"text-align: right;\">  -1.43593 </td><td style=\"text-align: right;\">   0.951531</td><td style=\"text-align: right;\">   0.36544 </td><td style=\"text-align: right;\">  -1.65699 </td><td style=\"text-align: right;\">  -0.807654</td><td style=\"text-align: right;\">   2.29668 </td><td style=\"text-align: right;\">   -2.96094</td><td style=\"text-align: right;\">  0.0621024</td><td style=\"text-align: right;\">   0.149074</td><td style=\"text-align: right;\">  -0.712765</td><td style=\"text-align: right;\">       0</td></tr>\n",
       "</tbody>\n",
       "</table>"
      ],
      "text/plain": [
       "  #    feature0    feature1    feature2    feature3    feature4    feature5    feature6    feature7    feature8    feature9    feature10    feature11    feature12    feature13    feature14    feature15    feature16    feature17    feature18    feature19    target\n",
       "  0    0.626102   0.277363      1.80445   -0.387044    -1.97737   -1.18679    -0.705145   -0.877054    0.562539    0.331714    -0.308297    -1.37148      0.437633     0.948141     0.212583     0.513524      1.15034   -4.40183      -1.46181      1.09662          2\n",
       "  1    2.63686   -0.0297119    -0.74685    0.527176    -2.39969    0.133636    1.80218     0.622773    0.212612   -1.40264     -1.43593      0.951531     0.36544     -1.65699     -0.807654     2.29668      -2.96094    0.0621024     0.149074    -0.712765         0"
      ]
     },
     "execution_count": 3,
     "metadata": {},
     "output_type": "execute_result"
    }
   ],
   "source": [
    "from sklearn.datasets import make_classification\n",
    "import vaex\n",
    "\n",
    "X, y = make_classification(n_samples=10000, n_informative=10, n_classes=3)\n",
    "df = vaex.from_arrays(**{f\"feature{i}\": X[:,i] for i in range(20)})\n",
    "features, target = df.get_column_names(), 'target'\n",
    "df[target] = y\n",
    "df.head(2)"
   ]
  },
  {
   "cell_type": "code",
   "execution_count": 4,
   "id": "9ea96052",
   "metadata": {
    "ExecuteTime": {
     "end_time": "2022-01-13T14:33:29.752460Z",
     "start_time": "2022-01-13T14:33:29.695146Z"
    }
   },
   "outputs": [
    {
     "name": "stderr",
     "output_type": "stream",
     "text": [
      "/Users/yonatanalexander/development/xdss/goldilox/.venv/lib/python3.7/site-packages/vaex/ml/__init__.py:31: UserWarning: Make sure the DataFrame is shuffled\n",
      "  warnings.warn('Make sure the DataFrame is shuffled')\n"
     ]
    }
   ],
   "source": [
    "train, test = df.ml.train_test_split()"
   ]
  },
  {
   "cell_type": "markdown",
   "id": "7b4fdb26",
   "metadata": {},
   "source": [
    "## Training "
   ]
  },
  {
   "cell_type": "code",
   "execution_count": 5,
   "id": "6ee89692",
   "metadata": {
    "ExecuteTime": {
     "end_time": "2022-01-13T14:33:30.835473Z",
     "start_time": "2022-01-13T14:33:30.647186Z"
    }
   },
   "outputs": [
    {
     "name": "stdout",
     "output_type": "stream",
     "text": [
      "training [########################################] 100.00% elapsed time  :     0.12s =  0.0m =  0.0h\n",
      " "
     ]
    }
   ],
   "source": [
    "from catboost import CatBoostClassifier\n",
    "from vaex.ml.sklearn import Predictor\n",
    "import warnings\n",
    "\n",
    "warnings.filterwarnings('ignore')\n",
    "\n",
    "num_epochs = 2\n",
    "batch_size = 5000\n",
    "model = None\n",
    "\n",
    "params = {'verbose': 0, \n",
    "          'iterations': 1,\n",
    "          'objective': 'MultiClass'}\n",
    "\n",
    "for X,y in train.online.to_x_y(features=features, \n",
    "                               target=target,\n",
    "                               batch_size=batch_size, \n",
    "                               num_epochs=num_epochs):\n",
    "        model = CatBoostClassifier(**params).fit(X, y) if model is None else model.fit(X, y, init_model=model) \n",
    "            \n",
    "\n",
    "\n",
    "model = Predictor(model=model,\n",
    "                features=features, \n",
    "                target=target,\n",
    "                prediction_name='prediction')\n",
    "train = model.transform(train)        "
   ]
  },
  {
   "cell_type": "code",
   "execution_count": 6,
   "id": "5ffb12ad",
   "metadata": {
    "ExecuteTime": {
     "end_time": "2022-01-13T14:33:32.170550Z",
     "start_time": "2022-01-13T14:33:31.377201Z"
    }
   },
   "outputs": [
    {
     "name": "stdout",
     "output_type": "stream",
     "text": [
      "Accuracy: 0.8195\n"
     ]
    }
   ],
   "source": [
    "from goldilox import Pipeline\n",
    "from sklearn.metrics import accuracy_score\n",
    "\n",
    "pipeline = Pipeline.from_vaex(train)\n",
    "print(f\"Accuracy: {accuracy_score(pipeline.inference(test)['prediction'].values, test[target].values)}\")"
   ]
  }
 ],
 "metadata": {
  "kernelspec": {
   "display_name": "Python 3 (ipykernel)",
   "language": "python",
   "name": "python3"
  },
  "language_info": {
   "codemirror_mode": {
    "name": "ipython",
    "version": 3
   },
   "file_extension": ".py",
   "mimetype": "text/x-python",
   "name": "python",
   "nbconvert_exporter": "python",
   "pygments_lexer": "ipython3",
   "version": "3.7.12"
  }
 },
 "nbformat": 4,
 "nbformat_minor": 5
}
