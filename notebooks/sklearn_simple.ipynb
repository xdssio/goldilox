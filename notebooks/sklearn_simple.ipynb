{
 "cells": [
  {
   "cell_type": "markdown",
   "metadata": {},
   "source": [
    "# Get data"
   ]
  },
  {
   "cell_type": "code",
   "execution_count": 1,
   "metadata": {},
   "outputs": [
    {
     "data": {
      "text/html": [
       "<div>\n",
       "<style scoped>\n",
       "    .dataframe tbody tr th:only-of-type {\n",
       "        vertical-align: middle;\n",
       "    }\n",
       "\n",
       "    .dataframe tbody tr th {\n",
       "        vertical-align: top;\n",
       "    }\n",
       "\n",
       "    .dataframe thead th {\n",
       "        text-align: right;\n",
       "    }\n",
       "</style>\n",
       "<table border=\"1\" class=\"dataframe\">\n",
       "  <thead>\n",
       "    <tr style=\"text-align: right;\">\n",
       "      <th></th>\n",
       "      <th>sepal length (cm)</th>\n",
       "      <th>sepal width (cm)</th>\n",
       "      <th>petal length (cm)</th>\n",
       "      <th>petal width (cm)</th>\n",
       "      <th>target</th>\n",
       "    </tr>\n",
       "  </thead>\n",
       "  <tbody>\n",
       "    <tr>\n",
       "      <th>0</th>\n",
       "      <td>5.1</td>\n",
       "      <td>3.5</td>\n",
       "      <td>1.4</td>\n",
       "      <td>0.2</td>\n",
       "      <td>0</td>\n",
       "    </tr>\n",
       "    <tr>\n",
       "      <th>1</th>\n",
       "      <td>4.9</td>\n",
       "      <td>3.0</td>\n",
       "      <td>1.4</td>\n",
       "      <td>0.2</td>\n",
       "      <td>0</td>\n",
       "    </tr>\n",
       "    <tr>\n",
       "      <th>2</th>\n",
       "      <td>4.7</td>\n",
       "      <td>3.2</td>\n",
       "      <td>1.3</td>\n",
       "      <td>0.2</td>\n",
       "      <td>0</td>\n",
       "    </tr>\n",
       "    <tr>\n",
       "      <th>3</th>\n",
       "      <td>4.6</td>\n",
       "      <td>3.1</td>\n",
       "      <td>1.5</td>\n",
       "      <td>0.2</td>\n",
       "      <td>0</td>\n",
       "    </tr>\n",
       "    <tr>\n",
       "      <th>4</th>\n",
       "      <td>5.0</td>\n",
       "      <td>3.6</td>\n",
       "      <td>1.4</td>\n",
       "      <td>0.2</td>\n",
       "      <td>0</td>\n",
       "    </tr>\n",
       "  </tbody>\n",
       "</table>\n",
       "</div>"
      ],
      "text/plain": [
       "   sepal length (cm)  sepal width (cm)  petal length (cm)  petal width (cm)  \\\n",
       "0                5.1               3.5                1.4               0.2   \n",
       "1                4.9               3.0                1.4               0.2   \n",
       "2                4.7               3.2                1.3               0.2   \n",
       "3                4.6               3.1                1.5               0.2   \n",
       "4                5.0               3.6                1.4               0.2   \n",
       "\n",
       "   target  \n",
       "0       0  \n",
       "1       0  \n",
       "2       0  \n",
       "3       0  \n",
       "4       0  "
      ]
     },
     "execution_count": 1,
     "metadata": {},
     "output_type": "execute_result"
    }
   ],
   "source": [
    "import pandas as pd\n",
    "import json\n",
    "from sklearn.datasets import load_iris\n",
    "\n",
    "# Get teh data\n",
    "iris  = load_iris()\n",
    "features = iris.feature_names\n",
    "df = pd.DataFrame(iris.data, columns=features)\n",
    "df['target'] = iris.target\n",
    "\n",
    "df.head()"
   ]
  },
  {
   "cell_type": "code",
   "execution_count": 4,
   "metadata": {},
   "outputs": [
    {
     "name": "stdout",
     "output_type": "stream",
     "text": [
      "Pipeline doesn't handle na for sepal length (cm)\n",
      "Pipeline doesn't handle na for sepal width (cm)\n",
      "Pipeline doesn't handle na for petal length (cm)\n",
      "Pipeline doesn't handle na for petal width (cm)\n"
     ]
    }
   ],
   "source": [
    "from sklearn.linear_model import LogisticRegression\n",
    "from sklearn.preprocessing import StandardScaler\n",
    "import sklearn.pipeline\n",
    "from goldilox import Pipeline\n",
    "\n",
    "# Option 1: First create goldilox pipeline, then train (recommended)\n",
    "sklearn_pipeline = sklearn.pipeline.Pipeline([('standar',StandardScaler()),('classifier',LogisticRegression())])\n",
    "pipeline = Pipeline.from_sklearn(sklearn_pipeline).fit(df[features],df['target'])\n",
    "\n",
    "# Options 2: Train model/sklearn-pipeline, then create goldilox pipeline + example of raw\n",
    "sklearn_pipeline = sklearn_pipeline.fit(df[features],df['target'])\n",
    "raw = Pipeline.to_raw(df[features])\n",
    "pipeline = Pipeline.from_sklearn(sklearn_pipeline, raw=raw)\n",
    "\n",
    "assert pipeline.validate()"
   ]
  },
  {
   "cell_type": "markdown",
   "metadata": {},
   "source": [
    "The pipeline is ready to go, but it does not handle missing values which we might get in production time.   \n",
    "Let's fix that!"
   ]
  },
  {
   "cell_type": "code",
   "execution_count": 5,
   "metadata": {},
   "outputs": [],
   "source": [
    "from sklearn.compose import ColumnTransformer\n",
    "from sklearn.impute import SimpleImputer\n",
    "\n",
    "imputer = ColumnTransformer([('features_mean', SimpleImputer(strategy='mean'), \\\n",
    "                              features)], remainder='passthrough')\n",
    "sklearn_pipeline = sklearn.pipeline.Pipeline([('imputer',imputer), ('standar',StandardScaler()), ('classifier',LogisticRegression())])\n",
    "pipeline = Pipeline.from_sklearn(sklearn_pipeline).fit(df[features],df['target'])\n",
    "assert pipeline.validate()"
   ]
  },
  {
   "cell_type": "code",
   "execution_count": 7,
   "metadata": {},
   "outputs": [
    {
     "name": "stdout",
     "output_type": "stream",
     "text": [
      "Go to the fasgtapi docs here: http://127.0.0.1:5000/docs\n",
      "[2021-11-26 12:10:04 +0100] [39494] [INFO] Starting gunicorn 20.1.0\n",
      "[2021-11-26 12:10:04 +0100] [39494] [INFO] Listening at: http://127.0.0.1:5000 (39494)\n",
      "[2021-11-26 12:10:04 +0100] [39494] [INFO] Using worker: uvicorn.workers.UvicornH11Worker\n",
      "[2021-11-26 12:10:04 +0100] [39527] [INFO] Booting worker with pid: 39527\n",
      "[2021-11-26 12:10:04 +0100] [39527] [INFO] Started server process [39527]\n",
      "[2021-11-26 12:10:04 +0100] [39527] [INFO] Waiting for application startup.\n",
      "[2021-11-26 12:10:04 +0100] [39527] [INFO] Application startup complete.\n",
      "^C\n",
      "[2021-11-26 12:10:21 +0100] [39494] [INFO] Handling signal: int\n"
     ]
    }
   ],
   "source": [
    "pipeline.save('./pipeline.pkl')\n",
    "print('Go to the fastapi docs here: http://127.0.0.1:5000/docs')\n",
    "!gl serve 'pipeline.pkl'"
   ]
  }
 ],
 "metadata": {
  "interpreter": {
   "hash": "a24fb10407d98c895ca4ebc991df8bd8db3efe74a86347ed2e2a2998c5b6d91c"
  },
  "kernelspec": {
   "display_name": "Python 3.9.7 64-bit ('.virtualenvs': virtualenv)",
   "language": "python",
   "name": "python3"
  },
  "language_info": {
   "codemirror_mode": {
    "name": "ipython",
    "version": 3
   },
   "file_extension": ".py",
   "mimetype": "text/x-python",
   "name": "python",
   "nbconvert_exporter": "python",
   "pygments_lexer": "ipython3",
   "version": "3.7.9"
  },
  "orig_nbformat": 4
 },
 "nbformat": 4,
 "nbformat_minor": 2
}
