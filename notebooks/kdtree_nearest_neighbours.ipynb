{
 "cells": [
  {
   "cell_type": "markdown",
   "metadata": {},
   "source": [
    "# [KDTree (SKlearn)](https://scikit-learn.org/stable/auto_examples/neighbors/approximate_nearest_neighbors.html)\n"
   ]
  },
  {
   "cell_type": "markdown",
   "metadata": {},
   "source": [
    "### Vaex"
   ]
  },
  {
   "cell_type": "code",
   "execution_count": 10,
   "metadata": {},
   "outputs": [
    {
     "data": {
      "text/html": [
       "<table>\n",
       "<thead>\n",
       "<tr><th>#                            </th><th style=\"text-align: right;\">  id</th><th style=\"text-align: right;\">      x</th><th style=\"text-align: right;\">        y</th><th style=\"text-align: right;\">        z</th><th style=\"text-align: right;\">     vx</th><th style=\"text-align: right;\">     vy</th><th style=\"text-align: right;\">     vz</th><th style=\"text-align: right;\">      E</th><th style=\"text-align: right;\">      L</th><th style=\"text-align: right;\">     Lz</th><th style=\"text-align: right;\">     FeH</th><th>knn                      </th></tr>\n",
       "</thead>\n",
       "<tbody>\n",
       "<tr><td><i style='opacity: 0.6'>0</i></td><td style=\"text-align: right;\">   0</td><td style=\"text-align: right;\">1.23187</td><td style=\"text-align: right;\">-0.396929</td><td style=\"text-align: right;\">-0.598058</td><td style=\"text-align: right;\">301.155</td><td style=\"text-align: right;\">174.059</td><td style=\"text-align: right;\">27.4275</td><td style=\"text-align: right;\">-149431</td><td style=\"text-align: right;\">407.389</td><td style=\"text-align: right;\">333.956</td><td style=\"text-align: right;\">-1.00539</td><td>array([   0, 7713, 1744])</td></tr>\n",
       "</tbody>\n",
       "</table>"
      ],
      "text/plain": [
       "  #    id        x          y          z       vx       vy       vz        E        L       Lz       FeH  knn\n",
       "  0     0  1.23187  -0.396929  -0.598058  301.155  174.059  27.4275  -149431  407.389  333.956  -1.00539  array([   0, 7713, 1744])"
      ]
     },
     "execution_count": 10,
     "metadata": {},
     "output_type": "execute_result"
    }
   ],
   "source": [
    "import vaex\n",
    "from sklearn.neighbors import KDTree\n",
    "from goldilox import Pipeline\n",
    "import numpy as np\n",
    "\n",
    "df = vaex.example().head(10000)\n",
    "features = df.get_column_names(regex=\"[^id]\")  # not the ida\n",
    "model = KDTree(df[features], leaf_size=2)\n",
    "\n",
    "@vaex.register_function(on_expression=False)\n",
    "def query(*columns):\n",
    "    data = np.array(columns).T\n",
    "    _, ind = model.query(data, k=3)\n",
    "    return ind\n",
    "\n",
    "df.add_function(\"query\", query)\n",
    "df[\"knn\"] = df.func.query(*features)\n",
    "\n",
    "pipeline = Pipeline.from_vaex(df)\n",
    "\n",
    "assert pipeline.validate()\n",
    "pipeline.inference(pipeline.raw)"
   ]
  },
  {
   "cell_type": "markdown",
   "metadata": {},
   "source": [
    "## Sklearn\n",
    "For sklearn we must implement a Transformer with TransformerMixin, BaseEstimator, and the methods: *fit()* and *transform()*.    \n",
    "We will deal with the missing values ourselvs by applying the means. "
   ]
  },
  {
   "cell_type": "code",
   "execution_count": 7,
   "metadata": {},
   "outputs": [
    {
     "data": {
      "text/html": [
       "<div>\n",
       "<style scoped>\n",
       "    .dataframe tbody tr th:only-of-type {\n",
       "        vertical-align: middle;\n",
       "    }\n",
       "\n",
       "    .dataframe tbody tr th {\n",
       "        vertical-align: top;\n",
       "    }\n",
       "\n",
       "    .dataframe thead th {\n",
       "        text-align: right;\n",
       "    }\n",
       "</style>\n",
       "<table border=\"1\" class=\"dataframe\">\n",
       "  <thead>\n",
       "    <tr style=\"text-align: right;\">\n",
       "      <th></th>\n",
       "      <th>x</th>\n",
       "      <th>y</th>\n",
       "      <th>z</th>\n",
       "      <th>vx</th>\n",
       "      <th>vy</th>\n",
       "      <th>vz</th>\n",
       "      <th>E</th>\n",
       "      <th>L</th>\n",
       "      <th>Lz</th>\n",
       "      <th>FeH</th>\n",
       "      <th>knn</th>\n",
       "    </tr>\n",
       "  </thead>\n",
       "  <tbody>\n",
       "    <tr>\n",
       "      <th>0</th>\n",
       "      <td>1.231868</td>\n",
       "      <td>-0.396929</td>\n",
       "      <td>-0.598058</td>\n",
       "      <td>301.155273</td>\n",
       "      <td>174.059479</td>\n",
       "      <td>27.427546</td>\n",
       "      <td>-149431.40625</td>\n",
       "      <td>407.388977</td>\n",
       "      <td>333.955536</td>\n",
       "      <td>-1.005385</td>\n",
       "      <td>[0, 7713, 1744]</td>\n",
       "    </tr>\n",
       "  </tbody>\n",
       "</table>\n",
       "</div>"
      ],
      "text/plain": [
       "          x         y         z          vx          vy         vz  \\\n",
       "0  1.231868 -0.396929 -0.598058  301.155273  174.059479  27.427546   \n",
       "\n",
       "              E           L          Lz       FeH              knn  \n",
       "0 -149431.40625  407.388977  333.955536 -1.005385  [0, 7713, 1744]  "
      ]
     },
     "execution_count": 7,
     "metadata": {},
     "output_type": "execute_result"
    }
   ],
   "source": [
    "import vaex\n",
    "from sklearn.neighbors import KDTree\n",
    "import sklearn.pipeline\n",
    "from sklearn.base import TransformerMixin, BaseEstimator\n",
    "from goldilox import Pipeline\n",
    "\n",
    "df = vaex.example().head(10000)\n",
    "features = df.get_column_names(regex=\"[^id]\")  # not the ida\n",
    "\n",
    "X = df[features].to_pandas_df()\n",
    "\n",
    "class KDTreeTransformer(TransformerMixin, BaseEstimator):\n",
    "    def __init__(self, features=None, leaf_size=2, k=3, output_column=\"knn\"):\n",
    "        self.index = None\n",
    "        self.ids = None\n",
    "        self.features = features\n",
    "        self.k = k\n",
    "        self.leaf_size = leaf_size\n",
    "        self.output_column = output_column\n",
    "        self.means = {}\n",
    "\n",
    "    def fit(self, X, y=None):        \n",
    "        if y is not None:\n",
    "            assert len(X) == len(y)\n",
    "            self.ids = {i: j for i, j in enumerate(y)}\n",
    "        if self.features and isinstance(self.features, list):\n",
    "            self.means = {feature:X[feature].mean() for feature in self.features}\n",
    "            X = X[self.features]        \n",
    "            \n",
    "        self.index = KDTree(X, leaf_size=self.leaf_size)\n",
    "        return self\n",
    "    \n",
    "    def _fillna(self, X):\n",
    "        for feature in self.features:\n",
    "            X[feature] = X[feature].fillna(self.means.get(feature))\n",
    "        return X\n",
    "        \n",
    "\n",
    "    def transform(self, X):\n",
    "        copy = X.copy()               \n",
    "        if self.index is None:\n",
    "            raise RuntimeError(\"model was not trained\")\n",
    "        if self.features and isinstance(self.features, list):            \n",
    "            copy = self._fillna(X[self.features])\n",
    "        _, ind = self.index.query(copy, k=self.k)                \n",
    "        copy[self.output_column] = list(ind)\n",
    "        return copy\n",
    "    \n",
    "model = KDTreeTransformer(features=features)\n",
    "\n",
    "pipeline = Pipeline.from_sklearn(model).fit(X)\n",
    "\n",
    "assert pipeline.validate()\n",
    "pipeline.inference(pipeline.raw)"
   ]
  },
  {
   "cell_type": "markdown",
   "metadata": {},
   "source": [
    "# Deploy (any pipeline)"
   ]
  },
  {
   "cell_type": "code",
   "execution_count": null,
   "metadata": {},
   "outputs": [],
   "source": [
    "print(f\"Saved to: {pipeline.save('pipeline.pkl')}\")\n",
    "print(f\"Check out the docs: http://127.0.0.1:5000/docs\\n\")\n",
    "\n",
    "!gl serve pipeline.pkl"
   ]
  }
 ],
 "metadata": {
  "interpreter": {
   "hash": "c02e8cefd04ff52e799f4aa259d2ee492875245d06169a1d386f6f6b41a66828"
  },
  "kernelspec": {
   "display_name": "Python 3.7.9 64-bit ('.venv': venv)",
   "language": "python",
   "name": "python3"
  },
  "language_info": {
   "codemirror_mode": {
    "name": "ipython",
    "version": 3
   },
   "file_extension": ".py",
   "mimetype": "text/x-python",
   "name": "python",
   "nbconvert_exporter": "python",
   "pygments_lexer": "ipython3",
   "version": "3.7.9"
  },
  "orig_nbformat": 4
 },
 "nbformat": 4,
 "nbformat_minor": 2
}
