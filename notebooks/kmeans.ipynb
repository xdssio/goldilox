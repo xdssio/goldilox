{
 "cells": [
  {
   "cell_type": "markdown",
   "metadata": {},
   "source": [
    "# Vaex"
   ]
  },
  {
   "cell_type": "code",
   "execution_count": 56,
   "metadata": {
    "ExecuteTime": {
     "end_time": "2022-01-12T10:21:18.249899Z",
     "start_time": "2022-01-12T10:21:15.483595Z"
    }
   },
   "outputs": [
    {
     "data": {
      "text/html": [
       "<table>\n",
       "<thead>\n",
       "<tr><th>#                            </th><th style=\"text-align: right;\">  id</th><th style=\"text-align: right;\">        x</th><th style=\"text-align: right;\">        y</th><th style=\"text-align: right;\">        z</th><th style=\"text-align: right;\">      vx</th><th style=\"text-align: right;\">     vy</th><th style=\"text-align: right;\">      vz</th><th style=\"text-align: right;\">      E</th><th style=\"text-align: right;\">      L</th><th style=\"text-align: right;\">     Lz</th><th style=\"text-align: right;\">     FeH</th><th style=\"text-align: right;\">  cluster</th></tr>\n",
       "</thead>\n",
       "<tbody>\n",
       "<tr><td><i style='opacity: 0.6'>0</i></td><td style=\"text-align: right;\">   0</td><td style=\"text-align: right;\"> 1.23187 </td><td style=\"text-align: right;\">-0.396929</td><td style=\"text-align: right;\">-0.598058</td><td style=\"text-align: right;\"> 301.155</td><td style=\"text-align: right;\">174.059</td><td style=\"text-align: right;\"> 27.4275</td><td style=\"text-align: right;\">-149431</td><td style=\"text-align: right;\">407.389</td><td style=\"text-align: right;\">333.956</td><td style=\"text-align: right;\">-1.00539</td><td style=\"text-align: right;\">        5</td></tr>\n",
       "<tr><td><i style='opacity: 0.6'>1</i></td><td style=\"text-align: right;\">  23</td><td style=\"text-align: right;\">-0.163701</td><td style=\"text-align: right;\"> 3.65422 </td><td style=\"text-align: right;\">-0.254906</td><td style=\"text-align: right;\">-195    </td><td style=\"text-align: right;\">170.472</td><td style=\"text-align: right;\">142.53  </td><td style=\"text-align: right;\">-124248</td><td style=\"text-align: right;\">890.241</td><td style=\"text-align: right;\">684.668</td><td style=\"text-align: right;\">-1.70867</td><td style=\"text-align: right;\">        1</td></tr>\n",
       "</tbody>\n",
       "</table>"
      ],
      "text/plain": [
       "  #    id          x          y          z        vx       vy        vz        E        L       Lz       FeH    cluster\n",
       "  0     0   1.23187   -0.396929  -0.598058   301.155  174.059   27.4275  -149431  407.389  333.956  -1.00539          5\n",
       "  1    23  -0.163701   3.65422   -0.254906  -195      170.472  142.53    -124248  890.241  684.668  -1.70867          1"
      ]
     },
     "execution_count": 56,
     "metadata": {},
     "output_type": "execute_result"
    }
   ],
   "source": [
    "import vaex\n",
    "from sklearn.cluster import KMeans\n",
    "from vaex.ml.sklearn import Predictor\n",
    "\n",
    "df = vaex.example()\n",
    "features = df.get_column_names(regex='[^id]')\n",
    "# handle missing values\n",
    "for feature in features:\n",
    "    df[feature] = df[feature].fillna(df[feature].mean())\n",
    "kmeans = Predictor(model=KMeans(), features=features, prediction_name='cluster')\n",
    "kmeans.fit(df)\n",
    "df = kmeans.transform(df)\n",
    "df.head(2)"
   ]
  },
  {
   "cell_type": "markdown",
   "metadata": {},
   "source": [
    "Let's build a production pipeline"
   ]
  },
  {
   "cell_type": "code",
   "execution_count": 57,
   "metadata": {
    "ExecuteTime": {
     "end_time": "2022-01-12T10:21:19.445300Z",
     "start_time": "2022-01-12T10:21:18.480040Z"
    }
   },
   "outputs": [
    {
     "name": "stdout",
     "output_type": "stream",
     "text": [
      "predict for {\n",
      "    \"id\": 0,\n",
      "    \"x\": 1.2318683862686157,\n",
      "    \"y\": -0.39692866802215576,\n",
      "    \"z\": -0.598057746887207,\n",
      "    \"vx\": 301.1552734375,\n",
      "    \"vy\": 174.05947875976562,\n",
      "    \"vz\": 27.42754554748535,\n",
      "    \"E\": -149431.40625,\n",
      "    \"L\": 407.38897705078125,\n",
      "    \"Lz\": 333.9555358886719,\n",
      "    \"FeH\": -1.0053852796554565\n",
      "}\n"
     ]
    },
    {
     "data": {
      "text/html": [
       "<table>\n",
       "<thead>\n",
       "<tr><th>#                            </th><th style=\"text-align: right;\">  id</th><th style=\"text-align: right;\">      x</th><th style=\"text-align: right;\">        y</th><th style=\"text-align: right;\">        z</th><th style=\"text-align: right;\">     vx</th><th style=\"text-align: right;\">     vy</th><th style=\"text-align: right;\">     vz</th><th style=\"text-align: right;\">      E</th><th style=\"text-align: right;\">      L</th><th style=\"text-align: right;\">     Lz</th><th style=\"text-align: right;\">     FeH</th><th style=\"text-align: right;\">  cluster</th></tr>\n",
       "</thead>\n",
       "<tbody>\n",
       "<tr><td><i style='opacity: 0.6'>0</i></td><td style=\"text-align: right;\">   0</td><td style=\"text-align: right;\">1.23187</td><td style=\"text-align: right;\">-0.396929</td><td style=\"text-align: right;\">-0.598058</td><td style=\"text-align: right;\">301.155</td><td style=\"text-align: right;\">174.059</td><td style=\"text-align: right;\">27.4275</td><td style=\"text-align: right;\">-149431</td><td style=\"text-align: right;\">407.389</td><td style=\"text-align: right;\">333.956</td><td style=\"text-align: right;\">-1.00539</td><td style=\"text-align: right;\">        5</td></tr>\n",
       "</tbody>\n",
       "</table>"
      ],
      "text/plain": [
       "  #    id        x          y          z       vx       vy       vz        E        L       Lz       FeH    cluster\n",
       "  0     0  1.23187  -0.396929  -0.598058  301.155  174.059  27.4275  -149431  407.389  333.956  -1.00539          5"
      ]
     },
     "execution_count": 57,
     "metadata": {},
     "output_type": "execute_result"
    }
   ],
   "source": [
    "from goldilox import Pipeline\n",
    "import json\n",
    "\n",
    "pipeline = Pipeline.from_vaex(df)\n",
    "\n",
    "# I/O Example\n",
    "print(f\"predict for {json.dumps(pipeline.raw, indent=4)}\")\n",
    "pipeline.inference(pipeline.raw)"
   ]
  },
  {
   "cell_type": "markdown",
   "metadata": {},
   "source": [
    "## Sklearn"
   ]
  },
  {
   "cell_type": "code",
   "execution_count": 58,
   "metadata": {
    "ExecuteTime": {
     "end_time": "2022-01-12T10:21:19.456653Z",
     "start_time": "2022-01-12T10:21:19.446660Z"
    }
   },
   "outputs": [
    {
     "data": {
      "text/html": [
       "<div>\n",
       "<style scoped>\n",
       "    .dataframe tbody tr th:only-of-type {\n",
       "        vertical-align: middle;\n",
       "    }\n",
       "\n",
       "    .dataframe tbody tr th {\n",
       "        vertical-align: top;\n",
       "    }\n",
       "\n",
       "    .dataframe thead th {\n",
       "        text-align: right;\n",
       "    }\n",
       "</style>\n",
       "<table border=\"1\" class=\"dataframe\">\n",
       "  <thead>\n",
       "    <tr style=\"text-align: right;\">\n",
       "      <th></th>\n",
       "      <th>sepal_length</th>\n",
       "      <th>sepal_width</th>\n",
       "      <th>petal_length</th>\n",
       "      <th>petal_width</th>\n",
       "      <th>target</th>\n",
       "    </tr>\n",
       "  </thead>\n",
       "  <tbody>\n",
       "    <tr>\n",
       "      <th>0</th>\n",
       "      <td>5.1</td>\n",
       "      <td>3.5</td>\n",
       "      <td>1.4</td>\n",
       "      <td>0.2</td>\n",
       "      <td>0</td>\n",
       "    </tr>\n",
       "    <tr>\n",
       "      <th>1</th>\n",
       "      <td>4.9</td>\n",
       "      <td>3.0</td>\n",
       "      <td>1.4</td>\n",
       "      <td>0.2</td>\n",
       "      <td>0</td>\n",
       "    </tr>\n",
       "  </tbody>\n",
       "</table>\n",
       "</div>"
      ],
      "text/plain": [
       "   sepal_length  sepal_width  petal_length  petal_width  target\n",
       "0           5.1          3.5           1.4          0.2       0\n",
       "1           4.9          3.0           1.4          0.2       0"
      ]
     },
     "execution_count": 58,
     "metadata": {},
     "output_type": "execute_result"
    }
   ],
   "source": [
    "from goldilox.datasets import load_iris\n",
    "\n",
    "# Get teh data\n",
    "df, features, target = load_iris()\n",
    "df.head(2)"
   ]
  },
  {
   "cell_type": "code",
   "execution_count": 59,
   "metadata": {
    "ExecuteTime": {
     "end_time": "2022-01-12T10:21:24.646659Z",
     "start_time": "2022-01-12T10:21:23.975169Z"
    }
   },
   "outputs": [
    {
     "name": "stderr",
     "output_type": "stream",
     "text": [
      "WARNING:root:WARNING: Pipeline doesn't handle NA for sepal_length\n",
      "WARNING:root:WARNING: Pipeline doesn't handle NA for sepal_width\n",
      "WARNING:root:WARNING: Pipeline doesn't handle NA for petal_length\n",
      "WARNING:root:WARNING: Pipeline doesn't handle NA for petal_width\n",
      "WARNING:root:WARNING: Pipeline doesn't handle NA for target\n"
     ]
    }
   ],
   "source": [
    "from sklearn.cluster import KMeans\n",
    "from goldilox import Pipeline\n",
    "\n",
    "pipeline = Pipeline.from_sklearn(KMeans()).fit(df)"
   ]
  },
  {
   "cell_type": "markdown",
   "metadata": {},
   "source": [
    "The pipeline is ready to go, but it does not handle missing values which we might get in production.   \n",
    "Let's fix that!"
   ]
  },
  {
   "cell_type": "code",
   "execution_count": 60,
   "metadata": {
    "ExecuteTime": {
     "end_time": "2022-01-12T10:21:40.526272Z",
     "start_time": "2022-01-12T10:21:39.875752Z"
    }
   },
   "outputs": [
    {
     "name": "stdout",
     "output_type": "stream",
     "text": [
      "predict for {\n",
      "    \"sepal_length\": 5.1,\n",
      "    \"sepal_width\": 3.5,\n",
      "    \"petal_length\": 1.4,\n",
      "    \"petal_width\": 0.2\n",
      "}\n"
     ]
    },
    {
     "data": {
      "text/html": [
       "<div>\n",
       "<style scoped>\n",
       "    .dataframe tbody tr th:only-of-type {\n",
       "        vertical-align: middle;\n",
       "    }\n",
       "\n",
       "    .dataframe tbody tr th {\n",
       "        vertical-align: top;\n",
       "    }\n",
       "\n",
       "    .dataframe thead th {\n",
       "        text-align: right;\n",
       "    }\n",
       "</style>\n",
       "<table border=\"1\" class=\"dataframe\">\n",
       "  <thead>\n",
       "    <tr style=\"text-align: right;\">\n",
       "      <th></th>\n",
       "      <th>sepal_length</th>\n",
       "      <th>sepal_width</th>\n",
       "      <th>petal_length</th>\n",
       "      <th>petal_width</th>\n",
       "      <th>cluster</th>\n",
       "    </tr>\n",
       "  </thead>\n",
       "  <tbody>\n",
       "    <tr>\n",
       "      <th>0</th>\n",
       "      <td>5.1</td>\n",
       "      <td>3.5</td>\n",
       "      <td>1.4</td>\n",
       "      <td>0.2</td>\n",
       "      <td>1</td>\n",
       "    </tr>\n",
       "  </tbody>\n",
       "</table>\n",
       "</div>"
      ],
      "text/plain": [
       "   sepal_length  sepal_width  petal_length  petal_width  cluster\n",
       "0           5.1          3.5           1.4          0.2        1"
      ]
     },
     "execution_count": 60,
     "metadata": {},
     "output_type": "execute_result"
    }
   ],
   "source": [
    "from sklearn.compose import ColumnTransformer\n",
    "from sklearn.impute import SimpleImputer\n",
    "import sklearn.pipeline\n",
    "\n",
    "imputer = ColumnTransformer([('features_mean', SimpleImputer(strategy='mean'), features)], remainder='passthrough')\n",
    "sklearn_pipeline = sklearn.pipeline.Pipeline([('imputer', imputer), ('kmean', KMeans())])\n",
    "pipeline = Pipeline.from_sklearn(sklearn_pipeline, features=features,\n",
    "                                 output_columns=['cluster']).fit(df)\n",
    "\n",
    "# I/O Example\n",
    "print(f\"predict for {json.dumps(pipeline.raw, indent=4)}\")\n",
    "pipeline.inference(pipeline.raw)"
   ]
  },
  {
   "cell_type": "code",
   "execution_count": 7,
   "metadata": {},
   "outputs": [
    {
     "name": "stdout",
     "output_type": "stream",
     "text": [
      "Go to the fasgtapi docs here: http://127.0.0.1:5000/docs\n",
      "[2021-11-26 12:10:04 +0100] [39494] [INFO] Starting gunicorn 20.1.0\n",
      "[2021-11-26 12:10:04 +0100] [39494] [INFO] Listening at: http://127.0.0.1:5000 (39494)\n",
      "[2021-11-26 12:10:04 +0100] [39494] [INFO] Using worker: uvicorn.workers.UvicornH11Worker\n",
      "[2021-11-26 12:10:04 +0100] [39527] [INFO] Booting worker with pid: 39527\n",
      "[2021-11-26 12:10:04 +0100] [39527] [INFO] Started server process [39527]\n",
      "[2021-11-26 12:10:04 +0100] [39527] [INFO] Waiting for application startup.\n",
      "[2021-11-26 12:10:04 +0100] [39527] [INFO] Application startup complete.\n",
      "^C\n",
      "[2021-11-26 12:10:21 +0100] [39494] [INFO] Handling signal: int\n"
     ]
    }
   ],
   "source": [
    "pipeline.save('pipeline.pkl')\n",
    "print('Go to the fastapi docs here: http://127.0.0.1:5000/docs')\n",
    "!gl serve 'pipeline.pkl'"
   ]
  }
 ],
 "metadata": {
  "interpreter": {
   "hash": "a24fb10407d98c895ca4ebc991df8bd8db3efe74a86347ed2e2a2998c5b6d91c"
  },
  "kernelspec": {
   "display_name": "Python 3 (ipykernel)",
   "language": "python",
   "name": "python3"
  },
  "language_info": {
   "codemirror_mode": {
    "name": "ipython",
    "version": 3
   },
   "file_extension": ".py",
   "mimetype": "text/x-python",
   "name": "python",
   "nbconvert_exporter": "python",
   "pygments_lexer": "ipython3",
   "version": "3.7.12"
  }
 },
 "nbformat": 4,
 "nbformat_minor": 2
}