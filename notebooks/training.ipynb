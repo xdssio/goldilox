{
 "cells": [
  {
   "cell_type": "markdown",
   "id": "3b586c48",
   "metadata": {},
   "source": [
    "# Re-training\n",
    "Often enough, you want to retrain your model when you get new data - here is how."
   ]
  },
  {
   "cell_type": "markdown",
   "id": "aceab87e",
   "metadata": {},
   "source": [
    "# Sklearn\n",
    "With sklearn, the *fit* function just re-run the default sklearn.pipeline.Pipeline.fit on the new data.\n",
    "* It can handle a Vaex dataframe, or Pandas dataframe as input.\n"
   ]
  },
  {
   "cell_type": "code",
   "execution_count": 5,
   "id": "59dfb38d",
   "metadata": {
    "ExecuteTime": {
     "end_time": "2022-02-01T13:27:43.643710Z",
     "start_time": "2022-02-01T13:27:43.618732Z"
    }
   },
   "outputs": [
    {
     "data": {
      "text/html": [
       "<div>\n",
       "<style scoped>\n",
       "    .dataframe tbody tr th:only-of-type {\n",
       "        vertical-align: middle;\n",
       "    }\n",
       "\n",
       "    .dataframe tbody tr th {\n",
       "        vertical-align: top;\n",
       "    }\n",
       "\n",
       "    .dataframe thead th {\n",
       "        text-align: right;\n",
       "    }\n",
       "</style>\n",
       "<table border=\"1\" class=\"dataframe\">\n",
       "  <thead>\n",
       "    <tr style=\"text-align: right;\">\n",
       "      <th></th>\n",
       "      <th>sepal_length</th>\n",
       "      <th>sepal_width</th>\n",
       "      <th>petal_length</th>\n",
       "      <th>petal_width</th>\n",
       "      <th>target</th>\n",
       "    </tr>\n",
       "  </thead>\n",
       "  <tbody>\n",
       "    <tr>\n",
       "      <th>0</th>\n",
       "      <td>5.1</td>\n",
       "      <td>3.5</td>\n",
       "      <td>1.4</td>\n",
       "      <td>0.2</td>\n",
       "      <td>0</td>\n",
       "    </tr>\n",
       "    <tr>\n",
       "      <th>1</th>\n",
       "      <td>4.9</td>\n",
       "      <td>3.0</td>\n",
       "      <td>1.4</td>\n",
       "      <td>0.2</td>\n",
       "      <td>0</td>\n",
       "    </tr>\n",
       "  </tbody>\n",
       "</table>\n",
       "</div>"
      ],
      "text/plain": [
       "   sepal_length  sepal_width  petal_length  petal_width  target\n",
       "0           5.1          3.5           1.4          0.2       0\n",
       "1           4.9          3.0           1.4          0.2       0"
      ]
     },
     "execution_count": 5,
     "metadata": {},
     "output_type": "execute_result"
    }
   ],
   "source": [
    "from goldilox.datasets import load_iris\n",
    "\n",
    "df, features, target = load_iris()\n",
    "df.head(2)"
   ]
  },
  {
   "cell_type": "markdown",
   "id": "a5068be7",
   "metadata": {},
   "source": [
    "## Naturally\n",
    "Here we provide the as X and Y.\n",
    "* The pipeline assumes all columns are features and y is the target.\n",
    "* The pipeline takes the first row as raw example."
   ]
  },
  {
   "cell_type": "code",
   "execution_count": 17,
   "id": "218b4def",
   "metadata": {
    "ExecuteTime": {
     "end_time": "2022-02-01T13:36:57.255509Z",
     "start_time": "2022-02-01T13:36:55.544571Z"
    }
   },
   "outputs": [
    {
     "data": {
      "text/plain": [
       "<goldilox.sklearn.pipeline.SklearnPipeline at 0x15a212bd0>"
      ]
     },
     "execution_count": 17,
     "metadata": {},
     "output_type": "execute_result"
    }
   ],
   "source": [
    "import sklearn.pipeline\n",
    "from goldilox.sklearn.transformers import Imputer\n",
    "from sklearn.linear_model import LogisticRegression\n",
    "from sklearn.preprocessing import StandardScaler\n",
    "from goldilox import Pipeline\n",
    "\n",
    "\n",
    "\n",
    "sklearn_pipeline = sklearn.pipeline.Pipeline([('imputer', Imputer(features=features)),\n",
    "                                              ('standar', StandardScaler()),\n",
    "                                              ('classifier', LogisticRegression())])\n",
    "\n",
    "pipeline = Pipeline.from_sklearn(sklearn_pipeline)\n",
    "X = df[features]\n",
    "y = df[target]\n",
    "\n",
    "pipeline.fit(X, y)"
   ]
  },
  {
   "cell_type": "markdown",
   "id": "78cb1f6a",
   "metadata": {},
   "source": [
    "## DataFrame\n",
    "It is very often that the data comes as a single dataframe, so the X,y representation is handled for you."
   ]
  },
  {
   "cell_type": "code",
   "execution_count": 18,
   "id": "f9bad7cf",
   "metadata": {
    "ExecuteTime": {
     "end_time": "2022-02-01T13:38:21.535984Z",
     "start_time": "2022-02-01T13:38:19.802824Z"
    }
   },
   "outputs": [
    {
     "data": {
      "text/plain": [
       "<goldilox.sklearn.pipeline.SklearnPipeline at 0x15b1ed250>"
      ]
     },
     "execution_count": 18,
     "metadata": {},
     "output_type": "execute_result"
    }
   ],
   "source": [
    "sklearn_pipeline = sklearn.pipeline.Pipeline([('imputer', Imputer(features=features)),\n",
    "                                              ('standar', StandardScaler()),\n",
    "                                              ('classifier', LogisticRegression())])\n",
    "\n",
    "\n",
    "pipeline = Pipeline.from_sklearn(sklearn_pipeline, \n",
    "                                 features=features, \n",
    "                                 target=target).fit(df)"
   ]
  },
  {
   "cell_type": "markdown",
   "id": "3e8c33d2",
   "metadata": {},
   "source": [
    "In both caes, the pipeline is trained in-place, and also returns itself (it makes for prettier code)"
   ]
  },
  {
   "cell_type": "markdown",
   "id": "bf7077c6",
   "metadata": {},
   "source": [
    "# Vaex\n",
    "\n",
    "For vaex we need to define the fit function, as ther eis no trival way to know how to fit.   \n",
    "This is very flexible way to do practically anything.\n",
    "\n",
    "The fit function should recive a dataframe and return a dataframe which the *from_vaex* will run on.\n",
    "\n",
    "* if you want to save a variable to the pipeline during fit, add it to the dataframe."
   ]
  },
  {
   "cell_type": "code",
   "execution_count": 19,
   "id": "1a938b00",
   "metadata": {
    "ExecuteTime": {
     "end_time": "2022-02-01T14:05:52.462061Z",
     "start_time": "2022-02-01T14:05:52.438216Z"
    }
   },
   "outputs": [
    {
     "data": {
      "text/html": [
       "<table>\n",
       "<thead>\n",
       "<tr><th>#                            </th><th style=\"text-align: right;\">  sepal_length</th><th style=\"text-align: right;\">  sepal_width</th><th style=\"text-align: right;\">  petal_length</th><th style=\"text-align: right;\">  petal_width</th><th style=\"text-align: right;\">  target</th></tr>\n",
       "</thead>\n",
       "<tbody>\n",
       "<tr><td><i style='opacity: 0.6'>0</i></td><td style=\"text-align: right;\">           5.1</td><td style=\"text-align: right;\">          3.5</td><td style=\"text-align: right;\">           1.4</td><td style=\"text-align: right;\">          0.2</td><td style=\"text-align: right;\">       0</td></tr>\n",
       "<tr><td><i style='opacity: 0.6'>1</i></td><td style=\"text-align: right;\">           4.9</td><td style=\"text-align: right;\">          3  </td><td style=\"text-align: right;\">           1.4</td><td style=\"text-align: right;\">          0.2</td><td style=\"text-align: right;\">       0</td></tr>\n",
       "</tbody>\n",
       "</table>"
      ],
      "text/plain": [
       "  #    sepal_length    sepal_width    petal_length    petal_width    target\n",
       "  0             5.1            3.5             1.4            0.2         0\n",
       "  1             4.9            3               1.4            0.2         0"
      ]
     },
     "execution_count": 19,
     "metadata": {},
     "output_type": "execute_result"
    }
   ],
   "source": [
    "import vaex\n",
    "\n",
    "df = vaex.from_pandas(df)\n",
    "df.head(2)"
   ]
  },
  {
   "cell_type": "code",
   "execution_count": 34,
   "id": "268fe0a8",
   "metadata": {
    "ExecuteTime": {
     "end_time": "2022-02-01T14:15:08.196382Z",
     "start_time": "2022-02-01T14:15:06.766130Z"
    }
   },
   "outputs": [
    {
     "name": "stderr",
     "output_type": "stream",
     "text": [
      "/Users/yonatanalexander/development/xdss/goldilox/.venv/lib/python3.7/site-packages/vaex/ml/__init__.py:31: UserWarning: Make sure the DataFrame is shuffled\n",
      "  warnings.warn('Make sure the DataFrame is shuffled')\n"
     ]
    },
    {
     "data": {
      "text/html": [
       "<table>\n",
       "<thead>\n",
       "<tr><th>#                            </th><th style=\"text-align: right;\">  sepal_length</th><th style=\"text-align: right;\">  sepal_width</th><th style=\"text-align: right;\">  petal_length</th><th style=\"text-align: right;\">  petal_width</th><th style=\"text-align: right;\">  target</th></tr>\n",
       "</thead>\n",
       "<tbody>\n",
       "<tr><td><i style='opacity: 0.6'>0</i></td><td style=\"text-align: right;\">           5.1</td><td style=\"text-align: right;\">          3.5</td><td style=\"text-align: right;\">           1.4</td><td style=\"text-align: right;\">          0.2</td><td style=\"text-align: right;\">       0</td></tr>\n",
       "</tbody>\n",
       "</table>"
      ],
      "text/plain": [
       "  #    sepal_length    sepal_width    petal_length    petal_width    target\n",
       "  0             5.1            3.5             1.4            0.2         0"
      ]
     },
     "execution_count": 34,
     "metadata": {},
     "output_type": "execute_result"
    }
   ],
   "source": [
    "def fit(df):\n",
    "    from vaex.ml.sklearn import Predictor\n",
    "    from xgboost.sklearn import XGBClassifier\n",
    "    from sklearn.metrics import accuracy_score\n",
    "\n",
    "    model = Predictor(model=XGBClassifier(use_label_encoder=False,eval_metric=\"mlogloss\"), \n",
    "                      features=features, \n",
    "                      target=target)\n",
    "    train, test = df.ml.train_test_split()\n",
    "    model.fit(train)    \n",
    "\n",
    "    # save model evaluation as a variable\n",
    "    accuracy = accuracy_score(model.predict(test), test[target].values)\n",
    "    \n",
    "    # train on the enitre data for best model in production\n",
    "    model.fit(df)\n",
    "    model.transform(df)\n",
    "\n",
    "    df.variables['xgb_accuracy'] = accuracy\n",
    "    \n",
    "    # return df -> Pipeline.from_vaex(df) on the results\n",
    "    return df\n",
    "\n",
    "pipeline = Pipeline.from_vaex(df, fit=fit)\n",
    "\n",
    "pipeline.fit(df)\n",
    "pipeline.inference(pipeline.raw)"
   ]
  },
  {
   "cell_type": "markdown",
   "id": "06983f14",
   "metadata": {},
   "source": [
    "There isn't much you can't do this way.    \n",
    "Although goldilox is aimed for productionizing pipelines, this makes re-fitting on new data a non-issue in most cases"
   ]
  }
 ],
 "metadata": {
  "kernelspec": {
   "display_name": "Python 3 (ipykernel)",
   "language": "python",
   "name": "python3"
  },
  "language_info": {
   "codemirror_mode": {
    "name": "ipython",
    "version": 3
   },
   "file_extension": ".py",
   "mimetype": "text/x-python",
   "name": "python",
   "nbconvert_exporter": "python",
   "pygments_lexer": "ipython3",
   "version": "3.7.12"
  }
 },
 "nbformat": 4,
 "nbformat_minor": 5
}
