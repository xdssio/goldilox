{
 "cells": [
  {
   "cell_type": "code",
   "execution_count": 3,
   "id": "8774a038",
   "metadata": {
    "ExecuteTime": {
     "end_time": "2022-02-07T17:17:24.916321Z",
     "start_time": "2022-02-07T17:17:24.060578Z"
    }
   },
   "outputs": [
    {
     "name": "stderr",
     "output_type": "stream",
     "text": [
      "2022/02/07 18:17:24 WARNING mlflow.sklearn.utils: log_loss failed. The metric val_log_loss will not be recorded. Metric error: y_true contains only one label (0). Please provide the true labels explicitly through the labels argument.\n",
      "2022/02/07 18:17:24 WARNING mlflow.sklearn.utils: roc_auc_score failed. The metric val_roc_auc_score will not be recorded. Metric error: Number of classes in y_true not equal to the number of columns in 'y_score'\n"
     ]
    },
    {
     "name": "stdout",
     "output_type": "stream",
     "text": [
      "  #    sepal_length    sepal_width    petal_length    petal_width    target    lgbm\n",
      "  0             4.8            3.1             1.6            0.2         0       0\n",
      "  1             5.4            3.4             1.5            0.4         0       0\n"
     ]
    }
   ],
   "source": [
    "import vaex\n",
    "import warnings\n",
    "import  mlflow \n",
    "from goldilox.datasets import load_iris\n",
    "from vaex.ml.sklearn import Predictor\n",
    "from sklearn.linear_model import LogisticRegression\n",
    "\n",
    "warnings.filterwarnings(\"ignore\")\n",
    "\n",
    "df, features, target = load_iris()\n",
    "train, test = vaex.from_pandas(df).ml.train_test_split()\n",
    "\n",
    "\n",
    "model = Predictor(model=LogisticRegression(),\n",
    "                  features=features,\n",
    "                        target=target,\n",
    "                        prediction_name='lgbm')\n",
    "\n",
    "\n",
    "with mlflow.start_run() as run:\n",
    "    model.fit(train)\n",
    "    metrics = mlflow.sklearn.eval_and_log_metrics(model.model, test[features], test[target].values, prefix=\"val_\")\n",
    "\n",
    "train = model.transform(train)\n",
    "print(train.head(2))"
   ]
  },
  {
   "cell_type": "code",
   "execution_count": 4,
   "id": "ad73b5e1",
   "metadata": {
    "ExecuteTime": {
     "end_time": "2022-02-07T17:17:34.488709Z",
     "start_time": "2022-02-07T17:17:33.400145Z"
    }
   },
   "outputs": [
    {
     "name": "stderr",
     "output_type": "stream",
     "text": [
      "WARNING:root:WARNING: Pipeline doesn't handle NA for sepal_length\n",
      "WARNING:root:WARNING: Pipeline doesn't handle NA for sepal_width\n",
      "WARNING:root:WARNING: Pipeline doesn't handle NA for petal_length\n",
      "WARNING:root:WARNING: Pipeline doesn't handle NA for petal_width\n"
     ]
    }
   ],
   "source": [
    "from goldilox import Pipeline\n",
    "\n",
    "def fetch_logged_data(run_id):\n",
    "    client = mlflow.tracking.MlflowClient()\n",
    "    data = client.get_run(run_id).data\n",
    "    tags = {k: v for k, v in data.tags.items() if not k.startswith(\"mlflow.\")}\n",
    "    artifacts = [f.path for f in client.list_artifacts(run_id, \"model\")]\n",
    "    return {\"params\":data.params, \"metrices\":data.metrics,\"tags\":tags}\n",
    "\n",
    "# nice to have all the relevant params in the pipeline\n",
    "pipeline = Pipeline.from_vaex(train, variables=fetch_logged_data(run.info.run_id))"
   ]
  },
  {
   "cell_type": "code",
   "execution_count": 5,
   "id": "667f06b7",
   "metadata": {
    "ExecuteTime": {
     "end_time": "2022-02-07T17:17:44.389951Z",
     "start_time": "2022-02-07T17:17:42.244501Z"
    }
   },
   "outputs": [
    {
     "data": {
      "text/plain": [
       "'mlflow_test'"
      ]
     },
     "execution_count": 5,
     "metadata": {},
     "output_type": "execute_result"
    }
   ],
   "source": [
    "pipeline.save('mlflow_test', mlflow=True)"
   ]
  },
  {
   "cell_type": "code",
   "execution_count": 13,
   "id": "fc1f859b",
   "metadata": {
    "ExecuteTime": {
     "end_time": "2022-02-07T17:20:20.259707Z",
     "start_time": "2022-02-07T17:20:20.225411Z"
    }
   },
   "outputs": [
    {
     "data": {
      "text/plain": [
       "array([0, 0, 0, 0, 0, 0, 0, 0, 0, 0, 0, 0, 0, 0, 0, 0, 0, 0, 0, 0, 0, 0,\n",
       "       0, 0, 0, 0, 0, 0, 0, 0])"
      ]
     },
     "execution_count": 13,
     "metadata": {},
     "output_type": "execute_result"
    }
   ],
   "source": [
    "# validate mlflow\n",
    "loaded_model = mlflow.pyfunc.load_model('mlflow_test')\n",
    "loaded_model.predict(test.to_pandas_df())"
   ]
  },
  {
   "cell_type": "code",
   "execution_count": 7,
   "id": "f8c05474",
   "metadata": {
    "ExecuteTime": {
     "end_time": "2022-02-07T17:18:36.624107Z",
     "start_time": "2022-02-07T17:18:09.918486Z"
    }
   },
   "outputs": [
    {
     "name": "stdout",
     "output_type": "stream",
     "text": [
      "Running docker build as follow:\n",
      "mlflow models serve -m /Users/yonatanalexander/development/xdss/goldilox/mlflow_test --no-conda\n",
      " \n",
      "2022/02/07 18:18:12 INFO mlflow.models.cli: Selected backend for flavor 'python_function'\n",
      "2022/02/07 18:18:12 INFO mlflow.pyfunc.backend: === Running command 'gunicorn --timeout=60 -b 127.0.0.1:5000 -w 1 ${GUNICORN_CMD_ARGS} -- mlflow.pyfunc.scoring_server.wsgi:app'\n",
      "[2022-02-07 18:18:12 +0100] [80481] [INFO] Starting gunicorn 20.1.0\n",
      "[2022-02-07 18:18:12 +0100] [80481] [INFO] Listening at: http://127.0.0.1:5000 (80481)\n",
      "[2022-02-07 18:18:12 +0100] [80481] [INFO] Using worker: sync\n",
      "[2022-02-07 18:18:12 +0100] [80485] [INFO] Booting worker with pid: 80485\n",
      "^C\n",
      "[2022-02-07 18:18:36 +0100] [80481] [INFO] Handling signal: int\n",
      "[2022-02-07 18:18:36 +0100] [80485] [INFO] Worker exiting (pid: 80485)\n"
     ]
    }
   ],
   "source": [
    "# will serve as mlflow server\n",
    "!glx serve mlflow_test --no-conda"
   ]
  }
 ],
 "metadata": {
  "kernelspec": {
   "display_name": "Python 3 (ipykernel)",
   "language": "python",
   "name": "python3"
  },
  "language_info": {
   "codemirror_mode": {
    "name": "ipython",
    "version": 3
   },
   "file_extension": ".py",
   "mimetype": "text/x-python",
   "name": "python",
   "nbconvert_exporter": "python",
   "pygments_lexer": "ipython3",
   "version": "3.7.12"
  }
 },
 "nbformat": 4,
 "nbformat_minor": 5
}
