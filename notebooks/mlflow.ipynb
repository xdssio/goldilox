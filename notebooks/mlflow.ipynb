{
 "cells": [
  {
   "cell_type": "code",
   "execution_count": 32,
   "id": "fe84de5d",
   "metadata": {
    "ExecuteTime": {
     "end_time": "2022-02-06T17:28:44.116457Z",
     "start_time": "2022-02-06T17:28:44.027779Z"
    }
   },
   "outputs": [
    {
     "ename": "NameError",
     "evalue": "name 'X' is not defined",
     "output_type": "error",
     "traceback": [
      "\u001b[0;31m---------------------------------------------------------------------------\u001b[0m",
      "\u001b[0;31mNameError\u001b[0m                                 Traceback (most recent call last)",
      "\u001b[0;32m/var/folders/gl/cklpy5415rzd6vb8y29rccpr0000gn/T/ipykernel_61009/547332160.py\u001b[0m in \u001b[0;36m<module>\u001b[0;34m\u001b[0m\n\u001b[1;32m     16\u001b[0m \u001b[0mmodel\u001b[0m \u001b[0;34m=\u001b[0m \u001b[0mLinearRegression\u001b[0m\u001b[0;34m(\u001b[0m\u001b[0;34m)\u001b[0m\u001b[0;34m\u001b[0m\u001b[0;34m\u001b[0m\u001b[0m\n\u001b[1;32m     17\u001b[0m \u001b[0;32mwith\u001b[0m \u001b[0mmlflow\u001b[0m\u001b[0;34m.\u001b[0m\u001b[0mstart_run\u001b[0m\u001b[0;34m(\u001b[0m\u001b[0;34m)\u001b[0m \u001b[0;32mas\u001b[0m \u001b[0mrun\u001b[0m\u001b[0;34m:\u001b[0m\u001b[0;34m\u001b[0m\u001b[0;34m\u001b[0m\u001b[0m\n\u001b[0;32m---> 18\u001b[0;31m     \u001b[0mmodel\u001b[0m\u001b[0;34m.\u001b[0m\u001b[0mfit\u001b[0m\u001b[0;34m(\u001b[0m\u001b[0mX\u001b[0m\u001b[0;34m,\u001b[0m \u001b[0my\u001b[0m\u001b[0;34m)\u001b[0m\u001b[0;34m\u001b[0m\u001b[0;34m\u001b[0m\u001b[0m\n\u001b[0m\u001b[1;32m     19\u001b[0m \u001b[0;34m\u001b[0m\u001b[0m\n\u001b[1;32m     20\u001b[0m \u001b[0;31m# fetch logged data\u001b[0m\u001b[0;34m\u001b[0m\u001b[0;34m\u001b[0m\u001b[0;34m\u001b[0m\u001b[0m\n",
      "\u001b[0;31mNameError\u001b[0m: name 'X' is not defined"
     ]
    }
   ],
   "source": [
    "from pprint import pprint\n",
    "import numpy as np\n",
    "from sklearn.linear_model import LinearRegression\n",
    "import mlflow\n",
    "\n",
    "\n",
    "\n",
    "# enable autologging\n",
    "mlflow.sklearn.autolog()\n",
    "\n",
    "model = LinearRegression()\n",
    "with mlflow.start_run() as run:\n",
    "    model.fit(X, y)\n",
    "\n",
    "# fetch logged data\n",
    "params, metrics, tags, artifacts = fetch_logged_data(run.info.run_id)\n"
   ]
  },
  {
   "cell_type": "code",
   "execution_count": null,
   "id": "b41fc169",
   "metadata": {},
   "outputs": [],
   "source": []
  },
  {
   "cell_type": "code",
   "execution_count": null,
   "id": "44a14bbb",
   "metadata": {},
   "outputs": [],
   "source": []
  },
  {
   "cell_type": "code",
   "execution_count": 33,
   "id": "be0b87c9",
   "metadata": {
    "ExecuteTime": {
     "end_time": "2022-02-06T17:29:53.813732Z",
     "start_time": "2022-02-06T17:29:53.804860Z"
    }
   },
   "outputs": [],
   "source": [
    "def fetch_logged_data(run_id):\n",
    "    client = mlflow.tracking.MlflowClient()\n",
    "    data = client.get_run(run_id).data\n",
    "    tags = {k: v for k, v in data.tags.items() if not k.startswith(\"mlflow.\")}\n",
    "    artifacts = [f.path for f in client.list_artifacts(run_id, \"model\")]\n",
    "    return {\"params\":data.params, \"metrices\":data.metrics,\"tags\":tags}"
   ]
  },
  {
   "cell_type": "code",
   "execution_count": 35,
   "id": "8774a038",
   "metadata": {
    "ExecuteTime": {
     "end_time": "2022-02-06T17:30:13.330275Z",
     "start_time": "2022-02-06T17:30:11.366084Z"
    }
   },
   "outputs": [
    {
     "name": "stderr",
     "output_type": "stream",
     "text": [
      "/Users/yonatanalexander/development/xdss/goldilox/.venv/lib/python3.7/site-packages/vaex/ml/__init__.py:31: UserWarning: Make sure the DataFrame is shuffled\n",
      "  warnings.warn('Make sure the DataFrame is shuffled')\n",
      "/Users/yonatanalexander/development/xdss/goldilox/.venv/lib/python3.7/site-packages/sklearn/linear_model/_logistic.py:818: ConvergenceWarning: lbfgs failed to converge (status=1):\n",
      "STOP: TOTAL NO. of ITERATIONS REACHED LIMIT.\n",
      "\n",
      "Increase the number of iterations (max_iter) or scale the data as shown in:\n",
      "    https://scikit-learn.org/stable/modules/preprocessing.html\n",
      "Please also refer to the documentation for alternative solver options:\n",
      "    https://scikit-learn.org/stable/modules/linear_model.html#logistic-regression\n",
      "  extra_warning_msg=_LOGISTIC_SOLVER_CONVERGENCE_MSG,\n",
      "2022/02/06 18:30:11 WARNING mlflow.utils.autologging_utils: MLflow autologging encountered a warning: \"/Users/yonatanalexander/development/xdss/goldilox/.venv/lib/python3.7/site-packages/sklearn/utils/deprecation.py:87: FutureWarning: Function plot_confusion_matrix is deprecated; Function `plot_confusion_matrix` is deprecated in 1.0 and will be removed in 1.2. Use one of the class methods: ConfusionMatrixDisplay.from_predictions or ConfusionMatrixDisplay.from_estimator.\"\n",
      "/Users/yonatanalexander/development/xdss/goldilox/.venv/lib/python3.7/site-packages/sklearn/base.py:439: UserWarning: X has feature names, but LogisticRegression was fitted without feature names\n",
      "  f\"X has feature names, but {self.__class__.__name__} was fitted without\"\n",
      "/Users/yonatanalexander/development/xdss/goldilox/.venv/lib/python3.7/site-packages/sklearn/base.py:439: UserWarning: X has feature names, but LogisticRegression was fitted without feature names\n",
      "  f\"X has feature names, but {self.__class__.__name__} was fitted without\"\n",
      "2022/02/06 18:30:13 WARNING mlflow.sklearn.utils: log_loss failed. The metric val_log_loss will not be recorded. Metric error: y_true contains only one label (0). Please provide the true labels explicitly through the labels argument.\n",
      "2022/02/06 18:30:13 WARNING mlflow.sklearn.utils: roc_auc_score failed. The metric val_roc_auc_score will not be recorded. Metric error: Number of classes in y_true not equal to the number of columns in 'y_score'\n",
      "/Users/yonatanalexander/development/xdss/goldilox/.venv/lib/python3.7/site-packages/sklearn/utils/deprecation.py:87: FutureWarning: Function plot_confusion_matrix is deprecated; Function `plot_confusion_matrix` is deprecated in 1.0 and will be removed in 1.2. Use one of the class methods: ConfusionMatrixDisplay.from_predictions or ConfusionMatrixDisplay.from_estimator.\n",
      "  warnings.warn(msg, category=FutureWarning)\n",
      "/Users/yonatanalexander/development/xdss/goldilox/.venv/lib/python3.7/site-packages/sklearn/base.py:439: UserWarning: X has feature names, but LogisticRegression was fitted without feature names\n",
      "  f\"X has feature names, but {self.__class__.__name__} was fitted without\"\n"
     ]
    },
    {
     "name": "stdout",
     "output_type": "stream",
     "text": [
      "  #    sepal_length    sepal_width    petal_length    petal_width    target    lgbm\n",
      "  0             4.8            3.1             1.6            0.2         0       0\n",
      "  1             5.4            3.4             1.5            0.4         0       0\n"
     ]
    },
    {
     "name": "stderr",
     "output_type": "stream",
     "text": [
      "/Users/yonatanalexander/development/xdss/goldilox/.venv/lib/python3.7/site-packages/sklearn/base.py:439: UserWarning: X has feature names, but LogisticRegression was fitted without feature names\n",
      "  f\"X has feature names, but {self.__class__.__name__} was fitted without\"\n"
     ]
    }
   ],
   "source": [
    "import vaex\n",
    "\n",
    "from goldilox.datasets import load_iris\n",
    "from vaex.ml.sklearn import Predictor\n",
    "from sklearn.linear_model import LogisticRegression\n",
    "\n",
    "df, features, target = load_iris()\n",
    "train, test = vaex.from_pandas(df).ml.train_test_split()\n",
    "\n",
    "\n",
    "model = Predictor(model=LogisticRegression(),\n",
    "                  features=features,\n",
    "                        target=target,\n",
    "                        prediction_name='lgbm')\n",
    "\n",
    "\n",
    "with mlflow.start_run() as run:\n",
    "    model.fit(train)\n",
    "    metrics = mlflow.sklearn.eval_and_log_metrics(model.model, test[features], test[target].values, prefix=\"val_\")\n",
    "\n",
    "train = model.transform(train)\n",
    "print(train.head(2))"
   ]
  },
  {
   "cell_type": "code",
   "execution_count": 37,
   "id": "ad73b5e1",
   "metadata": {
    "ExecuteTime": {
     "end_time": "2022-02-06T17:30:25.980263Z",
     "start_time": "2022-02-06T17:30:25.025326Z"
    }
   },
   "outputs": [
    {
     "name": "stderr",
     "output_type": "stream",
     "text": [
      "WARNING:root:WARNING: Pipeline doesn't handle NA for sepal_length\n",
      "WARNING:root:WARNING: Pipeline doesn't handle NA for sepal_width\n",
      "WARNING:root:WARNING: Pipeline doesn't handle NA for petal_length\n",
      "WARNING:root:WARNING: Pipeline doesn't handle NA for petal_width\n"
     ]
    }
   ],
   "source": [
    "from goldilox import Pipeline\n",
    "\n",
    "pipeline = Pipeline.from_vaex(train, variables=fetch_logged_data(run.info.run_id))"
   ]
  },
  {
   "cell_type": "code",
   "execution_count": 25,
   "id": "667f06b7",
   "metadata": {
    "ExecuteTime": {
     "end_time": "2022-02-06T17:13:25.749975Z",
     "start_time": "2022-02-06T17:13:25.703639Z"
    }
   },
   "outputs": [
    {
     "ename": "AttributeError",
     "evalue": "'VaexPipeline' object has no attribute 'exaport_mlflow'",
     "output_type": "error",
     "traceback": [
      "\u001b[0;31m---------------------------------------------------------------------------\u001b[0m",
      "\u001b[0;31mAttributeError\u001b[0m                            Traceback (most recent call last)",
      "\u001b[0;32m/var/folders/gl/cklpy5415rzd6vb8y29rccpr0000gn/T/ipykernel_30579/145093137.py\u001b[0m in \u001b[0;36m<module>\u001b[0;34m\u001b[0m\n\u001b[0;32m----> 1\u001b[0;31m \u001b[0mpipeline\u001b[0m\u001b[0;34m.\u001b[0m\u001b[0mexaport_mlflow\u001b[0m\u001b[0;34m(\u001b[0m\u001b[0;34m'mlflow_test'\u001b[0m\u001b[0;34m)\u001b[0m\u001b[0;34m\u001b[0m\u001b[0;34m\u001b[0m\u001b[0m\n\u001b[0m",
      "\u001b[0;31mAttributeError\u001b[0m: 'VaexPipeline' object has no attribute 'exaport_mlflow'"
     ]
    }
   ],
   "source": [
    "pipeline.exaport_mlflow('mlflow_test')"
   ]
  },
  {
   "cell_type": "code",
   "execution_count": 20,
   "id": "36928434",
   "metadata": {
    "ExecuteTime": {
     "end_time": "2022-02-05T11:35:50.573681Z",
     "start_time": "2022-02-05T11:35:50.425813Z"
    }
   },
   "outputs": [],
   "source": [
    "mlflow_pyfunc_model_path = \"mlflow_test\"\n",
    "mlflow.pyfunc.save_model(path=mlflow_pyfunc_model_path, python_model=GoldiloxWrapper(), artifacts=artifacts,conda_env=env)\n",
    "\n"
   ]
  },
  {
   "cell_type": "code",
   "execution_count": 21,
   "id": "2e30f8d8",
   "metadata": {
    "ExecuteTime": {
     "end_time": "2022-02-05T12:00:04.009633Z",
     "start_time": "2022-02-05T11:36:03.554357Z"
    }
   },
   "outputs": [
    {
     "name": "stdout",
     "output_type": "stream",
     "text": [
      "2022/02/05 12:36:05 INFO mlflow.models.cli: Selected backend for flavor 'python_function'\n",
      "2022/02/05 12:36:05 INFO mlflow.pyfunc.backend: === Running command 'gunicorn --timeout=60 -b 127.0.0.1:5000 -w 1 ${GUNICORN_CMD_ARGS} -- mlflow.pyfunc.scoring_server.wsgi:app'\n",
      "[2022-02-05 12:36:06 +0100] [31079] [INFO] Starting gunicorn 20.1.0\n",
      "[2022-02-05 12:36:06 +0100] [31079] [INFO] Listening at: http://127.0.0.1:5000 (31079)\n",
      "[2022-02-05 12:36:06 +0100] [31079] [INFO] Using worker: sync\n",
      "[2022-02-05 12:36:06 +0100] [31082] [INFO] Booting worker with pid: 31082\n",
      "^C\n",
      "[2022-02-05 13:00:03 +0100] [31079] [INFO] Handling signal: int\n",
      "[2022-02-05 13:00:03 +0100] [31082] [INFO] Worker exiting (pid: 31082)\n"
     ]
    }
   ],
   "source": [
    "!mlflow models serve -m mlflow_test --no-conda"
   ]
  },
  {
   "cell_type": "code",
   "execution_count": null,
   "id": "5cb051e0",
   "metadata": {},
   "outputs": [],
   "source": [
    "# Create a Conda environment for the new MLflow Model that contains all necessary dependencies.\n",
    "import cloudpickle\n",
    "\n",
    "\n",
    "# Save the MLflow Model\n",
    "mlflow_pyfunc_model_path = \"xgb_mlflow_pyfunc\"\n",
    "mlflow.pyfunc.save_model(path=mlflow_pyfunc_model_path, python_model=XGBWrapper(), artifacts=artifacts, conda_env=env)\n",
    "\n",
    "# Load the model in `python_function` format\n",
    "loaded_model = mlflow.pyfunc.load_model(mlflow_pyfunc_model_path)\n",
    "\n",
    "# Evaluate the model\n",
    "import pandas as pd\n",
    "test_predictions = loaded_model.predict(pd.DataFrame(x_test))\n",
    "print(test_predictions)\n",
    "\n"
   ]
  }
 ],
 "metadata": {
  "kernelspec": {
   "display_name": "Python 3 (ipykernel)",
   "language": "python",
   "name": "python3"
  },
  "language_info": {
   "codemirror_mode": {
    "name": "ipython",
    "version": 3
   },
   "file_extension": ".py",
   "mimetype": "text/x-python",
   "name": "python",
   "nbconvert_exporter": "python",
   "pygments_lexer": "ipython3",
   "version": "3.7.12"
  }
 },
 "nbformat": 4,
 "nbformat_minor": 5
}
