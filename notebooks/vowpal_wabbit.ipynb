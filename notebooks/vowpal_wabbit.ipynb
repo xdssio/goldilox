{
 "cells": [
  {
   "cell_type": "markdown",
   "metadata": {},
   "source": [
    "# [Vowpal wabbit](https://vowpalwabbit.org/)"
   ]
  },
  {
   "cell_type": "markdown",
   "metadata": {},
   "source": [
    "## Vaex"
   ]
  },
  {
   "cell_type": "code",
   "execution_count": 1,
   "metadata": {},
   "outputs": [],
   "source": [
    "from numbers import Number\n",
    "\n",
    "import numpy as np\n",
    "import vaex\n",
    "from vowpalwabbit.DFtoVW import DFtoVW\n",
    "from vowpalwabbit.pyvw import vw\n",
    "from vaex.ml.datasets import load_titanic\n",
    "\n",
    "from goldilox import Pipeline\n",
    "\n",
    "df = load_titanic()\n",
    "features = df.get_column_names()\n",
    "target = 'survived'\n",
    "features.remove(target)\n",
    "df['survived'] = df['survived'].astype('int')\n",
    "\n"
   ]
  },
  {
   "cell_type": "code",
   "execution_count": 6,
   "metadata": {},
   "outputs": [
    {
     "name": "stdout",
     "output_type": "stream",
     "text": [
      "finished run\n",
      " number of examples = 1309\n",
      " weighted example sum = 1309.000000\n",
      " weighted label sum = 500.000000\n",
      " average loss = 0.095104\n",
      " best constant = 0.381971\n",
      " best constant's loss = 0.236069\n",
      " total feature number = 18672\n",
      "\n"
     ]
    }
   ],
   "source": [
    "params = {'P':1, \"enable_logging\":True, 'link':'logistic'}\n",
    "model = vw(**params)\n",
    "for _,_,d in df.to_pandas_df(chunk_size=10):\n",
    "    for ex in DFtoVW.from_colnames(df=d, y=target, x=features).convert_df():\n",
    "        model.learn(ex)\n",
    "\n",
    "model.finish()     \n",
    "print(' '.join(model.get_log()[-8:]))"
   ]
  },
  {
   "cell_type": "code",
   "execution_count": 7,
   "metadata": {},
   "outputs": [],
   "source": [
    "# encode \n",
    "import tempfile\n",
    "import base64\n",
    "filename = tempfile.mktemp()\n",
    "model.save(filename)\n",
    "with open(filename, 'rb') as f:\n",
    "    model_data = f.read()\n",
    "encoding =  base64.encodebytes(model_data).decode('ascii')"
   ]
  },
  {
   "cell_type": "code",
   "execution_count": 8,
   "metadata": {},
   "outputs": [
    {
     "name": "stderr",
     "output_type": "stream",
     "text": [
      "\n",
      "finished run\n",
      "number of examples = 1\n",
      "weighted example sum = 1.000000\n",
      "weighted label sum = 1.000000\n",
      "average loss = 0.002353\n",
      "best constant = 1.000000\n",
      "best constant's loss = 0.000000\n",
      "total feature number = 16\n"
     ]
    },
    {
     "data": {
      "text/plain": [
       "0.7214158177375793"
      ]
     },
     "execution_count": 8,
     "metadata": {},
     "output_type": "execute_result"
    }
   ],
   "source": [
    "# decode\n",
    "model_data = base64.decodebytes(encoding.encode('ascii'))\n",
    "openfilename = tempfile.mktemp()\n",
    "with open(openfilename, 'wb') as f:\n",
    "    f.write(model_data)\n",
    "\n",
    "params['i']= openfilename\n",
    "new_model = vw(**params)\n",
    "examples = DFtoVW.from_colnames(df=df.head(1).to_pandas_df(), y=target, x=features).convert_df()\n",
    "new_model.predict(examples[0])\n"
   ]
  },
  {
   "cell_type": "code",
   "execution_count": 11,
   "metadata": {},
   "outputs": [
    {
     "data": {
      "text/plain": [
       "0.7214158177375793"
      ]
     },
     "execution_count": 11,
     "metadata": {},
     "output_type": "execute_result"
    }
   ],
   "source": [
    "new_model.predict(examples[0])"
   ]
  },
  {
   "cell_type": "code",
   "execution_count": null,
   "metadata": {},
   "outputs": [],
   "source": [
    "import traitlets\n",
    "import tempfile\n",
    "import base64\n",
    "\n",
    "class VWModell(traitlets.HasTraits):\n",
    "\n",
    "        # This should work with the reduce's arguments\n",
    "        def __init__(self, model=None, params=None):\n",
    "            self.params = params or {}\n",
    "            if model is not None:\n",
    "                model = self.decode(model)\n",
    "            self.model = model or vw(**self.params)\n",
    "\n",
    "        # This is how you make a class pickalbe\n",
    "        def __reduce__(self):\n",
    "            return (self.__class__, (self.encode(),self.params))\n",
    "\n",
    "        # how vw implemented serialization\n",
    "        def decode(self, encoding):            \n",
    "            if isinstance(encoding, bytes):                \n",
    "                model_data = base64.decodebytes(encoding.encode('ascii'))\n",
    "                openfilename = tempfile.mktemp()\n",
    "                with open(openfilename, 'wb') as f:\n",
    "                    f.write(model_data)\n",
    "                params = self.params.copy()\n",
    "                params['i']= openfilename\n",
    "                return vw(**params)\n",
    "            else:\n",
    "                return encoding\n",
    "\n",
    "        # how vw implemented serialization\n",
    "        def encode(self):\n",
    "            if isinstance(self.model, bytes):\n",
    "                return self.model\n",
    "            filename = tempfile.mktemp()\n",
    "            model.save(filename)\n",
    "            with open(filename, 'rb') as f:\n",
    "                model_data = f.read()\n",
    "            encoding =  base64.encodebytes(model_data).decode('ascii')\n",
    "            return encoding\n",
    "\n",
    "        # def predict(self, data, k=3):\n",
    "            # examples = DFtoVW.from_colnames(df=df.head(1).to_pandas_df(), y=target, x=features).convert_df()\n",
    "            \n",
    "            # return np.array(neighbours)[:, 0]\n",
    "\n",
    "model = VWModell(model=model, params=params)\n",
    "\n",
    "@vaex.register_function(on_expression=False)\n",
    "def predict(*columns):\n",
    "    batch = np.array(columns).T\n",
    "    return np.array(\n",
    "        [model.predict({feature: value for feature, value in zip(values, features)}) for values in batch])\n",
    "\n",
    "df.add_function('predict', predict)\n",
    "df['predictions'] = df.func.predict(*tuple([df[col] for col in features]))\n",
    "pipeline = Pipeline.from_vaex(df)\n",
    "assert pipeline.validate()\n",
    "pipeline.inference(pipeline.raw)"
   ]
  }
 ],
 "metadata": {
  "interpreter": {
   "hash": "c02e8cefd04ff52e799f4aa259d2ee492875245d06169a1d386f6f6b41a66828"
  },
  "kernelspec": {
   "display_name": "Python 3.7.9 64-bit ('.venv': venv)",
   "language": "python",
   "name": "python3"
  },
  "language_info": {
   "codemirror_mode": {
    "name": "ipython",
    "version": 3
   },
   "file_extension": ".py",
   "mimetype": "text/x-python",
   "name": "python",
   "nbconvert_exporter": "python",
   "pygments_lexer": "ipython3",
   "version": "3.7.9"
  },
  "orig_nbformat": 4
 },
 "nbformat": 4,
 "nbformat_minor": 2
}
