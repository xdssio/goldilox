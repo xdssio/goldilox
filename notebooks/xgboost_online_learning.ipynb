{
 "cells": [
  {
   "cell_type": "markdown",
   "id": "5cfa1674",
   "metadata": {},
   "source": [
    "# XGBoost - batch learning"
   ]
  },
  {
   "cell_type": "markdown",
   "id": "95924944",
   "metadata": {},
   "source": [
    "## [Add a vaex accesor](https://vaex.io/docs/tutorial.html#Adding-DataFrame-accessors) (optional)\n",
    "* The numpy version is about 2X fast"
   ]
  },
  {
   "cell_type": "code",
   "execution_count": 1,
   "id": "b650d3b7",
   "metadata": {
    "ExecuteTime": {
     "end_time": "2022-01-13T14:29:43.547458Z",
     "start_time": "2022-01-13T14:29:42.298845Z"
    },
    "code_folding": [
     5,
     6
    ]
   },
   "outputs": [],
   "source": [
    "import vaex\n",
    "import numpy as np\n",
    "\n",
    "\n",
    "@vaex.register_dataframe_accessor('online', override=True)\n",
    "class Online(object):\n",
    "    def __init__(self, df):\n",
    "        self.df = df\n",
    "\n",
    "    def to_pandas_x_y(self, features=None, target=None, num_epochs=1, batch_size=1000, shuffle=False):\n",
    "        \"\"\"Return a tuple X, y which fits the sklearn pattern\"\"\"\n",
    "        num_features = len(features)        \n",
    "        column_names = features.copy()\n",
    "        n_samples = len(self.df)\n",
    "        if target is not None:\n",
    "            column_names.append(target)\n",
    "        progressbar = vaex.utils.progressbars(True, title=\"training\")\n",
    "        progressbar(0)\n",
    "        def iterator():\n",
    "            for epoch in range(num_epochs):\n",
    "                for i1, i2, chunks in self.df.to_pandas_df(column_names=column_names, \n",
    "                                                           chunk_size=batch_size):\n",
    "                    if shuffle and epoch > 0:\n",
    "                        chunks = chunks.sample(frac=1)\n",
    "                    X = chunks[column_names]\n",
    "                    y = chunks[target]\n",
    "                    yield X, y\n",
    "                    progressbar((n_samples * epoch + i1) / (num_epochs * n_samples))\n",
    "            progressbar(1.0)\n",
    "        return iterator()\n",
    "\n",
    "    def to_x_y(self, features=None, target=None, num_epochs=1, batch_size=1000, shuffle=False):\n",
    "        \"\"\"Return a tuple X, y which fits the sklearn pattern\"\"\"\n",
    "        num_features = len(features)        \n",
    "        column_names = features.copy()\n",
    "        n_samples = len(self.df)\n",
    "        if target is not None:\n",
    "            column_names.append(target)\n",
    "        progressbar = vaex.utils.progressbars(True, title=\"training\")\n",
    "        progressbar(0)\n",
    "        y = None\n",
    "        def iterator():\n",
    "            for epoch in range(num_epochs):\n",
    "                for i1, i2, chunks in self.df.evaluate_iterator(column_names, \n",
    "                                                                chunk_size=batch_size, \n",
    "                                                                progress=False):\n",
    "                    chunks = np.array(chunks).T\n",
    "                    if shuffle and epoch > 0:\n",
    "                        np.random.shuffle(chunks)\n",
    "                    X = chunks[:, 0 : num_features]\n",
    "                    if target is not None:\n",
    "                        y = chunks[:, -1]\n",
    "                    yield X, y\n",
    "                    progressbar((n_samples * epoch + i1) / (num_epochs * n_samples))\n",
    "            progressbar(1.0)\n",
    "        return iterator()"
   ]
  },
  {
   "cell_type": "markdown",
   "id": "0ac7f267",
   "metadata": {},
   "source": [
    "# Get data"
   ]
  },
  {
   "cell_type": "code",
   "execution_count": 2,
   "id": "9eda8502",
   "metadata": {
    "ExecuteTime": {
     "end_time": "2022-01-13T14:29:43.864061Z",
     "start_time": "2022-01-13T14:29:43.548793Z"
    }
   },
   "outputs": [
    {
     "data": {
      "text/html": [
       "<table>\n",
       "<thead>\n",
       "<tr><th>#                            </th><th style=\"text-align: right;\">  feature0</th><th style=\"text-align: right;\">  feature1</th><th style=\"text-align: right;\">  feature2</th><th style=\"text-align: right;\">  feature3</th><th style=\"text-align: right;\">  feature4</th><th style=\"text-align: right;\">  feature5</th><th style=\"text-align: right;\">  feature6</th><th style=\"text-align: right;\">  feature7</th><th style=\"text-align: right;\">  feature8</th><th style=\"text-align: right;\">  feature9</th><th style=\"text-align: right;\">  feature10</th><th style=\"text-align: right;\">  feature11</th><th style=\"text-align: right;\">  feature12</th><th style=\"text-align: right;\">  feature13</th><th style=\"text-align: right;\">  feature14</th><th style=\"text-align: right;\">  feature15</th><th style=\"text-align: right;\">  feature16</th><th style=\"text-align: right;\">  feature17</th><th style=\"text-align: right;\">  feature18</th><th style=\"text-align: right;\">  feature19</th><th style=\"text-align: right;\">  target</th></tr>\n",
       "</thead>\n",
       "<tbody>\n",
       "<tr><td><i style='opacity: 0.6'>0</i></td><td style=\"text-align: right;\">   2.22322</td><td style=\"text-align: right;\">  0.569268</td><td style=\"text-align: right;\">  1.37791 </td><td style=\"text-align: right;\"> -2.11287 </td><td style=\"text-align: right;\">  -1.47488</td><td style=\"text-align: right;\">  1.60108 </td><td style=\"text-align: right;\"> 0.0509815</td><td style=\"text-align: right;\">  -1.44114</td><td style=\"text-align: right;\"> -0.540454</td><td style=\"text-align: right;\">  2.27826 </td><td style=\"text-align: right;\">    1.3163 </td><td style=\"text-align: right;\">   -0.38335</td><td style=\"text-align: right;\"> -0.86742  </td><td style=\"text-align: right;\">    8.47378</td><td style=\"text-align: right;\">    0.99395</td><td style=\"text-align: right;\">  -1.60651 </td><td style=\"text-align: right;\">  -0.514052</td><td style=\"text-align: right;\"> -0.0179562</td><td style=\"text-align: right;\">   0.407837</td><td style=\"text-align: right;\">  -0.863185</td><td style=\"text-align: right;\">       1</td></tr>\n",
       "<tr><td><i style='opacity: 0.6'>1</i></td><td style=\"text-align: right;\">   3.39834</td><td style=\"text-align: right;\">  0.026573</td><td style=\"text-align: right;\"> -0.594668</td><td style=\"text-align: right;\"> -0.718106</td><td style=\"text-align: right;\">  -3.87205</td><td style=\"text-align: right;\">  0.430664</td><td style=\"text-align: right;\"> 1.23862  </td><td style=\"text-align: right;\">   2.19065</td><td style=\"text-align: right;\">  1.60622 </td><td style=\"text-align: right;\"> -0.745087</td><td style=\"text-align: right;\">   -0.94352</td><td style=\"text-align: right;\">   -1.05021</td><td style=\"text-align: right;\">  0.0745354</td><td style=\"text-align: right;\">    5.89844</td><td style=\"text-align: right;\">   -1.74486</td><td style=\"text-align: right;\">   0.476258</td><td style=\"text-align: right;\">   0.322009</td><td style=\"text-align: right;\"> -1.23436  </td><td style=\"text-align: right;\">   2.98763 </td><td style=\"text-align: right;\">   1.41796 </td><td style=\"text-align: right;\">       1</td></tr>\n",
       "</tbody>\n",
       "</table>"
      ],
      "text/plain": [
       "  #    feature0    feature1    feature2    feature3    feature4    feature5    feature6    feature7    feature8    feature9    feature10    feature11    feature12    feature13    feature14    feature15    feature16    feature17    feature18    feature19    target\n",
       "  0     2.22322    0.569268    1.37791    -2.11287     -1.47488    1.60108    0.0509815    -1.44114   -0.540454    2.27826       1.3163      -0.38335   -0.86742        8.47378      0.99395    -1.60651     -0.514052   -0.0179562     0.407837    -0.863185         1\n",
       "  1     3.39834    0.026573   -0.594668   -0.718106    -3.87205    0.430664   1.23862       2.19065    1.60622    -0.745087     -0.94352     -1.05021    0.0745354      5.89844     -1.74486     0.476258     0.322009   -1.23436       2.98763      1.41796          1"
      ]
     },
     "execution_count": 2,
     "metadata": {},
     "output_type": "execute_result"
    }
   ],
   "source": [
    "from sklearn.datasets import make_classification\n",
    "import vaex\n",
    "\n",
    "X, y = make_classification(n_samples=10000, n_informative=10, n_classes=3)\n",
    "df = vaex.from_arrays(**{f\"feature{i}\": X[:,i] for i in range(20)})\n",
    "features, target = df.get_column_names(), 'target'\n",
    "df[target] = y\n",
    "df.head(2)"
   ]
  },
  {
   "cell_type": "code",
   "execution_count": 3,
   "id": "9ea96052",
   "metadata": {
    "ExecuteTime": {
     "end_time": "2022-01-13T14:29:43.923508Z",
     "start_time": "2022-01-13T14:29:43.865717Z"
    }
   },
   "outputs": [
    {
     "name": "stderr",
     "output_type": "stream",
     "text": [
      "/Users/yonatanalexander/development/xdss/goldilox/.venv/lib/python3.7/site-packages/vaex/ml/__init__.py:31: UserWarning: Make sure the DataFrame is shuffled\n",
      "  warnings.warn('Make sure the DataFrame is shuffled')\n"
     ]
    }
   ],
   "source": [
    "train, test = df.ml.train_test_split()"
   ]
  },
  {
   "cell_type": "markdown",
   "id": "7b4fdb26",
   "metadata": {},
   "source": [
    "## Training "
   ]
  },
  {
   "cell_type": "code",
   "execution_count": null,
   "id": "6ee89692",
   "metadata": {
    "ExecuteTime": {
     "start_time": "2022-01-13T14:29:44.770Z"
    }
   },
   "outputs": [
    {
     "name": "stdout",
     "output_type": "stream",
     "text": [
      "\r",
      "training [----------------------------------------]  0.00% estimated time: unknown                 "
     ]
    },
    {
     "name": "stderr",
     "output_type": "stream",
     "text": [
      "/Users/yonatanalexander/development/xdss/goldilox/.venv/lib/python3.7/site-packages/xgboost/sklearn.py:888: UserWarning: The use of label encoder in XGBClassifier is deprecated and will be removed in a future release. To remove this warning, do the following: 1) Pass option use_label_encoder=False when constructing XGBClassifier object; and 2) Encode your labels (y) as integers starting with 0, i.e. 0, 1, 2, ..., [num_class - 1].\n",
      "  warnings.warn(label_encoder_deprecation_msg, UserWarning)\n"
     ]
    }
   ],
   "source": [
    "from xgboost.sklearn import XGBClassifier\n",
    "from vaex.ml.sklearn import Predictor\n",
    "\n",
    "\n",
    "num_epochs = 2\n",
    "batch_size = 5000\n",
    "model = None\n",
    "\n",
    "xgb_params = {\n",
    "    'update':'refresh',\n",
    "    'refresh_leaf': True,\n",
    "    'objective':'multi:softmax',\n",
    "    'num_class': 3,\n",
    "    'verbosity': 0\n",
    "}\n",
    "\n",
    "for X,y in train.online.to_x_y(features=features, \n",
    "                               target=target,\n",
    "                               batch_size=batch_size, \n",
    "                               num_epochs=num_epochs):\n",
    "    xgb_params['xgb_model'] = model\n",
    "    model = XGBClassifier(**xgb_params)\n",
    "    model.fit(X, y)\n",
    "\n",
    "\n",
    "\n",
    "predictor = Predictor(model=model,\n",
    "                features=features, \n",
    "                target=target,\n",
    "                prediction_name='prediction')\n",
    "train = predictor.transform(train)        "
   ]
  },
  {
   "cell_type": "code",
   "execution_count": null,
   "id": "5ffb12ad",
   "metadata": {
    "ExecuteTime": {
     "start_time": "2022-01-13T14:29:45.932Z"
    }
   },
   "outputs": [],
   "source": [
    "from goldilox import Pipeline\n",
    "from sklearn.metrics import accuracy_score\n",
    "\n",
    "pipeline = Pipeline.from_vaex(train)\n",
    "print(f\"Accuracy: {accuracy_score(pipeline.inference(test)['prediction'].values, test[target].values)}\")"
   ]
  },
  {
   "cell_type": "code",
   "execution_count": null,
   "id": "e25c5b7f",
   "metadata": {},
   "outputs": [],
   "source": []
  }
 ],
 "metadata": {
  "kernelspec": {
   "display_name": "Python 3 (ipykernel)",
   "language": "python",
   "name": "python3"
  },
  "language_info": {
   "codemirror_mode": {
    "name": "ipython",
    "version": 3
   },
   "file_extension": ".py",
   "mimetype": "text/x-python",
   "name": "python",
   "nbconvert_exporter": "python",
   "pygments_lexer": "ipython3",
   "version": "3.7.12"
  }
 },
 "nbformat": 4,
 "nbformat_minor": 5
}
