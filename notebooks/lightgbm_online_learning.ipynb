{
 "cells": [
  {
   "cell_type": "markdown",
   "id": "5cfa1674",
   "metadata": {},
   "source": [
    "# LightGBM - batch learning"
   ]
  },
  {
   "cell_type": "markdown",
   "id": "95924944",
   "metadata": {},
   "source": [
    "## [Add a vaex accesor](https://vaex.io/docs/tutorial.html#Adding-DataFrame-accessors) (optional)\n",
    "* The numpy version is about 2X fast"
   ]
  },
  {
   "cell_type": "code",
   "execution_count": 2,
   "id": "b650d3b7",
   "metadata": {
    "ExecuteTime": {
     "end_time": "2022-01-13T14:30:39.123677Z",
     "start_time": "2022-01-13T14:30:37.853121Z"
    },
    "code_folding": [
     5,
     6
    ]
   },
   "outputs": [],
   "source": [
    "import vaex\n",
    "import numpy as np\n",
    "\n",
    "\n",
    "@vaex.register_dataframe_accessor('online', override=True)\n",
    "class Online(object):\n",
    "    def __init__(self, df):\n",
    "        self.df = df\n",
    "\n",
    "    def to_pandas_x_y(self, features=None, target=None, num_epochs=1, batch_size=1000, shuffle=False):\n",
    "        \"\"\"Return a tuple X, y which fits the sklearn pattern\"\"\"\n",
    "        num_features = len(features)        \n",
    "        column_names = features.copy()\n",
    "        n_samples = len(self.df)\n",
    "        if target is not None:\n",
    "            column_names.append(target)\n",
    "        progressbar = vaex.utils.progressbars(True, title=\"training\")\n",
    "        progressbar(0)\n",
    "        def iterator():\n",
    "            for epoch in range(num_epochs):\n",
    "                for i1, i2, chunks in self.df.to_pandas_df(column_names=column_names, \n",
    "                                                           chunk_size=batch_size):\n",
    "                    if shuffle and epoch > 0:\n",
    "                        chunks = chunks.sample(frac=1)\n",
    "                    X = chunks[column_names]\n",
    "                    y = chunks[target]\n",
    "                    yield X, y\n",
    "                    progressbar((n_samples * epoch + i1) / (num_epochs * n_samples))\n",
    "            progressbar(1.0)\n",
    "        return iterator()\n",
    "\n",
    "    def to_x_y(self, features=None, target=None, num_epochs=1, batch_size=1000, shuffle=False):\n",
    "        \"\"\"Return a tuple X, y which fits the sklearn pattern\"\"\"\n",
    "        num_features = len(features)        \n",
    "        column_names = features.copy()\n",
    "        n_samples = len(self.df)\n",
    "        if target is not None:\n",
    "            column_names.append(target)\n",
    "        progressbar = vaex.utils.progressbars(True, title=\"training\")\n",
    "        progressbar(0)\n",
    "        y = None\n",
    "        def iterator():\n",
    "            for epoch in range(num_epochs):\n",
    "                for i1, i2, chunks in self.df.evaluate_iterator(column_names, \n",
    "                                                                chunk_size=batch_size, \n",
    "                                                                progress=False):\n",
    "                    chunks = np.array(chunks).T\n",
    "                    if shuffle and epoch > 0:\n",
    "                        np.random.shuffle(chunks)\n",
    "                    X = chunks[:, 0 : num_features]\n",
    "                    if target is not None:\n",
    "                        y = chunks[:, -1]\n",
    "                    yield X, y\n",
    "                    progressbar((n_samples * epoch + i1) / (num_epochs * n_samples))\n",
    "            progressbar(1.0)\n",
    "        return iterator()"
   ]
  },
  {
   "cell_type": "markdown",
   "id": "0ac7f267",
   "metadata": {},
   "source": [
    "# Get data"
   ]
  },
  {
   "cell_type": "code",
   "execution_count": 3,
   "id": "9eda8502",
   "metadata": {
    "ExecuteTime": {
     "end_time": "2022-01-13T14:30:40.130019Z",
     "start_time": "2022-01-13T14:30:39.806658Z"
    }
   },
   "outputs": [
    {
     "data": {
      "text/html": [
       "<table>\n",
       "<thead>\n",
       "<tr><th>#                            </th><th style=\"text-align: right;\">  feature0</th><th style=\"text-align: right;\">  feature1</th><th style=\"text-align: right;\">  feature2</th><th style=\"text-align: right;\">  feature3</th><th style=\"text-align: right;\">  feature4</th><th style=\"text-align: right;\">  feature5</th><th style=\"text-align: right;\">  feature6</th><th style=\"text-align: right;\">  feature7</th><th style=\"text-align: right;\">  feature8</th><th style=\"text-align: right;\">  feature9</th><th style=\"text-align: right;\">  feature10</th><th style=\"text-align: right;\">  feature11</th><th style=\"text-align: right;\">  feature12</th><th style=\"text-align: right;\">  feature13</th><th style=\"text-align: right;\">  feature14</th><th style=\"text-align: right;\">  feature15</th><th style=\"text-align: right;\">  feature16</th><th style=\"text-align: right;\">  feature17</th><th style=\"text-align: right;\">  feature18</th><th style=\"text-align: right;\">  feature19</th><th style=\"text-align: right;\">  target</th></tr>\n",
       "</thead>\n",
       "<tbody>\n",
       "<tr><td><i style='opacity: 0.6'>0</i></td><td style=\"text-align: right;\">  0.235455</td><td style=\"text-align: right;\">   5.26659</td><td style=\"text-align: right;\">  3.29424 </td><td style=\"text-align: right;\">  -0.85068</td><td style=\"text-align: right;\">  0.711974</td><td style=\"text-align: right;\"> 0.0685351</td><td style=\"text-align: right;\"> -0.348895</td><td style=\"text-align: right;\"> 0.277649 </td><td style=\"text-align: right;\"> -0.309844</td><td style=\"text-align: right;\">  -2.37508</td><td style=\"text-align: right;\">   2.06344 </td><td style=\"text-align: right;\">  -0.205725</td><td style=\"text-align: right;\">    1.42592</td><td style=\"text-align: right;\">    3.51194</td><td style=\"text-align: right;\">   0.325553</td><td style=\"text-align: right;\">    0.8727 </td><td style=\"text-align: right;\">   0.611526</td><td style=\"text-align: right;\">  -0.517743</td><td style=\"text-align: right;\">    1.39328</td><td style=\"text-align: right;\">   -1.66611</td><td style=\"text-align: right;\">       1</td></tr>\n",
       "<tr><td><i style='opacity: 0.6'>1</i></td><td style=\"text-align: right;\">  0.241575</td><td style=\"text-align: right;\">  -4.0031 </td><td style=\"text-align: right;\">  0.927966</td><td style=\"text-align: right;\">   2.82486</td><td style=\"text-align: right;\">  0.8928  </td><td style=\"text-align: right;\">-0.701972 </td><td style=\"text-align: right;\">  0.282573</td><td style=\"text-align: right;\"> 0.0780901</td><td style=\"text-align: right;\"> -1.063   </td><td style=\"text-align: right;\">   1.52407</td><td style=\"text-align: right;\">   0.184087</td><td style=\"text-align: right;\">  -2.05832 </td><td style=\"text-align: right;\">    1.37858</td><td style=\"text-align: right;\">   -2.21525</td><td style=\"text-align: right;\">   1.16626 </td><td style=\"text-align: right;\">   -1.89677</td><td style=\"text-align: right;\">   0.349468</td><td style=\"text-align: right;\">  -0.19203 </td><td style=\"text-align: right;\">   -1.81256</td><td style=\"text-align: right;\">   -2.64037</td><td style=\"text-align: right;\">       2</td></tr>\n",
       "</tbody>\n",
       "</table>"
      ],
      "text/plain": [
       "  #    feature0    feature1    feature2    feature3    feature4    feature5    feature6    feature7    feature8    feature9    feature10    feature11    feature12    feature13    feature14    feature15    feature16    feature17    feature18    feature19    target\n",
       "  0    0.235455     5.26659    3.29424     -0.85068    0.711974   0.0685351   -0.348895   0.277649    -0.309844    -2.37508     2.06344     -0.205725      1.42592      3.51194     0.325553      0.8727      0.611526    -0.517743      1.39328     -1.66611         1\n",
       "  1    0.241575    -4.0031     0.927966     2.82486    0.8928    -0.701972     0.282573   0.0780901   -1.063        1.52407     0.184087    -2.05832       1.37858     -2.21525     1.16626      -1.89677     0.349468    -0.19203      -1.81256     -2.64037         2"
      ]
     },
     "execution_count": 3,
     "metadata": {},
     "output_type": "execute_result"
    }
   ],
   "source": [
    "from sklearn.datasets import make_classification\n",
    "import vaex\n",
    "\n",
    "X, y = make_classification(n_samples=10000, n_informative=10, n_classes=3)\n",
    "df = vaex.from_arrays(**{f\"feature{i}\": X[:,i] for i in range(20)})\n",
    "features, target = df.get_column_names(), 'target'\n",
    "df[target] = y\n",
    "df.head(2)"
   ]
  },
  {
   "cell_type": "code",
   "execution_count": 4,
   "id": "9ea96052",
   "metadata": {
    "ExecuteTime": {
     "end_time": "2022-01-13T14:30:40.763842Z",
     "start_time": "2022-01-13T14:30:40.689262Z"
    }
   },
   "outputs": [
    {
     "name": "stderr",
     "output_type": "stream",
     "text": [
      "/Users/yonatanalexander/development/xdss/goldilox/.venv/lib/python3.7/site-packages/vaex/ml/__init__.py:31: UserWarning: Make sure the DataFrame is shuffled\n",
      "  warnings.warn('Make sure the DataFrame is shuffled')\n"
     ]
    }
   ],
   "source": [
    "train, test = df.ml.train_test_split()"
   ]
  },
  {
   "cell_type": "markdown",
   "id": "7b4fdb26",
   "metadata": {},
   "source": [
    "## Training "
   ]
  },
  {
   "cell_type": "code",
   "execution_count": 6,
   "id": "6ee89692",
   "metadata": {
    "ExecuteTime": {
     "end_time": "2022-01-13T14:30:55.560453Z",
     "start_time": "2022-01-13T14:30:55.274001Z"
    }
   },
   "outputs": [
    {
     "name": "stdout",
     "output_type": "stream",
     "text": [
      "training [########################################] 100.00% elapsed time  :     0.27s =  0.0m =  0.0h\n",
      " "
     ]
    }
   ],
   "source": [
    "from lightgbm.sklearn import LGBMClassifier\n",
    "from vaex.ml.sklearn import Predictor\n",
    "import warnings\n",
    "\n",
    "warnings.filterwarnings('ignore')\n",
    "\n",
    "num_epochs = 2\n",
    "batch_size = 5000\n",
    "model = None\n",
    "\n",
    "params = {'verbosity': -1,\n",
    "        'objective': 'multiclass',\n",
    "        'num_class': 3,\n",
    "         'num_iterations':1}\n",
    "\n",
    "for X,y in train.online.to_x_y(features=features, \n",
    "                               target=target,\n",
    "                               batch_size=batch_size, \n",
    "                               num_epochs=num_epochs):\n",
    "\n",
    "        model = LGBMClassifier(**params).fit(X, y) if model is None else model.fit(X, y, init_model=model) \n",
    "            \n",
    "\n",
    "\n",
    "model = Predictor(model=model,\n",
    "                features=features, \n",
    "                target=target,\n",
    "                prediction_name='prediction')\n",
    "train = model.transform(train)        "
   ]
  },
  {
   "cell_type": "code",
   "execution_count": 7,
   "id": "5ffb12ad",
   "metadata": {
    "ExecuteTime": {
     "end_time": "2022-01-13T14:30:57.247023Z",
     "start_time": "2022-01-13T14:30:56.291698Z"
    }
   },
   "outputs": [
    {
     "name": "stdout",
     "output_type": "stream",
     "text": [
      "Accuracy: 0.8315\n"
     ]
    }
   ],
   "source": [
    "from goldilox import Pipeline\n",
    "from sklearn.metrics import accuracy_score\n",
    "\n",
    "pipeline = Pipeline.from_vaex(train)\n",
    "print(f\"Accuracy: {accuracy_score(pipeline.inference(test)['prediction'].values, test[target].values)}\")"
   ]
  },
  {
   "cell_type": "code",
   "execution_count": null,
   "id": "e25c5b7f",
   "metadata": {},
   "outputs": [],
   "source": []
  }
 ],
 "metadata": {
  "kernelspec": {
   "display_name": "Python 3 (ipykernel)",
   "language": "python",
   "name": "python3"
  },
  "language_info": {
   "codemirror_mode": {
    "name": "ipython",
    "version": 3
   },
   "file_extension": ".py",
   "mimetype": "text/x-python",
   "name": "python",
   "nbconvert_exporter": "python",
   "pygments_lexer": "ipython3",
   "version": "3.7.12"
  }
 },
 "nbformat": 4,
 "nbformat_minor": 5
}
