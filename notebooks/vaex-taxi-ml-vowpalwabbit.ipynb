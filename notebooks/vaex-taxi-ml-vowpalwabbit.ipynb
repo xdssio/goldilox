{
 "cells": [
  {
   "cell_type": "markdown",
   "id": "smoking-basketball",
   "metadata": {},
   "source": [
    "# Machine Learning example on _1 billion_ samples: N. Y. CityCabs data\n",
    "\n",
    "### Predict the likely duration of a taxi trip"
   ]
  },
  {
   "cell_type": "code",
   "execution_count": 1,
   "id": "peripheral-herald",
   "metadata": {
    "ExecuteTime": {
     "end_time": "2021-12-13T22:16:52.256722Z",
     "start_time": "2021-12-13T22:16:50.013642Z"
    }
   },
   "outputs": [],
   "source": [
    "import vaex\n",
    "import vaex.ml\n",
    "from vaex.ui.colormaps import cm_plusmin\n",
    "\n",
    "import numpy as np\n",
    "\n",
    "import pylab as plt\n",
    "import seaborn as sns\n",
    "\n",
    "from tqdm import tqdm_notebook as tqdm\n",
    "\n",
    "from IPython.display import clear_output\n",
    "\n",
    "import warnings\n",
    "warnings.filterwarnings(\"ignore\")"
   ]
  },
  {
   "cell_type": "markdown",
   "id": "fleet-cover",
   "metadata": {},
   "source": [
    "### Adjusting `matplotlib` parameters"
   ]
  },
  {
   "cell_type": "code",
   "execution_count": 2,
   "id": "certain-reminder",
   "metadata": {
    "ExecuteTime": {
     "end_time": "2021-12-13T22:16:55.705832Z",
     "start_time": "2021-12-13T22:16:55.700599Z"
    }
   },
   "outputs": [],
   "source": [
    "SMALL_SIZE = 12\n",
    "MEDIUM_SIZE = 14\n",
    "BIGGER_SIZE = 16\n",
    "\n",
    "plt.rc('font', size=SMALL_SIZE)          # controls default text sizes\n",
    "plt.rc('axes', titlesize=SMALL_SIZE)     # fontsize of the axes title\n",
    "plt.rc('axes', labelsize=MEDIUM_SIZE)    # fontsize of the x and y labels\n",
    "plt.rc('xtick', labelsize=SMALL_SIZE)    # fontsize of the tick labels\n",
    "plt.rc('ytick', labelsize=SMALL_SIZE)    # fontsize of the tick labels\n",
    "plt.rc('legend', fontsize=SMALL_SIZE)    # legend fontsize\n",
    "plt.rc('figure', titlesize=BIGGER_SIZE)  # fontsize of the figure title"
   ]
  },
  {
   "cell_type": "markdown",
   "id": "familiar-hurricane",
   "metadata": {},
   "source": [
    "### Read in the data\n",
    "\n",
    "- Can \"read\" the memmory mapped file that we have on disk in no time.\n",
    "- `Vaex` can also read data stored on S3. The data is streamed on need-to-have basis and is locally cached."
   ]
  },
  {
   "cell_type": "code",
   "execution_count": 3,
   "id": "amended-deficit",
   "metadata": {
    "ExecuteTime": {
     "end_time": "2021-12-13T22:16:57.528999Z",
     "start_time": "2021-12-13T22:16:57.404298Z"
    }
   },
   "outputs": [
    {
     "name": "stdout",
     "output_type": "stream",
     "text": [
      "-rwxrwxr-x 1 maartenbreddels adm 108G mei  4  2020 /data/yellow_taxi_2009_2015_f32.hdf5\r\n"
     ]
    }
   ],
   "source": [
    "# Check the file size on disk\n",
    "!ls -l -h /data/yellow_taxi_2009_2015_f32.hdf5"
   ]
  },
  {
   "cell_type": "code",
   "execution_count": 4,
   "id": "verified-march",
   "metadata": {
    "ExecuteTime": {
     "end_time": "2021-12-13T22:16:58.746862Z",
     "start_time": "2021-12-13T22:16:58.100618Z"
    }
   },
   "outputs": [],
   "source": [
    "# Read in the data from disk\n",
    "df = vaex.open('/data/yellow_taxi_2009_2015_f32.hdf5')"
   ]
  },
  {
   "cell_type": "markdown",
   "id": "hindu-supplier",
   "metadata": {},
   "source": [
    "### Split the data into train & test sets\n",
    "\n",
    "- All data prior to 2015 is train;\n",
    "- All data of 2015 is test."
   ]
  },
  {
   "cell_type": "code",
   "execution_count": 5,
   "id": "ruled-banks",
   "metadata": {
    "ExecuteTime": {
     "end_time": "2021-12-13T22:16:59.858742Z",
     "start_time": "2021-12-13T22:16:59.852192Z"
    }
   },
   "outputs": [
    {
     "name": "stdout",
     "output_type": "stream",
     "text": [
      "Number of samples in the training set: 1026944937\n",
      "Number of samples in the test set: 146112990\n"
     ]
    }
   ],
   "source": [
    "# Train / test split (by date)\n",
    "df_train = df[:1_026_944_937]\n",
    "df_test = df[1_026_944_937:]\n",
    "\n",
    "print('Number of samples in the training set: %i' % len(df_train))\n",
    "print('Number of samples in the test set: %i' % len(df_test))\n",
    "\n",
    "# Check if the lengths of the datasets match\n",
    "assert len(df) == len(df_test) + len(df_train)"
   ]
  },
  {
   "cell_type": "markdown",
   "id": "about-complement",
   "metadata": {},
   "source": [
    "### Initial feature generation"
   ]
  },
  {
   "cell_type": "code",
   "execution_count": 6,
   "id": "concrete-latter",
   "metadata": {
    "ExecuteTime": {
     "end_time": "2021-12-13T22:17:00.666471Z",
     "start_time": "2021-12-13T22:17:00.662252Z"
    }
   },
   "outputs": [],
   "source": [
    "# Time in transit (minutes) - This is the target variable\n",
    "df_train['trip_duration_min'] = (df_train.dropoff_datetime - df_train.pickup_datetime) / \\\n",
    "                                   np.timedelta64(1, 'm')\n",
    "\n",
    "# Speed (miles per hour) - To be used for cleaning of the training data\n",
    "df_train['trip_speed_mph'] = df_train.trip_distance / \\\n",
    "                                ((df_train.dropoff_datetime - df_train.pickup_datetime) / \\\n",
    "                                np.timedelta64(1, 'h'))"
   ]
  },
  {
   "cell_type": "markdown",
   "id": "capital-circular",
   "metadata": {},
   "source": [
    "### Data cleaning\n",
    "\n",
    "- To get better insight into how the data has been cleaned, please check [this Notebook](https://nbviewer.jupyter.org/github/vaexio/vaex-examples/blob/master/medium-nyc-taxi-data-eda/vaex-taxi-article.ipynb)."
   ]
  },
  {
   "cell_type": "code",
   "execution_count": 7,
   "id": "rocky-participation",
   "metadata": {
    "ExecuteTime": {
     "end_time": "2021-12-13T22:17:03.135781Z",
     "start_time": "2021-12-13T22:17:01.543862Z"
    }
   },
   "outputs": [],
   "source": [
    "# Drop NA from relevant fields\n",
    "df_train = df_train.dropna(column_names=['dropoff_latitude', 'dropoff_longitude', 'pickup_latitude'])\n",
    "\n",
    "# Filter abnormal number of passengers\n",
    "df_train = df_train[(df_train.passenger_count>0) & (df_train.passenger_count<7)]\n",
    "\n",
    "# Select taxi trips have travelled maximum 100 miles (but also with non-zero distance).\n",
    "df_train = df_train[(df_train.trip_distance > 0) & (df_train.trip_distance < 10)]\n",
    "\n",
    "# # Filter taxi trips that have unreasonably long dirations or that lasted less than 1 minute\n",
    "df_train = df_train[(df_train.trip_duration_min > 2) & (df_train.trip_duration_min < 30)]\n",
    "\n",
    "# Filter out errouneous average trip speeds.\n",
    "df_train = df_train[(df_train.trip_speed_mph > 1) & (df_train.trip_speed_mph < 60)]\n",
    "\n",
    "# Define the NYC boundaries\n",
    "long_min = -74.05\n",
    "long_max = -73.75\n",
    "lat_min = 40.58\n",
    "lat_max = 40.90\n",
    "\n",
    "# Make a selection based on the boundaries\n",
    "df_train = df_train[(df_train.pickup_longitude > long_min)  & (df_train.pickup_longitude < long_max) & \\\n",
    "                    (df_train.pickup_latitude > lat_min)    & (df_train.pickup_latitude < lat_max) & \\\n",
    "                    (df_train.dropoff_longitude > long_min) & (df_train.dropoff_longitude < long_max) & \\\n",
    "                    (df_train.dropoff_latitude > lat_min)   & (df_train.dropoff_latitude < lat_max)]"
   ]
  },
  {
   "cell_type": "markdown",
   "id": "drawn-advocate",
   "metadata": {},
   "source": [
    "### Create some additional features:"
   ]
  },
  {
   "cell_type": "code",
   "execution_count": 8,
   "id": "revised-computer",
   "metadata": {
    "ExecuteTime": {
     "end_time": "2021-12-13T22:17:03.680295Z",
     "start_time": "2021-12-13T22:17:03.631382Z"
    }
   },
   "outputs": [],
   "source": [
    "# Pickup datetime features\n",
    "df_train['pickup_time'] = df_train.pickup_datetime.dt.hour + df_train.pickup_datetime.dt.minute / 60.\n",
    "df_train['pickup_day'] = df_train.pickup_datetime.dt.dayofweek\n",
    "df_train['pickup_month'] = df_train.pickup_datetime.dt.month - 1 # so it starts from 0\n",
    "df_train['pickup_is_weekend'] = (df_train.pickup_day>=5).astype('int')"
   ]
  },
  {
   "cell_type": "code",
   "execution_count": 9,
   "id": "apart-floating",
   "metadata": {
    "ExecuteTime": {
     "end_time": "2021-12-13T22:17:05.037996Z",
     "start_time": "2021-12-13T22:17:04.335773Z"
    }
   },
   "outputs": [],
   "source": [
    "# Arc distance  in miles\n",
    "def arc_distance(theta_1, phi_1, theta_2, phi_2):\n",
    "    temp = (np.sin((theta_2-theta_1)/2*np.pi/180)**2\n",
    "           + np.cos(theta_1*np.pi/180)*np.cos(theta_2*np.pi/180) * np.sin((phi_2-phi_1)/2*np.pi/180)**2)\n",
    "    distance = 2 * np.arctan2(np.sqrt(temp), np.sqrt(1-temp))\n",
    "    return distance * 3958.8\n",
    "\n",
    "# Create the feature\n",
    "df_train['arc_distance'] = arc_distance(df_train.pickup_longitude, \n",
    "                                        df_train.pickup_latitude, \n",
    "                                        df_train.dropoff_longitude, \n",
    "                                        df_train.dropoff_latitude).jit_numba()"
   ]
  },
  {
   "cell_type": "code",
   "execution_count": 10,
   "id": "right-pressing",
   "metadata": {
    "ExecuteTime": {
     "end_time": "2021-12-13T22:17:06.089099Z",
     "start_time": "2021-12-13T22:17:06.038304Z"
    }
   },
   "outputs": [],
   "source": [
    "# Direction of travel in degrees\n",
    "def direction_angle(theta_1, phi_1, theta_2, phi_2):\n",
    "    dtheta = theta_2 - theta_1\n",
    "    dphi = phi_2 - phi_1\n",
    "    radians = np.arctan2(dtheta, dphi)\n",
    "    return np.rad2deg(radians)\n",
    "\n",
    "# Create the feature\n",
    "df_train['direction_angle'] = direction_angle(df_train.pickup_longitude, \n",
    "                                              df_train.pickup_latitude, \n",
    "                                              df_train.dropoff_longitude, \n",
    "                                              df_train.dropoff_latitude).jit_numba()"
   ]
  },
  {
   "cell_type": "markdown",
   "id": "continued-optics",
   "metadata": {},
   "source": [
    "### Transform features: PCA of the pick-up and drop-off locations"
   ]
  },
  {
   "cell_type": "code",
   "execution_count": 11,
   "id": "present-duration",
   "metadata": {
    "ExecuteTime": {
     "end_time": "2021-12-13T22:17:45.731181Z",
     "start_time": "2021-12-13T22:17:08.647446Z"
    }
   },
   "outputs": [],
   "source": [
    "# PCA of the pickup and dropoff locations - helps to \"straighten out\" the coordinates\n",
    "\n",
    "# pickup transformations\n",
    "pca_pickup = vaex.ml.PCA(features=['pickup_longitude', 'pickup_latitude'], n_components=2)\n",
    "df_train = pca_pickup.fit_transform(df_train)\n",
    "\n",
    "# dropoff transformations\n",
    "pca_dropoff = vaex.ml.PCA(features=['dropoff_longitude', 'dropoff_latitude'], n_components=2)\n",
    "df_train = pca_dropoff.fit_transform(df_train)"
   ]
  },
  {
   "cell_type": "code",
   "execution_count": 12,
   "id": "satellite-robinson",
   "metadata": {
    "ExecuteTime": {
     "end_time": "2021-12-13T22:17:45.735593Z",
     "start_time": "2021-12-13T22:17:45.732601Z"
    }
   },
   "outputs": [],
   "source": [
    "# # Visualise to make sure this makes sense\n",
    "# plt.figure(figsize=(14, 10))\n",
    "\n",
    "# plt.subplot(221)\n",
    "# plt.title('pickup - original')\n",
    "# df_train.plot(df_train.pickup_longitude, df_train.pickup_latitude,\n",
    "#               limits='minmax', f='log1p', shape=256,\n",
    "#               colormap='plasma', colorbar=False)\n",
    "\n",
    "# plt.subplot(222)\n",
    "# plt.title('pickup - PCA transformed')\n",
    "# df_train.plot(df_train.PCA_0, df_train.PCA_1,\n",
    "#               limits='minmax', f='log1p', shape=256,\n",
    "#               colormap='plasma', colorbar=False)\n",
    "\n",
    "# plt.subplot(223)\n",
    "# plt.title('dropoff - original')\n",
    "# df_train.plot(df_train.dropoff_longitude, df_train.dropoff_latitude,\n",
    "#               limits='minmax', f='log1p', shape=256,\n",
    "#               colormap='plasma', colorbar=False)\n",
    "\n",
    "# plt.subplot(224)\n",
    "# plt.title('dropoff - PCA transformed')\n",
    "# df_train.plot(df_train.PCA_2, df_train.PCA_3,\n",
    "#               limits='minmax', f='log1p', shape=256,\n",
    "#               colormap='plasma', colorbar=False)\n",
    "\n",
    "# plt.tight_layout()\n",
    "# plt.show()"
   ]
  },
  {
   "cell_type": "markdown",
   "id": "processed-passenger",
   "metadata": {},
   "source": [
    "### Handling temporal (cyclical) features"
   ]
  },
  {
   "cell_type": "code",
   "execution_count": 13,
   "id": "fancy-oxide",
   "metadata": {
    "ExecuteTime": {
     "end_time": "2021-12-13T22:18:53.392265Z",
     "start_time": "2021-12-13T22:18:53.082976Z"
    }
   },
   "outputs": [],
   "source": [
    "# Time\n",
    "df_train['pickup_time_x'] = (np.sin(2 * np.pi * df_train.pickup_time / 24.)).jit_numba()\n",
    "df_train['pickup_time_y'] = (np.cos(2 * np.pi * df_train.pickup_time / 24.)).jit_numba()\n",
    "# Day\n",
    "df_train['pickup_day_x'] = (np.sin(2 * np.pi * df_train.pickup_day / 7.)).jit_numba()\n",
    "df_train['pickup_day_y'] = (np.cos(2 * np.pi * df_train.pickup_day / 7.)).jit_numba()\n",
    "# Month\n",
    "df_train['pickup_month_x'] = (np.sin(2 * np.pi * df_train.pickup_month / 12.)).jit_numba()\n",
    "df_train['pickup_month_y'] = (np.cos(2 * np.pi * df_train.pickup_month / 12.)).jit_numba()\n",
    "# Direction angle:\n",
    "df_train.direction_angle\n",
    "df_train['direction_angle_x'] = (np.sin(2 * np.pi * df_train.direction_angle / 360.)).jit_numba()\n",
    "df_train['direction_angle_y'] = (np.cos(2 * np.pi * df_train.direction_angle / 360.)).jit_numba()\n"
   ]
  },
  {
   "cell_type": "code",
   "execution_count": 14,
   "id": "functioning-causing",
   "metadata": {
    "ExecuteTime": {
     "end_time": "2021-12-13T22:19:30.759682Z",
     "start_time": "2021-12-13T22:19:01.818785Z"
    }
   },
   "outputs": [
    {
     "data": {
      "image/png": "[encoded data removed]",
      "text/plain": [
       "<Figure size 504x504 with 1 Axes>"
      ]
     },
     "metadata": {
      "needs_background": "light"
     },
     "output_type": "display_data"
    }
   ],
   "source": [
    "# Let's see how the transformed date would look like\n",
    "df_train.plot(x='pickup_time_x', y='pickup_time_y', \n",
    "              shape=128, limits='minmax',\n",
    "              figsize=(7, 7),\n",
    "              colorbar=False)\n",
    "plt.show()\n",
    "\n",
    "# The circle is mathematical so: \n",
    "# \"midnight\" has coordinates (x, y) = (1, 0); \n",
    "# \"3 o'clock\" has coordinates (x, y) = (0, 1)"
   ]
  },
  {
   "cell_type": "markdown",
   "id": "following-arizona",
   "metadata": {},
   "source": [
    "### Scaling of numerical features"
   ]
  },
  {
   "cell_type": "code",
   "execution_count": 15,
   "id": "virgin-plasma",
   "metadata": {
    "ExecuteTime": {
     "end_time": "2021-12-13T22:19:40.357707Z",
     "start_time": "2021-12-13T22:19:30.760669Z"
    }
   },
   "outputs": [],
   "source": [
    "# Standard scaling of numerical features\n",
    "standard_scaler = vaex.ml.StandardScaler(features=['arc_distance', 'trip_distance'])\n",
    "df_train = standard_scaler.fit_transform(df_train)"
   ]
  },
  {
   "cell_type": "markdown",
   "id": "chubby-accounting",
   "metadata": {
    "ExecuteTime": {
     "end_time": "2019-11-22T14:28:19.192463Z",
     "start_time": "2019-11-22T14:28:18.246341Z"
    }
   },
   "source": [
    "### Preview the training features"
   ]
  },
  {
   "cell_type": "code",
   "execution_count": 16,
   "id": "careful-potato",
   "metadata": {
    "ExecuteTime": {
     "end_time": "2021-12-13T22:19:50.267525Z",
     "start_time": "2021-12-13T22:19:40.358948Z"
    }
   },
   "outputs": [
    {
     "data": {
      "text/html": [
       "<table>\n",
       "<thead>\n",
       "<tr><th>#                            </th><th style=\"text-align: right;\">      PCA_0</th><th style=\"text-align: right;\">      PCA_1</th><th style=\"text-align: right;\">      PCA_2</th><th style=\"text-align: right;\">       PCA_3</th><th style=\"text-align: right;\">  standard_scaled_arc_distance</th><th style=\"text-align: right;\">  standard_scaled_trip_distance</th><th style=\"text-align: right;\">  pickup_time_x</th><th style=\"text-align: right;\">  pickup_day_x</th><th style=\"text-align: right;\">  pickup_month_x</th><th style=\"text-align: right;\">  direction_angle_x</th><th style=\"text-align: right;\">  pickup_time_y</th><th style=\"text-align: right;\">  pickup_day_y</th><th style=\"text-align: right;\">  pickup_month_y</th><th style=\"text-align: right;\">  direction_angle_y</th><th style=\"text-align: right;\">  pickup_is_weekend</th></tr>\n",
       "</thead>\n",
       "<tbody>\n",
       "<tr><td><i style='opacity: 0.6'>0</i></td><td style=\"text-align: right;\">-0.0307354 </td><td style=\"text-align: right;\">-0.0119386 </td><td style=\"text-align: right;\">-0.0546394 </td><td style=\"text-align: right;\">-0.0217794  </td><td style=\"text-align: right;\">                     -0.635183</td><td style=\"text-align: right;\">                      0.220329 </td><td style=\"text-align: right;\">       0.681998</td><td style=\"text-align: right;\">     -0.781831</td><td style=\"text-align: right;\">               0</td><td style=\"text-align: right;\">         -0.0718163</td><td style=\"text-align: right;\">      0.731354 </td><td style=\"text-align: right;\">      0.62349 </td><td style=\"text-align: right;\">               1</td><td style=\"text-align: right;\">         -0.997418 </td><td style=\"text-align: right;\">                  1</td></tr>\n",
       "<tr><td><i style='opacity: 0.6'>1</i></td><td style=\"text-align: right;\">-0.013279  </td><td style=\"text-align: right;\">-0.00889608</td><td style=\"text-align: right;\"> 0.0255888 </td><td style=\"text-align: right;\">-0.00752069 </td><td style=\"text-align: right;\">                      0.536175</td><td style=\"text-align: right;\">                      1.31678  </td><td style=\"text-align: right;\">       0.796002</td><td style=\"text-align: right;\">     -0.781831</td><td style=\"text-align: right;\">               0</td><td style=\"text-align: right;\">          0.637374 </td><td style=\"text-align: right;\">      0.605294 </td><td style=\"text-align: right;\">      0.62349 </td><td style=\"text-align: right;\">               1</td><td style=\"text-align: right;\">          0.770554 </td><td style=\"text-align: right;\">                  1</td></tr>\n",
       "<tr><td><i style='opacity: 0.6'>2</i></td><td style=\"text-align: right;\"> 0.0316626 </td><td style=\"text-align: right;\"> 0.0231954 </td><td style=\"text-align: right;\">-0.0279566 </td><td style=\"text-align: right;\"> 0.00243531 </td><td style=\"text-align: right;\">                      0.532888</td><td style=\"text-align: right;\">                      1.57376  </td><td style=\"text-align: right;\">      -0.731354</td><td style=\"text-align: right;\">      0.433884</td><td style=\"text-align: right;\">               0</td><td style=\"text-align: right;\">         -0.35291  </td><td style=\"text-align: right;\">      0.681998 </td><td style=\"text-align: right;\">     -0.900969</td><td style=\"text-align: right;\">               1</td><td style=\"text-align: right;\">         -0.935657 </td><td style=\"text-align: right;\">                  0</td></tr>\n",
       "<tr><td><i style='opacity: 0.6'>3</i></td><td style=\"text-align: right;\">-0.0389584 </td><td style=\"text-align: right;\">-0.00648876</td><td style=\"text-align: right;\">-0.0442893 </td><td style=\"text-align: right;\"> 0.00471265 </td><td style=\"text-align: right;\">                     -0.664232</td><td style=\"text-align: right;\">                     -1.05316  </td><td style=\"text-align: right;\">      -0.902585</td><td style=\"text-align: right;\">     -0.974928</td><td style=\"text-align: right;\">               0</td><td style=\"text-align: right;\">         -0.990071 </td><td style=\"text-align: right;\">     -0.430511 </td><td style=\"text-align: right;\">     -0.222521</td><td style=\"text-align: right;\">               1</td><td style=\"text-align: right;\">          0.140566 </td><td style=\"text-align: right;\">                  1</td></tr>\n",
       "<tr><td><i style='opacity: 0.6'>4</i></td><td style=\"text-align: right;\">-0.019531  </td><td style=\"text-align: right;\">-0.00421181</td><td style=\"text-align: right;\">-0.0266882 </td><td style=\"text-align: right;\">-0.0111865  </td><td style=\"text-align: right;\">                     -0.733785</td><td style=\"text-align: right;\">                     -0.5963   </td><td style=\"text-align: right;\">      -0.362438</td><td style=\"text-align: right;\">     -0.433884</td><td style=\"text-align: right;\">               0</td><td style=\"text-align: right;\">          0.414276 </td><td style=\"text-align: right;\">      0.932008 </td><td style=\"text-align: right;\">     -0.900969</td><td style=\"text-align: right;\">               1</td><td style=\"text-align: right;\">         -0.910151 </td><td style=\"text-align: right;\">                  0</td></tr>\n",
       "<tr><td><i style='opacity: 0.6'>5</i></td><td style=\"text-align: right;\">-0.00937607</td><td style=\"text-align: right;\">-0.00247773</td><td style=\"text-align: right;\">-0.0044752 </td><td style=\"text-align: right;\"> 4.01984e-05</td><td style=\"text-align: right;\">                     -0.821695</td><td style=\"text-align: right;\">                     -1.05316  </td><td style=\"text-align: right;\">       0.722364</td><td style=\"text-align: right;\">      0.974928</td><td style=\"text-align: right;\">               0</td><td style=\"text-align: right;\">          0.575407 </td><td style=\"text-align: right;\">     -0.691513 </td><td style=\"text-align: right;\">     -0.222521</td><td style=\"text-align: right;\">               1</td><td style=\"text-align: right;\">          0.817867 </td><td style=\"text-align: right;\">                  0</td></tr>\n",
       "<tr><td><i style='opacity: 0.6'>6</i></td><td style=\"text-align: right;\">-0.0118258 </td><td style=\"text-align: right;\"> 0.00706228</td><td style=\"text-align: right;\">-0.0301562 </td><td style=\"text-align: right;\">-0.000509916</td><td style=\"text-align: right;\">                     -0.695123</td><td style=\"text-align: right;\">                     -0.299344 </td><td style=\"text-align: right;\">       0.925541</td><td style=\"text-align: right;\">     -0.781831</td><td style=\"text-align: right;\">               0</td><td style=\"text-align: right;\">         -0.145266 </td><td style=\"text-align: right;\">      0.378649 </td><td style=\"text-align: right;\">      0.62349 </td><td style=\"text-align: right;\">               1</td><td style=\"text-align: right;\">         -0.989393 </td><td style=\"text-align: right;\">                  1</td></tr>\n",
       "<tr><td><i style='opacity: 0.6'>7</i></td><td style=\"text-align: right;\"> 0.00466276</td><td style=\"text-align: right;\">-0.00892432</td><td style=\"text-align: right;\">-0.00899492</td><td style=\"text-align: right;\"> 0.00937816 </td><td style=\"text-align: right;\">                      0.136528</td><td style=\"text-align: right;\">                     -0.367872 </td><td style=\"text-align: right;\">      -0.922201</td><td style=\"text-align: right;\">      0       </td><td style=\"text-align: right;\">               0</td><td style=\"text-align: right;\">         -0.996086 </td><td style=\"text-align: right;\">     -0.386711 </td><td style=\"text-align: right;\">      1       </td><td style=\"text-align: right;\">               1</td><td style=\"text-align: right;\">          0.0883861</td><td style=\"text-align: right;\">                  0</td></tr>\n",
       "<tr><td><i style='opacity: 0.6'>8</i></td><td style=\"text-align: right;\"> 0.0391315 </td><td style=\"text-align: right;\"> 0.00392159</td><td style=\"text-align: right;\"> 0.0292692 </td><td style=\"text-align: right;\">-0.00118381 </td><td style=\"text-align: right;\">                     -0.819069</td><td style=\"text-align: right;\">                     -0.881835 </td><td style=\"text-align: right;\">      -0.973379</td><td style=\"text-align: right;\">      0       </td><td style=\"text-align: right;\">               0</td><td style=\"text-align: right;\">         -0.384646 </td><td style=\"text-align: right;\">      0.2292   </td><td style=\"text-align: right;\">      1       </td><td style=\"text-align: right;\">               1</td><td style=\"text-align: right;\">         -0.923064 </td><td style=\"text-align: right;\">                  0</td></tr>\n",
       "<tr><td><i style='opacity: 0.6'>9</i></td><td style=\"text-align: right;\">-0.0210772 </td><td style=\"text-align: right;\"> 0.0168473 </td><td style=\"text-align: right;\"> 0.00735006</td><td style=\"text-align: right;\"> 0.00691713 </td><td style=\"text-align: right;\">                      0.550952</td><td style=\"text-align: right;\">                      0.0318763</td><td style=\"text-align: right;\">       0.995805</td><td style=\"text-align: right;\">      0       </td><td style=\"text-align: right;\">               0</td><td style=\"text-align: right;\">          0.891606 </td><td style=\"text-align: right;\">     -0.0915016</td><td style=\"text-align: right;\">      1       </td><td style=\"text-align: right;\">               1</td><td style=\"text-align: right;\">          0.452811 </td><td style=\"text-align: right;\">                  0</td></tr>\n",
       "</tbody>\n",
       "</table>"
      ],
      "text/plain": [
       "  #        PCA_0        PCA_1        PCA_2         PCA_3    standard_scaled_arc_distance    standard_scaled_trip_distance    pickup_time_x    pickup_day_x    pickup_month_x    direction_angle_x    pickup_time_y    pickup_day_y    pickup_month_y    direction_angle_y    pickup_is_weekend\n",
       "  0  -0.0307354   -0.0119386   -0.0546394   -0.0217794                         -0.635183                        0.220329          0.681998       -0.781831                 0           -0.0718163        0.731354         0.62349                  1           -0.997418                     1\n",
       "  1  -0.013279    -0.00889608   0.0255888   -0.00752069                         0.536175                        1.31678           0.796002       -0.781831                 0            0.637374         0.605294         0.62349                  1            0.770554                     1\n",
       "  2   0.0316626    0.0231954   -0.0279566    0.00243531                         0.532888                        1.57376          -0.731354        0.433884                 0           -0.35291          0.681998        -0.900969                 1           -0.935657                     0\n",
       "  3  -0.0389584   -0.00648876  -0.0442893    0.00471265                        -0.664232                       -1.05316          -0.902585       -0.974928                 0           -0.990071        -0.430511        -0.222521                 1            0.140566                     1\n",
       "  4  -0.019531    -0.00421181  -0.0266882   -0.0111865                         -0.733785                       -0.5963           -0.362438       -0.433884                 0            0.414276         0.932008        -0.900969                 1           -0.910151                     0\n",
       "  5  -0.00937607  -0.00247773  -0.0044752    4.01984e-05                       -0.821695                       -1.05316           0.722364        0.974928                 0            0.575407        -0.691513        -0.222521                 1            0.817867                     0\n",
       "  6  -0.0118258    0.00706228  -0.0301562   -0.000509916                       -0.695123                       -0.299344          0.925541       -0.781831                 0           -0.145266         0.378649         0.62349                  1           -0.989393                     1\n",
       "  7   0.00466276  -0.00892432  -0.00899492   0.00937816                         0.136528                       -0.367872         -0.922201        0                        0           -0.996086        -0.386711         1                        1            0.0883861                    0\n",
       "  8   0.0391315    0.00392159   0.0292692   -0.00118381                        -0.819069                       -0.881835         -0.973379        0                        0           -0.384646         0.2292           1                        1           -0.923064                     0\n",
       "  9  -0.0210772    0.0168473    0.00735006   0.00691713                         0.550952                        0.0318763         0.995805        0                        0            0.891606        -0.0915016        1                        1            0.452811                     0"
      ]
     },
     "execution_count": 16,
     "metadata": {},
     "output_type": "execute_result"
    }
   ],
   "source": [
    "# Select all the features to be used for training the model\n",
    "features = df_train.get_column_names(regex='PCA*') + \\\n",
    "           df_train.get_column_names(regex='standard_scaled_*') + \\\n",
    "           df_train.get_column_names(regex='.*_x') + \\\n",
    "           df_train.get_column_names(regex='.*_y') + \\\n",
    "           ['pickup_is_weekend']\n",
    "\n",
    "# Preview the features\n",
    "df_train.head(10)[features]"
   ]
  },
  {
   "cell_type": "code",
   "execution_count": 17,
   "id": "unknown-progress",
   "metadata": {
    "ExecuteTime": {
     "end_time": "2021-12-13T22:19:50.270830Z",
     "start_time": "2021-12-13T22:19:50.268718Z"
    }
   },
   "outputs": [],
   "source": [
    "# The target variable\n",
    "target = 'trip_duration_min'"
   ]
  },
  {
   "cell_type": "markdown",
   "id": "attached-interference",
   "metadata": {},
   "source": [
    "### ML modelling"
   ]
  },
  {
   "cell_type": "code",
   "execution_count": 19,
   "id": "78b9e3d9",
   "metadata": {
    "ExecuteTime": {
     "end_time": "2021-12-13T22:26:12.797024Z",
     "start_time": "2021-12-13T22:20:40.738138Z"
    }
   },
   "outputs": [
    {
     "data": {
      "application/vnd.jupyter.widget-view+json": {
       "model_id": "33cf88d5560e4376ad29fb615411cf5e",
       "version_major": 2,
       "version_minor": 0
      },
      "text/plain": [
       "HBox(children=(FloatProgress(value=0.0, max=1.0), Label(value='In progress...')))"
      ]
     },
     "metadata": {},
     "output_type": "display_data"
    },
    {
     "ename": "KeyboardInterrupt",
     "evalue": "",
     "output_type": "error",
     "traceback": [
      "\u001b[0;31m---------------------------------------------------------------------------\u001b[0m",
      "\u001b[0;31mKeyboardInterrupt\u001b[0m                         Traceback (most recent call last)",
      "\u001b[0;32m/tmp/ipykernel_1942835/3865162565.py\u001b[0m in \u001b[0;36m<module>\u001b[0;34m\u001b[0m\n\u001b[1;32m     12\u001b[0m \u001b[0;34m\u001b[0m\u001b[0m\n\u001b[1;32m     13\u001b[0m \u001b[0;31m# Fit the model\u001b[0m\u001b[0;34m\u001b[0m\u001b[0;34m\u001b[0m\u001b[0;34m\u001b[0m\u001b[0m\n\u001b[0;32m---> 14\u001b[0;31m \u001b[0mmodel\u001b[0m\u001b[0;34m.\u001b[0m\u001b[0mfit\u001b[0m\u001b[0;34m(\u001b[0m\u001b[0mdf_train\u001b[0m\u001b[0;34m,\u001b[0m \u001b[0mprogress\u001b[0m\u001b[0;34m=\u001b[0m\u001b[0;34m'widget'\u001b[0m\u001b[0;34m)\u001b[0m\u001b[0;34m\u001b[0m\u001b[0;34m\u001b[0m\u001b[0m\n\u001b[0m",
      "\u001b[0;32m~/vaex/packages/vaex-core/vaex/ml/vowpalwabbit.py\u001b[0m in \u001b[0;36mfit\u001b[0;34m(self, df, num_epochs, chunk_size, progress)\u001b[0m\n\u001b[1;32m    105\u001b[0m \u001b[0;34m\u001b[0m\u001b[0m\n\u001b[1;32m    106\u001b[0m         \u001b[0;32mfor\u001b[0m \u001b[0mepoch\u001b[0m \u001b[0;32min\u001b[0m \u001b[0mrange\u001b[0m\u001b[0;34m(\u001b[0m\u001b[0mnum_epochs\u001b[0m\u001b[0;34m)\u001b[0m\u001b[0;34m:\u001b[0m\u001b[0;34m\u001b[0m\u001b[0;34m\u001b[0m\u001b[0m\n\u001b[0;32m--> 107\u001b[0;31m             \u001b[0;32mfor\u001b[0m \u001b[0mi1\u001b[0m\u001b[0;34m,\u001b[0m \u001b[0mi2\u001b[0m\u001b[0;34m,\u001b[0m \u001b[0mX\u001b[0m \u001b[0;32min\u001b[0m \u001b[0mdf\u001b[0m\u001b[0;34m.\u001b[0m\u001b[0mto_pandas_df\u001b[0m\u001b[0;34m(\u001b[0m\u001b[0mchunk_size\u001b[0m\u001b[0;34m=\u001b[0m\u001b[0mchunk_size\u001b[0m\u001b[0;34m)\u001b[0m\u001b[0;34m:\u001b[0m\u001b[0;34m\u001b[0m\u001b[0;34m\u001b[0m\u001b[0m\n\u001b[0m\u001b[1;32m    108\u001b[0m                 \u001b[0mprogressbar\u001b[0m\u001b[0;34m(\u001b[0m\u001b[0;34m(\u001b[0m\u001b[0mn_samples\u001b[0m \u001b[0;34m*\u001b[0m \u001b[0mepoch\u001b[0m \u001b[0;34m+\u001b[0m \u001b[0mi1\u001b[0m\u001b[0;34m)\u001b[0m \u001b[0;34m/\u001b[0m \u001b[0;34m(\u001b[0m\u001b[0mnum_epochs\u001b[0m \u001b[0;34m*\u001b[0m \u001b[0mn_samples\u001b[0m\u001b[0;34m)\u001b[0m\u001b[0;34m)\u001b[0m\u001b[0;34m\u001b[0m\u001b[0;34m\u001b[0m\u001b[0m\n\u001b[1;32m    109\u001b[0m                 \u001b[0;32mif\u001b[0m \u001b[0mnum_epochs\u001b[0m \u001b[0;34m>\u001b[0m \u001b[0;36m1\u001b[0m\u001b[0;34m:\u001b[0m\u001b[0;34m\u001b[0m\u001b[0;34m\u001b[0m\u001b[0m\n",
      "\u001b[0;32m~/vaex/packages/vaex-core/vaex/dataframe.py\u001b[0m in \u001b[0;36miterator\u001b[0;34m()\u001b[0m\n\u001b[1;32m   3200\u001b[0m         \u001b[0;32mif\u001b[0m \u001b[0mchunk_size\u001b[0m \u001b[0;32mis\u001b[0m \u001b[0;32mnot\u001b[0m \u001b[0;32mNone\u001b[0m\u001b[0;34m:\u001b[0m\u001b[0;34m\u001b[0m\u001b[0;34m\u001b[0m\u001b[0m\n\u001b[1;32m   3201\u001b[0m             \u001b[0;32mdef\u001b[0m \u001b[0miterator\u001b[0m\u001b[0;34m(\u001b[0m\u001b[0;34m)\u001b[0m\u001b[0;34m:\u001b[0m\u001b[0;34m\u001b[0m\u001b[0;34m\u001b[0m\u001b[0m\n\u001b[0;32m-> 3202\u001b[0;31m                 \u001b[0;32mfor\u001b[0m \u001b[0mi1\u001b[0m\u001b[0;34m,\u001b[0m \u001b[0mi2\u001b[0m\u001b[0;34m,\u001b[0m \u001b[0mchunks\u001b[0m \u001b[0;32min\u001b[0m \u001b[0mself\u001b[0m\u001b[0;34m.\u001b[0m\u001b[0mevaluate_iterator\u001b[0m\u001b[0;34m(\u001b[0m\u001b[0mcolumn_names\u001b[0m\u001b[0;34m,\u001b[0m \u001b[0mselection\u001b[0m\u001b[0;34m=\u001b[0m\u001b[0mselection\u001b[0m\u001b[0;34m,\u001b[0m \u001b[0mparallel\u001b[0m\u001b[0;34m=\u001b[0m\u001b[0mparallel\u001b[0m\u001b[0;34m,\u001b[0m \u001b[0mchunk_size\u001b[0m\u001b[0;34m=\u001b[0m\u001b[0mchunk_size\u001b[0m\u001b[0;34m,\u001b[0m \u001b[0marray_type\u001b[0m\u001b[0;34m=\u001b[0m\u001b[0marray_type\u001b[0m\u001b[0;34m)\u001b[0m\u001b[0;34m:\u001b[0m\u001b[0;34m\u001b[0m\u001b[0;34m\u001b[0m\u001b[0m\n\u001b[0m\u001b[1;32m   3203\u001b[0m                     \u001b[0;32myield\u001b[0m \u001b[0mi1\u001b[0m\u001b[0;34m,\u001b[0m \u001b[0mi2\u001b[0m\u001b[0;34m,\u001b[0m \u001b[0mcreate_pdf\u001b[0m\u001b[0;34m(\u001b[0m\u001b[0mdict\u001b[0m\u001b[0;34m(\u001b[0m\u001b[0mzip\u001b[0m\u001b[0;34m(\u001b[0m\u001b[0mcolumn_names\u001b[0m\u001b[0;34m,\u001b[0m \u001b[0mchunks\u001b[0m\u001b[0;34m)\u001b[0m\u001b[0;34m)\u001b[0m\u001b[0;34m)\u001b[0m\u001b[0;34m\u001b[0m\u001b[0;34m\u001b[0m\u001b[0m\n\u001b[1;32m   3204\u001b[0m             \u001b[0;32mreturn\u001b[0m \u001b[0miterator\u001b[0m\u001b[0;34m(\u001b[0m\u001b[0;34m)\u001b[0m\u001b[0;34m\u001b[0m\u001b[0;34m\u001b[0m\u001b[0m\n",
      "\u001b[0;32m~/vaex/packages/vaex-core/vaex/dataframe.py\u001b[0m in \u001b[0;36mevaluate_iterator\u001b[0;34m(self, expression, s1, s2, out, selection, filtered, array_type, parallel, chunk_size, prefetch, progress)\u001b[0m\n\u001b[1;32m   3006\u001b[0m                     \u001b[0;31m# and we submit the next job before returning the previous, so they run in parallel\u001b[0m\u001b[0;34m\u001b[0m\u001b[0;34m\u001b[0m\u001b[0;34m\u001b[0m\u001b[0m\n\u001b[1;32m   3007\u001b[0m                     \u001b[0;31m# but make sure the previous is done\u001b[0m\u001b[0;34m\u001b[0m\u001b[0;34m\u001b[0m\u001b[0;34m\u001b[0m\u001b[0m\n\u001b[0;32m-> 3008\u001b[0;31m                     \u001b[0mprevious_chunk\u001b[0m \u001b[0;34m=\u001b[0m \u001b[0mprevious\u001b[0m\u001b[0;34m.\u001b[0m\u001b[0mresult\u001b[0m\u001b[0;34m(\u001b[0m\u001b[0;34m)\u001b[0m\u001b[0;34m\u001b[0m\u001b[0;34m\u001b[0m\u001b[0m\n\u001b[0m\u001b[1;32m   3009\u001b[0m                     \u001b[0mcurrent\u001b[0m \u001b[0;34m=\u001b[0m \u001b[0mexecutor\u001b[0m\u001b[0;34m.\u001b[0m\u001b[0msubmit\u001b[0m\u001b[0;34m(\u001b[0m\u001b[0mf\u001b[0m\u001b[0;34m,\u001b[0m \u001b[0mi1\u001b[0m\u001b[0;34m,\u001b[0m \u001b[0mi2\u001b[0m\u001b[0;34m)\u001b[0m\u001b[0;34m\u001b[0m\u001b[0;34m\u001b[0m\u001b[0m\n\u001b[1;32m   3010\u001b[0m                     \u001b[0;32myield\u001b[0m \u001b[0mprevious_l1\u001b[0m\u001b[0;34m,\u001b[0m \u001b[0mprevious_l2\u001b[0m\u001b[0;34m,\u001b[0m \u001b[0mprevious_chunk\u001b[0m\u001b[0;34m\u001b[0m\u001b[0;34m\u001b[0m\u001b[0m\n",
      "\u001b[0;32m~/miniconda3/lib/python3.8/concurrent/futures/_base.py\u001b[0m in \u001b[0;36mresult\u001b[0;34m(self, timeout)\u001b[0m\n\u001b[1;32m    432\u001b[0m                 \u001b[0;32mreturn\u001b[0m \u001b[0mself\u001b[0m\u001b[0;34m.\u001b[0m\u001b[0m__get_result\u001b[0m\u001b[0;34m(\u001b[0m\u001b[0;34m)\u001b[0m\u001b[0;34m\u001b[0m\u001b[0;34m\u001b[0m\u001b[0m\n\u001b[1;32m    433\u001b[0m \u001b[0;34m\u001b[0m\u001b[0m\n\u001b[0;32m--> 434\u001b[0;31m             \u001b[0mself\u001b[0m\u001b[0;34m.\u001b[0m\u001b[0m_condition\u001b[0m\u001b[0;34m.\u001b[0m\u001b[0mwait\u001b[0m\u001b[0;34m(\u001b[0m\u001b[0mtimeout\u001b[0m\u001b[0;34m)\u001b[0m\u001b[0;34m\u001b[0m\u001b[0;34m\u001b[0m\u001b[0m\n\u001b[0m\u001b[1;32m    435\u001b[0m \u001b[0;34m\u001b[0m\u001b[0m\n\u001b[1;32m    436\u001b[0m             \u001b[0;32mif\u001b[0m \u001b[0mself\u001b[0m\u001b[0;34m.\u001b[0m\u001b[0m_state\u001b[0m \u001b[0;32min\u001b[0m \u001b[0;34m[\u001b[0m\u001b[0mCANCELLED\u001b[0m\u001b[0;34m,\u001b[0m \u001b[0mCANCELLED_AND_NOTIFIED\u001b[0m\u001b[0;34m]\u001b[0m\u001b[0;34m:\u001b[0m\u001b[0;34m\u001b[0m\u001b[0;34m\u001b[0m\u001b[0m\n",
      "\u001b[0;32m~/miniconda3/lib/python3.8/threading.py\u001b[0m in \u001b[0;36mwait\u001b[0;34m(self, timeout)\u001b[0m\n\u001b[1;32m    300\u001b[0m         \u001b[0;32mtry\u001b[0m\u001b[0;34m:\u001b[0m    \u001b[0;31m# restore state no matter what (e.g., KeyboardInterrupt)\u001b[0m\u001b[0;34m\u001b[0m\u001b[0;34m\u001b[0m\u001b[0m\n\u001b[1;32m    301\u001b[0m             \u001b[0;32mif\u001b[0m \u001b[0mtimeout\u001b[0m \u001b[0;32mis\u001b[0m \u001b[0;32mNone\u001b[0m\u001b[0;34m:\u001b[0m\u001b[0;34m\u001b[0m\u001b[0;34m\u001b[0m\u001b[0m\n\u001b[0;32m--> 302\u001b[0;31m                 \u001b[0mwaiter\u001b[0m\u001b[0;34m.\u001b[0m\u001b[0macquire\u001b[0m\u001b[0;34m(\u001b[0m\u001b[0;34m)\u001b[0m\u001b[0;34m\u001b[0m\u001b[0;34m\u001b[0m\u001b[0m\n\u001b[0m\u001b[1;32m    303\u001b[0m                 \u001b[0mgotit\u001b[0m \u001b[0;34m=\u001b[0m \u001b[0;32mTrue\u001b[0m\u001b[0;34m\u001b[0m\u001b[0;34m\u001b[0m\u001b[0m\n\u001b[1;32m    304\u001b[0m             \u001b[0;32melse\u001b[0m\u001b[0;34m:\u001b[0m\u001b[0;34m\u001b[0m\u001b[0;34m\u001b[0m\u001b[0m\n",
      "\u001b[0;31mKeyboardInterrupt\u001b[0m: "
     ]
    }
   ],
   "source": [
    "from vaex.ml.vowpalwabbit import VowpalWabbitModel\n",
    "import vaex.ml.metrics\n",
    "\n",
    "# Set up the model\n",
    "params = {'quiet': True}\n",
    "model = VowpalWabbitModel(features=features, \n",
    "                          target=target,\n",
    "                          params=params,\n",
    "                          prediction_name='pred', \n",
    "                          batch_size=11_000_000,\n",
    "                         )\n",
    "\n",
    "# Fit the model\n",
    "model.fit(df_train, progress='widget')"
   ]
  },
  {
   "cell_type": "markdown",
   "id": "53d39983",
   "metadata": {},
   "source": [
    "### Check performance"
   ]
  },
  {
   "cell_type": "code",
   "execution_count": 31,
   "id": "f8ffd027",
   "metadata": {
    "ExecuteTime": {
     "end_time": "2021-12-13T22:08:56.567366Z",
     "start_time": "2021-12-13T22:08:34.562689Z"
    }
   },
   "outputs": [
    {
     "data": {
      "text/html": [
       "<table>\n",
       "<thead>\n",
       "<tr><th>#                            </th><th style=\"text-align: right;\">  trip_duration_min</th><th style=\"text-align: right;\">    pred</th><th style=\"text-align: right;\">  pred_final</th></tr>\n",
       "</thead>\n",
       "<tbody>\n",
       "<tr><td><i style='opacity: 0.6'>0</i></td><td style=\"text-align: right;\">            10     </td><td style=\"text-align: right;\">0.167554</td><td style=\"text-align: right;\">           3</td></tr>\n",
       "<tr><td><i style='opacity: 0.6'>1</i></td><td style=\"text-align: right;\">             7     </td><td style=\"text-align: right;\">0.302589</td><td style=\"text-align: right;\">           3</td></tr>\n",
       "<tr><td><i style='opacity: 0.6'>2</i></td><td style=\"text-align: right;\">            21.0333</td><td style=\"text-align: right;\">0.344418</td><td style=\"text-align: right;\">           3</td></tr>\n",
       "<tr><td><i style='opacity: 0.6'>3</i></td><td style=\"text-align: right;\">             6.55  </td><td style=\"text-align: right;\">0.153082</td><td style=\"text-align: right;\">           3</td></tr>\n",
       "<tr><td><i style='opacity: 0.6'>4</i></td><td style=\"text-align: right;\">             7.6   </td><td style=\"text-align: right;\">0.116975</td><td style=\"text-align: right;\">           3</td></tr>\n",
       "</tbody>\n",
       "</table>"
      ],
      "text/plain": [
       "  #    trip_duration_min      pred    pred_final\n",
       "  0              10       0.167554             3\n",
       "  1               7       0.302589             3\n",
       "  2              21.0333  0.344418             3\n",
       "  3               6.55    0.153082             3\n",
       "  4               7.6     0.116975             3"
      ]
     },
     "execution_count": 31,
     "metadata": {},
     "output_type": "execute_result"
    }
   ],
   "source": [
    "df_train = model.transform(df_train)\n",
    "\n",
    "# Do somet clipping\n",
    "df_train['pred_final'] = df_train.pred.clip(3, 25)\n",
    "\n",
    "# Preview the results\n",
    "df_train.head(5)['trip_duration_min', 'pred', 'pred_final']"
   ]
  },
  {
   "cell_type": "code",
   "execution_count": 33,
   "id": "92e1bc42",
   "metadata": {
    "ExecuteTime": {
     "end_time": "2021-12-13T22:10:42.878264Z",
     "start_time": "2021-12-13T22:10:42.038092Z"
    }
   },
   "outputs": [],
   "source": [
    "# State transfer\n",
    "state = df_train.state_get()\n",
    "df_test.state_set(state)"
   ]
  },
  {
   "cell_type": "code",
   "execution_count": 34,
   "id": "b30f14cd",
   "metadata": {
    "ExecuteTime": {
     "end_time": "2021-12-13T22:11:10.938312Z",
     "start_time": "2021-12-13T22:10:44.082538Z"
    }
   },
   "outputs": [
    {
     "name": "stdout",
     "output_type": "stream",
     "text": [
      "Mean absolute error: 11.443368618022271\n",
      "Mean squared error: 171.3573907951725\n"
     ]
    }
   ],
   "source": [
    "# See metrics\n",
    "print('Mean absolute error:', df_test.ml.metrics.mean_absolute_error(target, 'pred'))\n",
    "print('Mean squared error:', df_test.ml.metrics.mean_squared_error(target, 'pred'))"
   ]
  },
  {
   "cell_type": "code",
   "execution_count": null,
   "id": "e7af02ef",
   "metadata": {},
   "outputs": [],
   "source": []
  }
 ],
 "metadata": {
  "kernelspec": {
   "display_name": "Python 3 (ipykernel)",
   "language": "python",
   "name": "python3"
  },
  "language_info": {
   "codemirror_mode": {
    "name": "ipython",
    "version": 3
   },
   "file_extension": ".py",
   "mimetype": "text/x-python",
   "name": "python",
   "nbconvert_exporter": "python",
   "pygments_lexer": "ipython3",
   "version": "3.8.5"
  }
 },
 "nbformat": 4,
 "nbformat_minor": 5
}
