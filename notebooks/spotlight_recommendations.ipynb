{
 "cells": [
  {
   "cell_type": "markdown",
   "id": "ebec4f54",
   "metadata": {},
   "source": [
    "# [Spotlight ](https://github.com/maciejkula/spotlight)\n",
    "Spotlight uses PyTorch to build both deep and shallow recommender models. By providing both a slew of building blocks for loss functions (various pointwise and pairwise ranking losses), representations (shallow factorization representations, deep sequence models), and utilities for fetching (or generating) recommendation datasets, it aims to be a tool for rapid exploration and prototyping of new recommender models.\n",
    "\n",
    "## [Docs](https://maciejkula.github.io/spotlight/)"
   ]
  },
  {
   "cell_type": "code",
   "execution_count": 2,
   "id": "0d2298f3",
   "metadata": {
    "ExecuteTime": {
     "end_time": "2022-02-04T16:32:35.291658Z",
     "start_time": "2022-02-04T16:32:25.875534Z"
    }
   },
   "outputs": [
    {
     "data": {
      "text/html": [
       "<table>\n",
       "<thead>\n",
       "<tr><th>#                            </th><th style=\"text-align: right;\">  userId</th><th style=\"text-align: right;\">  movieId</th><th style=\"text-align: right;\">  rating</th><th>timestamp      </th><th>name          </th><th>title  </th><th>genres                            </th><th style=\"text-align: right;\">  year</th><th>url                                                </th></tr>\n",
       "</thead>\n",
       "<tbody>\n",
       "<tr><td><i style='opacity: 0.6'>0</i></td><td style=\"text-align: right;\">       1</td><td style=\"text-align: right;\">        2</td><td style=\"text-align: right;\">     3.5</td><td>20050402T235347</td><td>Fausto Orms   </td><td>Jumanji</td><td>[&quot;Adventure&quot;,&quot;Children&quot;,&quot;Fantasy&quot;]</td><td style=\"text-align: right;\">  1995</td><td>&#x27;http://image.tmdb.org/t/p/w500/vzmL6fP7aPKNKPRT...</td></tr>\n",
       "<tr><td><i style='opacity: 0.6'>1</i></td><td style=\"text-align: right;\">       5</td><td style=\"text-align: right;\">        2</td><td style=\"text-align: right;\">     3  </td><td>19961225T152609</td><td>Antony Maguire</td><td>Jumanji</td><td>[&quot;Adventure&quot;,&quot;Children&quot;,&quot;Fantasy&quot;]</td><td style=\"text-align: right;\">  1995</td><td>&#x27;http://image.tmdb.org/t/p/w500/vzmL6fP7aPKNKPRT...</td></tr>\n",
       "</tbody>\n",
       "</table>"
      ],
      "text/plain": [
       "  #    userId    movieId    rating  timestamp        name            title    genres                                year  url\n",
       "  0         1          2       3.5  20050402T235347  Fausto Orms     Jumanji  [\"Adventure\",\"Children\",\"Fantasy\"]    1995  'http://image.tmdb.org/t/p/w500/vzmL6fP7aPKNKPRT...\n",
       "  1         5          2       3    19961225T152609  Antony Maguire  Jumanji  [\"Adventure\",\"Children\",\"Fantasy\"]    1995  'http://image.tmdb.org/t/p/w500/vzmL6fP7aPKNKPRT..."
      ]
     },
     "execution_count": 2,
     "metadata": {},
     "output_type": "execute_result"
    }
   ],
   "source": [
    "import vaex\n",
    "\n",
    "df = vaex.open('data/imdb.parquet').as_numpy()\n",
    "\n",
    "userid = 'userId'\n",
    "itemid = 'movieId'\n",
    "title = 'title'\n",
    "\n",
    "counts = df[itemid].value_counts()\n",
    "counts = counts[counts > 100]  # Remove rare movies\n",
    "df = df[df[itemid].isin(counts.index)]\n",
    "unique_movies = df.groupby(['movieId', 'title']).agg({'count': 'count'})\n",
    "titles = {movie: name for movie, name in\n",
    "          zip(unique_movies['movieId'].tolist(), unique_movies['title'].tolist())}\n",
    "\n",
    "df = df.head(1000_000)  # for quick development\n",
    "df.head(2)"
   ]
  },
  {
   "cell_type": "code",
   "execution_count": 3,
   "id": "bbffa1c1",
   "metadata": {
    "ExecuteTime": {
     "end_time": "2022-02-04T16:33:12.139434Z",
     "start_time": "2022-02-04T16:32:35.292983Z"
    }
   },
   "outputs": [
    {
     "name": "stdout",
     "output_type": "stream",
     "text": [
      "rmse: 0.8422060505478381\n"
     ]
    }
   ],
   "source": [
    "from spotlight.interactions import Interactions\n",
    "from spotlight.cross_validation import random_train_test_split\n",
    "from spotlight.evaluation import rmse_score\n",
    "from spotlight.factorization.explicit import ExplicitFactorizationModel\n",
    "\n",
    "dataset = Interactions(user_ids=df['userId'].values,\n",
    "                       item_ids=df['movieId'].values,\n",
    "                       ratings=df['rating'].values,\n",
    "                       timestamps=df['timestamp'].to_numpy())\n",
    "\n",
    "\"\"\" \n",
    "Note.\n",
    "In recommendations engines, many times you want to train-test-split while preserving \n",
    "high ratings on the test-set, beacuse you will only recommend those.\n",
    "In real-life you are not evaluated by how much you can tell people didn't like a movie.\n",
    "\n",
    "In this example we ignore this (:\n",
    "\"\"\"\n",
    "\n",
    "train, test = random_train_test_split(dataset)\n",
    "\n",
    "model = ExplicitFactorizationModel(n_iter=1)\n",
    "model.fit(train)\n",
    "\n",
    "rmse = rmse_score(model, test)\n",
    "print(f\"rmse: {rmse}\")"
   ]
  },
  {
   "cell_type": "code",
   "execution_count": 4,
   "id": "fcab1614",
   "metadata": {
    "ExecuteTime": {
     "end_time": "2022-02-04T16:33:14.628103Z",
     "start_time": "2022-02-04T16:33:12.141068Z"
    }
   },
   "outputs": [
    {
     "name": "stdout",
     "output_type": "stream",
     "text": [
      "Most popular movies: ['Pulp Fiction', 'Shawshank Redemption, The', 'Silence of the Lambs, The', 'Star Wars: Episode IV - A New Hope', 'Terminator 2: Judgment Day']\n"
     ]
    }
   ],
   "source": [
    "# groupby-concatenate currently not supported in vaex\n",
    "topk = 5\n",
    "users = df[['userId', 'movieId']].to_pandas_df()\n",
    "users_history = users.groupby(['userId'])['movieId'].apply(list).to_dict()\n",
    "qustions = set(df['movieId'].unique())\n",
    "users_options = {user: qustions.difference(history) for user, history in users_history.items()}\n",
    "most_popular = list(df['movieId'].value_counts()[:topk].index)\n",
    "most_popular_titles = [titles.get(i) for i in most_popular]\n",
    "print(f\"Most popular movies: {most_popular_titles}\")"
   ]
  },
  {
   "cell_type": "markdown",
   "id": "63c1d0e9",
   "metadata": {},
   "source": [
    "## Inference pipeline\n",
    "In this case, our production pipeline has very different data than the input. we only expect the the userId."
   ]
  },
  {
   "cell_type": "code",
   "execution_count": 5,
   "id": "88b12d5b",
   "metadata": {
    "ExecuteTime": {
     "end_time": "2022-02-04T16:34:51.935089Z",
     "start_time": "2022-02-04T16:34:51.903137Z"
    }
   },
   "outputs": [
    {
     "data": {
      "text/html": [
       "<table>\n",
       "<thead>\n",
       "<tr><th>#                            </th><th style=\"text-align: right;\">  userId</th><th>recommendations                                    </th></tr>\n",
       "</thead>\n",
       "<tbody>\n",
       "<tr><td><i style='opacity: 0.6'>0</i></td><td style=\"text-align: right;\">       5</td><td>&quot;[&#x27;Sabrina&#x27;, &#x27;Tom and Huck&#x27;, &#x27;American President...</td></tr>\n",
       "</tbody>\n",
       "</table>"
      ],
      "text/plain": [
       "  #    userId  recommendations\n",
       "  0         5  \"['Sabrina', 'Tom and Huck', 'American President..."
      ]
     },
     "execution_count": 5,
     "metadata": {},
     "output_type": "execute_result"
    }
   ],
   "source": [
    "import pyarrow as pa\n",
    "import pandas as pd\n",
    "import numpy as np\n",
    "\n",
    "data = vaex.from_arrays(userId=[5]) #  An example of how data will look in production \n",
    "\n",
    "@vaex.register_function()\n",
    "def recommend(ar, topk=5):\n",
    "    ret = []\n",
    "    for user in ar.tolist():\n",
    "        user_options = list(users_options.get(user, most_popular))\n",
    "        if not user_options or pd.isna(user) or user < 0:\n",
    "            ret.append(most_popular_titles)\n",
    "        else:\n",
    "            # cool way to sort topk\n",
    "            recommendations = model.predict(user,\n",
    "                                            np.array(user_options)).argsort()[-topk:][\n",
    "                              ::-1]\n",
    "            recommendations = [titles.get(i) for i in recommendations]\n",
    "            ret.append(recommendations)\n",
    "    return pa.array(ret)\n",
    "\n",
    "\n",
    "data.add_function('recommend', recommend)\n",
    "data['recommendations'] = df.userId.recommend()\n",
    "data.head(2)"
   ]
  },
  {
   "cell_type": "code",
   "execution_count": 6,
   "id": "91ca10e8",
   "metadata": {
    "ExecuteTime": {
     "end_time": "2022-02-04T16:35:16.619451Z",
     "start_time": "2022-02-04T16:35:05.977288Z"
    },
    "pycharm": {
     "name": "#%%\n"
    }
   },
   "outputs": [
    {
     "data": {
      "text/html": [
       "<table>\n",
       "<thead>\n",
       "<tr><th>#                            </th><th style=\"text-align: right;\">  userId</th><th>recommendations                                    </th></tr>\n",
       "</thead>\n",
       "<tbody>\n",
       "<tr><td><i style='opacity: 0.6'>0</i></td><td style=\"text-align: right;\">       5</td><td>&quot;[&#x27;Sabrina&#x27;, &#x27;Tom and Huck&#x27;, &#x27;American President...</td></tr>\n",
       "</tbody>\n",
       "</table>"
      ],
      "text/plain": [
       "  #    userId  recommendations\n",
       "  0         5  \"['Sabrina', 'Tom and Huck', 'American President..."
      ]
     },
     "execution_count": 6,
     "metadata": {},
     "output_type": "execute_result"
    }
   ],
   "source": [
    "from goldilox import Pipeline\n",
    "\n",
    "pipeline = Pipeline.from_vaex(data)\n",
    "pipeline.inference(pipeline.raw)"
   ]
  }
 ],
 "metadata": {
  "kernelspec": {
   "display_name": "Python 3 (ipykernel)",
   "language": "python",
   "name": "python3"
  },
  "language_info": {
   "codemirror_mode": {
    "name": "ipython",
    "version": 3
   },
   "file_extension": ".py",
   "mimetype": "text/x-python",
   "name": "python",
   "nbconvert_exporter": "python",
   "pygments_lexer": "ipython3",
   "version": "3.7.12"
  }
 },
 "nbformat": 4,
 "nbformat_minor": 5
}