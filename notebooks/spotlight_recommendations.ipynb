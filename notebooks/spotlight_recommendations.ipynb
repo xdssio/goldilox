{
 "cells": [
  {
   "cell_type": "markdown",
   "id": "ebec4f54",
   "metadata": {},
   "source": [
    "# [Spotlight ](https://github.com/maciejkula/spotlight)\n",
    "Spotlight uses PyTorch to build both deep and shallow recommender models. By providing both a slew of building blocks for loss functions (various pointwise and pairwise ranking losses), representations (shallow factorization representations, deep sequence models), and utilities for fetching (or generating) recommendation datasets, it aims to be a tool for rapid exploration and prototyping of new recommender models.\n",
    "\n",
    "## [Docs](https://maciejkula.github.io/spotlight/)"
   ]
  },
  {
   "cell_type": "code",
   "execution_count": 5,
   "id": "0d2298f3",
   "metadata": {
    "ExecuteTime": {
     "end_time": "2022-02-04T11:05:18.239510Z",
     "start_time": "2022-02-04T11:05:12.865372Z"
    }
   },
   "outputs": [
    {
     "data": {
      "text/html": [
       "<table>\n",
       "<thead>\n",
       "<tr><th>#                            </th><th style=\"text-align: right;\">  userId</th><th style=\"text-align: right;\">  movieId</th><th style=\"text-align: right;\">  rating</th><th>timestamp      </th><th>name          </th><th>title  </th><th>genres                            </th><th style=\"text-align: right;\">  year</th><th>url                                                </th></tr>\n",
       "</thead>\n",
       "<tbody>\n",
       "<tr><td><i style='opacity: 0.6'>0</i></td><td style=\"text-align: right;\">       1</td><td style=\"text-align: right;\">        2</td><td style=\"text-align: right;\">     3.5</td><td>20050402T235347</td><td>Fausto Orms   </td><td>Jumanji</td><td>[&quot;Adventure&quot;,&quot;Children&quot;,&quot;Fantasy&quot;]</td><td style=\"text-align: right;\">  1995</td><td>&#x27;http://image.tmdb.org/t/p/w500/vzmL6fP7aPKNKPRT...</td></tr>\n",
       "<tr><td><i style='opacity: 0.6'>1</i></td><td style=\"text-align: right;\">       5</td><td style=\"text-align: right;\">        2</td><td style=\"text-align: right;\">     3  </td><td>19961225T152609</td><td>Antony Maguire</td><td>Jumanji</td><td>[&quot;Adventure&quot;,&quot;Children&quot;,&quot;Fantasy&quot;]</td><td style=\"text-align: right;\">  1995</td><td>&#x27;http://image.tmdb.org/t/p/w500/vzmL6fP7aPKNKPRT...</td></tr>\n",
       "</tbody>\n",
       "</table>"
      ],
      "text/plain": [
       "  #    userId    movieId    rating  timestamp        name            title    genres                                year  url\n",
       "  0         1          2       3.5  20050402T235347  Fausto Orms     Jumanji  [\"Adventure\",\"Children\",\"Fantasy\"]    1995  'http://image.tmdb.org/t/p/w500/vzmL6fP7aPKNKPRT...\n",
       "  1         5          2       3    19961225T152609  Antony Maguire  Jumanji  [\"Adventure\",\"Children\",\"Fantasy\"]    1995  'http://image.tmdb.org/t/p/w500/vzmL6fP7aPKNKPRT..."
      ]
     },
     "execution_count": 5,
     "metadata": {},
     "output_type": "execute_result"
    }
   ],
   "source": [
    "import vaex\n",
    "\n",
    "df = vaex.open('data/imdb.parquet').as_numpy()\n",
    "\n",
    "userid = 'userId'\n",
    "itemid = 'movieId'\n",
    "title = 'title'\n",
    "\n",
    "counts = df[itemid].value_counts()\n",
    "counts = counts[counts > 100]  # Remove rare movies\n",
    "df = df[df[itemid].isin(counts.index)]\n",
    "unique_movies = df.groupby(['movieId', 'title']).agg({'count': 'count'})\n",
    "titles = {movie: name for movie, name in\n",
    "          zip(unique_movies['movieId'].tolist(), unique_movies['title'].tolist())}\n",
    "\n",
    "df = df.head(1000_000)  # for quick development\n",
    "df.head(2)"
   ]
  },
  {
   "cell_type": "code",
   "execution_count": 6,
   "id": "bbffa1c1",
   "metadata": {
    "ExecuteTime": {
     "end_time": "2022-02-04T11:06:05.085838Z",
     "start_time": "2022-02-04T11:05:27.392930Z"
    }
   },
   "outputs": [
    {
     "name": "stdout",
     "output_type": "stream",
     "text": [
      "rmse: 0.8437027364504517\n"
     ]
    }
   ],
   "source": [
    "from spotlight.interactions import Interactions\n",
    "from spotlight.cross_validation import random_train_test_split\n",
    "from spotlight.evaluation import rmse_score\n",
    "from spotlight.factorization.explicit import ExplicitFactorizationModel\n",
    "\n",
    "dataset = Interactions(user_ids=df['userId'].values,\n",
    "                       item_ids=df['movieId'].values,\n",
    "                       ratings=df['rating'].values,\n",
    "                       timestamps=df['timestamp'].to_numpy())\n",
    "\n",
    "\"\"\" \n",
    "Note.\n",
    "In recommendations engines, many times you want to train-test-split while preserving \n",
    "high ratings on the test-set, beacuse you will only recommend those.\n",
    "In real-life you are not evaluated by how much you can tell people didn't like a movie.\n",
    "\n",
    "In this example we ignore this (:\n",
    "\"\"\"\n",
    "\n",
    "train, test = random_train_test_split(dataset)\n",
    "\n",
    "model = ExplicitFactorizationModel(n_iter=1)\n",
    "model.fit(train)\n",
    "\n",
    "rmse = rmse_score(model, test)\n",
    "print(f\"rmse: {rmse}\")"
   ]
  },
  {
   "cell_type": "code",
   "execution_count": 7,
   "id": "fcab1614",
   "metadata": {
    "ExecuteTime": {
     "end_time": "2022-02-04T11:06:50.519513Z",
     "start_time": "2022-02-04T11:06:48.017909Z"
    }
   },
   "outputs": [
    {
     "name": "stdout",
     "output_type": "stream",
     "text": [
      "Most popular movies: ['Pulp Fiction', 'Shawshank Redemption, The', 'Silence of the Lambs, The', 'Star Wars: Episode IV - A New Hope', 'Terminator 2: Judgment Day']\n"
     ]
    }
   ],
   "source": [
    "# groupby-concatenate currently not supported in vaex\n",
    "topk = 5\n",
    "users = df[['userId', 'movieId']].to_pandas_df()\n",
    "users_history = users.groupby(['userId'])['movieId'].apply(list).to_dict()\n",
    "qustions = set(df['movieId'].unique())\n",
    "users_options = {user: qustions.difference(history) for user, history in users_history.items()}\n",
    "most_popular = list(df['movieId'].value_counts()[:topk].index)\n",
    "most_popular_titles = [titles.get(i) for i in most_popular]\n",
    "print(f\"Most popular movies: {most_popular_titles}\")"
   ]
  },
  {
   "cell_type": "code",
   "execution_count": 8,
   "id": "88b12d5b",
   "metadata": {
    "ExecuteTime": {
     "end_time": "2022-02-04T11:06:53.979415Z",
     "start_time": "2022-02-04T11:06:53.071202Z"
    }
   },
   "outputs": [
    {
     "data": {
      "text/html": [
       "<table>\n",
       "<thead>\n",
       "<tr><th>#                            </th><th style=\"text-align: right;\">  userId</th><th style=\"text-align: right;\">  movieId</th><th style=\"text-align: right;\">  rating</th><th>timestamp      </th><th>name          </th><th>title  </th><th>genres                            </th><th style=\"text-align: right;\">  year</th><th>url                                                </th><th>recommendations                                    </th></tr>\n",
       "</thead>\n",
       "<tbody>\n",
       "<tr><td><i style='opacity: 0.6'>0</i></td><td style=\"text-align: right;\">       1</td><td style=\"text-align: right;\">        2</td><td style=\"text-align: right;\">     3.5</td><td>20050402T235347</td><td>Fausto Orms   </td><td>Jumanji</td><td>[&quot;Adventure&quot;,&quot;Children&quot;,&quot;Fantasy&quot;]</td><td style=\"text-align: right;\">  1995</td><td>&#x27;http://image.tmdb.org/t/p/w500/vzmL6fP7aPKNKPRT...</td><td>&quot;[&#x27;Pulp Fiction&#x27;, &#x27;Shawshank Redemption, The&#x27;, &#x27;...</td></tr>\n",
       "<tr><td><i style='opacity: 0.6'>1</i></td><td style=\"text-align: right;\">       5</td><td style=\"text-align: right;\">        2</td><td style=\"text-align: right;\">     3  </td><td>19961225T152609</td><td>Antony Maguire</td><td>Jumanji</td><td>[&quot;Adventure&quot;,&quot;Children&quot;,&quot;Fantasy&quot;]</td><td style=\"text-align: right;\">  1995</td><td>&#x27;http://image.tmdb.org/t/p/w500/vzmL6fP7aPKNKPRT...</td><td>&quot;[&#x27;Toy Story&#x27;, &#x27;Sudden Death&#x27;, &#x27;American Preside...</td></tr>\n",
       "</tbody>\n",
       "</table>"
      ],
      "text/plain": [
       "  #    userId    movieId    rating  timestamp        name            title    genres                                year  url                                                  recommendations\n",
       "  0         1          2       3.5  20050402T235347  Fausto Orms     Jumanji  [\"Adventure\",\"Children\",\"Fantasy\"]    1995  'http://image.tmdb.org/t/p/w500/vzmL6fP7aPKNKPRT...  \"['Pulp Fiction', 'Shawshank Redemption, The', '...\n",
       "  1         5          2       3    19961225T152609  Antony Maguire  Jumanji  [\"Adventure\",\"Children\",\"Fantasy\"]    1995  'http://image.tmdb.org/t/p/w500/vzmL6fP7aPKNKPRT...  \"['Toy Story', 'Sudden Death', 'American Preside..."
      ]
     },
     "execution_count": 8,
     "metadata": {},
     "output_type": "execute_result"
    }
   ],
   "source": [
    "import pyarrow as pa\n",
    "import pandas as pd\n",
    "import numpy as np\n",
    "\n",
    "\n",
    "@vaex.register_function()\n",
    "def recommend(ar, topk=5):\n",
    "    ret = []\n",
    "    for user in ar.tolist():\n",
    "        user_options = list(users_options.get(user, most_popular))\n",
    "        if not user_options or pd.isna(user) or user < 0:\n",
    "            ret.append(most_popular_titles)\n",
    "        else:\n",
    "            # cool way to sort topk\n",
    "            recommendations = model.predict(user,\n",
    "                                            np.array(user_options)).argsort()[-topk:][\n",
    "                              ::-1]\n",
    "            recommendations = [titles.get(i) for i in recommendations]\n",
    "            ret.append(recommendations)\n",
    "    return pa.array(ret)\n",
    "\n",
    "\n",
    "df.add_function('recommend', recommend)\n",
    "df['recommendations'] = df.userId.recommend()\n",
    "df.head(2)"
   ]
  },
  {
   "cell_type": "code",
   "id": "91ca10e8",
   "metadata": {
    "ExecuteTime": {
     "end_time": "2022-02-04T11:07:22.379545Z",
     "start_time": "2022-02-04T11:07:03.735642Z"
    },
    "pycharm": {
     "name": "#%%\n"
    }
   },
   "source": [
    "from goldilox import Pipeline\n",
    "\n",
    "pipeline = Pipeline.from_vaex(df)\n",
    "pipeline.raw = {\"userId\": 5}\n",
    "pipeline.inference(pipeline.raw, columns=['userId', 'recommendations'])"
   ],
   "execution_count": null,
   "outputs": []
  },
  {
   "cell_type": "markdown",
   "source": [
    "Note that you must provide the columns at inference time or you will get an error as the other columns are not Nones but missing."
   ],
   "metadata": {
    "collapsed": false,
    "pycharm": {
     "name": "#%% md\n"
    }
   }
  },
  {
   "cell_type": "code",
   "execution_count": null,
   "outputs": [],
   "source": [],
   "metadata": {
    "collapsed": false,
    "pycharm": {
     "name": "#%%\n"
    }
   }
  }
 ],
 "metadata": {
  "kernelspec": {
   "display_name": "Python 3 (ipykernel)",
   "language": "python",
   "name": "python3"
  },
  "language_info": {
   "codemirror_mode": {
    "name": "ipython",
    "version": 3
   },
   "file_extension": ".py",
   "mimetype": "text/x-python",
   "name": "python",
   "nbconvert_exporter": "python",
   "pygments_lexer": "ipython3",
   "version": "3.7.12"
  }
 },
 "nbformat": 4,
 "nbformat_minor": 5
}