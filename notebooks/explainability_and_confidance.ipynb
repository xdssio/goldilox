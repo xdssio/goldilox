{
 "cells": [
  {
   "cell_type": "code",
   "execution_count": 29,
   "id": "2794c12c",
   "metadata": {
    "ExecuteTime": {
     "end_time": "2022-01-13T15:44:21.051144Z",
     "start_time": "2022-01-13T15:44:21.026338Z"
    }
   },
   "outputs": [
    {
     "data": {
      "text/html": [
       "<table>\n",
       "<thead>\n",
       "<tr><th>#                            </th><th style=\"text-align: right;\">  sepal_length</th><th style=\"text-align: right;\">  sepal_width</th><th style=\"text-align: right;\">  petal_length</th><th style=\"text-align: right;\">  petal_width</th><th style=\"text-align: right;\">  target</th></tr>\n",
       "</thead>\n",
       "<tbody>\n",
       "<tr><td><i style='opacity: 0.6'>0</i></td><td style=\"text-align: right;\">           5.1</td><td style=\"text-align: right;\">          3.5</td><td style=\"text-align: right;\">           1.4</td><td style=\"text-align: right;\">          0.2</td><td style=\"text-align: right;\">       0</td></tr>\n",
       "<tr><td><i style='opacity: 0.6'>1</i></td><td style=\"text-align: right;\">           4.9</td><td style=\"text-align: right;\">          3  </td><td style=\"text-align: right;\">           1.4</td><td style=\"text-align: right;\">          0.2</td><td style=\"text-align: right;\">       0</td></tr>\n",
       "</tbody>\n",
       "</table>"
      ],
      "text/plain": [
       "  #    sepal_length    sepal_width    petal_length    petal_width    target\n",
       "  0             5.1            3.5             1.4            0.2         0\n",
       "  1             4.9            3               1.4            0.2         0"
      ]
     },
     "execution_count": 29,
     "metadata": {},
     "output_type": "execute_result"
    }
   ],
   "source": [
    "from goldilox.datasets import load_iris\n",
    "import vaex\n",
    "\n",
    "df, features, target = load_iris()\n",
    "df = vaex.from_pandas(df)\n",
    "\n",
    "df.head(2)"
   ]
  },
  {
   "cell_type": "markdown",
   "id": "4a0eba15",
   "metadata": {},
   "source": [
    "## Feature engineering\n",
    "Here we can do any feature engineering we wamt, knowing it will work in the pipeline automatically."
   ]
  },
  {
   "cell_type": "code",
   "execution_count": 30,
   "id": "d41e638e",
   "metadata": {
    "ExecuteTime": {
     "end_time": "2022-01-13T15:44:21.900136Z",
     "start_time": "2022-01-13T15:44:21.626658Z"
    }
   },
   "outputs": [
    {
     "data": {
      "text/html": [
       "<table>\n",
       "<thead>\n",
       "<tr><th>#                            </th><th style=\"text-align: right;\">  sepal_length</th><th style=\"text-align: right;\">  sepal_width</th><th style=\"text-align: right;\">  petal_length</th><th style=\"text-align: right;\">  petal_width</th><th style=\"text-align: right;\">  target</th><th style=\"text-align: right;\">  petal_ratio</th></tr>\n",
       "</thead>\n",
       "<tbody>\n",
       "<tr><td><i style='opacity: 0.6'>0</i></td><td style=\"text-align: right;\">     -0.900681</td><td style=\"text-align: right;\">     1.019   </td><td style=\"text-align: right;\">      -1.34023</td><td style=\"text-align: right;\">     -1.31544</td><td style=\"text-align: right;\">       0</td><td style=\"text-align: right;\">      1.08389</td></tr>\n",
       "<tr><td><i style='opacity: 0.6'>1</i></td><td style=\"text-align: right;\">     -1.14302 </td><td style=\"text-align: right;\">    -0.131979</td><td style=\"text-align: right;\">      -1.34023</td><td style=\"text-align: right;\">     -1.31544</td><td style=\"text-align: right;\">       0</td><td style=\"text-align: right;\">      1.08389</td></tr>\n",
       "</tbody>\n",
       "</table>"
      ],
      "text/plain": [
       "  #    sepal_length    sepal_width    petal_length    petal_width    target    petal_ratio\n",
       "  0       -0.900681       1.019           -1.34023       -1.31544         0        1.08389\n",
       "  1       -1.14302       -0.131979        -1.34023       -1.31544         0        1.08389"
      ]
     },
     "execution_count": 30,
     "metadata": {},
     "output_type": "execute_result"
    }
   ],
   "source": [
    "from vaex.ml.transformations import StandardScaler\n",
    "\n",
    "df['petal_ratio'] = df['petal_length'] / df['petal_width']\n",
    "\n",
    "features = ['petal_length', 'petal_width', 'sepal_length', 'sepal_width', 'petal_ratio']\n",
    "for feature in features:\n",
    "    df[feature] = df[feature].fillna(df[feature].mean())\n",
    "df = StandardScaler(features=features, prefix='').fit_transform(df)\n",
    "df.head(2)"
   ]
  },
  {
   "cell_type": "markdown",
   "id": "4e5e2de8",
   "metadata": {},
   "source": [
    "## Modeling \n",
    "Let's build two models. In production we can query any of them we want.   \n",
    "* This is great if you have an experimental model you want to evaluate."
   ]
  },
  {
   "cell_type": "markdown",
   "id": "75c7b9f6",
   "metadata": {},
   "source": [
    "### LighGBM"
   ]
  },
  {
   "cell_type": "code",
   "execution_count": 31,
   "id": "e3976f41",
   "metadata": {
    "ExecuteTime": {
     "end_time": "2022-01-13T15:44:24.800237Z",
     "start_time": "2022-01-13T15:44:23.473059Z"
    }
   },
   "outputs": [
    {
     "name": "stderr",
     "output_type": "stream",
     "text": [
      "'verbose_eval' argument is deprecated and will be removed in a future release of LightGBM. Pass 'log_evaluation()' callback via 'callbacks' argument instead.\n"
     ]
    },
    {
     "data": {
      "text/html": [
       "<table>\n",
       "<thead>\n",
       "<tr><th>#                            </th><th style=\"text-align: right;\">  sepal_length</th><th style=\"text-align: right;\">  sepal_width</th><th style=\"text-align: right;\">  petal_length</th><th style=\"text-align: right;\">  petal_width</th><th style=\"text-align: right;\">  target</th><th style=\"text-align: right;\">  petal_ratio</th><th>lgbm                                               </th></tr>\n",
       "</thead>\n",
       "<tbody>\n",
       "<tr><td><i style='opacity: 0.6'>0</i></td><td style=\"text-align: right;\">     -0.900681</td><td style=\"text-align: right;\">     1.019   </td><td style=\"text-align: right;\">      -1.34023</td><td style=\"text-align: right;\">     -1.31544</td><td style=\"text-align: right;\">       0</td><td style=\"text-align: right;\">      1.08389</td><td>&#x27;array([9.99999924e-01, 7.50109907e-08, 5.347495...</td></tr>\n",
       "<tr><td><i style='opacity: 0.6'>1</i></td><td style=\"text-align: right;\">     -1.14302 </td><td style=\"text-align: right;\">    -0.131979</td><td style=\"text-align: right;\">      -1.34023</td><td style=\"text-align: right;\">     -1.31544</td><td style=\"text-align: right;\">       0</td><td style=\"text-align: right;\">      1.08389</td><td>&#x27;array([9.99998853e-01, 1.05726411e-06, 8.970361...</td></tr>\n",
       "</tbody>\n",
       "</table>"
      ],
      "text/plain": [
       "  #    sepal_length    sepal_width    petal_length    petal_width    target    petal_ratio  lgbm\n",
       "  0       -0.900681       1.019           -1.34023       -1.31544         0        1.08389  'array([9.99999924e-01, 7.50109907e-08, 5.347495...\n",
       "  1       -1.14302       -0.131979        -1.34023       -1.31544         0        1.08389  'array([9.99998853e-01, 1.05726411e-06, 8.970361..."
      ]
     },
     "execution_count": 31,
     "metadata": {},
     "output_type": "execute_result"
    }
   ],
   "source": [
    "from vaex.ml.lightgbm import LightGBMModel\n",
    "\n",
    "booster = LightGBMModel(features=features,\n",
    "                        target=target,\n",
    "                        prediction_name='lgbm',\n",
    "                        num_boost_round=500,\n",
    "                        params={'verbosity': -1,\n",
    "                                'objective': 'multiclass',\n",
    "                                'num_class': 3})\n",
    "booster.fit(df)\n",
    "df = booster.transform(df)\n",
    "df.head(2)"
   ]
  },
  {
   "cell_type": "markdown",
   "id": "18e9be2e",
   "metadata": {},
   "source": [
    "### XGBoost"
   ]
  },
  {
   "cell_type": "code",
   "execution_count": 32,
   "id": "f2d4d7a1",
   "metadata": {
    "ExecuteTime": {
     "end_time": "2022-01-13T15:44:32.710004Z",
     "start_time": "2022-01-13T15:44:31.580692Z"
    }
   },
   "outputs": [
    {
     "data": {
      "text/html": [
       "<table>\n",
       "<thead>\n",
       "<tr><th>#                            </th><th style=\"text-align: right;\">  sepal_length</th><th style=\"text-align: right;\">  sepal_width</th><th style=\"text-align: right;\">  petal_length</th><th style=\"text-align: right;\">  petal_width</th><th style=\"text-align: right;\">  target</th><th style=\"text-align: right;\">  petal_ratio</th><th>lgbm                                               </th><th style=\"text-align: right;\">  xgb</th></tr>\n",
       "</thead>\n",
       "<tbody>\n",
       "<tr><td><i style='opacity: 0.6'>0</i></td><td style=\"text-align: right;\">     -0.900681</td><td style=\"text-align: right;\">     1.019   </td><td style=\"text-align: right;\">      -1.34023</td><td style=\"text-align: right;\">     -1.31544</td><td style=\"text-align: right;\">       0</td><td style=\"text-align: right;\">      1.08389</td><td>&#x27;array([9.99999924e-01, 7.50109907e-08, 5.347495...</td><td style=\"text-align: right;\">    0</td></tr>\n",
       "<tr><td><i style='opacity: 0.6'>1</i></td><td style=\"text-align: right;\">     -1.14302 </td><td style=\"text-align: right;\">    -0.131979</td><td style=\"text-align: right;\">      -1.34023</td><td style=\"text-align: right;\">     -1.31544</td><td style=\"text-align: right;\">       0</td><td style=\"text-align: right;\">      1.08389</td><td>&#x27;array([9.99998853e-01, 1.05726411e-06, 8.970361...</td><td style=\"text-align: right;\">    0</td></tr>\n",
       "</tbody>\n",
       "</table>"
      ],
      "text/plain": [
       "  #    sepal_length    sepal_width    petal_length    petal_width    target    petal_ratio  lgbm                                                   xgb\n",
       "  0       -0.900681       1.019           -1.34023       -1.31544         0        1.08389  'array([9.99999924e-01, 7.50109907e-08, 5.347495...      0\n",
       "  1       -1.14302       -0.131979        -1.34023       -1.31544         0        1.08389  'array([9.99998853e-01, 1.05726411e-06, 8.970361...      0"
      ]
     },
     "execution_count": 32,
     "metadata": {},
     "output_type": "execute_result"
    }
   ],
   "source": [
    "from vaex.ml.xgboost import XGBoostModel\n",
    "\n",
    "booster = XGBoostModel(\n",
    "    params={\"eval_metric\": \"mlogloss\",\n",
    "            \"objective\": \"multi:softmax\",\n",
    "            \"num_class\": 3},\n",
    "    features=features,\n",
    "    target=target,\n",
    "    prediction_name=\"xgb\",\n",
    "    num_boost_round=500,\n",
    ")\n",
    "booster.fit(df)\n",
    "df = booster.transform(df)\n",
    "df.head(2)"
   ]
  },
  {
   "cell_type": "markdown",
   "id": "57bb670d",
   "metadata": {},
   "source": [
    "## Post model processing\n",
    "We can do more procssing, making sure the Fronend/Backend is happy with the response.\n",
    "* This option can save much friction in a teams."
   ]
  },
  {
   "cell_type": "code",
   "execution_count": 33,
   "id": "ef2e5099",
   "metadata": {
    "ExecuteTime": {
     "end_time": "2022-01-13T15:44:44.654745Z",
     "start_time": "2022-01-13T15:44:44.461473Z"
    }
   },
   "outputs": [
    {
     "data": {
      "text/html": [
       "<table>\n",
       "<thead>\n",
       "<tr><th>#                            </th><th style=\"text-align: right;\">  sepal_length</th><th style=\"text-align: right;\">  sepal_width</th><th style=\"text-align: right;\">  petal_length</th><th style=\"text-align: right;\">  petal_width</th><th style=\"text-align: right;\">  target</th><th style=\"text-align: right;\">  petal_ratio</th><th>lgbm                                               </th><th style=\"text-align: right;\">  xgb</th><th style=\"text-align: right;\">  prediction</th><th>label  </th></tr>\n",
       "</thead>\n",
       "<tbody>\n",
       "<tr><td><i style='opacity: 0.6'>0</i></td><td style=\"text-align: right;\">     -0.900681</td><td style=\"text-align: right;\">     1.019   </td><td style=\"text-align: right;\">      -1.34023</td><td style=\"text-align: right;\">     -1.31544</td><td style=\"text-align: right;\">       0</td><td style=\"text-align: right;\">      1.08389</td><td>&#x27;array([9.99999924e-01, 7.50109907e-08, 5.347495...</td><td style=\"text-align: right;\">    0</td><td style=\"text-align: right;\">           0</td><td>setosa </td></tr>\n",
       "<tr><td><i style='opacity: 0.6'>1</i></td><td style=\"text-align: right;\">     -1.14302 </td><td style=\"text-align: right;\">    -0.131979</td><td style=\"text-align: right;\">      -1.34023</td><td style=\"text-align: right;\">     -1.31544</td><td style=\"text-align: right;\">       0</td><td style=\"text-align: right;\">      1.08389</td><td>&#x27;array([9.99998853e-01, 1.05726411e-06, 8.970361...</td><td style=\"text-align: right;\">    0</td><td style=\"text-align: right;\">           0</td><td>setosa </td></tr>\n",
       "</tbody>\n",
       "</table>"
      ],
      "text/plain": [
       "  #    sepal_length    sepal_width    petal_length    petal_width    target    petal_ratio  lgbm                                                   xgb    prediction  label\n",
       "  0       -0.900681       1.019           -1.34023       -1.31544         0        1.08389  'array([9.99999924e-01, 7.50109907e-08, 5.347495...      0             0  setosa\n",
       "  1       -1.14302       -0.131979        -1.34023       -1.31544         0        1.08389  'array([9.99998853e-01, 1.05726411e-06, 8.970361...      0             0  setosa"
      ]
     },
     "execution_count": 33,
     "metadata": {},
     "output_type": "execute_result"
    }
   ],
   "source": [
    "import numpy as np\n",
    "import vaex\n",
    "\n",
    "\n",
    "@vaex.register_function()\n",
    "def argmax(ar, axis=1):\n",
    "    return np.argmax(ar, axis=axis)\n",
    "\n",
    "\n",
    "df.add_function('argmax', argmax)\n",
    "df['prediction'] = df['lgbm'].argmax()\n",
    "\n",
    "df['label'] = df['prediction'].map({0: 'setosa', 1: 'versicolor', 2: 'virginica'})\n",
    "df.head(2)"
   ]
  },
  {
   "cell_type": "markdown",
   "id": "9ce88388",
   "metadata": {},
   "source": [
    "# Explainability\n",
    "Let's say we want to know, as part of our product, why we made one decition or another.   \n",
    "Check out [SHAP](https://github.com/slundberg/shap) for that.\n",
    "* Great for communication - add it to your models as \"metadata\" on the prediction."
   ]
  },
  {
   "cell_type": "code",
   "execution_count": 34,
   "id": "ead2d41a",
   "metadata": {
    "ExecuteTime": {
     "end_time": "2022-01-13T15:44:50.791520Z",
     "start_time": "2022-01-13T15:44:50.459874Z"
    },
    "code_folding": [
     9
    ]
   },
   "outputs": [
    {
     "data": {
      "text/html": [
       "<table>\n",
       "<thead>\n",
       "<tr><th>#                            </th><th style=\"text-align: right;\">  sepal_length</th><th style=\"text-align: right;\">  sepal_width</th><th style=\"text-align: right;\">  petal_length</th><th style=\"text-align: right;\">  petal_width</th><th style=\"text-align: right;\">  target</th><th style=\"text-align: right;\">  petal_ratio</th><th>lgbm                                               </th><th style=\"text-align: right;\">  xgb</th><th style=\"text-align: right;\">  prediction</th><th>label  </th><th>explanation                        </th></tr>\n",
       "</thead>\n",
       "<tbody>\n",
       "<tr><td><i style='opacity: 0.6'>0</i></td><td style=\"text-align: right;\">     -0.900681</td><td style=\"text-align: right;\">     1.019   </td><td style=\"text-align: right;\">      -1.34023</td><td style=\"text-align: right;\">     -1.31544</td><td style=\"text-align: right;\">       0</td><td style=\"text-align: right;\">      1.08389</td><td>&#x27;array([9.99999924e-01, 7.50109907e-08, 5.347495...</td><td style=\"text-align: right;\">    0</td><td style=\"text-align: right;\">           0</td><td>setosa </td><td>{&#x27;petal_length&#x27;: 3.226044178009033}</td></tr>\n",
       "<tr><td><i style='opacity: 0.6'>1</i></td><td style=\"text-align: right;\">     -1.14302 </td><td style=\"text-align: right;\">    -0.131979</td><td style=\"text-align: right;\">      -1.34023</td><td style=\"text-align: right;\">     -1.31544</td><td style=\"text-align: right;\">       0</td><td style=\"text-align: right;\">      1.08389</td><td>&#x27;array([9.99998853e-01, 1.05726411e-06, 8.970361...</td><td style=\"text-align: right;\">    0</td><td style=\"text-align: right;\">           0</td><td>setosa </td><td>{&#x27;petal_length&#x27;: 3.226044178009033}</td></tr>\n",
       "</tbody>\n",
       "</table>"
      ],
      "text/plain": [
       "  #    sepal_length    sepal_width    petal_length    petal_width    target    petal_ratio  lgbm                                                   xgb    prediction  label    explanation\n",
       "  0       -0.900681       1.019           -1.34023       -1.31544         0        1.08389  'array([9.99999924e-01, 7.50109907e-08, 5.347495...      0             0  setosa   {'petal_length': 3.226044178009033}\n",
       "  1       -1.14302       -0.131979        -1.34023       -1.31544         0        1.08389  'array([9.99998853e-01, 1.05726411e-06, 8.970361...      0             0  setosa   {'petal_length': 3.226044178009033}"
      ]
     },
     "execution_count": 34,
     "metadata": {},
     "output_type": "execute_result"
    }
   ],
   "source": [
    "import shap\n",
    "import pyarrow as pa\n",
    "import pandas as pd\n",
    "\n",
    "explainer = shap.TreeExplainer(booster.booster)\n",
    "targets = df[target].unique()\n",
    "feature_count = len(features)\n",
    "\n",
    "\n",
    "@vaex.register_function(on_expression=False)\n",
    "def explain(*columns):\n",
    "    data = np.array(columns).T\n",
    "    X, y = pd.DataFrame(data[:, :feature_count], columns=features), data[:, -1]\n",
    "    shap_values = explainer.shap_values(X)\n",
    "    explanation = []\n",
    "\n",
    "    for i, c in enumerate(y):\n",
    "        c = int(c)\n",
    "        e = shap.force_plot(explainer.expected_value[c], shap_values[c][i, :], X.iloc[i]).data\n",
    "        explanation.append(\n",
    "            {feature: effects['effect'] for feature, effects in zip(e['featureNames'], e['features'].values())})\n",
    "    return pa.array(explanation)\n",
    "\n",
    "\n",
    "df.add_function('explain', explain)\n",
    "explain_columns = features + ['prediction']\n",
    "df['explanation'] = df.func.explain(*explain_columns)\n",
    "df.head(2)"
   ]
  },
  {
   "cell_type": "markdown",
   "id": "73f86e9c",
   "metadata": {},
   "source": [
    "# Confidence\n",
    "No matter how good your model is, it won't do as well if it meets data that it doesn't know.  \n",
    "Having information about how similar the data in prodction to what you trained on, can let you build safeguards in your apps. \n",
    "\n",
    "* Here we will use a simple nearest neighbours model, and normelize the results.\n",
    "* If you get very \"weird\" data, it will be far from normal."
   ]
  },
  {
   "cell_type": "code",
   "execution_count": 46,
   "id": "95d55d7a",
   "metadata": {
    "ExecuteTime": {
     "end_time": "2022-01-13T15:46:18.891944Z",
     "start_time": "2022-01-13T15:46:18.711711Z"
    },
    "code_folding": []
   },
   "outputs": [
    {
     "data": {
      "text/html": [
       "<table>\n",
       "<thead>\n",
       "<tr><th>#                            </th><th style=\"text-align: right;\">  sepal_length</th><th style=\"text-align: right;\">  sepal_width</th><th style=\"text-align: right;\">  petal_length</th><th style=\"text-align: right;\">  petal_width</th><th style=\"text-align: right;\">  target</th><th style=\"text-align: right;\">  petal_ratio</th><th>lgbm                                               </th><th style=\"text-align: right;\">  xgb</th><th style=\"text-align: right;\">  prediction</th><th>label  </th><th>explanation                        </th><th style=\"text-align: right;\">  distance</th><th>outlier  </th></tr>\n",
       "</thead>\n",
       "<tbody>\n",
       "<tr><td><i style='opacity: 0.6'>0</i></td><td style=\"text-align: right;\">     -0.900681</td><td style=\"text-align: right;\">     1.019   </td><td style=\"text-align: right;\">      -1.34023</td><td style=\"text-align: right;\">     -1.31544</td><td style=\"text-align: right;\">       0</td><td style=\"text-align: right;\">      1.08389</td><td>&#x27;array([9.99999924e-01, 7.50109907e-08, 5.347495...</td><td style=\"text-align: right;\">    0</td><td style=\"text-align: right;\">           0</td><td>setosa </td><td>{&#x27;petal_length&#x27;: 3.226044178009033}</td><td style=\"text-align: right;\">  0.98279 </td><td>ok       </td></tr>\n",
       "<tr><td><i style='opacity: 0.6'>1</i></td><td style=\"text-align: right;\">     -1.14302 </td><td style=\"text-align: right;\">    -0.131979</td><td style=\"text-align: right;\">      -1.34023</td><td style=\"text-align: right;\">     -1.31544</td><td style=\"text-align: right;\">       0</td><td style=\"text-align: right;\">      1.08389</td><td>&#x27;array([9.99998853e-01, 1.05726411e-06, 8.970361...</td><td style=\"text-align: right;\">    0</td><td style=\"text-align: right;\">           0</td><td>setosa </td><td>{&#x27;petal_length&#x27;: 3.226044178009033}</td><td style=\"text-align: right;\">  0.902893</td><td>ok       </td></tr>\n",
       "</tbody>\n",
       "</table>"
      ],
      "text/plain": [
       "  #    sepal_length    sepal_width    petal_length    petal_width    target    petal_ratio  lgbm                                                   xgb    prediction  label    explanation                            distance  outlier\n",
       "  0       -0.900681       1.019           -1.34023       -1.31544         0        1.08389  'array([9.99999924e-01, 7.50109907e-08, 5.347495...      0             0  setosa   {'petal_length': 3.226044178009033}    0.98279   ok\n",
       "  1       -1.14302       -0.131979        -1.34023       -1.31544         0        1.08389  'array([9.99998853e-01, 1.05726411e-06, 8.970361...      0             0  setosa   {'petal_length': 3.226044178009033}    0.902893  ok"
      ]
     },
     "execution_count": 46,
     "metadata": {},
     "output_type": "execute_result"
    }
   ],
   "source": [
    "from sklearn.neighbors import KDTree\n",
    "from vaex.ml.transformations import MinMaxScaler\n",
    "\n",
    "model = KDTree(df[features], leaf_size=2)\n",
    "\n",
    "\n",
    "@vaex.register_function(on_expression=False)\n",
    "def dist(*columns):\n",
    "    data = np.array(columns).T\n",
    "    distance, ind = model.query(data, k=5)\n",
    "    return 1 - distance.mean(axis=1)\n",
    "\n",
    "\n",
    "df.add_function(\"dist\", dist)\n",
    "df['distance'] = df.func.dist(*features)\n",
    "df = MinMaxScaler(features=['distance'], prefix='').fit_transform(df)\n",
    "df['outlier'] = df.func.where((0.01 < df.distance) &  (df.distance< 0.99), \"ok\", \"outlier\")\n",
    "df.head(2)"
   ]
  },
  {
   "cell_type": "code",
   "execution_count": 47,
   "id": "893bf258",
   "metadata": {
    "ExecuteTime": {
     "end_time": "2022-01-13T15:46:21.420001Z",
     "start_time": "2022-01-13T15:46:19.466500Z"
    }
   },
   "outputs": [
    {
     "data": {
      "text/html": [
       "<table>\n",
       "<thead>\n",
       "<tr><th>#                            </th><th style=\"text-align: right;\">  sepal_length</th><th style=\"text-align: right;\">  sepal_width</th><th style=\"text-align: right;\">  petal_length</th><th style=\"text-align: right;\">  petal_width</th><th style=\"text-align: right;\">  target</th><th style=\"text-align: right;\">  petal_ratio</th><th>lgbm                                               </th><th style=\"text-align: right;\">  xgb</th><th style=\"text-align: right;\">  prediction</th><th>label  </th><th>explanation                        </th><th style=\"text-align: right;\">  distance</th><th>outlier  </th></tr>\n",
       "</thead>\n",
       "<tbody>\n",
       "<tr><td><i style='opacity: 0.6'>0</i></td><td style=\"text-align: right;\">     -0.900681</td><td style=\"text-align: right;\">        1.019</td><td style=\"text-align: right;\">      -1.34023</td><td style=\"text-align: right;\">     -1.31544</td><td style=\"text-align: right;\">       0</td><td style=\"text-align: right;\">      1.08389</td><td>&#x27;array([9.99999924e-01, 7.50109907e-08, 5.347495...</td><td style=\"text-align: right;\">    0</td><td style=\"text-align: right;\">           0</td><td>setosa </td><td>{&#x27;petal_length&#x27;: 3.226044178009033}</td><td style=\"text-align: right;\">   0.98279</td><td>ok       </td></tr>\n",
       "</tbody>\n",
       "</table>"
      ],
      "text/plain": [
       "  #    sepal_length    sepal_width    petal_length    petal_width    target    petal_ratio  lgbm                                                   xgb    prediction  label    explanation                            distance  outlier\n",
       "  0       -0.900681          1.019        -1.34023       -1.31544         0        1.08389  'array([9.99999924e-01, 7.50109907e-08, 5.347495...      0             0  setosa   {'petal_length': 3.226044178009033}     0.98279  ok"
      ]
     },
     "execution_count": 47,
     "metadata": {},
     "output_type": "execute_result"
    }
   ],
   "source": [
    "from goldilox import Pipeline\n",
    "\n",
    "pipeline = Pipeline.from_vaex(df)\n",
    "pipeline.inference(pipeline.raw)"
   ]
  },
  {
   "cell_type": "code",
   "execution_count": 48,
   "id": "8ecbb2c4",
   "metadata": {
    "ExecuteTime": {
     "end_time": "2022-01-13T15:46:21.620460Z",
     "start_time": "2022-01-13T15:46:21.421520Z"
    }
   },
   "outputs": [
    {
     "data": {
      "text/html": [
       "<table>\n",
       "<thead>\n",
       "<tr><th>#                            </th><th style=\"text-align: right;\">  sepal_length</th><th style=\"text-align: right;\">  sepal_width</th><th style=\"text-align: right;\">  petal_length</th><th style=\"text-align: right;\">  petal_width</th><th>target  </th><th style=\"text-align: right;\">  petal_ratio</th><th>lgbm                                       </th><th style=\"text-align: right;\">  xgb</th><th style=\"text-align: right;\">  prediction</th><th>label    </th><th>explanation                                        </th><th style=\"text-align: right;\">  distance</th><th>outlier  </th></tr>\n",
       "</thead>\n",
       "<tbody>\n",
       "<tr><td><i style='opacity: 0.6'>0</i></td><td style=\"text-align: right;\">       114.088</td><td style=\"text-align: right;\">            0</td><td style=\"text-align: right;\">      -4.97782</td><td style=\"text-align: right;\">       5.0029</td><td>--      </td><td style=\"text-align: right;\">     -2.14018</td><td>array([0.36681711, 0.00107121, 0.63211168])</td><td style=\"text-align: right;\">    0</td><td style=\"text-align: right;\">           2</td><td>virginica</td><td>&quot;{&#x27;petal_length&#x27;: -2.0075998306274414, &#x27;petal_ra...</td><td style=\"text-align: right;\">  -68.2714</td><td>outlier  </td></tr>\n",
       "</tbody>\n",
       "</table>"
      ],
      "text/plain": [
       "  #    sepal_length    sepal_width    petal_length    petal_width  target      petal_ratio  lgbm                                           xgb    prediction  label      explanation                                            distance  outlier\n",
       "  0         114.088              0        -4.97782         5.0029  --             -2.14018  array([0.36681711, 0.00107121, 0.63211168])      0             2  virginica  \"{'petal_length': -2.0075998306274414, 'petal_ra...    -68.2714  outlier"
      ]
     },
     "execution_count": 48,
     "metadata": {},
     "output_type": "execute_result"
    }
   ],
   "source": [
    "pipeline.inference({\"sepal_length\": 100,\n",
    "                    \"sepal_width\": None,\n",
    "                    \"petal_length\": -5,\n",
    "                    \"petal_width\": 5})"
   ]
  },
  {
   "cell_type": "markdown",
   "id": "a6117b22",
   "metadata": {},
   "source": [
    "### Great features\n",
    "* simple and fast\n",
    "* validate missing values\n",
    "* validate serialization\n",
    "* variables \n",
    "* description\n",
    "* example"
   ]
  },
  {
   "cell_type": "code",
   "execution_count": 49,
   "id": "2ed2229f",
   "metadata": {
    "ExecuteTime": {
     "end_time": "2022-01-13T15:46:36.103119Z",
     "start_time": "2022-01-13T15:46:35.878162Z"
    }
   },
   "outputs": [
    {
     "data": {
      "text/html": [
       "<table>\n",
       "<thead>\n",
       "<tr><th>#                            </th><th style=\"text-align: right;\">  sepal_length</th><th style=\"text-align: right;\">  sepal_width</th><th style=\"text-align: right;\">  petal_length</th><th style=\"text-align: right;\">  petal_width</th><th style=\"text-align: right;\">  target</th><th style=\"text-align: right;\">  petal_ratio</th><th>lgbm                                               </th><th style=\"text-align: right;\">  xgb</th><th style=\"text-align: right;\">  prediction</th><th>label  </th><th>explanation                        </th><th style=\"text-align: right;\">  distance</th><th>outlier  </th></tr>\n",
       "</thead>\n",
       "<tbody>\n",
       "<tr><td><i style='opacity: 0.6'>0</i></td><td style=\"text-align: right;\">     -0.900681</td><td style=\"text-align: right;\">     1.019   </td><td style=\"text-align: right;\">      -1.34023</td><td style=\"text-align: right;\">     -1.31544</td><td style=\"text-align: right;\">       0</td><td style=\"text-align: right;\">      1.08389</td><td>&#x27;array([9.99999924e-01, 7.50109907e-08, 5.347495...</td><td style=\"text-align: right;\">    0</td><td style=\"text-align: right;\">           0</td><td>setosa </td><td>{&#x27;petal_length&#x27;: 3.226044178009033}</td><td style=\"text-align: right;\">  0.98279 </td><td>ok       </td></tr>\n",
       "<tr><td><i style='opacity: 0.6'>1</i></td><td style=\"text-align: right;\">     -1.14302 </td><td style=\"text-align: right;\">    -0.131979</td><td style=\"text-align: right;\">      -1.34023</td><td style=\"text-align: right;\">     -1.31544</td><td style=\"text-align: right;\">       0</td><td style=\"text-align: right;\">      1.08389</td><td>&#x27;array([9.99998853e-01, 1.05726411e-06, 8.970361...</td><td style=\"text-align: right;\">    0</td><td style=\"text-align: right;\">           0</td><td>setosa </td><td>{&#x27;petal_length&#x27;: 3.226044178009033}</td><td style=\"text-align: right;\">  0.902893</td><td>ok       </td></tr>\n",
       "</tbody>\n",
       "</table>"
      ],
      "text/plain": [
       "  #    sepal_length    sepal_width    petal_length    petal_width    target    petal_ratio  lgbm                                                   xgb    prediction  label    explanation                            distance  outlier\n",
       "  0       -0.900681       1.019           -1.34023       -1.31544         0        1.08389  'array([9.99999924e-01, 7.50109907e-08, 5.347495...      0             0  setosa   {'petal_length': 3.226044178009033}    0.98279   ok\n",
       "  1       -1.14302       -0.131979        -1.34023       -1.31544         0        1.08389  'array([9.99998853e-01, 1.05726411e-06, 8.970361...      0             0  setosa   {'petal_length': 3.226044178009033}    0.902893  ok"
      ]
     },
     "execution_count": 49,
     "metadata": {},
     "output_type": "execute_result"
    }
   ],
   "source": [
    "from sklearn.metrics import accuracy_score\n",
    "\n",
    "# Let's say test is new data\n",
    "test, features, target = load_iris()\n",
    "test = vaex.from_pandas(test)\n",
    "\n",
    "predictions = pipeline.inference(test)\n",
    "predictions.head(2)"
   ]
  },
  {
   "cell_type": "code",
   "execution_count": 50,
   "id": "d73cb775",
   "metadata": {
    "ExecuteTime": {
     "end_time": "2022-01-13T15:46:54.738256Z",
     "start_time": "2022-01-13T15:46:54.065473Z"
    }
   },
   "outputs": [
    {
     "data": {
      "text/plain": [
       "'pipeline.pkl'"
      ]
     },
     "execution_count": 50,
     "metadata": {},
     "output_type": "execute_result"
    }
   ],
   "source": [
    "pipeline.set_variable('branch', \"demo\")\n",
    "pipeline.set_variable('version', \"v1\")\n",
    "pipeline.set_variable('training_accuracy', accuracy_score(predictions['prediction'].values, predictions['target'].values))\n",
    "pipeline.set_variable('confidance', \"when donfidance close to 1 is good, 0 or less is new data\")\n",
    "pipeline.description = \"I did demo and I liked it\"\n",
    "pipeline.save('pipeline.pkl')"
   ]
  },
  {
   "cell_type": "code",
   "execution_count": null,
   "id": "4b8a7dd9",
   "metadata": {
    "ExecuteTime": {
     "start_time": "2022-01-11T18:29:47.131Z"
    }
   },
   "outputs": [
    {
     "name": "stdout",
     "output_type": "stream",
     "text": [
      "WARNING:root:Pipeline doesn't handle NA for sepal_length\n",
      "WARNING:root:Pipeline doesn't handle NA for sepal_width\n",
      "WARNING:root:Pipeline doesn't handle NA for petal_length\n",
      "WARNING:root:Pipeline doesn't handle NA for petal_width\n",
      "[2022-01-11 20:29:50 +0200] [3971] [INFO] Starting gunicorn 20.1.0\n",
      "[2022-01-11 20:29:50 +0200] [3971] [INFO] Listening at: http://127.0.0.1:8000 (3971)\n",
      "[2022-01-11 20:29:50 +0200] [3971] [INFO] Using worker: uvicorn.workers.UvicornH11Worker\n",
      "[2022-01-11 20:29:50 +0200] [3976] [INFO] Booting worker with pid: 3976\n",
      "[2022-01-11 20:29:50 +0200] [3976] [INFO] Started server process [3976]\n",
      "[2022-01-11 20:29:50 +0200] [3976] [INFO] Waiting for application startup.\n",
      "[2022-01-11 20:29:50 +0200] [3976] [INFO] Application startup complete.\n",
      "[2022-01-11 20:44:18 +0200] [3971] [CRITICAL] WORKER TIMEOUT (pid:3976)\n",
      "[2022-01-11 20:44:18 +0200] [3971] [WARNING] Worker with pid 3976 was terminated due to signal 6\n",
      "[2022-01-11 20:44:18 +0200] [4192] [INFO] Booting worker with pid: 4192\n",
      "[2022-01-11 20:44:18 +0200] [4192] [INFO] Started server process [4192]\n",
      "[2022-01-11 20:44:18 +0200] [4192] [INFO] Waiting for application startup.\n",
      "[2022-01-11 20:44:18 +0200] [4192] [INFO] Application startup complete.\n"
     ]
    }
   ],
   "source": [
    "!glx serve pipeline.pkl"
   ]
  },
  {
   "cell_type": "markdown",
   "id": "6f9f2c44",
   "metadata": {},
   "source": [
    "# Cloud?"
   ]
  },
  {
   "cell_type": "code",
   "execution_count": 23,
   "id": "2dd7aea1",
   "metadata": {
    "ExecuteTime": {
     "end_time": "2022-01-10T19:16:53.349608Z",
     "start_time": "2022-01-10T19:16:53.331881Z"
    },
    "hide_input": true
   },
   "outputs": [
    {
     "data": {
      "text/html": [
       "<img src=\"../assets/goldilox_platform.mp4\">"
      ],
      "text/plain": [
       "<IPython.core.display.HTML object>"
      ]
     },
     "execution_count": 23,
     "metadata": {},
     "output_type": "execute_result"
    }
   ],
   "source": [
    "from IPython.display import HTML\n",
    "\n",
    "HTML('<img src=\"../assets/goldilox_platform.mp4\">')"
   ]
  },
  {
   "cell_type": "code",
   "execution_count": 41,
   "id": "d01b46e2",
   "metadata": {
    "ExecuteTime": {
     "end_time": "2022-01-10T19:37:08.724316Z",
     "start_time": "2022-01-10T19:37:07.694165Z"
    }
   },
   "outputs": [
    {
     "name": "stdout",
     "output_type": "stream",
     "text": [
      "[{\"label\":\"setosa\",\"explanation\":{\"petal_length\":7.459984350379155,\"petal_ratio\":0.42930541889774837,\"petal_width\":2.453410553693382,\"sepal_length\":-0.009457565532484639,\"sepal_width\":1.1344151787901915}}]"
     ]
    }
   ],
   "source": [
    "!curl -X POST 'https://54794963-7468-4092-a196-fee1997e3fe4.ai.goldilox.cloud/inference?columns=label,explanation'\n",
    "    -H 'x-api-key: gVfxpfYRSE1LxaPtpCw7O4bw7zDuKIc13GyZbhse'\n",
    "    -d '[{\"sepal_length\":0,\"sepal_width\":3.5,\"petal_length\":1.4,\"petal_width\":0.2}]'"
   ]
  },
  {
   "cell_type": "code",
   "execution_count": 24,
   "id": "7444d2b7",
   "metadata": {
    "ExecuteTime": {
     "end_time": "2022-01-11T10:02:46.242332Z",
     "start_time": "2022-01-11T10:02:45.127526Z"
    }
   },
   "outputs": [
    {
     "name": "stdout",
     "output_type": "stream",
     "text": [
      "{\"map_choices\":[null,\"setosa\",\"versicolor\",\"virginica\"],\"branch\":\"demo\",\"version\":\"v1\",\"accuracy\":0.8}"
     ]
    }
   ],
   "source": [
    "!curl -X GET 'https://54794963-7468-4092-a196-fee1997e3fe4.ai.goldilox.cloud/variables'\n",
    "    -H 'x-api-key: gVfxpfYRSE1LxaPtpCw7O4bw7zDuKIc13GyZbhse'"
   ]
  },
  {
   "cell_type": "code",
   "execution_count": 12,
   "id": "ae2caa35",
   "metadata": {
    "ExecuteTime": {
     "end_time": "2022-01-10T19:49:08.919645Z",
     "start_time": "2022-01-10T19:49:08.191563Z"
    }
   },
   "outputs": [
    {
     "name": "stdout",
     "output_type": "stream",
     "text": [
      "\"I did demo and I liked it\""
     ]
    }
   ],
   "source": [
    "!curl -X GET 'https://54794963-7468-4092-a196-fee1997e3fe4.ai.goldilox.cloud/description'\n",
    "    -H 'x-api-key: gVfxpfYRSE1LxaPtpCw7O4bw7zDuKIc13GyZbhse'"
   ]
  },
  {
   "cell_type": "code",
   "execution_count": 13,
   "id": "e92a5e0f",
   "metadata": {
    "ExecuteTime": {
     "end_time": "2022-01-10T19:52:33.744914Z",
     "start_time": "2022-01-10T19:52:32.579663Z"
    }
   },
   "outputs": [
    {
     "name": "stdout",
     "output_type": "stream",
     "text": [
      "[{\"sepal_length\":-0.9006811702978292,\"sepal_width\":1.0190043519716407,\"petal_length\":-1.3402265266227675,\"petal_width\":-1.315444295007742,\"target\":null,\"petal_ratio\":1.083892220357854,\"predictions\":[0.9999999244542598,7.501099065332312e-08,5.347495067684637e-10],\"prediction\":0,\"label\":\"setosa\",\"explanation\":{\"petal_length\":7.4527461638798105,\"petal_ratio\":0.42930541889774837,\"petal_width\":2.453410553693382,\"sepal_length\":-0.024153277516005288,\"sepal_width\":1.1344151787901915}}]"
     ]
    }
   ],
   "source": [
    "!curl -X GET 'https://54794963-7468-4092-a196-fee1997e3fe4.ai.goldilox.cloud/example'\n",
    "    -H 'x-api-key: gVfxpfYRSE1LxaPtpCw7O4bw7zDuKIc13GyZbhse'"
   ]
  },
  {
   "cell_type": "markdown",
   "id": "8c2f494f",
   "metadata": {},
   "source": [
    "# Raw -> Production\n",
    "\n",
    "* [x] Classification\n",
    "* [x] Regression\n",
    "* [x] Clustering\n",
    "* [x] Nearest neighbors\n",
    "* [x] Recommendation systems\n",
    "* [x] Explainability\n",
    "* [x] Ensembles\n",
    "* [x] Domain logic"
   ]
  },
  {
   "cell_type": "code",
   "execution_count": 27,
   "id": "afbb5e65",
   "metadata": {
    "ExecuteTime": {
     "end_time": "2022-01-10T19:21:50.237327Z",
     "start_time": "2022-01-10T19:21:50.218167Z"
    },
    "hide_input": true
   },
   "outputs": [
    {
     "data": {
      "text/html": [
       "<img src=\"../assets/mind_blown.gif\">"
      ],
      "text/plain": [
       "<IPython.core.display.HTML object>"
      ]
     },
     "execution_count": 27,
     "metadata": {},
     "output_type": "execute_result"
    }
   ],
   "source": [
    "from IPython.display import HTML\n",
    "\n",
    "HTML('<img src=\"../assets/mind_blown.gif\">')"
   ]
  }
 ],
 "metadata": {
  "kernelspec": {
   "display_name": "Python 3 (ipykernel)",
   "language": "python",
   "name": "python3"
  },
  "language_info": {
   "codemirror_mode": {
    "name": "ipython",
    "version": 3
   },
   "file_extension": ".py",
   "mimetype": "text/x-python",
   "name": "python",
   "nbconvert_exporter": "python",
   "pygments_lexer": "ipython3",
   "version": "3.7.12"
  }
 },
 "nbformat": 4,
 "nbformat_minor": 5
}
