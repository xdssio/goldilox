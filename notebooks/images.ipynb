{
 "cells": [
  {
   "cell_type": "code",
   "execution_count": 11,
   "id": "6f25f4bf",
   "metadata": {
    "ExecuteTime": {
     "end_time": "2022-01-19T16:40:58.321422Z",
     "start_time": "2022-01-19T16:40:58.312720Z"
    }
   },
   "outputs": [],
   "source": [
    "class Image(object):\n",
    "     \"\"\"Image operations\n",
    "\n",
    "     Operations for images based on PIL/Pillow\n",
    "     \"\"\"\n",
    "     def __init__(self, expression):\n",
    "         self.expression = expression"
   ]
  },
  {
   "cell_type": "code",
   "execution_count": 7,
   "id": "0ef2bb70",
   "metadata": {
    "ExecuteTime": {
     "end_time": "2022-01-19T16:39:24.062675Z",
     "start_time": "2022-01-19T16:39:23.883059Z"
    }
   },
   "outputs": [],
   "source": [
    "import base64\n",
    "from copy import deepcopy\n",
    "from glob import glob\n",
    "from io import BytesIO\n",
    "\n",
    "import PIL.Image\n",
    "import numpy as np\n",
    "import vaex\n",
    "from vaex.image import rgba_2_pil\n",
    "\n",
    "basedir = '../data/images'\n",
    "\n",
    "filenames = glob(f'{basedir}/**/*[jpg|png|tiff|jpeg|svd]', recursive=True)\n",
    "'data/images/cat.jpg' in filenames\n",
    "\n",
    "\n",
    "@vaex.register_dataframe_accessor('image', override=True)\n",
    "class Image(object):\n",
    "\n",
    "    def __init__(self, df):\n",
    "        self.df = df\n",
    "\n",
    "    def read_image(self, path):\n",
    "        print('1')\n",
    "        try:\n",
    "            return deepcopy(PIL.Image.open(path))\n",
    "        except:\n",
    "            return None\n",
    "\n",
    "    def _open(self, paths):\n",
    "        images = [self._read_image(path) for path in self.df[paths].tolist()]\n",
    "        return np.array(images, dtype=\"O\")\n",
    "\n",
    "    def as_numpy(self, images):\n",
    "        images = [np.array(image) for image in images]\n",
    "        return np.array(images)\n",
    "\n",
    "    def resize(self, images, size, resample=3):\n",
    "        images = [image.resize(size, resample=resample) for image in images]\n",
    "        return np.array(images, dtype=\"O\")\n",
    "\n",
    "    def as_image(self, arrays):\n",
    "        return [rgba_2_pil(image_array) for image_array in arrays]\n",
    "\n",
    "\n",
    "@vaex.register_function(as_property=True)\n",
    "def path(ar):\n",
    "    images = []\n",
    "    for path in ar.tolist():\n",
    "        try:\n",
    "            if isinstance(path, bytes):\n",
    "                path = BytesIO(base64.b64decode(path))\n",
    "            images.append(deepcopy(PIL.Image.open(deepcopy(path))))\n",
    "        except:\n",
    "            images.append(None)\n",
    "    return np.array(images, dtype=\"O\")\n",
    "\n",
    "\n",
    "@vaex.register_function()\n",
    "def open_image(ar):\n",
    "    images = []\n",
    "    for path in ar.tolist():\n",
    "        try:\n",
    "            if isinstance(path, bytes):\n",
    "                path = BytesIO(base64.b64decode(path))\n",
    "            images.append(deepcopy(PIL.Image.open(deepcopy(path))))\n",
    "        except:\n",
    "            images.append(None)\n",
    "    return np.array(images, dtype=\"O\")\n",
    "\n",
    "\n",
    "def read_images(basedir, image_column_name='image', path_column_name='path'):\n",
    "    paths = glob(f'{basedir}/**/*[jpg|png|tiff|jpeg|svd]', recursive=True)\n",
    "    df = vaex.from_dict({path_column_name: paths})\n",
    "    df[image_column_name] = df[path_column_name].open_image()\n",
    "    return df\n",
    "\n",
    "\n",
    "df = read_images(basedir).dropna()\n",
    "df\n",
    "\n",
    "images = []\n",
    "for path in filenames[5:7]:\n",
    "    with open(path, \"rb\") as f:\n",
    "        images.append(base64.b64encode(f.read()))\n",
    "\n",
    "df2 = vaex.from_dict({'path': images})\n",
    "df2['image'] = df2.path.open_image()\n"
   ]
  },
  {
   "cell_type": "code",
   "execution_count": 9,
   "id": "c329025c",
   "metadata": {
    "ExecuteTime": {
     "end_time": "2022-01-19T16:39:38.651966Z",
     "start_time": "2022-01-19T16:39:38.367951Z"
    }
   },
   "outputs": [
    {
     "name": "stderr",
     "output_type": "stream",
     "text": [
      "/Users/yonatanalexander/development/xdss/goldilox/.venv/lib/python3.7/site-packages/ipykernel_launcher.py:69: FutureWarning: The input object of type 'JpegImageFile' is an array-like implementing one of the corresponding protocols (`__array__`, `__array_interface__` or `__array_struct__`); but not a sequence (or 0-D). In the future, this object will be coerced as if it was first converted using `np.array(obj)`. To retain the old behaviour, you have to either modify the type 'JpegImageFile', or assign to an empty array created with `np.empty(correct_shape, dtype=object)`.\n"
     ]
    },
    {
     "data": {
      "text/html": [
       "<table>\n",
       "<thead>\n",
       "<tr><th>#                                 </th><th>path                       </th><th>image                                              </th></tr>\n",
       "</thead>\n",
       "<tbody>\n",
       "<tr><td><i style='opacity: 0.6'>0</i>     </td><td>../data/images/cat         </td><td>None                                               </td></tr>\n",
       "<tr><td><i style='opacity: 0.6'>1</i>     </td><td>../data/images/dog         </td><td>None                                               </td></tr>\n",
       "<tr><td><i style='opacity: 0.6'>2</i>     </td><td>../data/images/cat.jpg     </td><td>&#x27;&lt;PIL.WebPImagePlugin.WebPImageFile image mode=R...</td></tr>\n",
       "<tr><td><i style='opacity: 0.6'>3</i>     </td><td>../data/images/cat/9733.jpg</td><td>&#x27;&lt;PIL.JpegImagePlugin.JpegImageFile image mode=R...</td></tr>\n",
       "<tr><td><i style='opacity: 0.6'>4</i>     </td><td>../data/images/cat/63.jpg  </td><td>&#x27;&lt;PIL.JpegImagePlugin.JpegImageFile image mode=R...</td></tr>\n",
       "<tr><td>...                               </td><td>...                        </td><td>...                                                </td></tr>\n",
       "<tr><td><i style='opacity: 0.6'>18,603</i></td><td>../data/images/dog/5676.jpg</td><td>&#x27;&lt;PIL.JpegImagePlugin.JpegImageFile image mode=R...</td></tr>\n",
       "<tr><td><i style='opacity: 0.6'>18,604</i></td><td>../data/images/dog/2119.jpg</td><td>&#x27;&lt;PIL.JpegImagePlugin.JpegImageFile image mode=R...</td></tr>\n",
       "<tr><td><i style='opacity: 0.6'>18,605</i></td><td>../data/images/dog/5110.jpg</td><td>&#x27;&lt;PIL.JpegImagePlugin.JpegImageFile image mode=R...</td></tr>\n",
       "<tr><td><i style='opacity: 0.6'>18,606</i></td><td>../data/images/dog/3561.jpg</td><td>&#x27;&lt;PIL.JpegImagePlugin.JpegImageFile image mode=R...</td></tr>\n",
       "<tr><td><i style='opacity: 0.6'>18,607</i></td><td>../data/images/dog/1376.jpg</td><td>&#x27;&lt;PIL.JpegImagePlugin.JpegImageFile image mode=R...</td></tr>\n",
       "</tbody>\n",
       "</table>"
      ],
      "text/plain": [
       "#       path                         image\n",
       "0       ../data/images/cat           None\n",
       "1       ../data/images/dog           None\n",
       "2       ../data/images/cat.jpg       '<PIL.WebPImagePlugin.WebPImageFile image mode=R...\n",
       "3       ../data/images/cat/9733.jpg  '<PIL.JpegImagePlugin.JpegImageFile image mode=R...\n",
       "4       ../data/images/cat/63.jpg    '<PIL.JpegImagePlugin.JpegImageFile image mode=R...\n",
       "...     ...                          ...\n",
       "18,603  ../data/images/dog/5676.jpg  '<PIL.JpegImagePlugin.JpegImageFile image mode=R...\n",
       "18,604  ../data/images/dog/2119.jpg  '<PIL.JpegImagePlugin.JpegImageFile image mode=R...\n",
       "18,605  ../data/images/dog/5110.jpg  '<PIL.JpegImagePlugin.JpegImageFile image mode=R...\n",
       "18,606  ../data/images/dog/3561.jpg  '<PIL.JpegImagePlugin.JpegImageFile image mode=R...\n",
       "18,607  ../data/images/dog/1376.jpg  '<PIL.JpegImagePlugin.JpegImageFile image mode=R..."
      ]
     },
     "execution_count": 9,
     "metadata": {},
     "output_type": "execute_result"
    }
   ],
   "source": [
    "df.dropna()"
   ]
  },
  {
   "cell_type": "code",
   "execution_count": 17,
   "id": "2a20a5a1",
   "metadata": {
    "ExecuteTime": {
     "end_time": "2022-01-19T16:43:21.794574Z",
     "start_time": "2022-01-19T16:43:21.725211Z"
    }
   },
   "outputs": [
    {
     "name": "stderr",
     "output_type": "stream",
     "text": [
      "/Users/yonatanalexander/development/xdss/goldilox/.venv/lib/python3.7/site-packages/ipykernel_launcher.py:69: FutureWarning: The input object of type 'JpegImageFile' is an array-like implementing one of the corresponding protocols (`__array__`, `__array_interface__` or `__array_struct__`); but not a sequence (or 0-D). In the future, this object will be coerced as if it was first converted using `np.array(obj)`. To retain the old behaviour, you have to either modify the type 'JpegImageFile', or assign to an empty array created with `np.empty(correct_shape, dtype=object)`.\n"
     ]
    }
   ],
   "source": [
    ".show()"
   ]
  },
  {
   "cell_type": "code",
   "execution_count": 19,
   "id": "69dd663a",
   "metadata": {
    "ExecuteTime": {
     "end_time": "2022-01-19T16:43:52.038027Z",
     "start_time": "2022-01-19T16:43:51.987861Z"
    }
   },
   "outputs": [
    {
     "name": "stderr",
     "output_type": "stream",
     "text": [
      "/Users/yonatanalexander/development/xdss/goldilox/.venv/lib/python3.7/site-packages/ipykernel_launcher.py:69: FutureWarning: The input object of type 'JpegImageFile' is an array-like implementing one of the corresponding protocols (`__array__`, `__array_interface__` or `__array_struct__`); but not a sequence (or 0-D). In the future, this object will be coerced as if it was first converted using `np.array(obj)`. To retain the old behaviour, you have to either modify the type 'JpegImageFile', or assign to an empty array created with `np.empty(correct_shape, dtype=object)`.\n"
     ]
    },
    {
     "data": {
      "text/plain": [
       "'<img src=\"<PIL.JpegImagePlugin.JpegImageFile image mode=RGB size=320x240 at 0x139FD6190>\"></img>'"
      ]
     },
     "execution_count": 19,
     "metadata": {},
     "output_type": "execute_result"
    }
   ],
   "source": [
    "url_data = df2['image'].values[0]\n",
    "f'<img src=\"{url_data}\"></img>'"
   ]
  },
  {
   "cell_type": "code",
   "execution_count": null,
   "id": "16192e76",
   "metadata": {},
   "outputs": [],
   "source": []
  }
 ],
 "metadata": {
  "kernelspec": {
   "display_name": "Python 3 (ipykernel)",
   "language": "python",
   "name": "python3"
  },
  "language_info": {
   "codemirror_mode": {
    "name": "ipython",
    "version": 3
   },
   "file_extension": ".py",
   "mimetype": "text/x-python",
   "name": "python",
   "nbconvert_exporter": "python",
   "pygments_lexer": "ipython3",
   "version": "3.7.12"
  }
 },
 "nbformat": 4,
 "nbformat_minor": 5
}
