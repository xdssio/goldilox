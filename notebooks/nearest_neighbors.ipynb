{
 "cells": [
  {
   "cell_type": "markdown",
   "metadata": {},
   "source": [
    "# Nearest neighbors    \n",
    "We will demonstrate here how to solve nearest neighbours with a few technologies, in both the Vaex and the SKlearn way."
   ]
  },
  {
   "cell_type": "markdown",
   "metadata": {},
   "source": [
    "## [KDTree (SKlearn)](https://scikit-learn.org/stable/auto_examples/neighbors/approximate_nearest_neighbors.html)\n"
   ]
  },
  {
   "cell_type": "markdown",
   "metadata": {},
   "source": [
    "### Vaex"
   ]
  },
  {
   "cell_type": "code",
   "execution_count": 45,
   "metadata": {},
   "outputs": [
    {
     "data": {
      "text/html": [
       "<table>\n",
       "<thead>\n",
       "<tr><th>#                            </th><th style=\"text-align: right;\">  id</th><th style=\"text-align: right;\">      x</th><th style=\"text-align: right;\">        y</th><th style=\"text-align: right;\">        z</th><th style=\"text-align: right;\">     vx</th><th style=\"text-align: right;\">     vy</th><th style=\"text-align: right;\">     vz</th><th style=\"text-align: right;\">      E</th><th style=\"text-align: right;\">      L</th><th style=\"text-align: right;\">     Lz</th><th style=\"text-align: right;\">     FeH</th><th>knn                      </th></tr>\n",
       "</thead>\n",
       "<tbody>\n",
       "<tr><td><i style='opacity: 0.6'>0</i></td><td style=\"text-align: right;\">   0</td><td style=\"text-align: right;\">1.23187</td><td style=\"text-align: right;\">-0.396929</td><td style=\"text-align: right;\">-0.598058</td><td style=\"text-align: right;\">301.155</td><td style=\"text-align: right;\">174.059</td><td style=\"text-align: right;\">27.4275</td><td style=\"text-align: right;\">-149431</td><td style=\"text-align: right;\">407.389</td><td style=\"text-align: right;\">333.956</td><td style=\"text-align: right;\">-1.00539</td><td>array([   0, 7713, 1744])</td></tr>\n",
       "</tbody>\n",
       "</table>"
      ],
      "text/plain": [
       "  #    id        x          y          z       vx       vy       vz        E        L       Lz       FeH  knn\n",
       "  0     0  1.23187  -0.396929  -0.598058  301.155  174.059  27.4275  -149431  407.389  333.956  -1.00539  array([   0, 7713, 1744])"
      ]
     },
     "execution_count": 45,
     "metadata": {},
     "output_type": "execute_result"
    }
   ],
   "source": [
    "import vaex\n",
    "from sklearn.neighbors import KDTree\n",
    "\n",
    "df = vaex.example().head(10000)\n",
    "features = df.get_column_names(regex=\"[^id]\")  # not the ida\n",
    "model = KDTree(df[features], leaf_size=2)\n",
    "\n",
    "@vaex.register_function(on_expression=False)\n",
    "def query(*columns):\n",
    "    data = np.array(columns).T\n",
    "    _, ind = model.query(data, k=3)\n",
    "    return ind\n",
    "\n",
    "df.add_function(\"query\", query)\n",
    "df[\"knn\"] = df.func.query(*tuple([df[col] for col in features]))\n",
    "\n",
    "pipeline = Pipeline.from_vaex(df)\n",
    "\n",
    "assert pipeline.validate()\n",
    "pipeline.inference(pipeline.raw)"
   ]
  },
  {
   "cell_type": "markdown",
   "metadata": {},
   "source": [
    "### Sklearn"
   ]
  },
  {
   "cell_type": "code",
   "execution_count": 47,
   "metadata": {},
   "outputs": [
    {
     "data": {
      "text/html": [
       "<div>\n",
       "<style scoped>\n",
       "    .dataframe tbody tr th:only-of-type {\n",
       "        vertical-align: middle;\n",
       "    }\n",
       "\n",
       "    .dataframe tbody tr th {\n",
       "        vertical-align: top;\n",
       "    }\n",
       "\n",
       "    .dataframe thead th {\n",
       "        text-align: right;\n",
       "    }\n",
       "</style>\n",
       "<table border=\"1\" class=\"dataframe\">\n",
       "  <thead>\n",
       "    <tr style=\"text-align: right;\">\n",
       "      <th></th>\n",
       "      <th>x</th>\n",
       "      <th>y</th>\n",
       "      <th>z</th>\n",
       "      <th>vx</th>\n",
       "      <th>vy</th>\n",
       "      <th>vz</th>\n",
       "      <th>E</th>\n",
       "      <th>L</th>\n",
       "      <th>Lz</th>\n",
       "      <th>FeH</th>\n",
       "      <th>knn</th>\n",
       "    </tr>\n",
       "  </thead>\n",
       "  <tbody>\n",
       "    <tr>\n",
       "      <th>0</th>\n",
       "      <td>1.231868</td>\n",
       "      <td>-0.396929</td>\n",
       "      <td>-0.598058</td>\n",
       "      <td>301.155273</td>\n",
       "      <td>174.059479</td>\n",
       "      <td>27.427546</td>\n",
       "      <td>-149431.40625</td>\n",
       "      <td>407.388977</td>\n",
       "      <td>333.955536</td>\n",
       "      <td>-1.005385</td>\n",
       "      <td>[0, 7713, 1744]</td>\n",
       "    </tr>\n",
       "  </tbody>\n",
       "</table>\n",
       "</div>"
      ],
      "text/plain": [
       "          x         y         z          vx          vy         vz  \\\n",
       "0  1.231868 -0.396929 -0.598058  301.155273  174.059479  27.427546   \n",
       "\n",
       "              E           L          Lz       FeH              knn  \n",
       "0 -149431.40625  407.388977  333.955536 -1.005385  [0, 7713, 1744]  "
      ]
     },
     "execution_count": 47,
     "metadata": {},
     "output_type": "execute_result"
    }
   ],
   "source": [
    "import vaex\n",
    "from sklearn.neighbors import KDTree\n",
    "import sklearn.pipeline\n",
    "from sklearn.base import TransformerMixin, BaseEstimator\n",
    "from sklearn.compose import ColumnTransformer\n",
    "from sklearn.impute import SimpleImputer\n",
    "\n",
    "df = vaex.example().head(10000)\n",
    "features = df.get_column_names(regex=\"[^id]\")  # not the ida\n",
    "\n",
    "X = df[features].to_pandas_df()\n",
    "\n",
    "class KDTreePredictor(TransformerMixin, BaseEstimator):\n",
    "    def __init__(self, features=None, leaf_size=2, k=3, output_column=\"knn\"):\n",
    "        self.index = None\n",
    "        self.ids = None\n",
    "        self.features = features\n",
    "        self.k = k\n",
    "        self.leaf_size = leaf_size\n",
    "        self.output_column = output_column\n",
    "        self.means = {}\n",
    "\n",
    "    def fit(self, X, y=None):        \n",
    "        if y is not None:\n",
    "            assert len(X) == len(y)\n",
    "            self.ids = {i: j for i, j in enumerate(y)}\n",
    "        if self.features and isinstance(self.features, list):\n",
    "            self.means = {feature:X[feature].mean() for feature in self.features}\n",
    "            X = X[self.features]        \n",
    "            \n",
    "        self.index = KDTree(X, leaf_size=self.leaf_size)\n",
    "        return self\n",
    "\n",
    "    def transform(self, X):\n",
    "        copy = X.copy()               \n",
    "        if self.index is None:\n",
    "            raise RuntimeError(\"model was not trained\")\n",
    "        if self.features and isinstance(self.features, list):            \n",
    "            copy = X[self.features]        \n",
    "            for feature in self.features:\n",
    "                copy[feature] = copy[feature].fillna(self.means.get(feature))\n",
    "        _, ind = self.index.query(copy, k=self.k)                \n",
    "        copy[self.output_column] = list(ind)\n",
    "        return copy\n",
    "    \n",
    "model = KDTreePredictor(features=features)\n",
    "\n",
    "pipeline = Pipeline.from_sklearn(model).fit(X)\n",
    "\n",
    "assert pipeline.validate()\n",
    "pipeline.inference(pipeline.raw)"
   ]
  },
  {
   "cell_type": "markdown",
   "metadata": {},
   "source": [
    "# [hnswlib](https://github.com/nmslib/hnswlib) (Recommended)\n",
    "## Vaex"
   ]
  },
  {
   "cell_type": "code",
   "execution_count": 134,
   "metadata": {},
   "outputs": [
    {
     "name": "stdout",
     "output_type": "stream",
     "text": [
      "  #    id          x          y          z        vx       vy        vz        E        L       Lz       FeH\n",
      "  0     0   1.23187   -0.396929  -0.598058   301.155  174.059   27.4275  -149431  407.389  333.956  -1.00539\n",
      "  1    23  -0.163701   3.65422   -0.254906  -195      170.472  142.53    -124248  890.241  684.668  -1.70867\n"
     ]
    }
   ],
   "source": [
    "import vaex\n",
    "\n",
    "df = vaex.example().head(1000)\n",
    "features = df.get_column_names(regex=\"[^id]\")  # not the ida\n",
    "print(df.head(2))"
   ]
  },
  {
   "cell_type": "code",
   "execution_count": 135,
   "metadata": {},
   "outputs": [
    {
     "data": {
      "text/html": [
       "<table>\n",
       "<thead>\n",
       "<tr><th>#                            </th><th style=\"text-align: right;\">  id</th><th style=\"text-align: right;\">      x</th><th style=\"text-align: right;\">        y</th><th style=\"text-align: right;\">        z</th><th style=\"text-align: right;\">     vx</th><th style=\"text-align: right;\">     vy</th><th style=\"text-align: right;\">     vz</th><th style=\"text-align: right;\">      E</th><th style=\"text-align: right;\">      L</th><th style=\"text-align: right;\">     Lz</th><th style=\"text-align: right;\">     FeH</th><th>knn                              </th></tr>\n",
       "</thead>\n",
       "<tbody>\n",
       "<tr><td><i style='opacity: 0.6'>0</i></td><td style=\"text-align: right;\">   0</td><td style=\"text-align: right;\">1.23187</td><td style=\"text-align: right;\">-0.396929</td><td style=\"text-align: right;\">-0.598058</td><td style=\"text-align: right;\">301.155</td><td style=\"text-align: right;\">174.059</td><td style=\"text-align: right;\">27.4275</td><td style=\"text-align: right;\">-149431</td><td style=\"text-align: right;\">407.389</td><td style=\"text-align: right;\">333.956</td><td style=\"text-align: right;\">-1.00539</td><td>array([ 0, 21, 24], dtype=uint64)</td></tr>\n",
       "</tbody>\n",
       "</table>"
      ],
      "text/plain": [
       "  #    id        x          y          z       vx       vy       vz        E        L       Lz       FeH  knn\n",
       "  0     0  1.23187  -0.396929  -0.598058  301.155  174.059  27.4275  -149431  407.389  333.956  -1.00539  array([ 0, 21, 24], dtype=uint64)"
      ]
     },
     "execution_count": 135,
     "metadata": {},
     "output_type": "execute_result"
    }
   ],
   "source": [
    "from hnswlib import Index\n",
    "import numpy as np\n",
    "from goldilox import Pipeline\n",
    "\n",
    "# Build index\n",
    "index = Index(\n",
    "    space=\"l2\", dim=df.shape[1] - 1\n",
    ")  # possible options are l2, cosine or ip\n",
    "index.init_index(max_elements=len(df), ef_construction=200, M=16)\n",
    "\n",
    "for i1, i2, chunk in df.to_pandas_df(chunk_size=1000):\n",
    "    X = chunk[features]\n",
    "    y = chunk[\"id\"]\n",
    "    index.add_items(X, y)\n",
    "\n",
    "index.set_ef(50)  # ef should always be > k (Controlling the recall by setting ef)\n",
    "\n",
    "# Add to Dataframe\n",
    "@vaex.register_function(on_expression=False)\n",
    "def topk(*columns, k=3):\n",
    "    labels, _ = index.knn_query(np.array(columns).T, k=k)\n",
    "    return np.array(labels)\n",
    "\n",
    "df[\"knn\"] = df.func.topk(*tuple([df[col] for col in features]), k=3)\n",
    "df.add_function(\"topk\", topk)\n",
    "\n",
    "# build pipeline for production\n",
    "pipeline = Pipeline.from_vaex(df)\n",
    "assert pipeline.validate\n",
    "pipeline.inference(pipeline.raw)"
   ]
  },
  {
   "cell_type": "markdown",
   "metadata": {},
   "source": [
    "# [nmslib](https://github.com/nmslib/nmslib/blob/master/python_bindings/README.md)\n",
    "Unfortunately nmslib is not pickable, but we can get over it by creating a class and implement *\\_\\_reduce\\_\\_()* for it and implementing the serialization."
   ]
  },
  {
   "cell_type": "markdown",
   "metadata": {},
   "source": [
    "## Vaex"
   ]
  },
  {
   "cell_type": "code",
   "execution_count": 131,
   "metadata": {},
   "outputs": [],
   "source": [
    "import vaex\n",
    "import nmslib \n",
    "\n",
    "df = vaex.example().head(1000)\n",
    "\n",
    "ids = {index: _id for index, _id in enumerate(df[\"id\"].tolist())}\n",
    "df.variables[\"id_map\"] = ids  # good practice\n",
    "\n",
    "features = df.get_column_names(regex=\"[^id]\")  # not the ida\n",
    "\n",
    "method = \"hnsw\"\n",
    "space = \"l2\"\n",
    "index = nmslib.init(method=method, space=space)\n",
    "index.addDataPointBatch(df[features])\n",
    "index.createIndex()"
   ]
  },
  {
   "cell_type": "code",
   "execution_count": 132,
   "metadata": {},
   "outputs": [],
   "source": [
    "import traitlets\n",
    "from tempfile import NamedTemporaryFile\n",
    "\n",
    "class NMSLibModel(traitlets.HasTraits):\n",
    "\n",
    "        # This should work with the reduce's arguments\n",
    "        def __init__(self, index=None, method=\"hnsw\", metric=\"cosinesimil\"):\n",
    "\n",
    "            self.method = method\n",
    "            self.metric = metric\n",
    "            self.index = self.decode(index)\n",
    "\n",
    "        # This is how you make a class pickalbe\n",
    "        def __reduce__(self):\n",
    "            return (self.__class__, (self.encode(), self.method, self.metric))\n",
    "\n",
    "        # how nmslib implemented serialization\n",
    "        def decode(self, encoding):\n",
    "            import nmslib\n",
    "\n",
    "            if isinstance(encoding, bytes):\n",
    "                index = nmslib.init(method=self.method, space=self.metric)\n",
    "                path = NamedTemporaryFile().name\n",
    "                with open(path, \"wb\") as outfile:\n",
    "                    outfile.write(encoding)\n",
    "                index.loadIndex(path)\n",
    "                return index\n",
    "            else:\n",
    "                return encoding\n",
    "\n",
    "        # how nmslib implemented serialization\n",
    "        def encode(self):\n",
    "            if isinstance(self.index, bytes):\n",
    "                return self.index\n",
    "            path = NamedTemporaryFile().name\n",
    "            self.index.saveIndex(path, save_data=True)\n",
    "            with open(path, \"rb\") as outfile:\n",
    "                encoding = outfile.read()\n",
    "            return encoding\n",
    "\n",
    "        def predict(self, data, k=3):\n",
    "            neighbours = self.index.knnQueryBatch(data, k=k)\n",
    "            return np.array(neighbours)[:, 0]\n",
    "\n",
    "model = NMSLibModel(index, method, space)"
   ]
  },
  {
   "cell_type": "code",
   "execution_count": 133,
   "metadata": {},
   "outputs": [
    {
     "data": {
      "text/html": [
       "<table>\n",
       "<thead>\n",
       "<tr><th>#                            </th><th style=\"text-align: right;\">  id</th><th style=\"text-align: right;\">      x</th><th style=\"text-align: right;\">        y</th><th style=\"text-align: right;\">        z</th><th style=\"text-align: right;\">     vx</th><th style=\"text-align: right;\">     vy</th><th style=\"text-align: right;\">     vz</th><th style=\"text-align: right;\">      E</th><th style=\"text-align: right;\">      L</th><th style=\"text-align: right;\">     Lz</th><th style=\"text-align: right;\">     FeH</th><th>knn                      </th><th>neighbours         </th></tr>\n",
       "</thead>\n",
       "<tbody>\n",
       "<tr><td><i style='opacity: 0.6'>0</i></td><td style=\"text-align: right;\">   0</td><td style=\"text-align: right;\">1.23187</td><td style=\"text-align: right;\">-0.396929</td><td style=\"text-align: right;\">-0.598058</td><td style=\"text-align: right;\">301.155</td><td style=\"text-align: right;\">174.059</td><td style=\"text-align: right;\">27.4275</td><td style=\"text-align: right;\">-149431</td><td style=\"text-align: right;\">407.389</td><td style=\"text-align: right;\">333.956</td><td style=\"text-align: right;\">-1.00539</td><td>array([  0., 704., 561.])</td><td>array([ 0, 21, 22])</td></tr>\n",
       "</tbody>\n",
       "</table>"
      ],
      "text/plain": [
       "  #    id        x          y          z       vx       vy       vz        E        L       Lz       FeH  knn                        neighbours\n",
       "  0     0  1.23187  -0.396929  -0.598058  301.155  174.059  27.4275  -149431  407.389  333.956  -1.00539  array([  0., 704., 561.])  array([ 0, 21, 22])"
      ]
     },
     "execution_count": 133,
     "metadata": {},
     "output_type": "execute_result"
    }
   ],
   "source": [
    "# Add a nearest neighbours index column\n",
    "@vaex.register_function(on_expression=False)\n",
    "def topk(*columns, k=3):\n",
    "    data = np.array(columns).T\n",
    "    return model.predict(data, k)\n",
    "df.add_function(\"topk\", topk)\n",
    "df[\"knn\"] = df.func.topk(*tuple([df[col] for col in features]))\n",
    "\n",
    "# Add a nearest neighbours actual ids\n",
    "@vaex.register_function(on_expression=True)\n",
    "def results(ar):\n",
    "    return np.vectorize(ids.get)(ar)\n",
    "\n",
    "df.add_function(\"results\", results)\n",
    "df[\"neighbours\"] = df[\"knn\"].results()\n",
    "\n",
    "pipeline = Pipeline.from_vaex(df)\n",
    "assert pipeline.validate()\n",
    "pipeline.inference(pipeline.raw)"
   ]
  },
  {
   "cell_type": "markdown",
   "metadata": {},
   "source": [
    "## Sklearn version\n",
    "We need to implement *fit* and  *transform* with a class that inherent TransformerMixin, BaseEstimator for sklearn.base.    \n",
    "Not forget the *\\_\\_reduce\\_\\_()* with the serialization."
   ]
  },
  {
   "cell_type": "code",
   "execution_count": 130,
   "metadata": {},
   "outputs": [
    {
     "data": {
      "text/html": [
       "<div>\n",
       "<style scoped>\n",
       "    .dataframe tbody tr th:only-of-type {\n",
       "        vertical-align: middle;\n",
       "    }\n",
       "\n",
       "    .dataframe tbody tr th {\n",
       "        vertical-align: top;\n",
       "    }\n",
       "\n",
       "    .dataframe thead th {\n",
       "        text-align: right;\n",
       "    }\n",
       "</style>\n",
       "<table border=\"1\" class=\"dataframe\">\n",
       "  <thead>\n",
       "    <tr style=\"text-align: right;\">\n",
       "      <th></th>\n",
       "      <th>x</th>\n",
       "      <th>y</th>\n",
       "      <th>z</th>\n",
       "      <th>vx</th>\n",
       "      <th>vy</th>\n",
       "      <th>vz</th>\n",
       "      <th>E</th>\n",
       "      <th>L</th>\n",
       "      <th>Lz</th>\n",
       "      <th>FeH</th>\n",
       "      <th>knn</th>\n",
       "    </tr>\n",
       "  </thead>\n",
       "  <tbody>\n",
       "    <tr>\n",
       "      <th>0</th>\n",
       "      <td>1.231868</td>\n",
       "      <td>-0.396929</td>\n",
       "      <td>-0.598058</td>\n",
       "      <td>301.155273</td>\n",
       "      <td>174.059479</td>\n",
       "      <td>27.427546</td>\n",
       "      <td>-149431.40625</td>\n",
       "      <td>407.388977</td>\n",
       "      <td>333.955536</td>\n",
       "      <td>-1.005385</td>\n",
       "      <td>[0, 21, 13, 13, 0]</td>\n",
       "    </tr>\n",
       "  </tbody>\n",
       "</table>\n",
       "</div>"
      ],
      "text/plain": [
       "          x         y         z          vx          vy         vz  \\\n",
       "0  1.231868 -0.396929 -0.598058  301.155273  174.059479  27.427546   \n",
       "\n",
       "              E           L          Lz       FeH                 knn  \n",
       "0 -149431.40625  407.388977  333.955536 -1.005385  [0, 21, 13, 13, 0]  "
      ]
     },
     "execution_count": 130,
     "metadata": {},
     "output_type": "execute_result"
    }
   ],
   "source": [
    "import vaex \n",
    "import nmslib\n",
    "from sklearn.base import TransformerMixin, BaseEstimator\n",
    "\n",
    "class NMSlibTransformer(TransformerMixin, BaseEstimator):\n",
    "        \"\"\"Wrapper for using nmslib as sklearn's KNeighborsTransformer\"\"\"\n",
    "\n",
    "        def __init__(\n",
    "            self,\n",
    "            n_neighbors=5,\n",
    "            output_column=\"knn\",\n",
    "            method=\"hnsw\",\n",
    "            metric=\"cosinesimil\",\n",
    "            n_jobs=1,\n",
    "            index=None,\n",
    "            ids = {}\n",
    "        ):\n",
    "\n",
    "            self.n_neighbors = n_neighbors\n",
    "            self.method = method\n",
    "            self.metric = metric\n",
    "            self.n_jobs = n_jobs\n",
    "            self.output_column = output_column\n",
    "            self.n_samples_fit_ = None\n",
    "            self.index = self._create_index(index)\n",
    "            self.ids = ids\n",
    "\n",
    "        def __reduce__(self):\n",
    "            return (\n",
    "                self.__class__,\n",
    "                (\n",
    "                    self.n_neighbors,\n",
    "                    self.output_column,\n",
    "                    self.method,\n",
    "                    self.metric,\n",
    "                    self.n_jobs,\n",
    "                    self._encode(),\n",
    "                    self.ids\n",
    "                ),\n",
    "            )\n",
    "\n",
    "        def _create_index(self, encoding):\n",
    "            import nmslib\n",
    "\n",
    "            if encoding is None:\n",
    "                return nmslib.init(method=self.method, space=self.metric)\n",
    "            if isinstance(encoding, bytes):\n",
    "                index = nmslib.init(method=self.method, space=self.metric)\n",
    "                path = NamedTemporaryFile().name\n",
    "                with open(path, \"wb\") as outfile:\n",
    "                    outfile.write(encoding)\n",
    "                index.loadIndex(path)\n",
    "                return index\n",
    "            else:\n",
    "                return encoding\n",
    "\n",
    "        def _encode(self):\n",
    "            if self.index is None:\n",
    "                return None\n",
    "            if isinstance(self.index, bytes):\n",
    "                return self.index\n",
    "            path = NamedTemporaryFile().name\n",
    "            self.index.saveIndex(path, save_data=True)\n",
    "            with open(path, \"rb\") as outfile:\n",
    "                encoding = outfile.read()\n",
    "            return encoding\n",
    "\n",
    "        def __sklearn_is_fitted__(self):\n",
    "            return self.n_samples_fit_ is not None\n",
    "\n",
    "        def fit(self, X, y=None):\n",
    "            self.ids = {index: _id for index, _id in enumerate(y)}            \n",
    "            self.n_samples_fit_ = X.shape[0]\n",
    "            self.index.addDataPointBatch(X)\n",
    "            self.index.createIndex()\n",
    "            return self\n",
    "\n",
    "        def transform(self, X):\n",
    "            results = self.index.knnQueryBatch(\n",
    "                X, k=self.n_neighbors, num_threads=self.n_jobs\n",
    "            )\n",
    "            indices, distances = zip(*results)\n",
    "            indices = np.vstack(indices)\n",
    "            X[self.output_column] = tuple(indices)                        \n",
    "            X[self.output_column] = X[self.output_column].apply(lambda x: [self.ids.get(i) for i in x])\n",
    "            return X\n",
    "\n",
    "df = vaex.example().head(100)\n",
    "features = df.get_column_names(regex=\"[^id]\")  # not the ida\n",
    "X = df[features].to_pandas_df() \n",
    "y = df['id'].values\n",
    "\n",
    "pipeline = Pipeline.from_sklearn(NMSlibTransformer()).fit(X, y)\n",
    "\n",
    "assert pipeline.validate()\n",
    "pipeline.inference(pipeline.raw)"
   ]
  },
  {
   "cell_type": "markdown",
   "metadata": {},
   "source": [
    "# Deploy (any pipeline)"
   ]
  },
  {
   "cell_type": "code",
   "execution_count": null,
   "metadata": {},
   "outputs": [],
   "source": [
    "print(f\"Saved to: {pipeline.save('pipeline.pkl')}\")\n",
    "print(f\"Check out the docs: http://127.0.0.1:5000/docs\\n\")\n",
    "\n",
    "!gl serve pipeline.pkl"
   ]
  }
 ],
 "metadata": {
  "interpreter": {
   "hash": "c02e8cefd04ff52e799f4aa259d2ee492875245d06169a1d386f6f6b41a66828"
  },
  "kernelspec": {
   "display_name": "Python 3.7.9 64-bit ('.venv': venv)",
   "language": "python",
   "name": "python3"
  },
  "language_info": {
   "codemirror_mode": {
    "name": "ipython",
    "version": 3
   },
   "file_extension": ".py",
   "mimetype": "text/x-python",
   "name": "python",
   "nbconvert_exporter": "python",
   "pygments_lexer": "ipython3",
   "version": "3.7.9"
  },
  "orig_nbformat": 4
 },
 "nbformat": 4,
 "nbformat_minor": 2
}
