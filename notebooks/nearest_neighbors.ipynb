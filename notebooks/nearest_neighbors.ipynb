{
 "cells": [
  {
   "cell_type": "markdown",
   "metadata": {},
   "source": [
    "# Nearest neighbors    \n",
    "We will demonstrate here how to solve nearest neighbours with a few technologies, in both the Vaex and the SKlearn way."
   ]
  },
  {
   "cell_type": "markdown",
   "metadata": {},
   "source": [
    "## Vaex hnswlib"
   ]
  },
  {
   "cell_type": "code",
   "execution_count": 2,
   "metadata": {},
   "outputs": [
    {
     "name": "stdout",
     "output_type": "stream",
     "text": [
      "  #    id          x          y          z        vx       vy        vz        E        L       Lz       FeH\n",
      "  0     0   1.23187   -0.396929  -0.598058   301.155  174.059   27.4275  -149431  407.389  333.956  -1.00539\n",
      "  1    23  -0.163701   3.65422   -0.254906  -195      170.472  142.53    -124248  890.241  684.668  -1.70867\n"
     ]
    }
   ],
   "source": [
    "import vaex\n",
    "\n",
    "df = vaex.example().head(10000)\n",
    "print(df.head(2))"
   ]
  },
  {
   "cell_type": "code",
   "execution_count": 3,
   "metadata": {},
   "outputs": [
    {
     "data": {
      "text/html": [
       "<table>\n",
       "<thead>\n",
       "<tr><th>#                            </th><th style=\"text-align: right;\">  id</th><th style=\"text-align: right;\">      x</th><th style=\"text-align: right;\">        y</th><th style=\"text-align: right;\">        z</th><th style=\"text-align: right;\">     vx</th><th style=\"text-align: right;\">     vy</th><th style=\"text-align: right;\">     vz</th><th style=\"text-align: right;\">      E</th><th style=\"text-align: right;\">      L</th><th style=\"text-align: right;\">     Lz</th><th style=\"text-align: right;\">     FeH</th><th>knn                              </th></tr>\n",
       "</thead>\n",
       "<tbody>\n",
       "<tr><td><i style='opacity: 0.6'>0</i></td><td style=\"text-align: right;\">   0</td><td style=\"text-align: right;\">1.23187</td><td style=\"text-align: right;\">-0.396929</td><td style=\"text-align: right;\">-0.598058</td><td style=\"text-align: right;\">301.155</td><td style=\"text-align: right;\">174.059</td><td style=\"text-align: right;\">27.4275</td><td style=\"text-align: right;\">-149431</td><td style=\"text-align: right;\">407.389</td><td style=\"text-align: right;\">333.956</td><td style=\"text-align: right;\">-1.00539</td><td>array([24, 31, 13], dtype=uint64)</td></tr>\n",
       "</tbody>\n",
       "</table>"
      ],
      "text/plain": [
       "  #    id        x          y          z       vx       vy       vz        E        L       Lz       FeH  knn\n",
       "  0     0  1.23187  -0.396929  -0.598058  301.155  174.059  27.4275  -149431  407.389  333.956  -1.00539  array([24, 31, 13], dtype=uint64)"
      ]
     },
     "execution_count": 3,
     "metadata": {},
     "output_type": "execute_result"
    }
   ],
   "source": [
    "from hnswlib import Index\n",
    "import numpy as np\n",
    "from goldilox import Pipeline\n",
    "\n",
    "# Build index\n",
    "index = Index(\n",
    "    space=\"l2\", dim=df.shape[1] - 1\n",
    ")  # possible options are l2, cosine or ip\n",
    "index.init_index(max_elements=len(df), ef_construction=200, M=16)\n",
    "features = df.get_column_names(regex=\"[^id]\")  # not the ida\n",
    "\n",
    "for i1, i2, chunk in df.to_pandas_df(chunk_size=1000):\n",
    "    X = chunk[features]\n",
    "    y = chunk[\"id\"]\n",
    "    index.add_items(X, y)\n",
    "\n",
    "index.set_ef(50)  # ef should always be > k (Controlling the recall by setting ef)\n",
    "\n",
    "# Add to Dataframe\n",
    "@vaex.register_function(on_expression=False)\n",
    "def topk(*columns, k=3):\n",
    "    labels, _ = index.knn_query(np.array(columns).T, k=k)\n",
    "    return np.array(labels)\n",
    "\n",
    "df[\"knn\"] = df.func.topk(*tuple([df[col] for col in features]), k=3)\n",
    "df.add_function(\"topk\", topk)\n",
    "\n",
    "# build pipeline for production\n",
    "pipeline = Pipeline.from_vaex(df)\n",
    "assert pipeline.validate\n",
    "pipeline.inference(pipeline.raw)"
   ]
  },
  {
   "cell_type": "markdown",
   "metadata": {},
   "source": [
    "## [KDTree]((https://scikit-learn.org/stable/auto_examples/neighbors/approximate_nearest_neighbors.html))\n"
   ]
  },
  {
   "cell_type": "markdown",
   "metadata": {},
   "source": [
    "### Vaex"
   ]
  },
  {
   "cell_type": "code",
   "execution_count": 4,
   "metadata": {},
   "outputs": [
    {
     "data": {
      "text/html": [
       "<table>\n",
       "<thead>\n",
       "<tr><th>#                            </th><th style=\"text-align: right;\">  id</th><th style=\"text-align: right;\">      x</th><th style=\"text-align: right;\">        y</th><th style=\"text-align: right;\">        z</th><th style=\"text-align: right;\">     vx</th><th style=\"text-align: right;\">     vy</th><th style=\"text-align: right;\">     vz</th><th style=\"text-align: right;\">      E</th><th style=\"text-align: right;\">      L</th><th style=\"text-align: right;\">     Lz</th><th style=\"text-align: right;\">     FeH</th><th>predictions              </th></tr>\n",
       "</thead>\n",
       "<tbody>\n",
       "<tr><td><i style='opacity: 0.6'>0</i></td><td style=\"text-align: right;\">   0</td><td style=\"text-align: right;\">1.23187</td><td style=\"text-align: right;\">-0.396929</td><td style=\"text-align: right;\">-0.598058</td><td style=\"text-align: right;\">301.155</td><td style=\"text-align: right;\">174.059</td><td style=\"text-align: right;\">27.4275</td><td style=\"text-align: right;\">-149431</td><td style=\"text-align: right;\">407.389</td><td style=\"text-align: right;\">333.956</td><td style=\"text-align: right;\">-1.00539</td><td>array([   0, 7713, 1744])</td></tr>\n",
       "</tbody>\n",
       "</table>"
      ],
      "text/plain": [
       "  #    id        x          y          z       vx       vy       vz        E        L       Lz       FeH  predictions\n",
       "  0     0  1.23187  -0.396929  -0.598058  301.155  174.059  27.4275  -149431  407.389  333.956  -1.00539  array([   0, 7713, 1744])"
      ]
     },
     "execution_count": 4,
     "metadata": {},
     "output_type": "execute_result"
    }
   ],
   "source": [
    "import vaex\n",
    "from sklearn.neighbors import KDTree\n",
    "\n",
    "df = vaex.example().head(10000)\n",
    "\n",
    "model = KDTree(df[features], leaf_size=2)\n",
    "\n",
    "@vaex.register_function(on_expression=False)\n",
    "def query(*columns):\n",
    "    data = np.array(columns).T\n",
    "    dist, ind = model.query(data, k=3)\n",
    "    return ind\n",
    "\n",
    "df.add_function(\"query\", query)\n",
    "df[\"predictions\"] = df.func.query(*tuple([df[col] for col in features]))\n",
    "\n",
    "pipeline = Pipeline.from_vaex(df)\n",
    "\n",
    "assert pipeline.validate()\n",
    "pipeline.inference(pipeline.raw)"
   ]
  },
  {
   "cell_type": "markdown",
   "metadata": {},
   "source": [
    "### Sklearn"
   ]
  },
  {
   "cell_type": "code",
   "execution_count": 43,
   "metadata": {},
   "outputs": [
    {
     "data": {
      "text/html": [
       "<div>\n",
       "<style scoped>\n",
       "    .dataframe tbody tr th:only-of-type {\n",
       "        vertical-align: middle;\n",
       "    }\n",
       "\n",
       "    .dataframe tbody tr th {\n",
       "        vertical-align: top;\n",
       "    }\n",
       "\n",
       "    .dataframe thead th {\n",
       "        text-align: right;\n",
       "    }\n",
       "</style>\n",
       "<table border=\"1\" class=\"dataframe\">\n",
       "  <thead>\n",
       "    <tr style=\"text-align: right;\">\n",
       "      <th></th>\n",
       "      <th>x</th>\n",
       "      <th>y</th>\n",
       "      <th>z</th>\n",
       "      <th>vx</th>\n",
       "      <th>vy</th>\n",
       "      <th>vz</th>\n",
       "      <th>E</th>\n",
       "      <th>L</th>\n",
       "      <th>Lz</th>\n",
       "      <th>FeH</th>\n",
       "      <th>results</th>\n",
       "    </tr>\n",
       "  </thead>\n",
       "  <tbody>\n",
       "    <tr>\n",
       "      <th>0</th>\n",
       "      <td>1.231868</td>\n",
       "      <td>-0.396929</td>\n",
       "      <td>-0.598058</td>\n",
       "      <td>301.155273</td>\n",
       "      <td>174.059479</td>\n",
       "      <td>27.427546</td>\n",
       "      <td>-149431.40625</td>\n",
       "      <td>407.388977</td>\n",
       "      <td>333.955536</td>\n",
       "      <td>-1.005385</td>\n",
       "      <td>[0, 7713, 1744]</td>\n",
       "    </tr>\n",
       "  </tbody>\n",
       "</table>\n",
       "</div>"
      ],
      "text/plain": [
       "          x         y         z          vx          vy         vz  \\\n",
       "0  1.231868 -0.396929 -0.598058  301.155273  174.059479  27.427546   \n",
       "\n",
       "              E           L          Lz       FeH          results  \n",
       "0 -149431.40625  407.388977  333.955536 -1.005385  [0, 7713, 1744]  "
      ]
     },
     "execution_count": 43,
     "metadata": {},
     "output_type": "execute_result"
    }
   ],
   "source": [
    "import vaex\n",
    "from sklearn.neighbors import KDTree\n",
    "import sklearn.pipeline\n",
    "from sklearn.base import TransformerMixin, BaseEstimator\n",
    "from sklearn.compose import ColumnTransformer\n",
    "from sklearn.impute import SimpleImputer\n",
    "\n",
    "df = vaex.example().head(10000)\n",
    "features = df.get_column_names(regex=\"[^id]\")  # not the ida\n",
    "\n",
    "X = df[features].to_pandas_df()\n",
    "\n",
    "class KDTreePredictor(TransformerMixin, BaseEstimator):\n",
    "    def __init__(self, features=None, leaf_size=2, k=3, output_column=\"results\"):\n",
    "        self.index = None\n",
    "        self.ids = None\n",
    "        self.features = features\n",
    "        self.k = k\n",
    "        self.leaf_size = leaf_size\n",
    "        self.output_column = output_column\n",
    "        self.means = {}\n",
    "\n",
    "    def fit(self, X, y=None):        \n",
    "        if y is not None:\n",
    "            assert len(X) == len(y)\n",
    "            self.ids = {i: j for i, j in enumerate(y)}\n",
    "        if self.features and isinstance(self.features, list):\n",
    "            self.means = {feature:X[feature].mean() for feature in self.features}\n",
    "            X = X[self.features]        \n",
    "            \n",
    "        self.index = KDTree(X, leaf_size=self.leaf_size)\n",
    "        return self\n",
    "\n",
    "    def transform(self, X):\n",
    "        copy = X.copy()               \n",
    "        if self.index is None:\n",
    "            raise RuntimeError(\"model was not trained\")\n",
    "        if self.features and isinstance(self.features, list):            \n",
    "            copy = X[self.features]        \n",
    "            for feature in self.features:\n",
    "                copy[feature] = copy[feature].fillna(self.means.get(feature))\n",
    "        _, ind = self.index.query(copy, k=self.k)                \n",
    "        copy[self.output_column] = list(ind)\n",
    "        return copy\n",
    "    \n",
    "model = KDTreePredictor(features=features)\n",
    "\n",
    "pipeline = Pipeline.from_sklearn(model).fit(X)\n",
    "\n",
    "assert pipeline.validate()\n",
    "pipeline.inference(pipeline.raw)"
   ]
  },
  {
   "cell_type": "markdown",
   "metadata": {},
   "source": []
  }
 ],
 "metadata": {
  "interpreter": {
   "hash": "c02e8cefd04ff52e799f4aa259d2ee492875245d06169a1d386f6f6b41a66828"
  },
  "kernelspec": {
   "display_name": "Python 3.7.9 64-bit ('.venv': venv)",
   "language": "python",
   "name": "python3"
  },
  "language_info": {
   "codemirror_mode": {
    "name": "ipython",
    "version": 3
   },
   "file_extension": ".py",
   "mimetype": "text/x-python",
   "name": "python",
   "nbconvert_exporter": "python",
   "pygments_lexer": "ipython3",
   "version": "3.7.9"
  },
  "orig_nbformat": 4
 },
 "nbformat": 4,
 "nbformat_minor": 2
}
