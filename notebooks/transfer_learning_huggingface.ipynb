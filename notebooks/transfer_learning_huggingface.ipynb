{
 "cells": [
  {
   "cell_type": "code",
   "execution_count": null,
   "id": "dc365f4d",
   "metadata": {
    "ExecuteTime": {
     "start_time": "2022-01-21T17:13:47.673Z"
    }
   },
   "outputs": [
    {
     "name": "stderr",
     "output_type": "stream",
     "text": [
      "No model was supplied, defaulted to distilbert-base-uncased-finetuned-sst-2-english (https://huggingface.co/distilbert-base-uncased-finetuned-sst-2-english)\n"
     ]
    }
   ],
   "source": [
    "from transformers import pipeline as SentimentAnalysis\n",
    "import vaex\n",
    "import pyarrow as pa\n",
    "from goldilox import Pipeline\n",
    "\n",
    "classifier = SentimentAnalysis('sentiment-analysis')\n",
    "\n",
    "@vaex.register_function()\n",
    "def sentiment(ar):\n",
    "    if isinstance(ar, str):\n",
    "        ar = [ar]\n",
    "    return pa.array(classifier(ar.tolist()))\n",
    "\n",
    "df = vaex.from_arrays(text=['transfer learning with huggingface is great.',\n",
    "                            'I do not like this movie'])\n",
    "df['text'] = df['text'].fillna('')\n",
    "df['results'] = df.text.sentiment()\n",
    "\n",
    "model = Pipeline.from_vaex(df)\n",
    "model.inference({'text': 'this is my life, and I love it'})"
   ]
  }
 ],
 "metadata": {
  "kernelspec": {
   "display_name": "Python 3 (ipykernel)",
   "language": "python",
   "name": "python3"
  },
  "language_info": {
   "codemirror_mode": {
    "name": "ipython",
    "version": 3
   },
   "file_extension": ".py",
   "mimetype": "text/x-python",
   "name": "python",
   "nbconvert_exporter": "python",
   "pygments_lexer": "ipython3",
   "version": "3.7.12"
  }
 },
 "nbformat": 4,
 "nbformat_minor": 5
}
