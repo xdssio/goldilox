{
 "cells": [
  {
   "cell_type": "markdown",
   "metadata": {},
   "source": [
    "# Wide&Deep\n",
    "Using the wide&deep deep learning architecture with pytorch. \n",
    "\n",
    "[Docs](https://pytorch-widedeep.readthedocs.io/en/latest/index.html)"
   ]
  },
  {
   "cell_type": "markdown",
   "metadata": {
    "ExecuteTime": {
     "end_time": "2022-02-01T16:48:10.491084Z",
     "start_time": "2022-02-01T16:48:10.340276Z"
    }
   },
   "source": [
    "![text](https://github.com/jrzaurin/pytorch-widedeep/raw/master/docs/figures/widedeep_arch.png)"
   ]
  },
  {
   "cell_type": "code",
   "execution_count": 2,
   "metadata": {
    "colab": {
     "base_uri": "https://localhost:8080/",
     "height": 136
    },
    "id": "SXV9MS_pJvHM",
    "outputId": "0ee6ed24-28a8-43e4-d3b6-02065e2e31c3"
   },
   "outputs": [
    {
     "data": {
      "text/html": [
       "<table>\n",
       "<thead>\n",
       "<tr><th>#                            </th><th style=\"text-align: right;\">  age</th><th>workclass       </th><th style=\"text-align: right;\">  education_num</th><th>marital_status    </th><th>occupation     </th><th>relationship  </th><th>race  </th><th>sex  </th><th style=\"text-align: right;\">  capital_gain</th><th style=\"text-align: right;\">  capital_loss</th><th style=\"text-align: right;\">  hours_per_week</th><th>country      </th><th>target  </th></tr>\n",
       "</thead>\n",
       "<tbody>\n",
       "<tr><td><i style='opacity: 0.6'>0</i></td><td style=\"text-align: right;\">   39</td><td>State-gov       </td><td style=\"text-align: right;\">             13</td><td>Never-married     </td><td>Adm-clerical   </td><td>Not-in-family </td><td>White </td><td>Male </td><td style=\"text-align: right;\">          2174</td><td style=\"text-align: right;\">             0</td><td style=\"text-align: right;\">              40</td><td>United-States</td><td>False   </td></tr>\n",
       "<tr><td><i style='opacity: 0.6'>1</i></td><td style=\"text-align: right;\">   50</td><td>Self-emp-not-inc</td><td style=\"text-align: right;\">             13</td><td>Married-civ-spouse</td><td>Exec-managerial</td><td>Husband       </td><td>White </td><td>Male </td><td style=\"text-align: right;\">             0</td><td style=\"text-align: right;\">             0</td><td style=\"text-align: right;\">              13</td><td>United-States</td><td>False   </td></tr>\n",
       "</tbody>\n",
       "</table>"
      ],
      "text/plain": [
       "  #    age  workclass           education_num  marital_status      occupation       relationship    race    sex      capital_gain    capital_loss    hours_per_week  country        target\n",
       "  0     39  State-gov                      13  Never-married       Adm-clerical     Not-in-family   White   Male             2174               0                40  United-States  False\n",
       "  1     50  Self-emp-not-inc               13  Married-civ-spouse  Exec-managerial  Husband         White   Male                0               0                13  United-States  False"
      ]
     },
     "execution_count": 2,
     "metadata": {},
     "output_type": "execute_result"
    }
   ],
   "source": [
    "import vaex\n",
    "\n",
    "df = vaex.open(\"data/adult.arrow\").as_numpy()\n",
    "df.head(2)"
   ]
  },
  {
   "cell_type": "code",
   "execution_count": 4,
   "metadata": {
    "colab": {
     "base_uri": "https://localhost:8080/",
     "height": 136
    },
    "id": "B-g23X6c6ZT4",
    "outputId": "6d4e8d27-f099-4519-e8ee-bfa7d8ae8f95"
   },
   "outputs": [
    {
     "data": {
      "text/html": [
       "<table>\n",
       "<thead>\n",
       "<tr><th>#                            </th><th style=\"text-align: right;\">  age</th><th>workclass       </th><th style=\"text-align: right;\">  education_num</th><th>marital_status    </th><th>occupation     </th><th>relationship  </th><th>race  </th><th>sex  </th><th style=\"text-align: right;\">  capital_gain</th><th style=\"text-align: right;\">  capital_loss</th><th style=\"text-align: right;\">  hours_per_week</th><th>country      </th><th>target  </th></tr>\n",
       "</thead>\n",
       "<tbody>\n",
       "<tr><td><i style='opacity: 0.6'>0</i></td><td style=\"text-align: right;\">   39</td><td>State-gov       </td><td style=\"text-align: right;\">             13</td><td>Never-married     </td><td>Adm-clerical   </td><td>Not-in-family </td><td>White </td><td>Male </td><td style=\"text-align: right;\">          2174</td><td style=\"text-align: right;\">             0</td><td style=\"text-align: right;\">              40</td><td>United-States</td><td>False   </td></tr>\n",
       "<tr><td><i style='opacity: 0.6'>1</i></td><td style=\"text-align: right;\">   50</td><td>Self-emp-not-inc</td><td style=\"text-align: right;\">             13</td><td>Married-civ-spouse</td><td>Exec-managerial</td><td>Husband       </td><td>White </td><td>Male </td><td style=\"text-align: right;\">             0</td><td style=\"text-align: right;\">             0</td><td style=\"text-align: right;\">              13</td><td>United-States</td><td>False   </td></tr>\n",
       "</tbody>\n",
       "</table>"
      ],
      "text/plain": [
       "  #    age  workclass           education_num  marital_status      occupation       relationship    race    sex      capital_gain    capital_loss    hours_per_week  country        target\n",
       "  0     39  State-gov                      13  Never-married       Adm-clerical     Not-in-family   White   Male             2174               0                40  United-States  False\n",
       "  1     50  Self-emp-not-inc               13  Married-civ-spouse  Exec-managerial  Husband         White   Male                0               0                13  United-States  False"
      ]
     },
     "execution_count": 4,
     "metadata": {},
     "output_type": "execute_result"
    }
   ],
   "source": [
    "import pandas as pd\n",
    "import numpy as np\n",
    "import torch\n",
    "from pytorch_widedeep import Trainer\n",
    "from pytorch_widedeep.preprocessing import WidePreprocessor, TabPreprocessor\n",
    "from pytorch_widedeep.models import Wide, TabMlp, WideDeep\n",
    "from pytorch_widedeep.metrics import Accuracy\n",
    "\n",
    "\n",
    "train, test = df.ml.train_test_split(0.8)\n",
    "target_col = \"target\"\n",
    "\n",
    "# target\n",
    "target = train[target_col].values\n",
    "df_train = train.to_pandas_df() \n",
    "df_test= test.to_pandas_df()\n",
    "\n",
    "df.head(2)"
   ]
  },
  {
   "cell_type": "markdown",
   "metadata": {},
   "source": [
    "# Modeling"
   ]
  },
  {
   "cell_type": "code",
   "execution_count": 5,
   "metadata": {
    "id": "EwbODsLE2_8-"
   },
   "outputs": [],
   "source": [
    "# wide\n",
    "wide_cols = [\n",
    "    \"education_num\",\n",
    "    \"relationship\",\n",
    "    \"workclass\",\n",
    "    \"occupation\",\n",
    "    \"country\",\n",
    "    \"sex\",\n",
    "]\n",
    "cross_cols = [(\"education_num\", \"occupation\"), (\"country\", \"occupation\")]\n",
    "wide_preprocessor = WidePreprocessor(wide_cols=wide_cols, crossed_cols=cross_cols)\n",
    "X_wide = wide_preprocessor.fit_transform(df_train)\n",
    "wide = Wide(wide_dim=np.unique(X_wide).shape[0], pred_dim=1)\n",
    "\n",
    "# deeptabular\n",
    "embed_cols = [\n",
    "    (\"education_num\", 16),\n",
    "    (\"workclass\", 16),\n",
    "    (\"occupation\", 16),\n",
    "    (\"country\", 32),\n",
    "]\n",
    "cont_cols = [\"age\", \"hours_per_week\"]\n",
    "tab_preprocessor = TabPreprocessor(embed_cols=embed_cols, continuous_cols=cont_cols)\n",
    "X_tab = tab_preprocessor.fit_transform(df_train)\n",
    "deeptabular = TabMlp(\n",
    "    mlp_hidden_dims=[64, 32],\n",
    "    column_idx=tab_preprocessor.column_idx,\n",
    "    embed_input=tab_preprocessor.embeddings_input,\n",
    "    continuous_cols=cont_cols,\n",
    ")\n",
    "\n",
    "# wide and deep\n",
    "model = WideDeep(wide=wide, deeptabular=deeptabular)\n",
    "\n",
    "# train the model\n",
    "trainer = Trainer(model, objective=\"binary\", metrics=[Accuracy], verbose=False)\n",
    "trainer.fit(\n",
    "    X_wide=X_wide,\n",
    "    X_tab=X_tab,\n",
    "    target=target,\n",
    "    n_epochs=5,\n",
    "    batch_size=256,\n",
    "    val_split=0.1,\n",
    ")"
   ]
  },
  {
   "cell_type": "markdown",
   "metadata": {},
   "source": [
    "## Add the model as a column"
   ]
  },
  {
   "cell_type": "code",
   "execution_count": 6,
   "metadata": {
    "colab": {
     "base_uri": "https://localhost:8080/",
     "height": 136
    },
    "id": "qzQPsvgJ6F4g",
    "outputId": "e0e2cd44-3073-43de-c08d-ae16a709b12d"
   },
   "outputs": [
    {
     "data": {
      "text/html": [
       "<table>\n",
       "<thead>\n",
       "<tr><th>#                            </th><th style=\"text-align: right;\">  age</th><th>workclass       </th><th style=\"text-align: right;\">  education_num</th><th>marital_status    </th><th>occupation     </th><th>relationship  </th><th>race  </th><th>sex  </th><th style=\"text-align: right;\">  capital_gain</th><th style=\"text-align: right;\">  capital_loss</th><th style=\"text-align: right;\">  hours_per_week</th><th>country      </th><th>target  </th><th style=\"text-align: right;\">  predictions</th></tr>\n",
       "</thead>\n",
       "<tbody>\n",
       "<tr><td><i style='opacity: 0.6'>0</i></td><td style=\"text-align: right;\">   39</td><td>State-gov       </td><td style=\"text-align: right;\">             13</td><td>Never-married     </td><td>Adm-clerical   </td><td>Not-in-family </td><td>White </td><td>Male </td><td style=\"text-align: right;\">          2174</td><td style=\"text-align: right;\">             0</td><td style=\"text-align: right;\">              40</td><td>United-States</td><td>False   </td><td style=\"text-align: right;\">            0</td></tr>\n",
       "<tr><td><i style='opacity: 0.6'>1</i></td><td style=\"text-align: right;\">   50</td><td>Self-emp-not-inc</td><td style=\"text-align: right;\">             13</td><td>Married-civ-spouse</td><td>Exec-managerial</td><td>Husband       </td><td>White </td><td>Male </td><td style=\"text-align: right;\">             0</td><td style=\"text-align: right;\">             0</td><td style=\"text-align: right;\">              13</td><td>United-States</td><td>False   </td><td style=\"text-align: right;\">            1</td></tr>\n",
       "</tbody>\n",
       "</table>"
      ],
      "text/plain": [
       "  #    age  workclass           education_num  marital_status      occupation       relationship    race    sex      capital_gain    capital_loss    hours_per_week  country        target      predictions\n",
       "  0     39  State-gov                      13  Never-married       Adm-clerical     Not-in-family   White   Male             2174               0                40  United-States  False                 0\n",
       "  1     50  Self-emp-not-inc               13  Married-civ-spouse  Exec-managerial  Husband         White   Male                0               0                13  United-States  False                 1"
      ]
     },
     "execution_count": 6,
     "metadata": {},
     "output_type": "execute_result"
    }
   ],
   "source": [
    "features = wide_cols + cont_cols\n",
    "\n",
    "@vaex.register_function()\n",
    "def predict(*columns):\n",
    "    data = pd.DataFrame(np.array(columns).T, columns=features)    \n",
    "    X_wide_te = wide_preprocessor.transform(data)\n",
    "    X_tab_te = tab_preprocessor.transform(data)\n",
    "    pred = trainer.predict(X_wide=X_wide_te, X_tab=X_tab_te)\n",
    "    return pred\n",
    "\n",
    "df.add_function('predict',predict)\n",
    "df['predictions'] = df.func.predict(*features)\n",
    "df.head(2)"
   ]
  },
  {
   "cell_type": "markdown",
   "metadata": {},
   "source": [
    "# Create pipeline"
   ]
  },
  {
   "cell_type": "code",
   "execution_count": 7,
   "metadata": {
    "colab": {
     "base_uri": "https://localhost:8080/",
     "height": 132
    },
    "id": "rbn-k18-52kH",
    "outputId": "cb6971e0-8558-4582-e8e0-38c5b15fdda0"
   },
   "outputs": [
    {
     "name": "stderr",
     "output_type": "stream",
     "text": [
      "/usr/lib/python3.7/tempfile.py:937: ResourceWarning: Implicitly cleaning up <TemporaryDirectory '/tmp/tmp7h2u1vno'>\n",
      "  _warnings.warn(warn_message, ResourceWarning)\n"
     ]
    },
    {
     "data": {
      "text/html": [
       "<table>\n",
       "<thead>\n",
       "<tr><th>#                            </th><th style=\"text-align: right;\">  age</th><th>workclass  </th><th style=\"text-align: right;\">  education_num</th><th>marital_status  </th><th>occupation  </th><th>relationship  </th><th>race  </th><th>sex  </th><th style=\"text-align: right;\">  capital_gain</th><th style=\"text-align: right;\">  capital_loss</th><th style=\"text-align: right;\">  hours_per_week</th><th>country      </th><th>target  </th><th style=\"text-align: right;\">  predictions</th></tr>\n",
       "</thead>\n",
       "<tbody>\n",
       "<tr><td><i style='opacity: 0.6'>0</i></td><td style=\"text-align: right;\">   39</td><td>State-gov  </td><td style=\"text-align: right;\">             13</td><td>Never-married   </td><td>Adm-clerical</td><td>Not-in-family </td><td>White </td><td>Male </td><td style=\"text-align: right;\">          2174</td><td style=\"text-align: right;\">             0</td><td style=\"text-align: right;\">              40</td><td>United-States</td><td>False   </td><td style=\"text-align: right;\">            0</td></tr>\n",
       "</tbody>\n",
       "</table>"
      ],
      "text/plain": [
       "  #    age  workclass      education_num  marital_status    occupation    relationship    race    sex      capital_gain    capital_loss    hours_per_week  country        target      predictions\n",
       "  0     39  State-gov                 13  Never-married     Adm-clerical  Not-in-family   White   Male             2174               0                40  United-States  False                 0"
      ]
     },
     "execution_count": 7,
     "metadata": {},
     "output_type": "execute_result"
    }
   ],
   "source": [
    "from goldilox import Pipeline\n",
    "\n",
    "pipeline = Pipeline.from_vaex(df)\n",
    "pipeline.inference(pipeline.raw)"
   ]
  }
 ],
 "metadata": {
  "colab": {
   "collapsed_sections": [],
   "name": "wide_n_deep.ipynb",
   "provenance": []
  },
  "kernelspec": {
   "display_name": "Python 3 (ipykernel)",
   "language": "python",
   "name": "python3"
  },
  "language_info": {
   "codemirror_mode": {
    "name": "ipython",
    "version": 3
   },
   "file_extension": ".py",
   "mimetype": "text/x-python",
   "name": "python",
   "nbconvert_exporter": "python",
   "pygments_lexer": "ipython3",
   "version": "3.7.12"
  }
 },
 "nbformat": 4,
 "nbformat_minor": 1
}
