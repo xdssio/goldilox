{
 "cells": [
  {
   "cell_type": "markdown",
   "metadata": {
    "collapsed": true
   },
   "source": [
    "# [Interpret](https://github.com/interpretml/interpret)\n",
    "\n",
    "InterpretML is an open-source package that incorporates state-of-the-art machine learning interpretability techniques under one roof.    \n",
    "With this package, you can train interpretable glassbox models and explain blackbox systems.    \n",
    "InterpretML helps you understand your model's global behavior, or understand the reasons behind individual predictions.\n",
    "\n"
   ]
  },
  {
   "cell_type": "code",
   "execution_count": 1,
   "metadata": {
    "ExecuteTime": {
     "end_time": "2021-12-13T17:19:44.988594Z",
     "start_time": "2021-12-13T17:19:42.695901Z"
    }
   },
   "outputs": [],
   "source": [
    "import warnings\n",
    "\n",
    "import vaex\n",
    "from vaex.ml.datasets import load_iris_1e5\n",
    "\n",
    "warnings.filterwarnings('ignore')\n",
    "\n",
    "df = load_iris_1e5()\n",
    "target = 'class_'\n",
    "\n",
    "# feature engineering example\n",
    "df['petal_ratio'] = df['petal_length'] / df['petal_width']\n",
    "\n",
    "df[target] = df[target].map({0: 'setosa', 1: 'versicolor', 2: 'virginica'})"
   ]
  },
  {
   "cell_type": "markdown",
   "metadata": {},
   "source": [
    "## Modeling"
   ]
  },
  {
   "cell_type": "code",
   "execution_count": 2,
   "metadata": {
    "ExecuteTime": {
     "end_time": "2021-12-13T17:19:53.941935Z",
     "start_time": "2021-12-13T17:19:44.989707Z"
    }
   },
   "outputs": [
    {
     "data": {
      "text/plain": [
       "ExplainableBoostingClassifier(feature_names=['petal_length', 'petal_width',\n",
       "                                             'sepal_length', 'sepal_width',\n",
       "                                             'petal_ratio'],\n",
       "                              feature_types=['continuous', 'continuous',\n",
       "                                             'continuous', 'continuous',\n",
       "                                             'continuous'],\n",
       "                              interactions=0)"
      ]
     },
     "execution_count": 2,
     "metadata": {},
     "output_type": "execute_result"
    }
   ],
   "source": [
    "from interpret.glassbox import ExplainableBoostingClassifier\n",
    "\n",
    "features = ['petal_length', 'petal_width', 'sepal_length', 'sepal_width', 'petal_ratio']\n",
    "\n",
    "ebm = ExplainableBoostingClassifier(feature_names=features)\n",
    "\n",
    "ebm.fit(df[features].values, df[target].tolist())\n"
   ]
  },
  {
   "cell_type": "code",
   "execution_count": 3,
   "metadata": {
    "ExecuteTime": {
     "end_time": "2021-12-13T17:19:53.964408Z",
     "start_time": "2021-12-13T17:19:53.943480Z"
    }
   },
   "outputs": [
    {
     "data": {
      "text/html": [
       "<table>\n",
       "<thead>\n",
       "<tr><th>#                            </th><th style=\"text-align: right;\">  sepal_length</th><th style=\"text-align: right;\">  sepal_width</th><th style=\"text-align: right;\">  petal_length</th><th style=\"text-align: right;\">  petal_width</th><th>class_    </th><th style=\"text-align: right;\">  petal_ratio</th><th>predictions  </th></tr>\n",
       "</thead>\n",
       "<tbody>\n",
       "<tr><td><i style='opacity: 0.6'>0</i></td><td style=\"text-align: right;\">           5.9</td><td style=\"text-align: right;\">            3</td><td style=\"text-align: right;\">           4.2</td><td style=\"text-align: right;\">          1.5</td><td>versicolor</td><td style=\"text-align: right;\">      2.8    </td><td>versicolor   </td></tr>\n",
       "<tr><td><i style='opacity: 0.6'>1</i></td><td style=\"text-align: right;\">           6.1</td><td style=\"text-align: right;\">            3</td><td style=\"text-align: right;\">           4.6</td><td style=\"text-align: right;\">          1.4</td><td>versicolor</td><td style=\"text-align: right;\">      3.28571</td><td>versicolor   </td></tr>\n",
       "</tbody>\n",
       "</table>"
      ],
      "text/plain": [
       "  #    sepal_length    sepal_width    petal_length    petal_width  class_        petal_ratio  predictions\n",
       "  0             5.9              3             4.2            1.5  versicolor        2.8      versicolor\n",
       "  1             6.1              3             4.6            1.4  versicolor        3.28571  versicolor"
      ]
     },
     "execution_count": 3,
     "metadata": {},
     "output_type": "execute_result"
    }
   ],
   "source": [
    "\n",
    "\n",
    "\n",
    "# add predictions to dataframe\n",
    "@vaex.register_function(on_expression=False)\n",
    "def predict(*columns):\n",
    "    return ebm.predict(np.array(columns).T)\n",
    "\n",
    "\n",
    "df.add_function(\"predict\", predict)\n",
    "df[\"predictions\"] = df.func.predict(*features)\n",
    "df.head(2)"
   ]
  },
  {
   "cell_type": "code",
   "execution_count": null,
   "metadata": {
    "ExecuteTime": {
     "start_time": "2021-12-13T17:20:27.481Z"
    },
    "pycharm": {
     "name": "#%%\n"
    }
   },
   "outputs": [],
   "source": [
    "from collections import defaultdict\n",
    "import pyarrow as pa\n",
    "\n",
    "\n",
    "@vaex.register_function(on_expression=False)\n",
    "def explain(*columns):\n",
    "    data = np.array(columns).T\n",
    "    explanation = ebm.explain_local(data)._internal_obj['specific']\n",
    "    label_names = explanation['meta']['label_names']\n",
    "    for e in explanation:\n",
    "        ret = []\n",
    "        tmp = defaultdict(dict)\n",
    "        for feature, score in zip(e['names'], e['scores']):\n",
    "            for i, label in enumerate(label_names):\n",
    "                tmp[feature][label] = score[i]\n",
    "            ret.append(dict(tmp))\n",
    "    return pa.array(ret)\n",
    "\n",
    "\n",
    "df.add_function(\"explain\", explain)\n",
    "df[\"explain\"] = df.func.explain(*features)\n",
    "df.head(2)"
   ]
  },
  {
   "cell_type": "raw",
   "metadata": {
    "ExecuteTime": {
     "end_time": "2021-12-13T17:18:24.979225Z",
     "start_time": "2021-12-13T17:18:24.895659Z"
    }
   },
   "source": [
    "@vaex.register_function(on_expression=False)\n",
    "def show(*columns):\n",
    "    show(ebm.explain_local(np.array(columns).T))\n",
    "\n",
    "\n",
    "df.add_function(\"show\", show)\n",
    "df.head(2).func.show(*features)"
   ]
  },
  {
   "cell_type": "code",
   "execution_count": null,
   "metadata": {},
   "outputs": [],
   "source": [
    "# Vaex remember all the transformations, this is a skleran.pipeline alternative\n",
    "pipeline = Pipeline.from_vaex(df, description='simple lightGBM')\n",
    "pipeline.raw.pop(target)  # (optional) we don't expect to get the class_ in queries\n",
    "assert pipeline.validate()\n",
    "print(\"Pipeline raw data example:\")\n",
    "print(json.dumps(pipeline.raw, indent=4))\n",
    "print('')\n",
    "print(\"Pipeline output example:\")\n",
    "pipeline.inference(pipeline.raw).to_records()\n",
    "df.head(2)"
   ]
  },
  {
   "cell_type": "code",
   "execution_count": null,
   "metadata": {},
   "outputs": [],
   "source": [
    "import vaex\n",
    "import warnings\n",
    "from vaex.ml.datasets import load_iris_1e5\n",
    "from vaex.ml.lightgbm import LightGBMModel\n",
    "from goldilox import Pipeline\n",
    "import numpy as np\n",
    "import json\n",
    "\n",
    "warnings.filterwarnings('ignore')\n",
    "\n",
    "df = load_iris_1e5()\n",
    "target = 'class_'\n",
    "\n",
    "# feature engineering example\n",
    "df['petal_ratio'] = df['petal_length'] / df['petal_width']\n",
    "\n",
    "booster = LightGBMModel(features=['petal_length', 'petal_width', 'sepal_length', 'sepal_width', 'petal_ratio'],\n",
    "                        target=target,\n",
    "                        prediction_name='predictions',\n",
    "                        num_boost_round=500, params={'verbosity': -1,\n",
    "                                                     'objective': 'multiclass',\n",
    "                                                     'num_class': 3})\n",
    "booster.fit(df)\n",
    "df = booster.transform(df)\n",
    "\n",
    "\n",
    "# post model processing example\n",
    "@vaex.register_function()\n",
    "def argmax(ar, axis=1):\n",
    "    return np.argmax(ar, axis=axis)\n",
    "\n",
    "\n",
    "df.add_function('argmax', argmax)\n",
    "df['prediction'] = df['predictions'].argmax()\n",
    "\n",
    "df['label'] = df['prediction'].map({0: 'setosa', 1: 'versicolor', 2: 'virginica'})\n",
    "\n",
    "# Vaex remember all the transformations, this is a skleran.pipeline alternative\n",
    "pipeline = Pipeline.from_vaex(df, description='simple lightGBM')\n",
    "pipeline.raw.pop(target)  # (optional) we don't expect to get the class_ in queries\n",
    "assert pipeline.validate()\n",
    "print(\"Pipeline raw data example:\")\n",
    "print(json.dumps(pipeline.raw, indent=4))\n",
    "print('')\n",
    "print(\"Pipeline output example:\")\n",
    "pipeline.inference(pipeline.raw).to_records()\n",
    "df.head(2)"
   ]
  },
  {
   "cell_type": "code",
   "execution_count": null,
   "metadata": {},
   "outputs": [],
   "source": [
    "pipeline.raw.pop('class_', None)\n",
    "print(f\"Saved to: {pipeline.save('../tests/models/server.pkl')}\")\n",
    "print(f\"Check out the docs: http://127.0.0.1:5000\\n\")\n",
    "\n",
    "!gl serve../ tests / models / server.pkl"
   ]
  }
 ],
 "metadata": {
  "kernelspec": {
   "display_name": "Python 3 (ipykernel)",
   "language": "python",
   "name": "python3"
  },
  "language_info": {
   "codemirror_mode": {
    "name": "ipython",
    "version": 3
   },
   "file_extension": ".py",
   "mimetype": "text/x-python",
   "name": "python",
   "nbconvert_exporter": "python",
   "pygments_lexer": "ipython3",
   "version": "3.7.12"
  }
 },
 "nbformat": 4,
 "nbformat_minor": 1
}