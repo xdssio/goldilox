{
 "cells": [
  {
   "cell_type": "markdown",
   "metadata": {
    "collapsed": true
   },
   "source": [
    "# [Interpret](https://github.com/interpretml/interpret)\n",
    "\n",
    "InterpretML is an open-source package that incorporates state-of-the-art machine learning interpretability techniques under one roof.    \n",
    "With this package, you can train interpretable glassbox models and explain blackbox systems.    \n",
    "InterpretML helps you understand your model's global behavior, or understand the reasons behind individual predictions.\n",
    "\n"
   ]
  },
  {
   "cell_type": "code",
   "execution_count": 5,
   "metadata": {
    "ExecuteTime": {
     "end_time": "2021-12-14T12:09:01.706721Z",
     "start_time": "2021-12-14T12:08:59.229549Z"
    }
   },
   "outputs": [],
   "source": [
    "import warnings\n",
    "\n",
    "import vaex\n",
    "from vaex.ml.datasets import load_iris\n",
    "\n",
    "warnings.filterwarnings('ignore')\n",
    "\n",
    "df, test = load_iris().ml.train_test_split(test_size=0.2)\n",
    "target = 'class_'\n",
    "\n",
    "# feature engineering example\n",
    "df['petal_ratio'] = df['petal_length'] / df['petal_width']\n",
    "df[target] = df[target].map({0: 'setosa', 1: 'versicolor', 2: 'virginica'})"
   ]
  },
  {
   "cell_type": "markdown",
   "metadata": {},
   "source": [
    "## Modeling"
   ]
  },
  {
   "cell_type": "code",
   "execution_count": 6,
   "metadata": {
    "ExecuteTime": {
     "end_time": "2021-12-14T12:09:03.490383Z",
     "start_time": "2021-12-14T12:09:01.707921Z"
    }
   },
   "outputs": [
    {
     "name": "stdout",
     "output_type": "stream",
     "text": [
      "Model accuracy: 1.0\n"
     ]
    },
    {
     "data": {
      "text/html": [
       "<table>\n",
       "<thead>\n",
       "<tr><th>#                            </th><th style=\"text-align: right;\">  sepal_length</th><th style=\"text-align: right;\">  sepal_width</th><th style=\"text-align: right;\">  petal_length</th><th style=\"text-align: right;\">  petal_width</th><th>class_    </th><th style=\"text-align: right;\">  petal_ratio</th><th>predictions  </th></tr>\n",
       "</thead>\n",
       "<tbody>\n",
       "<tr><td><i style='opacity: 0.6'>0</i></td><td style=\"text-align: right;\">           5.4</td><td style=\"text-align: right;\">          3  </td><td style=\"text-align: right;\">           4.5</td><td style=\"text-align: right;\">          1.5</td><td>versicolor</td><td style=\"text-align: right;\">            3</td><td>versicolor   </td></tr>\n",
       "<tr><td><i style='opacity: 0.6'>1</i></td><td style=\"text-align: right;\">           4.8</td><td style=\"text-align: right;\">          3.4</td><td style=\"text-align: right;\">           1.6</td><td style=\"text-align: right;\">          0.2</td><td>setosa    </td><td style=\"text-align: right;\">            8</td><td>setosa       </td></tr>\n",
       "</tbody>\n",
       "</table>"
      ],
      "text/plain": [
       "  #    sepal_length    sepal_width    petal_length    petal_width  class_        petal_ratio  predictions\n",
       "  0             5.4            3               4.5            1.5  versicolor              3  versicolor\n",
       "  1             4.8            3.4             1.6            0.2  setosa                  8  setosa"
      ]
     },
     "execution_count": 6,
     "metadata": {},
     "output_type": "execute_result"
    }
   ],
   "source": [
    "from interpret.glassbox import ExplainableBoostingClassifier\n",
    "import numpy as np\n",
    "from sklearn.metrics import accuracy_score\n",
    "\n",
    "features = ['petal_length', 'petal_width', 'sepal_length', 'sepal_width', 'petal_ratio']\n",
    "\n",
    "ebm = ExplainableBoostingClassifier(feature_names=features)\n",
    "ebm.fit(df[features].values, df[target].tolist())\n",
    "\n",
    "\n",
    "# add predictions to dataframe\n",
    "@vaex.register_function(on_expression=False)\n",
    "def predict(*columns):\n",
    "    return ebm.predict(np.array(columns).T)\n",
    "\n",
    "\n",
    "df.add_function(\"predict\", predict)\n",
    "df[\"predictions\"] = df.func.predict(*features)\n",
    "accuracy = accuracy_score(df[target].values, df['predictions'].values)\n",
    "\n",
    "print(f\"Model accuracy: {accuracy}\")\n",
    "df.head(2)"
   ]
  },
  {
   "cell_type": "markdown",
   "metadata": {},
   "source": [
    "## Explain global model"
   ]
  },
  {
   "cell_type": "code",
   "execution_count": 3,
   "metadata": {
    "ExecuteTime": {
     "end_time": "2021-12-14T12:03:55.733272Z",
     "start_time": "2021-12-14T12:03:55.498516Z"
    }
   },
   "outputs": [
    {
     "data": {
      "text/html": [
       "<!-- http://127.0.0.1:7001/5739409616/ -->\n",
       "<iframe src=\"http://127.0.0.1:7001/5739409616/\" width=100% height=800 frameBorder=\"0\"></iframe>"
      ]
     },
     "metadata": {},
     "output_type": "display_data"
    }
   ],
   "source": [
    "from interpret import show\n",
    "\n",
    "ebm_global = ebm.explain_global()\n",
    "feature_importance = ebm_global._internal_obj['overall']  # save to dataframe to recall later\n",
    "\n",
    "show(ebm_global)"
   ]
  },
  {
   "cell_type": "markdown",
   "metadata": {},
   "source": [
    "## Explain specific rows"
   ]
  },
  {
   "cell_type": "code",
   "execution_count": 4,
   "metadata": {
    "ExecuteTime": {
     "end_time": "2021-12-14T12:03:55.821780Z",
     "start_time": "2021-12-14T12:03:55.734634Z"
    }
   },
   "outputs": [
    {
     "data": {
      "text/html": [
       "<!-- http://127.0.0.1:7001/5819778320/ -->\n",
       "<iframe src=\"http://127.0.0.1:7001/5819778320/\" width=100% height=800 frameBorder=\"0\"></iframe>"
      ]
     },
     "metadata": {},
     "output_type": "display_data"
    }
   ],
   "source": [
    "from interpret import show\n",
    "\n",
    "show(ebm.explain_local(df[features].values, df[target].tolist()))"
   ]
  },
  {
   "cell_type": "markdown",
   "metadata": {},
   "source": [
    "We want to add as a column so we can see it in production as part of the APIs"
   ]
  },
  {
   "cell_type": "code",
   "execution_count": 5,
   "metadata": {
    "ExecuteTime": {
     "end_time": "2021-12-14T12:03:55.871908Z",
     "start_time": "2021-12-14T12:03:55.824374Z"
    }
   },
   "outputs": [
    {
     "data": {
      "text/html": [
       "<table>\n",
       "<thead>\n",
       "<tr><th>#                            </th><th style=\"text-align: right;\">  sepal_length</th><th style=\"text-align: right;\">  sepal_width</th><th style=\"text-align: right;\">  petal_length</th><th style=\"text-align: right;\">  petal_width</th><th>class_    </th><th style=\"text-align: right;\">  petal_ratio</th><th>predictions  </th><th>explaination                                       </th></tr>\n",
       "</thead>\n",
       "<tbody>\n",
       "<tr><td><i style='opacity: 0.6'>0</i></td><td style=\"text-align: right;\">           5.4</td><td style=\"text-align: right;\">          3  </td><td style=\"text-align: right;\">           4.5</td><td style=\"text-align: right;\">          1.5</td><td>versicolor</td><td style=\"text-align: right;\">            3</td><td>versicolor   </td><td>&quot;{&#x27;setosa&#x27;: {&#x27;petal_length&#x27;: -0.5370391194010578...</td></tr>\n",
       "<tr><td><i style='opacity: 0.6'>1</i></td><td style=\"text-align: right;\">           4.8</td><td style=\"text-align: right;\">          3.4</td><td style=\"text-align: right;\">           1.6</td><td style=\"text-align: right;\">          0.2</td><td>setosa    </td><td style=\"text-align: right;\">            8</td><td>setosa       </td><td>&quot;{&#x27;setosa&#x27;: {&#x27;petal_length&#x27;: 1.6797752424061698,...</td></tr>\n",
       "</tbody>\n",
       "</table>"
      ],
      "text/plain": [
       "  #    sepal_length    sepal_width    petal_length    petal_width  class_        petal_ratio  predictions    explaination\n",
       "  0             5.4            3               4.5            1.5  versicolor              3  versicolor     \"{'setosa': {'petal_length': -0.5370391194010578...\n",
       "  1             4.8            3.4             1.6            0.2  setosa                  8  setosa         \"{'setosa': {'petal_length': 1.6797752424061698,..."
      ]
     },
     "execution_count": 5,
     "metadata": {},
     "output_type": "execute_result"
    }
   ],
   "source": [
    "from collections import defaultdict\n",
    "import pyarrow as pa\n",
    "\n",
    "\n",
    "@vaex.register_function(on_expression=False)\n",
    "def explain(*columns):\n",
    "    data = np.array(columns).T\n",
    "    explanation = ebm.explain_local(data)._internal_obj['specific']\n",
    "    if len(explanation) == 0:\n",
    "        return pa.array([])\n",
    "    label_names = explanation[0]['meta']['label_names']\n",
    "    ret = []\n",
    "    for e in explanation:\n",
    "        tmp = defaultdict(dict)\n",
    "        for i, label in enumerate(label_names):\n",
    "            for feature, score in zip(e['names'], e['scores']):\n",
    "                tmp[label][feature] = score[i]\n",
    "        ret.append(dict(tmp))\n",
    "    return pa.array(ret)\n",
    "\n",
    "\n",
    "df.add_function(\"explain\", explain)\n",
    "df[\"explaination\"] = df.func.explain(*features)\n",
    "df.head(2)"
   ]
  },
  {
   "cell_type": "markdown",
   "metadata": {},
   "source": [
    "Add to dataframe for later analysis on test data.    \n",
    "This is especially important if you have feature engineering and you want to work with unseen data."
   ]
  },
  {
   "cell_type": "code",
   "execution_count": 6,
   "metadata": {
    "ExecuteTime": {
     "end_time": "2021-12-14T12:03:55.877050Z",
     "start_time": "2021-12-14T12:03:55.873318Z"
    }
   },
   "outputs": [],
   "source": [
    "from interpret import show\n",
    "\n",
    "\n",
    "@vaex.register_function(on_expression=False)\n",
    "def show_explanation(*columns):\n",
    "    data = np.array(columns).T\n",
    "    X, y = data[:, :-1], data[:, -1]\n",
    "    show(ebm.explain_local(X, y))\n",
    "    return y\n",
    "\n",
    "\n",
    "df.add_function(\"show_explanation\", show_explanation);"
   ]
  },
  {
   "cell_type": "markdown",
   "metadata": {},
   "source": [
    "## Production pipeline"
   ]
  },
  {
   "cell_type": "code",
   "execution_count": 9,
   "metadata": {
    "ExecuteTime": {
     "end_time": "2021-12-14T12:04:26.712990Z",
     "start_time": "2021-12-14T12:04:26.617139Z"
    }
   },
   "outputs": [],
   "source": [
    "from goldilox import Pipeline\n",
    "\n",
    "pipeline = Pipeline.from_vaex(df, description='An EBM model with explnations')\n",
    "# pipeline.raw.pop('class_', None) # won't expect it in production (optional)\n",
    "\n",
    "# add variables\n",
    "pipeline.variables['feature_importance'] = feature_importance\n",
    "pipeline.variables['accuracy'] = accuracy\n",
    "pipeline.variables['features'] = features\n",
    "\n",
    "assert pipeline.validate()"
   ]
  },
  {
   "cell_type": "code",
   "execution_count": 42,
   "metadata": {
    "ExecuteTime": {
     "end_time": "2021-12-14T13:45:12.490994Z",
     "start_time": "2021-12-14T13:44:48.610528Z"
    }
   },
   "outputs": [
    {
     "name": "stdout",
     "output_type": "stream",
     "text": [
      "Saved to: pipeline.pkl\n",
      "Check out the docs: http://127.0.0.1:5000/docs\n",
      "\n",
      "[2021-12-14 14:44:51 +0100] [23500] [INFO] Starting gunicorn 20.1.0\n",
      "[2021-12-14 14:44:51 +0100] [23500] [INFO] Listening at: http://127.0.0.1:5000 (23500)\n",
      "[2021-12-14 14:44:51 +0100] [23500] [INFO] Using worker: uvicorn.workers.UvicornH11Worker\n",
      "[2021-12-14 14:44:51 +0100] [23503] [INFO] Booting worker with pid: 23503\n",
      "[2021-12-14 14:44:51 +0100] [23503] [INFO] Started server process [23503]\n",
      "[2021-12-14 14:44:51 +0100] [23503] [INFO] Waiting for application startup.\n",
      "[2021-12-14 14:44:51 +0100] [23503] [INFO] Application startup complete.\n",
      "^C\n",
      "[2021-12-14 14:45:12 +0100] [23500] [INFO] Handling signal: int\n",
      "[2021-12-14 14:45:12 +0100] [23500] [WARNING] Worker with pid 23503 was terminated due to signal 3\n",
      "[2021-12-14 14:45:12 +0100] [23500] [INFO] Shutting down: Master\n"
     ]
    }
   ],
   "source": [
    "print(f\"Saved to: {pipeline.save('pipeline.pkl')}\")\n",
    "print(f\"Check out the docs: http://127.0.0.1:5000/docs\\n\")\n",
    "\n",
    "!gl serve pipeline.pkl"
   ]
  },
  {
   "cell_type": "markdown",
   "metadata": {},
   "source": [
    "# Post analysis\n",
    "So we saved *show_explanation*, why?   \n",
    "We can save load the pipeline, and try it locally on new data!\n",
    "* TODO"
   ]
  },
  {
   "cell_type": "code",
   "execution_count": 50,
   "metadata": {
    "ExecuteTime": {
     "end_time": "2021-12-14T13:46:41.475057Z",
     "start_time": "2021-12-14T13:46:41.225612Z"
    }
   },
   "outputs": [
    {
     "name": "stderr",
     "output_type": "stream",
     "text": [
      "INFO:interpret.visual.udash:Generating mini dash\n",
      "INFO:interpret.visual.udash:Generated mini dash\n"
     ]
    },
    {
     "data": {
      "text/html": [
       "<!-- http://127.0.0.1:7001/5980526608/ -->\n",
       "<iframe src=\"http://127.0.0.1:7001/5980526608/\" width=100% height=800 frameBorder=\"0\"></iframe>"
      ]
     },
     "metadata": {},
     "output_type": "display_data"
    },
    {
     "name": "stderr",
     "output_type": "stream",
     "text": [
      "INFO:interpret.visual.udash:Generating mini dash\n",
      "INFO:interpret.visual.udash:Generated mini dash\n"
     ]
    },
    {
     "data": {
      "text/html": [
       "<!-- http://127.0.0.1:7001/5980503440/ -->\n",
       "<iframe src=\"http://127.0.0.1:7001/5980503440/\" width=100% height=800 frameBorder=\"0\"></iframe>"
      ]
     },
     "metadata": {},
     "output_type": "display_data"
    },
    {
     "name": "stderr",
     "output_type": "stream",
     "text": [
      "INFO:interpret.visual.udash:Generating mini dash\n",
      "INFO:interpret.visual.udash:Generated mini dash\n"
     ]
    },
    {
     "data": {
      "text/html": [
       "<!-- http://127.0.0.1:7001/5980419792/ -->\n",
       "<iframe src=\"http://127.0.0.1:7001/5980419792/\" width=100% height=800 frameBorder=\"0\"></iframe>"
      ]
     },
     "metadata": {},
     "output_type": "display_data"
    },
    {
     "name": "stderr",
     "output_type": "stream",
     "text": [
      "INFO:interpret.visual.udash:Generating mini dash\n",
      "INFO:interpret.visual.udash:Generated mini dash\n"
     ]
    },
    {
     "data": {
      "text/html": [
       "<!-- http://127.0.0.1:7001/5979971344/ -->\n",
       "<iframe src=\"http://127.0.0.1:7001/5979971344/\" width=100% height=800 frameBorder=\"0\"></iframe>"
      ]
     },
     "metadata": {},
     "output_type": "display_data"
    },
    {
     "name": "stderr",
     "output_type": "stream",
     "text": [
      "INFO:interpret.visual.udash:Generating mini dash\n",
      "INFO:interpret.visual.udash:Generated mini dash\n"
     ]
    },
    {
     "data": {
      "text/html": [
       "<!-- http://127.0.0.1:7001/5878620688/ -->\n",
       "<iframe src=\"http://127.0.0.1:7001/5878620688/\" width=100% height=800 frameBorder=\"0\"></iframe>"
      ]
     },
     "metadata": {},
     "output_type": "display_data"
    },
    {
     "name": "stderr",
     "output_type": "stream",
     "text": [
      "INFO:interpret.visual.udash:Generating mini dash\n",
      "INFO:interpret.visual.udash:Generated mini dash\n"
     ]
    },
    {
     "data": {
      "text/html": [
       "<!-- http://127.0.0.1:7001/5978809040/ -->\n",
       "<iframe src=\"http://127.0.0.1:7001/5978809040/\" width=100% height=800 frameBorder=\"0\"></iframe>"
      ]
     },
     "metadata": {},
     "output_type": "display_data"
    },
    {
     "name": "stderr",
     "output_type": "stream",
     "text": [
      "INFO:interpret.visual.udash:Generating mini dash\n",
      "INFO:interpret.visual.udash:Generated mini dash\n"
     ]
    },
    {
     "data": {
      "text/html": [
       "<!-- http://127.0.0.1:7001/5975650000/ -->\n",
       "<iframe src=\"http://127.0.0.1:7001/5975650000/\" width=100% height=800 frameBorder=\"0\"></iframe>"
      ]
     },
     "metadata": {},
     "output_type": "display_data"
    },
    {
     "name": "stderr",
     "output_type": "stream",
     "text": [
      "INFO:interpret.visual.udash:Generating mini dash\n",
      "INFO:interpret.visual.udash:Generated mini dash\n"
     ]
    },
    {
     "data": {
      "text/html": [
       "<!-- http://127.0.0.1:7001/5977621904/ -->\n",
       "<iframe src=\"http://127.0.0.1:7001/5977621904/\" width=100% height=800 frameBorder=\"0\"></iframe>"
      ]
     },
     "metadata": {},
     "output_type": "display_data"
    },
    {
     "name": "stderr",
     "output_type": "stream",
     "text": [
      "INFO:interpret.visual.udash:Generating mini dash\n",
      "INFO:interpret.visual.udash:Generated mini dash\n"
     ]
    },
    {
     "data": {
      "text/html": [
       "<!-- http://127.0.0.1:7001/5981046224/ -->\n",
       "<iframe src=\"http://127.0.0.1:7001/5981046224/\" width=100% height=800 frameBorder=\"0\"></iframe>"
      ]
     },
     "metadata": {},
     "output_type": "display_data"
    },
    {
     "data": {
      "text/plain": [
       "Expression = show_explanation(petal_length, petal_width, sepal_length,...\n",
       "Length: 30 dtype: object (expression)\n",
       "-------------------------------------\n",
       " 0  versicolor\n",
       " 1  versicolor\n",
       " 2  versicolor\n",
       " 3   virginica\n",
       " 4      setosa\n",
       "     ...      \n",
       "25  versicolor\n",
       "26  versicolor\n",
       "27      setosa\n",
       "28      setosa\n",
       "29   virginica"
      ]
     },
     "execution_count": 50,
     "metadata": {},
     "output_type": "execute_result"
    },
    {
     "name": "stderr",
     "output_type": "stream",
     "text": [
      "INFO:interpret.visual.udash:No overall plot to display: -1|ExplainableBoostingClassifier_103\n",
      "INFO:interpret.visual.udash:No overall plot to display: -1|ExplainableBoostingClassifier_104\n",
      "INFO:interpret.visual.udash:No overall plot to display: -1|ExplainableBoostingClassifier_105\n",
      "INFO:interpret.visual.udash:No overall plot to display: -1|ExplainableBoostingClassifier_106\n",
      "INFO:interpret.visual.udash:No overall plot to display: -1|ExplainableBoostingClassifier_107\n",
      "INFO:interpret.visual.udash:No overall plot to display: -1|ExplainableBoostingClassifier_110\n",
      "INFO:interpret.visual.udash:No overall plot to display: -1|ExplainableBoostingClassifier_108\n",
      "INFO:interpret.visual.udash:No overall plot to display: -1|ExplainableBoostingClassifier_109\n",
      "INFO:interpret.visual.udash:No overall plot to display: -1|ExplainableBoostingClassifier_111\n"
     ]
    }
   ],
   "source": [
    "from goldilox import Pipeline\n",
    "\n",
    "pipeline = Pipeline.from_file('pipeline.pkl')\n",
    "features = pipeline.variables['features']\n",
    "target = pipeline.variables['target']\n",
    "new_data = pipeline.inference(test)\n",
    "new_data.head(2).func.show_explanation(*features, target)"
   ]
  },
  {
   "cell_type": "code",
   "execution_count": null,
   "metadata": {},
   "outputs": [],
   "source": []
  }
 ],
 "metadata": {
  "kernelspec": {
   "display_name": "Python 3 (ipykernel)",
   "language": "python",
   "name": "python3"
  },
  "language_info": {
   "codemirror_mode": {
    "name": "ipython",
    "version": 3
   },
   "file_extension": ".py",
   "mimetype": "text/x-python",
   "name": "python",
   "nbconvert_exporter": "python",
   "pygments_lexer": "ipython3",
   "version": "3.7.12"
  }
 },
 "nbformat": 4,
 "nbformat_minor": 1
}
