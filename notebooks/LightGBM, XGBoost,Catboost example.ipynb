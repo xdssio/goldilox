{
 "cells": [
  {
   "cell_type": "code",
   "execution_count": 48,
   "id": "69cfa59c",
   "metadata": {
    "ExecuteTime": {
     "end_time": "2021-11-16T17:46:51.229009Z",
     "start_time": "2021-11-16T17:46:51.201328Z"
    }
   },
   "outputs": [],
   "source": [
    "import vaex\n",
    "import warnings\n",
    "from vaex.ml.datasets import load_iris_1e5\n",
    "from lightgbm.sklearn import LGBMClassifier\n",
    "from catboost import CatBoostClassifier\n",
    "from xgboost.sklearn import XGBClassifier\n",
    "from goldilox import Pipeline\n",
    "import numpy as np\n",
    "import json\n",
    "from vaex.ml.sklearn import Predictor\n",
    "warnings.filterwarnings('ignore')\n",
    "\n",
    "df = load_iris_1e5()\n",
    "target = 'class_'\n",
    "\n",
    "# feature engineering example\n",
    "df['petal_ratio'] = df['petal_length'] / df['petal_width'] \n",
    "features = ['petal_length', 'petal_width', 'sepal_length', 'sepal_width', 'petal_ratio']\n"
   ]
  },
  {
   "cell_type": "markdown",
   "id": "8539eb25",
   "metadata": {
    "ExecuteTime": {
     "end_time": "2021-11-16T17:36:57.915156Z",
     "start_time": "2021-11-16T17:36:57.909860Z"
    }
   },
   "source": [
    "## Modelling"
   ]
  },
  {
   "cell_type": "code",
   "execution_count": 49,
   "id": "38ebe120",
   "metadata": {
    "ExecuteTime": {
     "end_time": "2021-11-16T17:47:12.406232Z",
     "start_time": "2021-11-16T17:47:09.291052Z"
    }
   },
   "outputs": [],
   "source": [
    "lgm = Predictor(model=LGBMClassifier(**{'verbosity': -1,\n",
    "                                                     'objective': 'multiclass',\n",
    "                                                     'num_class': 3}),\n",
    "                features=features, \n",
    "                target=target,\n",
    "                prediction_name='lgm')\n",
    "\n",
    "xgb = Predictor(model=XGBClassifier(**{'verbosity': 0,\n",
    "                                                   'objective': 'multi:softmax',\n",
    "                                                   'num_class': 3}),\n",
    "                features=features, \n",
    "                target=target,\n",
    "                prediction_name='xgb')\n",
    "\n",
    "cb = Predictor(model=CatBoostClassifier(**{'verbose': 0, 'iterations': 10,\n",
    "                                                         'objective': 'MultiClass'}),\n",
    "                features=features, \n",
    "                target=target,\n",
    "                prediction_name='cb')\n",
    "\n",
    "for model in [lgm, xgb, cb]:\n",
    "    model.fit(df)\n",
    "    df = model.transform(df)\n",
    "df['cb'] = df['cb'].apply(lambda x: x[0]) # catboost beeing annoying"
   ]
  },
  {
   "cell_type": "markdown",
   "id": "3cdb4a8a",
   "metadata": {},
   "source": [
    "### Crazy ensmble logic example\n",
    "This is not efficent for big data, but it works for most use cases."
   ]
  },
  {
   "cell_type": "code",
   "execution_count": 50,
   "id": "a93a4a1f",
   "metadata": {
    "ExecuteTime": {
     "end_time": "2021-11-16T17:47:20.746741Z",
     "start_time": "2021-11-16T17:47:20.742855Z"
    }
   },
   "outputs": [],
   "source": [
    "from itertools import combinations\n",
    "\n",
    "def ensmble(lgm_result, xgb_result, cb_results):\n",
    "    # here we can do whatever\n",
    "    for i,j in combinations([lgm_result, xgb_result, cb_results],2):\n",
    "        if i == j:\n",
    "            return i\n",
    "    return lgm_result\n",
    "\n",
    "df['prediction'] = df.apply(ensmble, [df.lgm,df.xgb, df.cb])"
   ]
  },
  {
   "cell_type": "code",
   "execution_count": 51,
   "id": "4edaa5c7",
   "metadata": {
    "ExecuteTime": {
     "end_time": "2021-11-16T17:47:22.049198Z",
     "start_time": "2021-11-16T17:47:21.226278Z"
    }
   },
   "outputs": [
    {
     "data": {
      "text/html": [
       "<table>\n",
       "<thead>\n",
       "<tr><th>#                                  </th><th>sepal_length  </th><th>sepal_width  </th><th>petal_length  </th><th>petal_width  </th><th>class_  </th><th>petal_ratio       </th><th>lgm  </th><th>xgb  </th><th>cb  </th><th>prediction  </th><th>label     </th></tr>\n",
       "</thead>\n",
       "<tbody>\n",
       "<tr><td><i style='opacity: 0.6'>0</i>      </td><td>5.9           </td><td>3.0          </td><td>4.2           </td><td>1.5          </td><td>1       </td><td>2.8000000000000003</td><td>1    </td><td>1    </td><td>1   </td><td>1           </td><td>versicolor</td></tr>\n",
       "<tr><td><i style='opacity: 0.6'>1</i>      </td><td>6.1           </td><td>3.0          </td><td>4.6           </td><td>1.4          </td><td>1       </td><td>3.2857142857142856</td><td>1    </td><td>1    </td><td>1   </td><td>1           </td><td>versicolor</td></tr>\n",
       "<tr><td><i style='opacity: 0.6'>2</i>      </td><td>6.6           </td><td>2.9          </td><td>4.6           </td><td>1.3          </td><td>1       </td><td>3.538461538461538 </td><td>1    </td><td>1    </td><td>1   </td><td>1           </td><td>versicolor</td></tr>\n",
       "<tr><td><i style='opacity: 0.6'>3</i>      </td><td>6.7           </td><td>3.3          </td><td>5.7           </td><td>2.1          </td><td>2       </td><td>2.7142857142857144</td><td>2    </td><td>2    </td><td>2   </td><td>2           </td><td>virginica </td></tr>\n",
       "<tr><td><i style='opacity: 0.6'>4</i>      </td><td>5.5           </td><td>4.2          </td><td>1.4           </td><td>0.2          </td><td>0       </td><td>6.999999999999999 </td><td>0    </td><td>0    </td><td>0   </td><td>0           </td><td>setosa    </td></tr>\n",
       "<tr><td>...                                </td><td>...           </td><td>...          </td><td>...           </td><td>...          </td><td>...     </td><td>...               </td><td>...  </td><td>...  </td><td>... </td><td>...         </td><td>...       </td></tr>\n",
       "<tr><td><i style='opacity: 0.6'>100,495</i></td><td>5.2           </td><td>3.4          </td><td>1.4           </td><td>0.2          </td><td>0       </td><td>6.999999999999999 </td><td>0    </td><td>0    </td><td>0   </td><td>0           </td><td>setosa    </td></tr>\n",
       "<tr><td><i style='opacity: 0.6'>100,496</i></td><td>5.1           </td><td>3.8          </td><td>1.6           </td><td>0.2          </td><td>0       </td><td>8.0               </td><td>0    </td><td>0    </td><td>0   </td><td>0           </td><td>setosa    </td></tr>\n",
       "<tr><td><i style='opacity: 0.6'>100,497</i></td><td>5.8           </td><td>2.6          </td><td>4.0           </td><td>1.2          </td><td>1       </td><td>3.3333333333333335</td><td>1    </td><td>1    </td><td>1   </td><td>1           </td><td>versicolor</td></tr>\n",
       "<tr><td><i style='opacity: 0.6'>100,498</i></td><td>5.7           </td><td>3.8          </td><td>1.7           </td><td>0.3          </td><td>0       </td><td>5.666666666666667 </td><td>0    </td><td>0    </td><td>0   </td><td>0           </td><td>setosa    </td></tr>\n",
       "<tr><td><i style='opacity: 0.6'>100,499</i></td><td>6.2           </td><td>2.9          </td><td>4.3           </td><td>1.3          </td><td>1       </td><td>3.3076923076923075</td><td>1    </td><td>1    </td><td>1   </td><td>1           </td><td>versicolor</td></tr>\n",
       "</tbody>\n",
       "</table>"
      ],
      "text/plain": [
       "#        sepal_length    sepal_width    petal_length    petal_width    class_    petal_ratio         lgm    xgb    cb    prediction    label\n",
       "0        5.9             3.0            4.2             1.5            1         2.8000000000000003  1      1      1     1             versicolor\n",
       "1        6.1             3.0            4.6             1.4            1         3.2857142857142856  1      1      1     1             versicolor\n",
       "2        6.6             2.9            4.6             1.3            1         3.538461538461538   1      1      1     1             versicolor\n",
       "3        6.7             3.3            5.7             2.1            2         2.7142857142857144  2      2      2     2             virginica\n",
       "4        5.5             4.2            1.4             0.2            0         6.999999999999999   0      0      0     0             setosa\n",
       "...      ...             ...            ...             ...            ...       ...                 ...    ...    ...   ...           ...\n",
       "100,495  5.2             3.4            1.4             0.2            0         6.999999999999999   0      0      0     0             setosa\n",
       "100,496  5.1             3.8            1.6             0.2            0         8.0                 0      0      0     0             setosa\n",
       "100,497  5.8             2.6            4.0             1.2            1         3.3333333333333335  1      1      1     1             versicolor\n",
       "100,498  5.7             3.8            1.7             0.3            0         5.666666666666667   0      0      0     0             setosa\n",
       "100,499  6.2             2.9            4.3             1.3            1         3.3076923076923075  1      1      1     1             versicolor"
      ]
     },
     "execution_count": 51,
     "metadata": {},
     "output_type": "execute_result"
    }
   ],
   "source": [
    "# Add a nice label for the fronend\n",
    "df['label'] = df['prediction'].map({0: 'setosa', 1: 'versicolor', 2: 'virginica'})\n",
    "df"
   ]
  },
  {
   "cell_type": "markdown",
   "id": "489c3968",
   "metadata": {
    "ExecuteTime": {
     "end_time": "2021-11-16T17:45:49.280603Z",
     "start_time": "2021-11-16T17:45:49.031011Z"
    }
   },
   "source": [
    "## Deployment"
   ]
  },
  {
   "cell_type": "code",
   "execution_count": 53,
   "id": "3f9d3119",
   "metadata": {
    "ExecuteTime": {
     "end_time": "2021-11-16T17:47:43.249485Z",
     "start_time": "2021-11-16T17:47:43.076936Z"
    }
   },
   "outputs": [
    {
     "name": "stdout",
     "output_type": "stream",
     "text": [
      "Saved to: ../tests/models/server.pkl\n"
     ]
    }
   ],
   "source": [
    "from goldilox import Pipeline\n",
    "pipeline = Pipeline.from_vaex(df)\n",
    "\n",
    "assert pipeline.validate() # Good practice\n",
    "print(f\"Saved to: {pipeline.save('../tests/models/server.pkl')}\")"
   ]
  },
  {
   "cell_type": "markdown",
   "id": "08921b03",
   "metadata": {},
   "source": [
    "### Serve"
   ]
  },
  {
   "cell_type": "code",
   "execution_count": 54,
   "id": "b5de283f",
   "metadata": {
    "ExecuteTime": {
     "end_time": "2021-11-16T17:48:40.673200Z",
     "start_time": "2021-11-16T17:47:52.636088Z"
    }
   },
   "outputs": [
    {
     "name": "stdout",
     "output_type": "stream",
     "text": [
      "Check out the docs: http://127.0.0.1:5000\n",
      "\n",
      "[2021-11-16 18:47:57 +0100] [74627] [INFO] Starting gunicorn 20.1.0\n",
      "[2021-11-16 18:47:57 +0100] [74627] [INFO] Listening at: http://127.0.0.1:5000 (74627)\n",
      "[2021-11-16 18:47:57 +0100] [74627] [INFO] Using worker: uvicorn.workers.UvicornH11Worker\n",
      "[2021-11-16 18:47:57 +0100] [74635] [INFO] Booting worker with pid: 74635\n",
      "[2021-11-16 18:47:57 +0100] [74635] [INFO] Started server process [74635]\n",
      "[2021-11-16 18:47:57 +0100] [74635] [INFO] Waiting for application startup.\n",
      "[2021-11-16 18:47:57 +0100] [74635] [INFO] Application startup complete.\n",
      "^C\n",
      "[2021-11-16 18:48:40 +0100] [74627] [INFO] Handling signal: int\n",
      "[2021-11-16 18:48:40 +0100] [74627] [WARNING] Worker with pid 74635 was terminated due to signal 3\n",
      "[2021-11-16 18:48:40 +0100] [74627] [INFO] Shutting down: Master\n"
     ]
    }
   ],
   "source": [
    "print(f\"Check out the docs: http://127.0.0.1:5000\\n\")\n",
    "!gl serve ../tests/models/server.pkl"
   ]
  },
  {
   "cell_type": "code",
   "execution_count": null,
   "id": "47298d95",
   "metadata": {},
   "outputs": [],
   "source": []
  }
 ],
 "metadata": {
  "kernelspec": {
   "display_name": "Python 3",
   "language": "python",
   "name": "python3"
  },
  "language_info": {
   "codemirror_mode": {
    "name": "ipython",
    "version": 3
   },
   "file_extension": ".py",
   "mimetype": "text/x-python",
   "name": "python",
   "nbconvert_exporter": "python",
   "pygments_lexer": "ipython3",
   "version": "3.7.9"
  }
 },
 "nbformat": 4,
 "nbformat_minor": 5
}