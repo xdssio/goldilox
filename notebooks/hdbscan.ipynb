{
 "cells": [
  {
   "cell_type": "code",
   "execution_count": 1,
   "metadata": {
    "ExecuteTime": {
     "end_time": "2022-01-12T16:57:15.901753Z",
     "start_time": "2022-01-12T16:57:15.880148Z"
    }
   },
   "outputs": [
    {
     "name": "stdout",
     "output_type": "stream",
     "text": [
      "/Users/yonatanalexander/development/xdss/goldilox\n"
     ]
    }
   ],
   "source": [
    "cd .."
   ]
  },
  {
   "cell_type": "markdown",
   "metadata": {
    "ExecuteTime": {
     "end_time": "2022-01-12T16:55:45.267870Z",
     "start_time": "2022-01-12T16:55:45.246604Z"
    }
   },
   "source": [
    "# [HDBSCAN](https://hdbscan.readthedocs.io/en/latest/index.html)"
   ]
  },
  {
   "cell_type": "markdown",
   "metadata": {
    "pycharm": {
     "name": "#%%\n"
    }
   },
   "source": [
    "## Sklearn"
   ]
  },
  {
   "cell_type": "code",
   "execution_count": 2,
   "metadata": {
    "ExecuteTime": {
     "end_time": "2022-01-12T16:57:17.555972Z",
     "start_time": "2022-01-12T16:57:16.957061Z"
    }
   },
   "outputs": [
    {
     "data": {
      "text/html": [
       "<div>\n",
       "<style scoped>\n",
       "    .dataframe tbody tr th:only-of-type {\n",
       "        vertical-align: middle;\n",
       "    }\n",
       "\n",
       "    .dataframe tbody tr th {\n",
       "        vertical-align: top;\n",
       "    }\n",
       "\n",
       "    .dataframe thead th {\n",
       "        text-align: right;\n",
       "    }\n",
       "</style>\n",
       "<table border=\"1\" class=\"dataframe\">\n",
       "  <thead>\n",
       "    <tr style=\"text-align: right;\">\n",
       "      <th></th>\n",
       "      <th>feature0</th>\n",
       "      <th>feature1</th>\n",
       "      <th>feature2</th>\n",
       "      <th>feature3</th>\n",
       "      <th>feature4</th>\n",
       "      <th>feature5</th>\n",
       "      <th>feature6</th>\n",
       "      <th>feature7</th>\n",
       "      <th>feature8</th>\n",
       "      <th>feature9</th>\n",
       "      <th>target</th>\n",
       "    </tr>\n",
       "  </thead>\n",
       "  <tbody>\n",
       "    <tr>\n",
       "      <th>0</th>\n",
       "      <td>-9.404628</td>\n",
       "      <td>-6.615111</td>\n",
       "      <td>-4.451656</td>\n",
       "      <td>-10.918865</td>\n",
       "      <td>1.669457</td>\n",
       "      <td>-0.467001</td>\n",
       "      <td>-4.413303</td>\n",
       "      <td>-1.627234</td>\n",
       "      <td>3.257895</td>\n",
       "      <td>5.848858</td>\n",
       "      <td>0</td>\n",
       "    </tr>\n",
       "    <tr>\n",
       "      <th>1</th>\n",
       "      <td>-9.621981</td>\n",
       "      <td>-7.015441</td>\n",
       "      <td>-7.474030</td>\n",
       "      <td>-10.667444</td>\n",
       "      <td>2.174747</td>\n",
       "      <td>-1.838034</td>\n",
       "      <td>-4.871131</td>\n",
       "      <td>-1.797716</td>\n",
       "      <td>4.465596</td>\n",
       "      <td>6.266632</td>\n",
       "      <td>0</td>\n",
       "    </tr>\n",
       "  </tbody>\n",
       "</table>\n",
       "</div>"
      ],
      "text/plain": [
       "   feature0  feature1  feature2   feature3  feature4  feature5  feature6  \\\n",
       "0 -9.404628 -6.615111 -4.451656 -10.918865  1.669457 -0.467001 -4.413303   \n",
       "1 -9.621981 -7.015441 -7.474030 -10.667444  2.174747 -1.838034 -4.871131   \n",
       "\n",
       "   feature7  feature8  feature9  target  \n",
       "0 -1.627234  3.257895  5.848858       0  \n",
       "1 -1.797716  4.465596  6.266632       0  "
      ]
     },
     "execution_count": 2,
     "metadata": {},
     "output_type": "execute_result"
    }
   ],
   "source": [
    "from goldilox.datasets import make_blobs\n",
    "\n",
    "df, features, target = make_blobs()\n",
    "df.head(2)"
   ]
  },
  {
   "cell_type": "code",
   "execution_count": null,
   "metadata": {},
   "outputs": [],
   "source": []
  },
  {
   "cell_type": "markdown",
   "metadata": {},
   "source": [
    "# Vaex"
   ]
  },
  {
   "cell_type": "code",
   "execution_count": 7,
   "metadata": {
    "ExecuteTime": {
     "end_time": "2022-01-12T10:21:18.249899Z",
     "start_time": "2022-01-12T10:21:15.483595Z"
    }
   },
   "outputs": [
    {
     "data": {
      "text/html": [
       "<div>\n",
       "<style scoped>\n",
       "    .dataframe tbody tr th:only-of-type {\n",
       "        vertical-align: middle;\n",
       "    }\n",
       "\n",
       "    .dataframe tbody tr th {\n",
       "        vertical-align: top;\n",
       "    }\n",
       "\n",
       "    .dataframe thead th {\n",
       "        text-align: right;\n",
       "    }\n",
       "</style>\n",
       "<table border=\"1\" class=\"dataframe\">\n",
       "  <thead>\n",
       "    <tr style=\"text-align: right;\">\n",
       "      <th></th>\n",
       "      <th>feature0</th>\n",
       "      <th>feature1</th>\n",
       "      <th>feature2</th>\n",
       "      <th>feature3</th>\n",
       "      <th>feature4</th>\n",
       "      <th>feature5</th>\n",
       "      <th>feature6</th>\n",
       "      <th>feature7</th>\n",
       "      <th>feature8</th>\n",
       "      <th>feature9</th>\n",
       "      <th>target</th>\n",
       "    </tr>\n",
       "  </thead>\n",
       "  <tbody>\n",
       "    <tr>\n",
       "      <th>0</th>\n",
       "      <td>0.548481</td>\n",
       "      <td>8.833977</td>\n",
       "      <td>-2.956357</td>\n",
       "      <td>7.750154</td>\n",
       "      <td>-6.745776</td>\n",
       "      <td>10.764411</td>\n",
       "      <td>-3.103165</td>\n",
       "      <td>2.602318</td>\n",
       "      <td>-1.278969</td>\n",
       "      <td>-0.083086</td>\n",
       "      <td>1</td>\n",
       "    </tr>\n",
       "    <tr>\n",
       "      <th>1</th>\n",
       "      <td>-2.766979</td>\n",
       "      <td>-6.480697</td>\n",
       "      <td>4.508302</td>\n",
       "      <td>7.172464</td>\n",
       "      <td>-7.873933</td>\n",
       "      <td>-1.597331</td>\n",
       "      <td>0.029204</td>\n",
       "      <td>-6.567046</td>\n",
       "      <td>-1.183978</td>\n",
       "      <td>0.237812</td>\n",
       "      <td>2</td>\n",
       "    </tr>\n",
       "  </tbody>\n",
       "</table>\n",
       "</div>"
      ],
      "text/plain": [
       "   feature0  feature1  feature2  feature3  feature4   feature5  feature6  \\\n",
       "0  0.548481  8.833977 -2.956357  7.750154 -6.745776  10.764411 -3.103165   \n",
       "1 -2.766979 -6.480697  4.508302  7.172464 -7.873933  -1.597331  0.029204   \n",
       "\n",
       "   feature7  feature8  feature9  target  \n",
       "0  2.602318 -1.278969 -0.083086       1  \n",
       "1 -6.567046 -1.183978  0.237812       2  "
      ]
     },
     "execution_count": 7,
     "metadata": {},
     "output_type": "execute_result"
    }
   ],
   "source": [
    "from goldilox.datasets import make_blobs\n",
    "\n",
    "df, features, target = make_blobs()\n",
    "df.head(2)"
   ]
  },
  {
   "cell_type": "code",
   "execution_count": 8,
   "metadata": {
    "pycharm": {
     "name": "#%%\n"
    }
   },
   "outputs": [],
   "source": [
    "import numpy as np\n",
    "import vaex\n",
    "from hdbscan import HDBSCAN, approximate_predict\n",
    "\n",
    "df = vaex.from_pandas(df)\n",
    "for feature in features:\n",
    "    df[feature] = df[feature].fillna(df[feature].mean())\n",
    "model = HDBSCAN(prediction_data=True)\n",
    "model.fit(df[features], df['target'])\n",
    "\n",
    "\n",
    "@vaex.register_function()\n",
    "def hdbscan(*columns):\n",
    "    data = np.array(columns).T\n",
    "    labels, _ = approximate_predict(model, data)\n",
    "    return labels\n",
    "\n",
    "\n",
    "df.add_function('hdbscan', hdbscan)\n",
    "df['cluster'] = df.func.hdbscan(*features)"
   ]
  },
  {
   "cell_type": "markdown",
   "metadata": {},
   "source": [
    "Let's build a production pipeline"
   ]
  },
  {
   "cell_type": "code",
   "execution_count": 9,
   "metadata": {
    "ExecuteTime": {
     "end_time": "2022-01-12T10:21:19.445300Z",
     "start_time": "2022-01-12T10:21:18.480040Z"
    }
   },
   "outputs": [
    {
     "name": "stdout",
     "output_type": "stream",
     "text": [
      "predict for {\n",
      "    \"feature0\": 0.5484814115742233,\n",
      "    \"feature1\": 8.833977435034102,\n",
      "    \"feature2\": -2.9563565986601272,\n",
      "    \"feature3\": 7.750153814007809,\n",
      "    \"feature4\": -6.745776195525505,\n",
      "    \"feature5\": 10.764410603844501,\n",
      "    \"feature6\": -3.103164925629103,\n",
      "    \"feature7\": 2.602318408173805,\n",
      "    \"feature8\": -1.27896912181085,\n",
      "    \"feature9\": -0.08308609471404838,\n",
      "    \"target\": 1\n",
      "}\n"
     ]
    },
    {
     "data": {
      "text/html": [
       "<table>\n",
       "<thead>\n",
       "<tr><th>#                            </th><th style=\"text-align: right;\">  feature0</th><th style=\"text-align: right;\">  feature1</th><th style=\"text-align: right;\">  feature2</th><th style=\"text-align: right;\">  feature3</th><th style=\"text-align: right;\">  feature4</th><th style=\"text-align: right;\">  feature5</th><th style=\"text-align: right;\">  feature6</th><th style=\"text-align: right;\">  feature7</th><th style=\"text-align: right;\">  feature8</th><th style=\"text-align: right;\">  feature9</th><th style=\"text-align: right;\">  target</th><th style=\"text-align: right;\">  cluster</th></tr>\n",
       "</thead>\n",
       "<tbody>\n",
       "<tr><td><i style='opacity: 0.6'>0</i></td><td style=\"text-align: right;\">  0.548481</td><td style=\"text-align: right;\">   8.83398</td><td style=\"text-align: right;\">  -2.95636</td><td style=\"text-align: right;\">   7.75015</td><td style=\"text-align: right;\">  -6.74578</td><td style=\"text-align: right;\">   10.7644</td><td style=\"text-align: right;\">  -3.10316</td><td style=\"text-align: right;\">   2.60232</td><td style=\"text-align: right;\">  -1.27897</td><td style=\"text-align: right;\">-0.0830861</td><td style=\"text-align: right;\">       1</td><td style=\"text-align: right;\">        0</td></tr>\n",
       "</tbody>\n",
       "</table>"
      ],
      "text/plain": [
       "  #    feature0    feature1    feature2    feature3    feature4    feature5    feature6    feature7    feature8    feature9    target    cluster\n",
       "  0    0.548481     8.83398    -2.95636     7.75015    -6.74578     10.7644    -3.10316     2.60232    -1.27897  -0.0830861         1          0"
      ]
     },
     "execution_count": 9,
     "metadata": {},
     "output_type": "execute_result"
    }
   ],
   "source": [
    "from goldilox import Pipeline\n",
    "import json\n",
    "\n",
    "pipeline = Pipeline.from_vaex(df)\n",
    "\n",
    "# I/O Example\n",
    "print(f\"predict for {json.dumps(pipeline.raw, indent=4)}\")\n",
    "pipeline.inference(pipeline.raw)"
   ]
  },
  {
   "cell_type": "markdown",
   "metadata": {},
   "source": [
    "## Sklearn"
   ]
  },
  {
   "cell_type": "markdown",
   "metadata": {},
   "source": [
    "We need to make hdbscan sklearn transformer - not much code."
   ]
  },
  {
   "cell_type": "code",
   "execution_count": 12,
   "metadata": {
    "ExecuteTime": {
     "end_time": "2022-01-12T17:00:09.514350Z",
     "start_time": "2022-01-12T17:00:09.500761Z"
    },
    "pycharm": {
     "name": "#%%\n"
    }
   },
   "outputs": [],
   "source": [
    "from sklearn.base import TransformerMixin, BaseEstimator\n",
    "from hdbscan import HDBSCAN, approximate_predict\n",
    "\n",
    "\n",
    "class HDBSCANTransformer(TransformerMixin, BaseEstimator):\n",
    "\n",
    "    def __init__(self, prediction_column='cluster', **kwargs):\n",
    "        kwargs['prediction_data'] = True\n",
    "        self.model = HDBSCAN(**kwargs)\n",
    "        self.prediction_column = prediction_column\n",
    "\n",
    "    def fit(self, X, y):\n",
    "        self.model.fit(X, y)\n",
    "        return self\n",
    "\n",
    "    def predict(self, X):\n",
    "        labels, strength = approximate_predict(self.model, X)\n",
    "        return labels\n",
    "\n",
    "    def transform(self, X):\n",
    "        X[self.prediction_column] = self.predict(X)\n",
    "        return X\n",
    "    \n"
   ]
  },
  {
   "cell_type": "code",
   "execution_count": 13,
   "metadata": {
    "ExecuteTime": {
     "end_time": "2022-01-12T17:00:10.807469Z",
     "start_time": "2022-01-12T17:00:10.026933Z"
    }
   },
   "outputs": [
    {
     "name": "stderr",
     "output_type": "stream",
     "text": [
      "WARNING: Pipeline doesn't handle NA for feature0\n",
      "WARNING: Pipeline doesn't handle NA for feature1\n",
      "WARNING: Pipeline doesn't handle NA for feature2\n",
      "WARNING: Pipeline doesn't handle NA for feature3\n",
      "WARNING: Pipeline doesn't handle NA for feature4\n",
      "WARNING: Pipeline doesn't handle NA for feature5\n",
      "WARNING: Pipeline doesn't handle NA for feature6\n",
      "WARNING: Pipeline doesn't handle NA for feature7\n",
      "WARNING: Pipeline doesn't handle NA for feature8\n",
      "WARNING: Pipeline doesn't handle NA for feature9\n"
     ]
    },
    {
     "data": {
      "text/html": [
       "<div>\n",
       "<style scoped>\n",
       "    .dataframe tbody tr th:only-of-type {\n",
       "        vertical-align: middle;\n",
       "    }\n",
       "\n",
       "    .dataframe tbody tr th {\n",
       "        vertical-align: top;\n",
       "    }\n",
       "\n",
       "    .dataframe thead th {\n",
       "        text-align: right;\n",
       "    }\n",
       "</style>\n",
       "<table border=\"1\" class=\"dataframe\">\n",
       "  <thead>\n",
       "    <tr style=\"text-align: right;\">\n",
       "      <th></th>\n",
       "      <th>feature0</th>\n",
       "      <th>feature1</th>\n",
       "      <th>feature2</th>\n",
       "      <th>feature3</th>\n",
       "      <th>feature4</th>\n",
       "      <th>feature5</th>\n",
       "      <th>feature6</th>\n",
       "      <th>feature7</th>\n",
       "      <th>feature8</th>\n",
       "      <th>feature9</th>\n",
       "      <th>cluster</th>\n",
       "    </tr>\n",
       "  </thead>\n",
       "  <tbody>\n",
       "    <tr>\n",
       "      <th>0</th>\n",
       "      <td>-9.404628</td>\n",
       "      <td>-6.615111</td>\n",
       "      <td>-4.451656</td>\n",
       "      <td>-10.918865</td>\n",
       "      <td>1.669457</td>\n",
       "      <td>-0.467001</td>\n",
       "      <td>-4.413303</td>\n",
       "      <td>-1.627234</td>\n",
       "      <td>3.257895</td>\n",
       "      <td>5.848858</td>\n",
       "      <td>0</td>\n",
       "    </tr>\n",
       "  </tbody>\n",
       "</table>\n",
       "</div>"
      ],
      "text/plain": [
       "   feature0  feature1  feature2   feature3  feature4  feature5  feature6  \\\n",
       "0 -9.404628 -6.615111 -4.451656 -10.918865  1.669457 -0.467001 -4.413303   \n",
       "\n",
       "   feature7  feature8  feature9  cluster  \n",
       "0 -1.627234  3.257895  5.848858        0  "
      ]
     },
     "execution_count": 13,
     "metadata": {},
     "output_type": "execute_result"
    }
   ],
   "source": [
    "from goldilox import Pipeline\n",
    "\n",
    "model = HDBSCANTransformer().fit(X, y)\n",
    "pipeline = Pipeline.from_sklearn(model).fit(X, y)\n",
    "pipeline.inference(pipeline.raw)"
   ]
  },
  {
   "cell_type": "markdown",
   "metadata": {},
   "source": [
    "# Vaex"
   ]
  },
  {
   "cell_type": "markdown",
   "metadata": {},
   "source": [
    "The pipeline is ready to go, but it does not handle missing values which we might get in production.   \n",
    "Let's fix that!"
   ]
  },
  {
   "cell_type": "code",
   "execution_count": 60,
   "metadata": {
    "ExecuteTime": {
     "end_time": "2022-01-12T10:21:40.526272Z",
     "start_time": "2022-01-12T10:21:39.875752Z"
    }
   },
   "outputs": [
    {
     "name": "stdout",
     "output_type": "stream",
     "text": [
      "predict for {\n",
      "    \"sepal_length\": 5.1,\n",
      "    \"sepal_width\": 3.5,\n",
      "    \"petal_length\": 1.4,\n",
      "    \"petal_width\": 0.2\n",
      "}\n"
     ]
    },
    {
     "data": {
      "text/html": [
       "<div>\n",
       "<style scoped>\n",
       "    .dataframe tbody tr th:only-of-type {\n",
       "        vertical-align: middle;\n",
       "    }\n",
       "\n",
       "    .dataframe tbody tr th {\n",
       "        vertical-align: top;\n",
       "    }\n",
       "\n",
       "    .dataframe thead th {\n",
       "        text-align: right;\n",
       "    }\n",
       "</style>\n",
       "<table border=\"1\" class=\"dataframe\">\n",
       "  <thead>\n",
       "    <tr style=\"text-align: right;\">\n",
       "      <th></th>\n",
       "      <th>sepal_length</th>\n",
       "      <th>sepal_width</th>\n",
       "      <th>petal_length</th>\n",
       "      <th>petal_width</th>\n",
       "      <th>cluster</th>\n",
       "    </tr>\n",
       "  </thead>\n",
       "  <tbody>\n",
       "    <tr>\n",
       "      <th>0</th>\n",
       "      <td>5.1</td>\n",
       "      <td>3.5</td>\n",
       "      <td>1.4</td>\n",
       "      <td>0.2</td>\n",
       "      <td>1</td>\n",
       "    </tr>\n",
       "  </tbody>\n",
       "</table>\n",
       "</div>"
      ],
      "text/plain": [
       "   sepal_length  sepal_width  petal_length  petal_width  cluster\n",
       "0           5.1          3.5           1.4          0.2        1"
      ]
     },
     "execution_count": 60,
     "metadata": {},
     "output_type": "execute_result"
    }
   ],
   "source": [
    "from sklearn.compose import ColumnTransformer\n",
    "from sklearn.impute import SimpleImputer\n",
    "import sklearn.pipeline\n",
    "\n",
    "imputer = ColumnTransformer([('features_mean', SimpleImputer(strategy='mean'), features)], remainder='passthrough')\n",
    "sklearn_pipeline = sklearn.pipeline.Pipeline([('imputer', imputer), ('kmean', KMeans())])\n",
    "pipeline = Pipeline.from_sklearn(sklearn_pipeline, features=features,\n",
    "                                 output_columns=['cluster']).fit(df)\n",
    "\n",
    "# I/O Example\n",
    "print(f\"predict for {json.dumps(pipeline.raw, indent=4)}\")\n",
    "pipeline.inference(pipeline.raw)"
   ]
  },
  {
   "cell_type": "code",
   "execution_count": 7,
   "metadata": {},
   "outputs": [
    {
     "name": "stdout",
     "output_type": "stream",
     "text": [
      "Go to the fasgtapi docs here: http://127.0.0.1:5000/docs\n",
      "[2021-11-26 12:10:04 +0100] [39494] [INFO] Starting gunicorn 20.1.0\n",
      "[2021-11-26 12:10:04 +0100] [39494] [INFO] Listening at: http://127.0.0.1:5000 (39494)\n",
      "[2021-11-26 12:10:04 +0100] [39494] [INFO] Using worker: uvicorn.workers.UvicornH11Worker\n",
      "[2021-11-26 12:10:04 +0100] [39527] [INFO] Booting worker with pid: 39527\n",
      "[2021-11-26 12:10:04 +0100] [39527] [INFO] Started server process [39527]\n",
      "[2021-11-26 12:10:04 +0100] [39527] [INFO] Waiting for application startup.\n",
      "[2021-11-26 12:10:04 +0100] [39527] [INFO] Application startup complete.\n",
      "^C\n",
      "[2021-11-26 12:10:21 +0100] [39494] [INFO] Handling signal: int\n"
     ]
    }
   ],
   "source": [
    "pipeline.save('pipeline.pkl')\n",
    "print('Go to the fastapi docs here: http://127.0.0.1:5000/docs')\n",
    "!gl serve 'pipeline.pkl'"
   ]
  }
 ],
 "metadata": {
  "interpreter": {
   "hash": "a24fb10407d98c895ca4ebc991df8bd8db3efe74a86347ed2e2a2998c5b6d91c"
  },
  "kernelspec": {
   "display_name": "Python 3 (ipykernel)",
   "language": "python",
   "name": "python3"
  },
  "language_info": {
   "codemirror_mode": {
    "name": "ipython",
    "version": 3
   },
   "file_extension": ".py",
   "mimetype": "text/x-python",
   "name": "python",
   "nbconvert_exporter": "python",
   "pygments_lexer": "ipython3",
   "version": "3.7.12"
  }
 },
 "nbformat": 4,
 "nbformat_minor": 2
}
