{
 "cells": [
  {
   "cell_type": "markdown",
   "metadata": {
    "ExecuteTime": {
     "end_time": "2022-01-12T16:55:45.267870Z",
     "start_time": "2022-01-12T16:55:45.246604Z"
    }
   },
   "source": [
    "# [HDBSCAN](https://hdbscan.readthedocs.io/en/latest/index.html)"
   ]
  },
  {
   "cell_type": "markdown",
   "metadata": {
    "pycharm": {
     "name": "#%%\n"
    }
   },
   "source": [
    "## Sklearn"
   ]
  },
  {
   "cell_type": "code",
   "execution_count": 8,
   "metadata": {
    "ExecuteTime": {
     "end_time": "2022-01-12T21:59:57.563031Z",
     "start_time": "2022-01-12T21:59:57.540288Z"
    }
   },
   "outputs": [
    {
     "data": {
      "text/html": [
       "<div>\n",
       "<style scoped>\n",
       "    .dataframe tbody tr th:only-of-type {\n",
       "        vertical-align: middle;\n",
       "    }\n",
       "\n",
       "    .dataframe tbody tr th {\n",
       "        vertical-align: top;\n",
       "    }\n",
       "\n",
       "    .dataframe thead th {\n",
       "        text-align: right;\n",
       "    }\n",
       "</style>\n",
       "<table border=\"1\" class=\"dataframe\">\n",
       "  <thead>\n",
       "    <tr style=\"text-align: right;\">\n",
       "      <th></th>\n",
       "      <th>feature0</th>\n",
       "      <th>feature1</th>\n",
       "      <th>feature2</th>\n",
       "      <th>feature3</th>\n",
       "      <th>feature4</th>\n",
       "      <th>feature5</th>\n",
       "      <th>feature6</th>\n",
       "      <th>feature7</th>\n",
       "      <th>feature8</th>\n",
       "      <th>feature9</th>\n",
       "      <th>target</th>\n",
       "    </tr>\n",
       "  </thead>\n",
       "  <tbody>\n",
       "    <tr>\n",
       "      <th>0</th>\n",
       "      <td>5.850949</td>\n",
       "      <td>5.314459</td>\n",
       "      <td>3.507009</td>\n",
       "      <td>5.746078</td>\n",
       "      <td>-7.654765</td>\n",
       "      <td>10.271936</td>\n",
       "      <td>0.520728</td>\n",
       "      <td>-4.270634</td>\n",
       "      <td>8.166574</td>\n",
       "      <td>-3.727932</td>\n",
       "      <td>0</td>\n",
       "    </tr>\n",
       "    <tr>\n",
       "      <th>1</th>\n",
       "      <td>7.262032</td>\n",
       "      <td>6.604955</td>\n",
       "      <td>4.342837</td>\n",
       "      <td>5.992455</td>\n",
       "      <td>-7.020435</td>\n",
       "      <td>11.561267</td>\n",
       "      <td>3.453387</td>\n",
       "      <td>-1.891555</td>\n",
       "      <td>8.824970</td>\n",
       "      <td>-3.954333</td>\n",
       "      <td>0</td>\n",
       "    </tr>\n",
       "  </tbody>\n",
       "</table>\n",
       "</div>"
      ],
      "text/plain": [
       "   feature0  feature1  feature2  feature3  feature4   feature5  feature6  \\\n",
       "0  5.850949  5.314459  3.507009  5.746078 -7.654765  10.271936  0.520728   \n",
       "1  7.262032  6.604955  4.342837  5.992455 -7.020435  11.561267  3.453387   \n",
       "\n",
       "   feature7  feature8  feature9  target  \n",
       "0 -4.270634  8.166574 -3.727932       0  \n",
       "1 -1.891555  8.824970 -3.954333       0  "
      ]
     },
     "execution_count": 8,
     "metadata": {},
     "output_type": "execute_result"
    }
   ],
   "source": [
    "from goldilox.datasets import make_blobs\n",
    "\n",
    "df, features, target = make_blobs()\n",
    "X, y = df[features], df[target]\n",
    "df.head(2)"
   ]
  },
  {
   "cell_type": "markdown",
   "metadata": {},
   "source": [
    "## Sklearn"
   ]
  },
  {
   "cell_type": "markdown",
   "metadata": {},
   "source": [
    "We need to make hdbscan sklearn transformer - not much code."
   ]
  },
  {
   "cell_type": "code",
   "execution_count": 9,
   "metadata": {
    "ExecuteTime": {
     "end_time": "2022-01-12T22:00:03.170879Z",
     "start_time": "2022-01-12T22:00:02.398562Z"
    },
    "pycharm": {
     "name": "#%%\n"
    }
   },
   "outputs": [
    {
     "name": "stderr",
     "output_type": "stream",
     "text": [
      "WARNING: Pipeline doesn't handle NA for feature0\n",
      "WARNING: Pipeline doesn't handle NA for feature1\n",
      "WARNING: Pipeline doesn't handle NA for feature2\n",
      "WARNING: Pipeline doesn't handle NA for feature3\n",
      "WARNING: Pipeline doesn't handle NA for feature4\n",
      "WARNING: Pipeline doesn't handle NA for feature5\n",
      "WARNING: Pipeline doesn't handle NA for feature6\n",
      "WARNING: Pipeline doesn't handle NA for feature7\n",
      "WARNING: Pipeline doesn't handle NA for feature8\n",
      "WARNING: Pipeline doesn't handle NA for feature9\n"
     ]
    },
    {
     "data": {
      "text/html": [
       "<div>\n",
       "<style scoped>\n",
       "    .dataframe tbody tr th:only-of-type {\n",
       "        vertical-align: middle;\n",
       "    }\n",
       "\n",
       "    .dataframe tbody tr th {\n",
       "        vertical-align: top;\n",
       "    }\n",
       "\n",
       "    .dataframe thead th {\n",
       "        text-align: right;\n",
       "    }\n",
       "</style>\n",
       "<table border=\"1\" class=\"dataframe\">\n",
       "  <thead>\n",
       "    <tr style=\"text-align: right;\">\n",
       "      <th></th>\n",
       "      <th>feature0</th>\n",
       "      <th>feature1</th>\n",
       "      <th>feature2</th>\n",
       "      <th>feature3</th>\n",
       "      <th>feature4</th>\n",
       "      <th>feature5</th>\n",
       "      <th>feature6</th>\n",
       "      <th>feature7</th>\n",
       "      <th>feature8</th>\n",
       "      <th>feature9</th>\n",
       "      <th>cluster</th>\n",
       "    </tr>\n",
       "  </thead>\n",
       "  <tbody>\n",
       "    <tr>\n",
       "      <th>0</th>\n",
       "      <td>5.850949</td>\n",
       "      <td>5.314459</td>\n",
       "      <td>3.507009</td>\n",
       "      <td>5.746078</td>\n",
       "      <td>-7.654765</td>\n",
       "      <td>10.271936</td>\n",
       "      <td>0.520728</td>\n",
       "      <td>-4.270634</td>\n",
       "      <td>8.166574</td>\n",
       "      <td>-3.727932</td>\n",
       "      <td>0</td>\n",
       "    </tr>\n",
       "  </tbody>\n",
       "</table>\n",
       "</div>"
      ],
      "text/plain": [
       "   feature0  feature1  feature2  feature3  feature4   feature5  feature6  \\\n",
       "0  5.850949  5.314459  3.507009  5.746078 -7.654765  10.271936  0.520728   \n",
       "\n",
       "   feature7  feature8  feature9  cluster  \n",
       "0 -4.270634  8.166574 -3.727932        0  "
      ]
     },
     "execution_count": 9,
     "metadata": {},
     "output_type": "execute_result"
    }
   ],
   "source": [
    "from goldilox import Pipeline\n",
    "from sklearn.base import TransformerMixin, BaseEstimator\n",
    "\n",
    "\n",
    "class HDBSCANTransformer(TransformerMixin, BaseEstimator):\n",
    "\n",
    "    def __init__(self, prediction_column='cluster', **kwargs):\n",
    "        kwargs['prediction_data'] = True\n",
    "        self.model = HDBSCAN(**kwargs)\n",
    "        self.prediction_column = prediction_column\n",
    "\n",
    "    def fit(self, X, y):\n",
    "        self.model.fit(X, y)\n",
    "        return self\n",
    "\n",
    "    def predict(self, X):\n",
    "        labels, strength = approximate_predict(self.model, X)\n",
    "        return labels\n",
    "\n",
    "    def transform(self, X):\n",
    "        X[self.prediction_column] = self.predict(X)\n",
    "        return X\n",
    "\n",
    "\n",
    "pipeline = Pipeline.from_sklearn(HDBSCANTransformer()).fit(X, y)\n",
    "pipeline.inference(pipeline.raw)"
   ]
  },
  {
   "cell_type": "markdown",
   "metadata": {},
   "source": [
    "The pipeline is ready to go, but it does not handle missing values which we might get in production.   \n",
    "Let's fix that!"
   ]
  },
  {
   "cell_type": "code",
   "execution_count": 12,
   "metadata": {
    "ExecuteTime": {
     "end_time": "2022-01-12T22:00:34.524578Z",
     "start_time": "2022-01-12T22:00:33.781635Z"
    }
   },
   "outputs": [
    {
     "data": {
      "text/html": [
       "<div>\n",
       "<style scoped>\n",
       "    .dataframe tbody tr th:only-of-type {\n",
       "        vertical-align: middle;\n",
       "    }\n",
       "\n",
       "    .dataframe tbody tr th {\n",
       "        vertical-align: top;\n",
       "    }\n",
       "\n",
       "    .dataframe thead th {\n",
       "        text-align: right;\n",
       "    }\n",
       "</style>\n",
       "<table border=\"1\" class=\"dataframe\">\n",
       "  <thead>\n",
       "    <tr style=\"text-align: right;\">\n",
       "      <th></th>\n",
       "      <th>feature0</th>\n",
       "      <th>feature1</th>\n",
       "      <th>feature2</th>\n",
       "      <th>feature3</th>\n",
       "      <th>feature4</th>\n",
       "      <th>feature5</th>\n",
       "      <th>feature6</th>\n",
       "      <th>feature7</th>\n",
       "      <th>feature8</th>\n",
       "      <th>feature9</th>\n",
       "      <th>cluster</th>\n",
       "    </tr>\n",
       "  </thead>\n",
       "  <tbody>\n",
       "    <tr>\n",
       "      <th>0</th>\n",
       "      <td>5.850949</td>\n",
       "      <td>5.314459</td>\n",
       "      <td>3.507009</td>\n",
       "      <td>5.746078</td>\n",
       "      <td>-7.654765</td>\n",
       "      <td>10.271936</td>\n",
       "      <td>0.520728</td>\n",
       "      <td>-4.270634</td>\n",
       "      <td>8.166574</td>\n",
       "      <td>-3.727932</td>\n",
       "      <td>0</td>\n",
       "    </tr>\n",
       "  </tbody>\n",
       "</table>\n",
       "</div>"
      ],
      "text/plain": [
       "   feature0  feature1  feature2  feature3  feature4   feature5  feature6  \\\n",
       "0  5.850949  5.314459  3.507009  5.746078 -7.654765  10.271936  0.520728   \n",
       "\n",
       "   feature7  feature8  feature9  cluster  \n",
       "0 -4.270634  8.166574 -3.727932        0  "
      ]
     },
     "execution_count": 12,
     "metadata": {},
     "output_type": "execute_result"
    }
   ],
   "source": [
    "from sklearn.compose import ColumnTransformer\n",
    "from sklearn.impute import SimpleImputer\n",
    "import sklearn.pipeline\n",
    "\n",
    "imputer = ColumnTransformer([('features_mean', SimpleImputer(strategy='mean'), features)], remainder='passthrough')\n",
    "sklearn_pipeline = sklearn.pipeline.Pipeline([('imputer', imputer), ('kmean', HDBSCANTransformer())])\n",
    "pipeline = Pipeline.from_sklearn(sklearn_pipeline, features=features,\n",
    "                                 output_columns=['cluster']).fit(df)\n",
    "\n",
    "pipeline.inference(pipeline.raw)"
   ]
  },
  {
   "cell_type": "markdown",
   "metadata": {},
   "source": [
    "## Vaex"
   ]
  },
  {
   "cell_type": "code",
   "execution_count": 13,
   "metadata": {
    "ExecuteTime": {
     "end_time": "2022-01-12T22:00:42.253881Z",
     "start_time": "2022-01-12T22:00:41.144405Z"
    }
   },
   "outputs": [
    {
     "data": {
      "text/html": [
       "<table>\n",
       "<thead>\n",
       "<tr><th>#                            </th><th style=\"text-align: right;\">  feature0</th><th style=\"text-align: right;\">  feature1</th><th style=\"text-align: right;\">  feature2</th><th style=\"text-align: right;\">  feature3</th><th style=\"text-align: right;\">  feature4</th><th style=\"text-align: right;\">  feature5</th><th style=\"text-align: right;\">  feature6</th><th style=\"text-align: right;\">  feature7</th><th style=\"text-align: right;\">  feature8</th><th style=\"text-align: right;\">  feature9</th><th style=\"text-align: right;\">  target</th><th style=\"text-align: right;\">  cluster</th></tr>\n",
       "</thead>\n",
       "<tbody>\n",
       "<tr><td><i style='opacity: 0.6'>0</i></td><td style=\"text-align: right;\">   5.85095</td><td style=\"text-align: right;\">   5.31446</td><td style=\"text-align: right;\">   3.50701</td><td style=\"text-align: right;\">   5.74608</td><td style=\"text-align: right;\">  -7.65477</td><td style=\"text-align: right;\">   10.2719</td><td style=\"text-align: right;\">  0.520728</td><td style=\"text-align: right;\">  -4.27063</td><td style=\"text-align: right;\">   8.16657</td><td style=\"text-align: right;\">  -3.72793</td><td style=\"text-align: right;\">       0</td><td style=\"text-align: right;\">        0</td></tr>\n",
       "</tbody>\n",
       "</table>"
      ],
      "text/plain": [
       "  #    feature0    feature1    feature2    feature3    feature4    feature5    feature6    feature7    feature8    feature9    target    cluster\n",
       "  0     5.85095     5.31446     3.50701     5.74608    -7.65477     10.2719    0.520728    -4.27063     8.16657    -3.72793         0          0"
      ]
     },
     "execution_count": 13,
     "metadata": {},
     "output_type": "execute_result"
    }
   ],
   "source": [
    "import numpy as np\n",
    "import vaex\n",
    "from goldilox import Pipeline\n",
    "from hdbscan import HDBSCAN, approximate_predict\n",
    "\n",
    "df = vaex.from_pandas(df)\n",
    "\n",
    "# This will also fill in production\n",
    "for feature in features:\n",
    "    df[feature] = df[feature].fillna(df[feature].mean())\n",
    "\n",
    "model = HDBSCAN(prediction_data=True)\n",
    "model.fit(df[features], df[target])\n",
    "\n",
    "\n",
    "@vaex.register_function()\n",
    "def hdbscan(*columns):\n",
    "    data = np.array(columns).T\n",
    "    labels, _ = approximate_predict(model, data)\n",
    "    return labels\n",
    "\n",
    "\n",
    "df.add_function('hdbscan', hdbscan)\n",
    "df['cluster'] = df.func.hdbscan(*features)\n",
    "\n",
    "pipeline = Pipeline.from_vaex(df)\n",
    "pipeline.inference(pipeline.raw)"
   ]
  },
  {
   "cell_type": "markdown",
   "metadata": {},
   "source": [
    "# [Serve](https://docs.goldilox.io/reference/api-reference/cli/serve)"
   ]
  },
  {
   "cell_type": "code",
   "execution_count": 7,
   "metadata": {},
   "outputs": [
    {
     "name": "stdout",
     "output_type": "stream",
     "text": [
      "Go to the fasgtapi docs here: http://127.0.0.1:5000/docs\n",
      "[2021-11-26 12:10:04 +0100] [39494] [INFO] Starting gunicorn 20.1.0\n",
      "[2021-11-26 12:10:04 +0100] [39494] [INFO] Listening at: http://127.0.0.1:5000 (39494)\n",
      "[2021-11-26 12:10:04 +0100] [39494] [INFO] Using worker: uvicorn.workers.UvicornH11Worker\n",
      "[2021-11-26 12:10:04 +0100] [39527] [INFO] Booting worker with pid: 39527\n",
      "[2021-11-26 12:10:04 +0100] [39527] [INFO] Started server process [39527]\n",
      "[2021-11-26 12:10:04 +0100] [39527] [INFO] Waiting for application startup.\n",
      "[2021-11-26 12:10:04 +0100] [39527] [INFO] Application startup complete.\n",
      "^C\n",
      "[2021-11-26 12:10:21 +0100] [39494] [INFO] Handling signal: int\n"
     ]
    }
   ],
   "source": [
    "pipeline.save('pipeline.pkl')\n",
    "print('Go to the fastapi docs here: http://127.0.0.1:5000/docs')\n",
    "!gl serve 'pipeline.pkl'"
   ]
  }
 ],
 "metadata": {
  "interpreter": {
   "hash": "a24fb10407d98c895ca4ebc991df8bd8db3efe74a86347ed2e2a2998c5b6d91c"
  },
  "kernelspec": {
   "display_name": "Python 3 (ipykernel)",
   "language": "python",
   "name": "python3"
  },
  "language_info": {
   "codemirror_mode": {
    "name": "ipython",
    "version": 3
   },
   "file_extension": ".py",
   "mimetype": "text/x-python",
   "name": "python",
   "nbconvert_exporter": "python",
   "pygments_lexer": "ipython3",
   "version": "3.7.12"
  }
 },
 "nbformat": 4,
 "nbformat_minor": 2
}