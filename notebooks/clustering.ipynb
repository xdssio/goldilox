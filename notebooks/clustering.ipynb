{
 "cells": [
  {
   "cell_type": "markdown",
   "metadata": {},
   "source": [
    "# Get data"
   ]
  },
  {
   "cell_type": "markdown",
   "metadata": {},
   "source": [
    "## Vaex"
   ]
  },
  {
   "cell_type": "code",
   "execution_count": 27,
   "metadata": {},
   "outputs": [
    {
     "data": {
      "text/html": [
       "<table>\n",
       "<thead>\n",
       "<tr><th>#                            </th><th style=\"text-align: right;\">  id</th><th style=\"text-align: right;\">        x</th><th style=\"text-align: right;\">        y</th><th style=\"text-align: right;\">        z</th><th style=\"text-align: right;\">      vx</th><th style=\"text-align: right;\">     vy</th><th style=\"text-align: right;\">      vz</th><th style=\"text-align: right;\">      E</th><th style=\"text-align: right;\">      L</th><th style=\"text-align: right;\">     Lz</th><th style=\"text-align: right;\">     FeH</th><th style=\"text-align: right;\">  cluster</th></tr>\n",
       "</thead>\n",
       "<tbody>\n",
       "<tr><td><i style='opacity: 0.6'>0</i></td><td style=\"text-align: right;\">   0</td><td style=\"text-align: right;\"> 1.23187 </td><td style=\"text-align: right;\">-0.396929</td><td style=\"text-align: right;\">-0.598058</td><td style=\"text-align: right;\"> 301.155</td><td style=\"text-align: right;\">174.059</td><td style=\"text-align: right;\"> 27.4275</td><td style=\"text-align: right;\">-149431</td><td style=\"text-align: right;\">407.389</td><td style=\"text-align: right;\">333.956</td><td style=\"text-align: right;\">-1.00539</td><td style=\"text-align: right;\">        6</td></tr>\n",
       "<tr><td><i style='opacity: 0.6'>1</i></td><td style=\"text-align: right;\">  23</td><td style=\"text-align: right;\">-0.163701</td><td style=\"text-align: right;\"> 3.65422 </td><td style=\"text-align: right;\">-0.254906</td><td style=\"text-align: right;\">-195    </td><td style=\"text-align: right;\">170.472</td><td style=\"text-align: right;\">142.53  </td><td style=\"text-align: right;\">-124248</td><td style=\"text-align: right;\">890.241</td><td style=\"text-align: right;\">684.668</td><td style=\"text-align: right;\">-1.70867</td><td style=\"text-align: right;\">        1</td></tr>\n",
       "</tbody>\n",
       "</table>"
      ],
      "text/plain": [
       "  #    id          x          y          z        vx       vy        vz        E        L       Lz       FeH    cluster\n",
       "  0     0   1.23187   -0.396929  -0.598058   301.155  174.059   27.4275  -149431  407.389  333.956  -1.00539          6\n",
       "  1    23  -0.163701   3.65422   -0.254906  -195      170.472  142.53    -124248  890.241  684.668  -1.70867          1"
      ]
     },
     "execution_count": 27,
     "metadata": {},
     "output_type": "execute_result"
    }
   ],
   "source": [
    "import vaex\n",
    "from vaex.ml.sklearn import Predictor\n",
    "from sklearn.cluster import KMeans\n",
    "\n",
    "df = vaex.example()\n",
    "features = df.get_column_names(regex='[^id]')\n",
    "kmeans = Predictor(model=KMeans(), features=features, prediction_name='cluster')\n",
    "kmeans.fit(df)\n",
    "df = kmeans.transform(df)\n",
    "df.head(2)"
   ]
  },
  {
   "cell_type": "markdown",
   "metadata": {},
   "source": [
    "Let's build a production pipeline"
   ]
  },
  {
   "cell_type": "code",
   "execution_count": 28,
   "metadata": {},
   "outputs": [
    {
     "name": "stdout",
     "output_type": "stream",
     "text": [
      "predict for {\n",
      "    \"id\": 0,\n",
      "    \"x\": 1.2318683862686157,\n",
      "    \"y\": -0.39692866802215576,\n",
      "    \"z\": -0.598057746887207,\n",
      "    \"vx\": 301.1552734375,\n",
      "    \"vy\": 174.05947875976562,\n",
      "    \"vz\": 27.42754554748535,\n",
      "    \"E\": -149431.40625,\n",
      "    \"L\": 407.38897705078125,\n",
      "    \"Lz\": 333.9555358886719,\n",
      "    \"FeH\": -1.0053852796554565\n",
      "}\n"
     ]
    },
    {
     "data": {
      "text/html": [
       "<table>\n",
       "<thead>\n",
       "<tr><th>#                            </th><th style=\"text-align: right;\">  id</th><th style=\"text-align: right;\">      x</th><th style=\"text-align: right;\">        y</th><th style=\"text-align: right;\">        z</th><th style=\"text-align: right;\">     vx</th><th style=\"text-align: right;\">     vy</th><th style=\"text-align: right;\">     vz</th><th style=\"text-align: right;\">      E</th><th style=\"text-align: right;\">      L</th><th style=\"text-align: right;\">     Lz</th><th style=\"text-align: right;\">     FeH</th><th style=\"text-align: right;\">  cluster</th></tr>\n",
       "</thead>\n",
       "<tbody>\n",
       "<tr><td><i style='opacity: 0.6'>0</i></td><td style=\"text-align: right;\">   0</td><td style=\"text-align: right;\">1.23187</td><td style=\"text-align: right;\">-0.396929</td><td style=\"text-align: right;\">-0.598058</td><td style=\"text-align: right;\">301.155</td><td style=\"text-align: right;\">174.059</td><td style=\"text-align: right;\">27.4275</td><td style=\"text-align: right;\">-149431</td><td style=\"text-align: right;\">407.389</td><td style=\"text-align: right;\">333.956</td><td style=\"text-align: right;\">-1.00539</td><td style=\"text-align: right;\">        6</td></tr>\n",
       "</tbody>\n",
       "</table>"
      ],
      "text/plain": [
       "  #    id        x          y          z       vx       vy       vz        E        L       Lz       FeH    cluster\n",
       "  0     0  1.23187  -0.396929  -0.598058  301.155  174.059  27.4275  -149431  407.389  333.956  -1.00539          6"
      ]
     },
     "execution_count": 28,
     "metadata": {},
     "output_type": "execute_result"
    }
   ],
   "source": [
    "from goldilox import Pipeline\n",
    "import json\n",
    "\n",
    "pipeline = Pipeline.from_vaex(df)\n",
    "assert pipeline.validate()\n",
    "\n",
    "# I/O Example\n",
    "raw = pipeline.raw\n",
    "print(f\"predict for {json.dumps(raw, indent=4)}\")\n",
    "pipeline.inference(raw)"
   ]
  },
  {
   "cell_type": "markdown",
   "metadata": {},
   "source": [
    "## Sklearn"
   ]
  },
  {
   "cell_type": "code",
   "execution_count": 29,
   "metadata": {},
   "outputs": [
    {
     "data": {
      "text/html": [
       "<div>\n",
       "<style scoped>\n",
       "    .dataframe tbody tr th:only-of-type {\n",
       "        vertical-align: middle;\n",
       "    }\n",
       "\n",
       "    .dataframe tbody tr th {\n",
       "        vertical-align: top;\n",
       "    }\n",
       "\n",
       "    .dataframe thead th {\n",
       "        text-align: right;\n",
       "    }\n",
       "</style>\n",
       "<table border=\"1\" class=\"dataframe\">\n",
       "  <thead>\n",
       "    <tr style=\"text-align: right;\">\n",
       "      <th></th>\n",
       "      <th>sepal length (cm)</th>\n",
       "      <th>sepal width (cm)</th>\n",
       "      <th>petal length (cm)</th>\n",
       "      <th>petal width (cm)</th>\n",
       "    </tr>\n",
       "  </thead>\n",
       "  <tbody>\n",
       "    <tr>\n",
       "      <th>0</th>\n",
       "      <td>5.1</td>\n",
       "      <td>3.5</td>\n",
       "      <td>1.4</td>\n",
       "      <td>0.2</td>\n",
       "    </tr>\n",
       "    <tr>\n",
       "      <th>1</th>\n",
       "      <td>4.9</td>\n",
       "      <td>3.0</td>\n",
       "      <td>1.4</td>\n",
       "      <td>0.2</td>\n",
       "    </tr>\n",
       "    <tr>\n",
       "      <th>2</th>\n",
       "      <td>4.7</td>\n",
       "      <td>3.2</td>\n",
       "      <td>1.3</td>\n",
       "      <td>0.2</td>\n",
       "    </tr>\n",
       "    <tr>\n",
       "      <th>3</th>\n",
       "      <td>4.6</td>\n",
       "      <td>3.1</td>\n",
       "      <td>1.5</td>\n",
       "      <td>0.2</td>\n",
       "    </tr>\n",
       "    <tr>\n",
       "      <th>4</th>\n",
       "      <td>5.0</td>\n",
       "      <td>3.6</td>\n",
       "      <td>1.4</td>\n",
       "      <td>0.2</td>\n",
       "    </tr>\n",
       "  </tbody>\n",
       "</table>\n",
       "</div>"
      ],
      "text/plain": [
       "   sepal length (cm)  sepal width (cm)  petal length (cm)  petal width (cm)\n",
       "0                5.1               3.5                1.4               0.2\n",
       "1                4.9               3.0                1.4               0.2\n",
       "2                4.7               3.2                1.3               0.2\n",
       "3                4.6               3.1                1.5               0.2\n",
       "4                5.0               3.6                1.4               0.2"
      ]
     },
     "execution_count": 29,
     "metadata": {},
     "output_type": "execute_result"
    }
   ],
   "source": [
    "import pandas as pd\n",
    "from sklearn.datasets import load_iris\n",
    "\n",
    "# Get teh data\n",
    "iris  = load_iris()\n",
    "df = pd.DataFrame(iris.data, columns=iris.feature_names)\n",
    "\n",
    "df.head()"
   ]
  },
  {
   "cell_type": "code",
   "execution_count": 20,
   "metadata": {},
   "outputs": [
    {
     "name": "stderr",
     "output_type": "stream",
     "text": [
      "WARNING:root:Pipeline doesn't handle na for sepal length (cm)\n",
      "WARNING:root:Pipeline doesn't handle na for sepal width (cm)\n",
      "WARNING:root:Pipeline doesn't handle na for petal length (cm)\n",
      "WARNING:root:Pipeline doesn't handle na for petal width (cm)\n"
     ]
    }
   ],
   "source": [
    "from sklearn.cluster import KMeans\n",
    "from goldilox import Pipeline\n",
    "\n",
    "pipeline = Pipeline.from_sklearn(KMeans()).fit(df)\n",
    "assert pipeline.validate()\n"
   ]
  },
  {
   "cell_type": "markdown",
   "metadata": {},
   "source": [
    "The pipeline is ready to go, but it does not handle missing values which we might get in production time.   \n",
    "Let's fix that!"
   ]
  },
  {
   "cell_type": "code",
   "execution_count": 30,
   "metadata": {},
   "outputs": [
    {
     "name": "stdout",
     "output_type": "stream",
     "text": [
      "predict for {\n",
      "    \"sepal length (cm)\": 5.1,\n",
      "    \"sepal width (cm)\": 3.5,\n",
      "    \"petal length (cm)\": 1.4,\n",
      "    \"petal width (cm)\": 0.2\n",
      "}\n"
     ]
    },
    {
     "data": {
      "text/html": [
       "<div>\n",
       "<style scoped>\n",
       "    .dataframe tbody tr th:only-of-type {\n",
       "        vertical-align: middle;\n",
       "    }\n",
       "\n",
       "    .dataframe tbody tr th {\n",
       "        vertical-align: top;\n",
       "    }\n",
       "\n",
       "    .dataframe thead th {\n",
       "        text-align: right;\n",
       "    }\n",
       "</style>\n",
       "<table border=\"1\" class=\"dataframe\">\n",
       "  <thead>\n",
       "    <tr style=\"text-align: right;\">\n",
       "      <th></th>\n",
       "      <th>sepal length (cm)</th>\n",
       "      <th>sepal width (cm)</th>\n",
       "      <th>petal length (cm)</th>\n",
       "      <th>petal width (cm)</th>\n",
       "      <th>prediction</th>\n",
       "    </tr>\n",
       "  </thead>\n",
       "  <tbody>\n",
       "    <tr>\n",
       "      <th>0</th>\n",
       "      <td>5.1</td>\n",
       "      <td>3.5</td>\n",
       "      <td>1.4</td>\n",
       "      <td>0.2</td>\n",
       "      <td>4</td>\n",
       "    </tr>\n",
       "  </tbody>\n",
       "</table>\n",
       "</div>"
      ],
      "text/plain": [
       "   sepal length (cm)  sepal width (cm)  petal length (cm)  petal width (cm)  \\\n",
       "0                5.1               3.5                1.4               0.2   \n",
       "\n",
       "   prediction  \n",
       "0           4  "
      ]
     },
     "execution_count": 30,
     "metadata": {},
     "output_type": "execute_result"
    }
   ],
   "source": [
    "from sklearn.compose import ColumnTransformer\n",
    "from sklearn.impute import SimpleImputer\n",
    "import sklearn.pipeline \n",
    "imputer = ColumnTransformer([('features_mean', SimpleImputer(strategy='mean'), df.columns)], remainder='passthrough')\n",
    "sklearn_pipeline = sklearn.pipeline.Pipeline([('imputer',imputer), ('clustering', KMeans())])\n",
    "pipeline = Pipeline.from_sklearn(sklearn_pipeline).fit(df)\n",
    "assert pipeline.validate()\n",
    "\n",
    "# I/O Example\n",
    "raw = pipeline.raw\n",
    "print(f\"predict for {json.dumps(raw, indent=4)}\")\n",
    "pipeline.inference(raw)"
   ]
  },
  {
   "cell_type": "code",
   "execution_count": 7,
   "metadata": {},
   "outputs": [
    {
     "name": "stdout",
     "output_type": "stream",
     "text": [
      "Go to the fasgtapi docs here: http://127.0.0.1:5000/docs\n",
      "[2021-11-26 12:10:04 +0100] [39494] [INFO] Starting gunicorn 20.1.0\n",
      "[2021-11-26 12:10:04 +0100] [39494] [INFO] Listening at: http://127.0.0.1:5000 (39494)\n",
      "[2021-11-26 12:10:04 +0100] [39494] [INFO] Using worker: uvicorn.workers.UvicornH11Worker\n",
      "[2021-11-26 12:10:04 +0100] [39527] [INFO] Booting worker with pid: 39527\n",
      "[2021-11-26 12:10:04 +0100] [39527] [INFO] Started server process [39527]\n",
      "[2021-11-26 12:10:04 +0100] [39527] [INFO] Waiting for application startup.\n",
      "[2021-11-26 12:10:04 +0100] [39527] [INFO] Application startup complete.\n",
      "^C\n",
      "[2021-11-26 12:10:21 +0100] [39494] [INFO] Handling signal: int\n"
     ]
    }
   ],
   "source": [
    "pipeline.save('pipeline.pkl')\n",
    "print('Go to the fastapi docs here: http://127.0.0.1:5000/docs')\n",
    "!gl serve 'pipeline.pkl'"
   ]
  }
 ],
 "metadata": {
  "interpreter": {
   "hash": "a24fb10407d98c895ca4ebc991df8bd8db3efe74a86347ed2e2a2998c5b6d91c"
  },
  "kernelspec": {
   "display_name": "Python 3.9.7 64-bit ('.virtualenvs': virtualenv)",
   "language": "python",
   "name": "python3"
  },
  "language_info": {
   "codemirror_mode": {
    "name": "ipython",
    "version": 3
   },
   "file_extension": ".py",
   "mimetype": "text/x-python",
   "name": "python",
   "nbconvert_exporter": "python",
   "pygments_lexer": "ipython3",
   "version": "3.7.9"
  },
  "orig_nbformat": 4
 },
 "nbformat": 4,
 "nbformat_minor": 2
}
