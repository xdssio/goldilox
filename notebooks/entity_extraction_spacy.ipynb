{
 "cells": [
  {
   "cell_type": "markdown",
   "id": "1282d3f7",
   "metadata": {},
   "source": [
    "# Spacy\n",
    "[spacy](https://spacy.io)"
   ]
  },
  {
   "cell_type": "code",
   "execution_count": 2,
   "id": "613dd2bd",
   "metadata": {
    "ExecuteTime": {
     "end_time": "2022-01-27T10:32:16.328964Z",
     "start_time": "2022-01-27T10:32:13.706065Z"
    },
    "code_folding": [
     10
    ]
   },
   "outputs": [
    {
     "data": {
      "text/plain": [
       "True"
      ]
     },
     "execution_count": 2,
     "metadata": {},
     "output_type": "execute_result"
    }
   ],
   "source": [
    "# Spacy \n",
    "import numpy as np\n",
    "import pyarrow as pa\n",
    "import spacy\n",
    "import vaex\n",
    "from spacy.cli import download\n",
    "from spacy.language import Language\n",
    "from goldilox import Pipeline\n",
    "\n",
    "def download_nlp(lang='en_core_web_sm'):\n",
    "    try:\n",
    "        nlp = spacy.load(lang)\n",
    "        return True\n",
    "    except:\n",
    "        download(lang)\n",
    "    return False\n",
    "\n",
    "download_nlp()"
   ]
  },
  {
   "cell_type": "code",
   "execution_count": 13,
   "id": "d31d7c94",
   "metadata": {
    "ExecuteTime": {
     "end_time": "2022-01-27T10:37:11.093055Z",
     "start_time": "2022-01-27T10:37:08.051445Z"
    }
   },
   "outputs": [
    {
     "name": "stderr",
     "output_type": "stream",
     "text": [
      "WARNING:root:WARNING: Pipeline doesn't handle NA for text\n"
     ]
    },
    {
     "data": {
      "text/html": [
       "<table>\n",
       "<thead>\n",
       "<tr><th>#                            </th><th>text                                               </th><th>organisations  </th><th>money                           </th></tr>\n",
       "</thead>\n",
       "<tbody>\n",
       "<tr><td><i style='opacity: 0.6'>0</i></td><td>&#x27;Net income was $9.4 million compared to the pri...</td><td>[&#x27;Apple&#x27;]      </td><td>[&#x27;$9.4 million&#x27;, &#x27;$2.7 million&#x27;]</td></tr>\n",
       "</tbody>\n",
       "</table>"
      ],
      "text/plain": [
       "  #  text                                                 organisations    money\n",
       "  0  'Net income was $9.4 million compared to the pri...  ['Apple']        ['$9.4 million', '$2.7 million']"
      ]
     },
     "execution_count": 13,
     "metadata": {},
     "output_type": "execute_result"
    }
   ],
   "source": [
    "# Build a spacy entities pipeline\n",
    "@Language.component(\"ents\")\n",
    "def ents(doc):\n",
    "    return doc.ents\n",
    "\n",
    "nlp_entitie = spacy.load('en_core_web_sm')\n",
    "nlp_entitie.add_pipe('ents', name='ents', last=True)\n",
    "\n",
    "texts = [\n",
    "    \"Net income was $9.4 million compared to the prior year of $2.7 million. Apple is doing very well\",\n",
    "    \"IBM had their revenue exceeded twelve billion dollars, with a loss of $1b.\",\n",
    "]\n",
    "\n",
    "df = vaex.from_arrays(text=texts)\n",
    "\n",
    "@vaex.register_function()\n",
    "def get_entities(ar, label='ORG'):    \n",
    "    if not isinstance(ar, list):\n",
    "        ar = ar.tolist()\n",
    "    docs = [nlp_entitie(doc) for doc in ar]\n",
    "    entities = [[str(ent.text) for ent in doc if ent.label_ == label] for doc in docs]\n",
    "    return pa.array(entities)\n",
    "df.add_function('get_entities', get_entities)\n",
    "\n",
    "df.variables['ORG'] = 'ORG'\n",
    "df.variables['MONEY'] = 'MONEY'\n",
    "\n",
    "df['organisations'] = df.func.get_entities(df.text, 'ORG')\n",
    "df['money'] = df.func.get_entities(df.text, 'MONEY')\n",
    "\n",
    "pipeline = Pipeline.from_vaex(df)\n",
    "pipeline.inference(pipeline.raw)"
   ]
  }
 ],
 "metadata": {
  "kernelspec": {
   "display_name": "Python 3 (ipykernel)",
   "language": "python",
   "name": "python3"
  },
  "language_info": {
   "codemirror_mode": {
    "name": "ipython",
    "version": 3
   },
   "file_extension": ".py",
   "mimetype": "text/x-python",
   "name": "python",
   "nbconvert_exporter": "python",
   "pygments_lexer": "ipython3",
   "version": "3.7.12"
  }
 },
 "nbformat": 4,
 "nbformat_minor": 5
}
