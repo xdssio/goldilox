{
 "cells": [
  {
   "cell_type": "markdown",
   "id": "5a5501ff",
   "metadata": {},
   "source": [
    "# All the ML\n",
    "Let's try to solve as many machine learning tasks on the same dataset."
   ]
  },
  {
   "cell_type": "code",
   "execution_count": 12,
   "id": "419ae799",
   "metadata": {
    "ExecuteTime": {
     "end_time": "2022-02-01T16:20:50.434395Z",
     "start_time": "2022-02-01T16:20:48.848012Z"
    }
   },
   "outputs": [
    {
     "data": {
      "text/html": [
       "<table>\n",
       "<thead>\n",
       "<tr><th>#                            </th><th style=\"text-align: right;\">  sepal_length</th><th style=\"text-align: right;\">  sepal_width</th><th style=\"text-align: right;\">  petal_length</th><th style=\"text-align: right;\">  petal_width</th><th style=\"text-align: right;\">  target</th><th style=\"text-align: right;\">  petal_ratio</th><th>classification                                     </th><th style=\"text-align: right;\">  regression</th><th style=\"text-align: right;\">  cluster</th><th style=\"text-align: right;\">  prediction</th><th>label  </th></tr>\n",
       "</thead>\n",
       "<tbody>\n",
       "<tr><td><i style='opacity: 0.6'>0</i></td><td style=\"text-align: right;\">           5.1</td><td style=\"text-align: right;\">          3.5</td><td style=\"text-align: right;\">           1.4</td><td style=\"text-align: right;\">          0.2</td><td style=\"text-align: right;\">       0</td><td style=\"text-align: right;\">            7</td><td>&#x27;array([9.99999943e-01, 5.70021072e-08, 4.053823...</td><td style=\"text-align: right;\"> 2.17295e-05</td><td style=\"text-align: right;\">        1</td><td style=\"text-align: right;\">           0</td><td>setosa </td></tr>\n",
       "<tr><td><i style='opacity: 0.6'>1</i></td><td style=\"text-align: right;\">           4.9</td><td style=\"text-align: right;\">          3  </td><td style=\"text-align: right;\">           1.4</td><td style=\"text-align: right;\">          0.2</td><td style=\"text-align: right;\">       0</td><td style=\"text-align: right;\">            7</td><td>&#x27;array([9.99999756e-01, 2.15645920e-07, 2.793808...</td><td style=\"text-align: right;\"> 0.000246913</td><td style=\"text-align: right;\">        1</td><td style=\"text-align: right;\">           0</td><td>setosa </td></tr>\n",
       "</tbody>\n",
       "</table>"
      ],
      "text/plain": [
       "  #    sepal_length    sepal_width    petal_length    petal_width    target    petal_ratio  classification                                         regression    cluster    prediction  label\n",
       "  0             5.1            3.5             1.4            0.2         0              7  'array([9.99999943e-01, 5.70021072e-08, 4.053823...   2.17295e-05          1             0  setosa\n",
       "  1             4.9            3               1.4            0.2         0              7  'array([9.99999756e-01, 2.15645920e-07, 2.793808...   0.000246913          1             0  setosa"
      ]
     },
     "execution_count": 12,
     "metadata": {},
     "output_type": "execute_result"
    }
   ],
   "source": [
    "import warnings\n",
    "\n",
    "import vaex\n",
    "from sklearn.cluster import KMeans\n",
    "from vaex.ml.lightgbm import LightGBMModel\n",
    "from vaex.ml.sklearn import Predictor\n",
    "from vaex.ml.xgboost import XGBoostModel\n",
    "\n",
    "from goldilox import Pipeline\n",
    "from goldilox.datasets import load_iris\n",
    "\n",
    "warnings.filterwarnings('ignore')\n",
    "\n",
    "df, features, target = load_iris()\n",
    "df = vaex.from_pandas(df)\n",
    "\n",
    "# feature engineering example\n",
    "for feature in features:\n",
    "    df[feature] = df[feature].fillna(df[feature].mean())\n",
    "\n",
    "df['petal_ratio'] = df['petal_length'] / df['petal_width']\n",
    "features = ['petal_length', 'petal_width', 'sepal_length', 'sepal_width', 'petal_ratio']\n",
    "\n",
    "# classification\n",
    "lgm = LightGBMModel(features=features,\n",
    "                    target=target,\n",
    "                    prediction_name='classification',\n",
    "                    num_boost_round=500, params={'verbosity': -1,\n",
    "                                                 'objective': 'multiclass',\n",
    "                                                 'num_class': 3})\n",
    "lgm.fit(df)\n",
    "df = lgm.transform(df)\n",
    "\n",
    "# regression\n",
    "xgb = XGBoostModel(\n",
    "    features=features,\n",
    "    target=target,\n",
    "    prediction_name=\"regression\",\n",
    "    params={'objective': 'reg:squarederror'},\n",
    "    num_boost_round=500,\n",
    ")\n",
    "xgb.fit(df)\n",
    "df = xgb.transform(df)\n",
    "# clustering\n",
    "kmeans = Predictor(model=KMeans(), features=features, prediction_name='cluster')\n",
    "kmeans.fit(df)\n",
    "df = kmeans.transform(df)\n",
    "\n",
    "\n",
    "# post model processing example\n",
    "@vaex.register_function()\n",
    "def argmax(ar, axis=1):\n",
    "    return np.argmax(ar, axis=axis)\n",
    "\n",
    "\n",
    "df.add_function('argmax', argmax)\n",
    "df['prediction'] = df['classification'].argmax()\n",
    "\n",
    "df['label'] = df['prediction'].map({0: 'setosa', 1: 'versicolor', 2: 'virginica'})\n",
    "df.head(2)"
   ]
  },
  {
   "cell_type": "markdown",
   "id": "6452813e",
   "metadata": {},
   "source": [
    "## Nearest nighbours"
   ]
  },
  {
   "cell_type": "code",
   "execution_count": 13,
   "id": "e220941e",
   "metadata": {
    "ExecuteTime": {
     "end_time": "2022-02-01T16:20:56.449273Z",
     "start_time": "2022-02-01T16:20:56.294996Z"
    }
   },
   "outputs": [
    {
     "data": {
      "text/html": [
       "<table>\n",
       "<thead>\n",
       "<tr><th>#                            </th><th style=\"text-align: right;\">  sepal_length</th><th style=\"text-align: right;\">  sepal_width</th><th style=\"text-align: right;\">  petal_length</th><th style=\"text-align: right;\">  petal_width</th><th style=\"text-align: right;\">  target</th><th style=\"text-align: right;\">  petal_ratio</th><th>classification                                     </th><th style=\"text-align: right;\">  regression</th><th style=\"text-align: right;\">  cluster</th><th style=\"text-align: right;\">  prediction</th><th>label  </th><th>knn                           </th></tr>\n",
       "</thead>\n",
       "<tbody>\n",
       "<tr><td><i style='opacity: 0.6'>0</i></td><td style=\"text-align: right;\">           5.1</td><td style=\"text-align: right;\">          3.5</td><td style=\"text-align: right;\">           1.4</td><td style=\"text-align: right;\">          0.2</td><td style=\"text-align: right;\">       0</td><td style=\"text-align: right;\">            7</td><td>&#x27;array([9.99999943e-01, 5.70021072e-08, 4.053823...</td><td style=\"text-align: right;\"> 2.17295e-05</td><td style=\"text-align: right;\">        1</td><td style=\"text-align: right;\">           0</td><td>setosa </td><td>array([1, 4, 6], dtype=uint64)</td></tr>\n",
       "</tbody>\n",
       "</table>"
      ],
      "text/plain": [
       "  #    sepal_length    sepal_width    petal_length    petal_width    target    petal_ratio  classification                                         regression    cluster    prediction  label    knn\n",
       "  0             5.1            3.5             1.4            0.2         0              7  'array([9.99999943e-01, 5.70021072e-08, 4.053823...   2.17295e-05          1             0  setosa   array([1, 4, 6], dtype=uint64)"
      ]
     },
     "execution_count": 13,
     "metadata": {},
     "output_type": "execute_result"
    }
   ],
   "source": [
    "from hnswlib import Index\n",
    "import numpy as np\n",
    "\n",
    "# Build index\n",
    "index = Index(\n",
    "    space=\"l2\", dim=len(features)\n",
    ")  # possible options are l2, cosine or ip\n",
    "index.init_index(max_elements=len(df), ef_construction=200, M=16)\n",
    "\n",
    "for i1, i2, chunk in df[features + ['cluster']].to_pandas_df(chunk_size=1000):\n",
    "    X = chunk[features]\n",
    "    y = chunk[\"cluster\"]\n",
    "    index.add_items(X, y)\n",
    "\n",
    "index.set_ef(50)  # ef should always be > k (Controlling the recall by setting ef)\n",
    "\n",
    "\n",
    "# Add to Dataframe\n",
    "@vaex.register_function(on_expression=False)\n",
    "def topk(*columns, k=3):\n",
    "    labels, _ = index.knn_query(np.array(columns).T, k=k)\n",
    "    return np.array(labels)\n",
    "\n",
    "\n",
    "df.add_function(\"topk\", topk)\n",
    "df[\"knn\"] = df.func.topk(*features)\n",
    "df.head(1)"
   ]
  },
  {
   "cell_type": "markdown",
   "id": "4c708120",
   "metadata": {},
   "source": [
    "# Explain"
   ]
  },
  {
   "cell_type": "code",
   "execution_count": 15,
   "id": "389667f4",
   "metadata": {
    "ExecuteTime": {
     "end_time": "2022-02-01T16:21:06.663168Z",
     "start_time": "2022-02-01T16:21:06.061737Z"
    },
    "code_folding": []
   },
   "outputs": [
    {
     "data": {
      "text/html": [
       "<table>\n",
       "<thead>\n",
       "<tr><th>#                            </th><th style=\"text-align: right;\">  sepal_length</th><th style=\"text-align: right;\">  sepal_width</th><th style=\"text-align: right;\">  petal_length</th><th style=\"text-align: right;\">  petal_width</th><th style=\"text-align: right;\">  target</th><th style=\"text-align: right;\">  petal_ratio</th><th>classification                                     </th><th style=\"text-align: right;\">  regression</th><th style=\"text-align: right;\">  cluster</th><th style=\"text-align: right;\">  prediction</th><th>label  </th><th>knn                           </th><th>explanation                                        </th></tr>\n",
       "</thead>\n",
       "<tbody>\n",
       "<tr><td><i style='opacity: 0.6'>0</i></td><td style=\"text-align: right;\">           5.1</td><td style=\"text-align: right;\">          3.5</td><td style=\"text-align: right;\">           1.4</td><td style=\"text-align: right;\">          0.2</td><td style=\"text-align: right;\">       0</td><td style=\"text-align: right;\">            7</td><td>&#x27;array([9.99999943e-01, 5.70021072e-08, 4.053823...</td><td style=\"text-align: right;\"> 2.17295e-05</td><td style=\"text-align: right;\">        1</td><td style=\"text-align: right;\">           0</td><td>setosa </td><td>array([1, 4, 6], dtype=uint64)</td><td>&quot;{&#x27;petal_length&#x27;: 7.824491447488607, &#x27;petal_rati...</td></tr>\n",
       "</tbody>\n",
       "</table>"
      ],
      "text/plain": [
       "  #    sepal_length    sepal_width    petal_length    petal_width    target    petal_ratio  classification                                         regression    cluster    prediction  label    knn                             explanation\n",
       "  0             5.1            3.5             1.4            0.2         0              7  'array([9.99999943e-01, 5.70021072e-08, 4.053823...   2.17295e-05          1             0  setosa   array([1, 4, 6], dtype=uint64)  \"{'petal_length': 7.824491447488607, 'petal_rati..."
      ]
     },
     "execution_count": 15,
     "metadata": {},
     "output_type": "execute_result"
    }
   ],
   "source": [
    "import shap\n",
    "import pandas as pd\n",
    "\n",
    "explainer = shap.TreeExplainer(lgm.booster)\n",
    "targets = df[target].unique()\n",
    "feature_count = len(features)\n",
    "\n",
    "\n",
    "@vaex.register_function(on_expression=False)\n",
    "def explain(*columns):\n",
    "    data = np.array(columns).T\n",
    "    X = pd.DataFrame(data[:, :feature_count], columns=features)\n",
    "    y = data[:, -1]\n",
    "    shap_values = explainer.shap_values(X)\n",
    "    explanation = []\n",
    "\n",
    "    for i, c in enumerate(y):\n",
    "        c = int(c)\n",
    "        e = shap.force_plot(explainer.expected_value[c], shap_values[c][i, :], X.iloc[i]).data\n",
    "        explanation.append(\n",
    "            {feature: effects['effect'] for feature, effects in zip(e['featureNames'], e['features'].values())})\n",
    "    return pa.array(explanation)\n",
    "\n",
    "\n",
    "df.add_function('explain', explain)\n",
    "explain_columns = features + ['prediction']\n",
    "df['explanation'] = df.func.explain(*explain_columns)\n",
    "df.head(1)"
   ]
  },
  {
   "cell_type": "markdown",
   "id": "0f87c7b9",
   "metadata": {},
   "source": [
    "# Recommender"
   ]
  },
  {
   "cell_type": "code",
   "execution_count": 16,
   "id": "cbbfa8fc",
   "metadata": {
    "ExecuteTime": {
     "end_time": "2022-02-01T16:21:12.055902Z",
     "start_time": "2022-02-01T16:21:11.768861Z"
    }
   },
   "outputs": [
    {
     "data": {
      "application/vnd.jupyter.widget-view+json": {
       "model_id": "d2fba4a058304ed2be92ac3464e24b6a",
       "version_major": 2,
       "version_minor": 0
      },
      "text/plain": [
       "  0%|          | 0/15 [00:00<?, ?it/s]"
      ]
     },
     "metadata": {},
     "output_type": "display_data"
    },
    {
     "data": {
      "text/html": [
       "<table>\n",
       "<thead>\n",
       "<tr><th>#                            </th><th style=\"text-align: right;\">  sepal_length</th><th style=\"text-align: right;\">  sepal_width</th><th style=\"text-align: right;\">  petal_length</th><th style=\"text-align: right;\">  petal_width</th><th style=\"text-align: right;\">  target</th><th style=\"text-align: right;\">  petal_ratio</th><th>classification                                     </th><th style=\"text-align: right;\">  regression</th><th style=\"text-align: right;\">  cluster</th><th style=\"text-align: right;\">  prediction</th><th>label  </th><th>knn                           </th><th>explanation                                        </th><th>recommendations  </th></tr>\n",
       "</thead>\n",
       "<tbody>\n",
       "<tr><td><i style='opacity: 0.6'>0</i></td><td style=\"text-align: right;\">           5.1</td><td style=\"text-align: right;\">          3.5</td><td style=\"text-align: right;\">           1.4</td><td style=\"text-align: right;\">          0.2</td><td style=\"text-align: right;\">       0</td><td style=\"text-align: right;\">            7</td><td>&#x27;array([9.99999943e-01, 5.70021072e-08, 4.053823...</td><td style=\"text-align: right;\"> 2.17295e-05</td><td style=\"text-align: right;\">        1</td><td style=\"text-align: right;\">           0</td><td>setosa </td><td>array([1, 4, 6], dtype=uint64)</td><td>&quot;{&#x27;petal_length&#x27;: 7.824491447488607, &#x27;petal_rati...</td><td>array([1, 2, 0]) </td></tr>\n",
       "<tr><td><i style='opacity: 0.6'>1</i></td><td style=\"text-align: right;\">           4.9</td><td style=\"text-align: right;\">          3  </td><td style=\"text-align: right;\">           1.4</td><td style=\"text-align: right;\">          0.2</td><td style=\"text-align: right;\">       0</td><td style=\"text-align: right;\">            7</td><td>&#x27;array([9.99999756e-01, 2.15645920e-07, 2.793808...</td><td style=\"text-align: right;\"> 0.000246913</td><td style=\"text-align: right;\">        1</td><td style=\"text-align: right;\">           0</td><td>setosa </td><td>array([1, 4, 6], dtype=uint64)</td><td>&quot;{&#x27;petal_length&#x27;: 8.066329204345955, &#x27;petal_rati...</td><td>array([1, 2, 0]) </td></tr>\n",
       "</tbody>\n",
       "</table>"
      ],
      "text/plain": [
       "  #    sepal_length    sepal_width    petal_length    petal_width    target    petal_ratio  classification                                         regression    cluster    prediction  label    knn                             explanation                                          recommendations\n",
       "  0             5.1            3.5             1.4            0.2         0              7  'array([9.99999943e-01, 5.70021072e-08, 4.053823...   2.17295e-05          1             0  setosa   array([1, 4, 6], dtype=uint64)  \"{'petal_length': 7.824491447488607, 'petal_rati...  array([1, 2, 0])\n",
       "  1             4.9            3               1.4            0.2         0              7  'array([9.99999756e-01, 2.15645920e-07, 2.793808...   0.000246913          1             0  setosa   array([1, 4, 6], dtype=uint64)  \"{'petal_length': 8.066329204345955, 'petal_rati...  array([1, 2, 0])"
      ]
     },
     "execution_count": 16,
     "metadata": {},
     "output_type": "execute_result"
    }
   ],
   "source": [
    "from scipy.sparse import csr_matrix\n",
    "from implicit.als import AlternatingLeastSquares\n",
    "import pyarrow as pa\n",
    "\n",
    "ratings = csr_matrix((np.ones(len(df)), (df.prediction.values, df.cluster.values)))\n",
    "als = AlternatingLeastSquares(factors=32)\n",
    "als.fit(ratings)\n",
    "user_items = ratings.T.tocsr()\n",
    "\n",
    "\n",
    "@vaex.register_function()\n",
    "def recommend_als(ar, topk=5, filter_already_liked_items=False):\n",
    "    ret = []\n",
    "    for user in ar.tolist():\n",
    "        recommendations = als.recommend(user, user_items, N=topk,\n",
    "                                        filter_already_liked_items=filter_already_liked_items)\n",
    "        ret.append([recommendation[0] for recommendation in recommendations])\n",
    "    return np.array(ret)\n",
    "\n",
    "\n",
    "df.add_function('recommend_als', recommend_als)\n",
    "df['recommendations'] = df.prediction.recommend_als()\n",
    "df.head(2)"
   ]
  },
  {
   "cell_type": "markdown",
   "id": "dec78582",
   "metadata": {},
   "source": [
    "# Go to production?"
   ]
  },
  {
   "cell_type": "code",
   "execution_count": 18,
   "id": "594e7712",
   "metadata": {
    "ExecuteTime": {
     "end_time": "2022-02-01T16:21:42.629753Z",
     "start_time": "2022-02-01T16:21:41.027381Z"
    }
   },
   "outputs": [
    {
     "data": {
      "text/html": [
       "<table>\n",
       "<thead>\n",
       "<tr><th>#                            </th><th style=\"text-align: right;\">  sepal_length</th><th style=\"text-align: right;\">  sepal_width</th><th style=\"text-align: right;\">  petal_length</th><th style=\"text-align: right;\">  petal_width</th><th style=\"text-align: right;\">  target</th><th style=\"text-align: right;\">  petal_ratio</th><th>classification                                     </th><th style=\"text-align: right;\">  regression</th><th style=\"text-align: right;\">  cluster</th><th style=\"text-align: right;\">  prediction</th><th>label  </th><th>knn                           </th><th>explanation                                        </th><th>recommendations  </th></tr>\n",
       "</thead>\n",
       "<tbody>\n",
       "<tr><td><i style='opacity: 0.6'>0</i></td><td style=\"text-align: right;\">           5.1</td><td style=\"text-align: right;\">          3.5</td><td style=\"text-align: right;\">           1.4</td><td style=\"text-align: right;\">          0.2</td><td style=\"text-align: right;\">       0</td><td style=\"text-align: right;\">            7</td><td>&#x27;array([9.99999943e-01, 5.70021072e-08, 4.053823...</td><td style=\"text-align: right;\"> 2.17295e-05</td><td style=\"text-align: right;\">        1</td><td style=\"text-align: right;\">           0</td><td>setosa </td><td>array([1, 4, 6], dtype=uint64)</td><td>&quot;{&#x27;petal_length&#x27;: 7.824491447488607, &#x27;petal_rati...</td><td>array([1, 2, 0]) </td></tr>\n",
       "</tbody>\n",
       "</table>"
      ],
      "text/plain": [
       "  #    sepal_length    sepal_width    petal_length    petal_width    target    petal_ratio  classification                                         regression    cluster    prediction  label    knn                             explanation                                          recommendations\n",
       "  0             5.1            3.5             1.4            0.2         0              7  'array([9.99999943e-01, 5.70021072e-08, 4.053823...   2.17295e-05          1             0  setosa   array([1, 4, 6], dtype=uint64)  \"{'petal_length': 7.824491447488607, 'petal_rati...  array([1, 2, 0])"
      ]
     },
     "execution_count": 18,
     "metadata": {},
     "output_type": "execute_result"
    }
   ],
   "source": [
    "pipeline = Pipeline.from_vaex(df)\n",
    "pipeline.inference(pipeline.raw)"
   ]
  },
  {
   "cell_type": "code",
   "execution_count": 19,
   "id": "aea5987c",
   "metadata": {
    "ExecuteTime": {
     "end_time": "2022-02-01T16:22:10.830504Z",
     "start_time": "2022-02-01T16:21:51.432505Z"
    }
   },
   "outputs": [
    {
     "name": "stdout",
     "output_type": "stream",
     "text": [
      "Go to http://127.0.0.1:8000/docs\n",
      "[2022-02-01 17:21:57 +0100] [87184] [INFO] Starting gunicorn 20.1.0\n",
      "[2022-02-01 17:21:57 +0100] [87184] [INFO] Listening at: http://127.0.0.1:8000 (87184)\n",
      "[2022-02-01 17:21:57 +0100] [87184] [INFO] Using worker: uvicorn.workers.UvicornH11Worker\n",
      "[2022-02-01 17:21:57 +0100] [87197] [INFO] Booting worker with pid: 87197\n",
      "[2022-02-01 17:21:57 +0100] [87197] [INFO] Started server process [87197]\n",
      "[2022-02-01 17:21:57 +0100] [87197] [INFO] Waiting for application startup.\n",
      "[2022-02-01 17:21:57 +0100] [87197] [INFO] Application startup complete.\n",
      "^C\n",
      "[2022-02-01 17:22:10 +0100] [87184] [INFO] Handling signal: int\n",
      "[2022-02-01 17:22:10 +0100] [87184] [WARNING] Worker with pid 87197 was terminated due to signal 3\n",
      "[2022-02-01 17:22:10 +0100] [87184] [INFO] Shutting down: Master\n"
     ]
    }
   ],
   "source": [
    "pipeline.save('pipeline.pkl')\n",
    "print('Go to http://127.0.0.1:8000/docs')\n",
    "!glx serve pipeline.pkl"
   ]
  },
  {
   "cell_type": "code",
   "execution_count": null,
   "id": "370bd351",
   "metadata": {},
   "outputs": [],
   "source": []
  }
 ],
 "metadata": {
  "kernelspec": {
   "display_name": "Python 3 (ipykernel)",
   "language": "python",
   "name": "python3"
  },
  "language_info": {
   "codemirror_mode": {
    "name": "ipython",
    "version": 3
   },
   "file_extension": ".py",
   "mimetype": "text/x-python",
   "name": "python",
   "nbconvert_exporter": "python",
   "pygments_lexer": "ipython3",
   "version": "3.7.12"
  }
 },
 "nbformat": 4,
 "nbformat_minor": 5
}