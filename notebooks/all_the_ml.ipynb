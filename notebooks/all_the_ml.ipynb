{
 "cells": [
  {
   "cell_type": "markdown",
   "id": "5a5501ff",
   "metadata": {},
   "source": [
    "# All the ML"
   ]
  },
  {
   "cell_type": "markdown",
   "id": "098b6ec9",
   "metadata": {},
   "source": [
    "## Classification/Regression/Clustering"
   ]
  },
  {
   "cell_type": "code",
   "execution_count": 40,
   "id": "419ae799",
   "metadata": {
    "ExecuteTime": {
     "end_time": "2021-12-09T15:16:15.674667Z",
     "start_time": "2021-12-09T15:16:11.565436Z"
    }
   },
   "outputs": [
    {
     "name": "stdout",
     "output_type": "stream",
     "text": [
      "Pipeline raw data example:\n",
      "{\n",
      "    \"sepal_length\": 5.9,\n",
      "    \"sepal_width\": 3.0,\n",
      "    \"petal_length\": 4.2,\n",
      "    \"petal_width\": 1.5\n",
      "}\n",
      "\n",
      "Pipeline output example:\n"
     ]
    },
    {
     "data": {
      "text/html": [
       "<table>\n",
       "<thead>\n",
       "<tr><th>#                            </th><th style=\"text-align: right;\">  sepal_length</th><th style=\"text-align: right;\">  sepal_width</th><th style=\"text-align: right;\">  petal_length</th><th style=\"text-align: right;\">  petal_width</th><th style=\"text-align: right;\">  class_</th><th style=\"text-align: right;\">  petal_ratio</th><th>classification                                     </th><th style=\"text-align: right;\">  regression</th><th style=\"text-align: right;\">  cluster</th><th style=\"text-align: right;\">  prediction</th><th>label     </th></tr>\n",
       "</thead>\n",
       "<tbody>\n",
       "<tr><td><i style='opacity: 0.6'>0</i></td><td style=\"text-align: right;\">           5.9</td><td style=\"text-align: right;\">            3</td><td style=\"text-align: right;\">           4.2</td><td style=\"text-align: right;\">          1.5</td><td style=\"text-align: right;\">       1</td><td style=\"text-align: right;\">      2.8    </td><td>&#x27;array([2.50134389e-08, 9.99999969e-01, 6.259919...</td><td style=\"text-align: right;\">     1.0007 </td><td style=\"text-align: right;\">        3</td><td style=\"text-align: right;\">           1</td><td>versicolor</td></tr>\n",
       "<tr><td><i style='opacity: 0.6'>1</i></td><td style=\"text-align: right;\">           6.1</td><td style=\"text-align: right;\">            3</td><td style=\"text-align: right;\">           4.6</td><td style=\"text-align: right;\">          1.4</td><td style=\"text-align: right;\">       1</td><td style=\"text-align: right;\">      3.28571</td><td>&#x27;array([8.83971014e-07, 9.99999089e-01, 2.725598...</td><td style=\"text-align: right;\">     1.00103</td><td style=\"text-align: right;\">        3</td><td style=\"text-align: right;\">           1</td><td>versicolor</td></tr>\n",
       "</tbody>\n",
       "</table>"
      ],
      "text/plain": [
       "  #    sepal_length    sepal_width    petal_length    petal_width    class_    petal_ratio  classification                                         regression    cluster    prediction  label\n",
       "  0             5.9              3             4.2            1.5         1        2.8      'array([2.50134389e-08, 9.99999969e-01, 6.259919...       1.0007           3             1  versicolor\n",
       "  1             6.1              3             4.6            1.4         1        3.28571  'array([8.83971014e-07, 9.99999089e-01, 2.725598...       1.00103          3             1  versicolor"
      ]
     },
     "execution_count": 40,
     "metadata": {},
     "output_type": "execute_result"
    }
   ],
   "source": [
    "import vaex\n",
    "import warnings\n",
    "from vaex.ml.datasets import load_iris\n",
    "from vaex.ml.lightgbm import LightGBMModel\n",
    "from vaex.ml.xgboost import XGBoostModel\n",
    "from goldilox import Pipeline\n",
    "import numpy as np\n",
    "import json\n",
    "from vaex.ml.sklearn import Predictor\n",
    "from sklearn.cluster import KMeans\n",
    "\n",
    "warnings.filterwarnings('ignore')\n",
    "\n",
    "\n",
    "df = load_iris()\n",
    "target = 'class_'\n",
    "\n",
    "# feature engineering example\n",
    "df['petal_ratio'] = df['petal_length'] / df['petal_width'] \n",
    "features = ['petal_length', 'petal_width', 'sepal_length', 'sepal_width', 'petal_ratio']\n",
    "\n",
    "# classification\n",
    "lgm = LightGBMModel(features=features,\n",
    "                        target=target,\n",
    "                        prediction_name='classification',\n",
    "                        num_boost_round=500, params={'verbosity': -1,\n",
    "                                                     'objective': 'multiclass',\n",
    "                                                     'num_class': 3})\n",
    "lgm.fit(df)\n",
    "df = lgm.transform(df)\n",
    "\n",
    "# regression\n",
    "xgb = XGBoostModel( \n",
    "    features=features,\n",
    "    target=target,\n",
    "    prediction_name=\"regression\",\n",
    "    params = {'objective':'reg:squarederror'},\n",
    "    num_boost_round=500,\n",
    ")\n",
    "xgb.fit(df)\n",
    "df = xgb.transform(df)\n",
    "# clustering\n",
    "kmeans = Predictor(model=KMeans(), features=features, prediction_name='cluster')\n",
    "kmeans.fit(df)\n",
    "df = kmeans.transform(df)\n",
    "\n",
    "# post model processing example\n",
    "@vaex.register_function()\n",
    "def argmax(ar, axis=1):\n",
    "    return np.argmax(ar, axis=axis)\n",
    "df.add_function('argmax', argmax)\n",
    "df['prediction'] = df['classification'].argmax()\n",
    "\n",
    "df['label'] = df['prediction'].map({0: 'setosa', 1: 'versicolor', 2: 'virginica'})\n",
    "\n",
    "# Vaex remember all the transformations, this is a skleran.pipeline alternative\n",
    "pipeline = Pipeline.from_vaex(df, description='simple lightGBM')\n",
    "pipeline.raw.pop(target) # (optional) we don't expect to get the class_ in queries\n",
    "assert pipeline.validate()\n",
    "print(\"Pipeline raw data example:\")\n",
    "print(json.dumps(pipeline.raw, indent=4))\n",
    "print('')\n",
    "print(\"Pipeline output example:\")\n",
    "pipeline.inference(pipeline.raw).to_records()\n",
    "df.head(2)"
   ]
  },
  {
   "cell_type": "markdown",
   "id": "6452813e",
   "metadata": {},
   "source": [
    "## Nearest nighbours"
   ]
  },
  {
   "cell_type": "code",
   "execution_count": 41,
   "id": "e220941e",
   "metadata": {
    "ExecuteTime": {
     "end_time": "2021-12-09T15:16:15.873447Z",
     "start_time": "2021-12-09T15:16:15.676343Z"
    }
   },
   "outputs": [
    {
     "data": {
      "text/html": [
       "<table>\n",
       "<thead>\n",
       "<tr><th>#                            </th><th style=\"text-align: right;\">  sepal_length</th><th style=\"text-align: right;\">  sepal_width</th><th style=\"text-align: right;\">  petal_length</th><th style=\"text-align: right;\">  petal_width</th><th style=\"text-align: right;\">  class_</th><th style=\"text-align: right;\">  petal_ratio</th><th>classification                                     </th><th style=\"text-align: right;\">  regression</th><th style=\"text-align: right;\">  cluster</th><th style=\"text-align: right;\">  prediction</th><th>label     </th><th>knn                           </th></tr>\n",
       "</thead>\n",
       "<tbody>\n",
       "<tr><td><i style='opacity: 0.6'>0</i></td><td style=\"text-align: right;\">           5.9</td><td style=\"text-align: right;\">            3</td><td style=\"text-align: right;\">           4.2</td><td style=\"text-align: right;\">          1.5</td><td style=\"text-align: right;\">       1</td><td style=\"text-align: right;\">          2.8</td><td>&#x27;array([2.50134389e-08, 9.99999969e-01, 6.259919...</td><td style=\"text-align: right;\">      1.0007</td><td style=\"text-align: right;\">        3</td><td style=\"text-align: right;\">           1</td><td>versicolor</td><td>array([3, 6, 7], dtype=uint64)</td></tr>\n",
       "</tbody>\n",
       "</table>"
      ],
      "text/plain": [
       "  #    sepal_length    sepal_width    petal_length    petal_width    class_    petal_ratio  classification                                         regression    cluster    prediction  label       knn\n",
       "  0             5.9              3             4.2            1.5         1            2.8  'array([2.50134389e-08, 9.99999969e-01, 6.259919...        1.0007          3             1  versicolor  array([3, 6, 7], dtype=uint64)"
      ]
     },
     "execution_count": 41,
     "metadata": {},
     "output_type": "execute_result"
    }
   ],
   "source": [
    "from hnswlib import Index\n",
    "import numpy as np\n",
    "\n",
    "\n",
    "# Build index\n",
    "index = Index(\n",
    "    space=\"l2\", dim=len(features)\n",
    ")  # possible options are l2, cosine or ip\n",
    "index.init_index(max_elements=len(df), ef_construction=200, M=16)\n",
    "\n",
    "for i1, i2, chunk in df[features+['cluster']].to_pandas_df(chunk_size=1000):\n",
    "    X = chunk[features]\n",
    "    y = chunk[\"cluster\"]\n",
    "    index.add_items(X, y)\n",
    "\n",
    "index.set_ef(50)  # ef should always be > k (Controlling the recall by setting ef)\n",
    "\n",
    "# Add to Dataframe\n",
    "@vaex.register_function(on_expression=False)\n",
    "def topk(*columns, k=3):\n",
    "    labels, _ = index.knn_query(np.array(columns).T, k=k)\n",
    "    return np.array(labels)\n",
    "\n",
    "df.add_function(\"topk\", topk)\n",
    "df[\"knn\"] = df.func.topk(*features)\n",
    "\n",
    "# build pipeline for production\n",
    "pipeline = Pipeline.from_vaex(df)\n",
    "assert pipeline.validate\n",
    "pipeline.inference(pipeline.raw)"
   ]
  },
  {
   "cell_type": "markdown",
   "id": "4c708120",
   "metadata": {},
   "source": [
    "# Explain"
   ]
  },
  {
   "cell_type": "code",
   "execution_count": 42,
   "id": "389667f4",
   "metadata": {
    "ExecuteTime": {
     "end_time": "2021-12-09T15:16:16.434516Z",
     "start_time": "2021-12-09T15:16:15.875287Z"
    }
   },
   "outputs": [
    {
     "data": {
      "text/html": [
       "<table>\n",
       "<thead>\n",
       "<tr><th>#                            </th><th style=\"text-align: right;\">  sepal_length</th><th style=\"text-align: right;\">  sepal_width</th><th style=\"text-align: right;\">  petal_length</th><th style=\"text-align: right;\">  petal_width</th><th style=\"text-align: right;\">  class_</th><th style=\"text-align: right;\">  petal_ratio</th><th>classification                                     </th><th style=\"text-align: right;\">  regression</th><th style=\"text-align: right;\">  cluster</th><th style=\"text-align: right;\">  prediction</th><th>label     </th><th>knn                           </th><th>explanation                                        </th></tr>\n",
       "</thead>\n",
       "<tbody>\n",
       "<tr><td><i style='opacity: 0.6'>0</i></td><td style=\"text-align: right;\">           5.9</td><td style=\"text-align: right;\">            3</td><td style=\"text-align: right;\">           4.2</td><td style=\"text-align: right;\">          1.5</td><td style=\"text-align: right;\">       1</td><td style=\"text-align: right;\">          2.8</td><td>&#x27;array([2.50134389e-08, 9.99999969e-01, 6.259919...</td><td style=\"text-align: right;\">      1.0007</td><td style=\"text-align: right;\">        3</td><td style=\"text-align: right;\">           1</td><td>versicolor</td><td>array([3, 6, 7], dtype=uint64)</td><td>&quot;{&#x27;petal_length&#x27;: 3.5222047977554025, &#x27;petal_rat...</td></tr>\n",
       "</tbody>\n",
       "</table>"
      ],
      "text/plain": [
       "  #    sepal_length    sepal_width    petal_length    petal_width    class_    petal_ratio  classification                                         regression    cluster    prediction  label       knn                             explanation\n",
       "  0             5.9              3             4.2            1.5         1            2.8  'array([2.50134389e-08, 9.99999969e-01, 6.259919...        1.0007          3             1  versicolor  array([3, 6, 7], dtype=uint64)  \"{'petal_length': 3.5222047977554025, 'petal_rat..."
      ]
     },
     "execution_count": 42,
     "metadata": {},
     "output_type": "execute_result"
    }
   ],
   "source": [
    "import shap\n",
    "import pyarrow as pa\n",
    "import pandas as pd\n",
    "\n",
    "explainer = shap.TreeExplainer(lgm.booster)\n",
    "targets = df['class_'].unique()\n",
    "feature_count = len(features)\n",
    "\n",
    "@vaex.register_function(on_expression=False)\n",
    "def explain(*columns):    \n",
    "    data = np.array(columns).T\n",
    "    X = pd.DataFrame(data[:,:feature_count], columns=features)    \n",
    "    y = data[:,-1]\n",
    "    shap_values = explainer.shap_values(X)\n",
    "    explanation = []\n",
    "    \n",
    "    for i, c in enumerate(y):\n",
    "        c = int(c)\n",
    "        e = shap.force_plot(explainer.expected_value[c], shap_values[c][i,:], X.iloc[i]).data\n",
    "        explanation.append({feature:effects['effect'] for feature, effects in zip(e['featureNames'], e['features'].values())})\n",
    "    return pa.array(explanation)\n",
    "    \n",
    "df.add_function('explain', explain)\n",
    "explain_columns = features+['prediction']\n",
    "df['explanation']  =df.func.explain(*explain_columns)\n",
    "\n",
    "# get ready for production\n",
    "pipeline = Pipeline.from_vaex(df)\n",
    "pipeline.validate()\n",
    "pipeline.inference(pipeline.raw)\n",
    "\n"
   ]
  },
  {
   "cell_type": "markdown",
   "id": "0f87c7b9",
   "metadata": {},
   "source": [
    "# Recommender"
   ]
  },
  {
   "cell_type": "code",
   "execution_count": 43,
   "id": "cbbfa8fc",
   "metadata": {
    "ExecuteTime": {
     "end_time": "2021-12-09T15:16:16.778317Z",
     "start_time": "2021-12-09T15:16:16.435994Z"
    }
   },
   "outputs": [
    {
     "data": {
      "application/vnd.jupyter.widget-view+json": {
       "model_id": "92fdbc8a1b6041bb93807a4fce14743f",
       "version_major": 2,
       "version_minor": 0
      },
      "text/plain": [
       "  0%|          | 0/15 [00:00<?, ?it/s]"
      ]
     },
     "metadata": {},
     "output_type": "display_data"
    },
    {
     "data": {
      "text/html": [
       "<table>\n",
       "<thead>\n",
       "<tr><th>#                            </th><th style=\"text-align: right;\">  sepal_length</th><th style=\"text-align: right;\">  sepal_width</th><th style=\"text-align: right;\">  petal_length</th><th style=\"text-align: right;\">  petal_width</th><th style=\"text-align: right;\">  class_</th><th style=\"text-align: right;\">  petal_ratio</th><th>classification                                     </th><th style=\"text-align: right;\">  regression</th><th style=\"text-align: right;\">  cluster</th><th style=\"text-align: right;\">  prediction</th><th>label     </th><th>knn                           </th><th>explanation                                        </th><th>recommendations  </th></tr>\n",
       "</thead>\n",
       "<tbody>\n",
       "<tr><td><i style='opacity: 0.6'>0</i></td><td style=\"text-align: right;\">           5.9</td><td style=\"text-align: right;\">            3</td><td style=\"text-align: right;\">           4.2</td><td style=\"text-align: right;\">          1.5</td><td style=\"text-align: right;\">       1</td><td style=\"text-align: right;\">      2.8    </td><td>&#x27;array([2.50134389e-08, 9.99999969e-01, 6.259919...</td><td style=\"text-align: right;\">     1.0007 </td><td style=\"text-align: right;\">        3</td><td style=\"text-align: right;\">           1</td><td>versicolor</td><td>array([3, 6, 7], dtype=uint64)</td><td>&quot;{&#x27;petal_length&#x27;: 3.5222047977554025, &#x27;petal_rat...</td><td>array([0, 2, 1]) </td></tr>\n",
       "<tr><td><i style='opacity: 0.6'>1</i></td><td style=\"text-align: right;\">           6.1</td><td style=\"text-align: right;\">            3</td><td style=\"text-align: right;\">           4.6</td><td style=\"text-align: right;\">          1.4</td><td style=\"text-align: right;\">       1</td><td style=\"text-align: right;\">      3.28571</td><td>&#x27;array([8.83971014e-07, 9.99999089e-01, 2.725598...</td><td style=\"text-align: right;\">     1.00103</td><td style=\"text-align: right;\">        3</td><td style=\"text-align: right;\">           1</td><td>versicolor</td><td>array([3, 6, 7], dtype=uint64)</td><td>&quot;{&#x27;petal_length&#x27;: 3.5749666244104925, &#x27;petal_rat...</td><td>array([0, 2, 1]) </td></tr>\n",
       "</tbody>\n",
       "</table>"
      ],
      "text/plain": [
       "  #    sepal_length    sepal_width    petal_length    petal_width    class_    petal_ratio  classification                                         regression    cluster    prediction  label       knn                             explanation                                          recommendations\n",
       "  0             5.9              3             4.2            1.5         1        2.8      'array([2.50134389e-08, 9.99999969e-01, 6.259919...       1.0007           3             1  versicolor  array([3, 6, 7], dtype=uint64)  \"{'petal_length': 3.5222047977554025, 'petal_rat...  array([0, 2, 1])\n",
       "  1             6.1              3             4.6            1.4         1        3.28571  'array([8.83971014e-07, 9.99999089e-01, 2.725598...       1.00103          3             1  versicolor  array([3, 6, 7], dtype=uint64)  \"{'petal_length': 3.5749666244104925, 'petal_rat...  array([0, 2, 1])"
      ]
     },
     "execution_count": 43,
     "metadata": {},
     "output_type": "execute_result"
    }
   ],
   "source": [
    "from scipy.sparse import csr_matrix\n",
    "from implicit.als import AlternatingLeastSquares\n",
    "from implicit.nearest_neighbours import bm25_weight\n",
    "import pyarrow as pa\n",
    "\n",
    "ratings = csr_matrix((np.ones(len(df)), (df.prediction.values, df.cluster.values)))\n",
    "als = AlternatingLeastSquares(factors=32)\n",
    "als.fit(ratings)\n",
    "user_items = ratings.T.tocsr()\n",
    "\n",
    "@vaex.register_function()\n",
    "def recommend_als(ar, topk=5, filter_already_liked_items=False):\n",
    "    ret = []\n",
    "    for user in ar.tolist():\n",
    "        recommendations = als.recommend(user, user_items, N=topk,\n",
    "                                        filter_already_liked_items=filter_already_liked_items)        \n",
    "        ret.append([recommendation[0] for recommendation in recommendations ])\n",
    "    return np.array(ret)\n",
    "df.add_function('recommend_als', recommend_als)\n",
    "df['recommendations'] = df.prediction.recommend_als() \n",
    "\n",
    "df.head(2)"
   ]
  },
  {
   "cell_type": "code",
   "execution_count": null,
   "id": "aea5987c",
   "metadata": {
    "ExecuteTime": {
     "start_time": "2021-12-09T15:16:09.018Z"
    }
   },
   "outputs": [
    {
     "name": "stdout",
     "output_type": "stream",
     "text": [
      "Go to http://127.0.0.1:5000/docs\n",
      "[2021-12-09 16:16:20 +0100] [9538] [INFO] Starting gunicorn 20.1.0\n",
      "[2021-12-09 16:16:20 +0100] [9538] [INFO] Listening at: http://127.0.0.1:5000 (9538)\n",
      "[2021-12-09 16:16:20 +0100] [9538] [INFO] Using worker: uvicorn.workers.UvicornH11Worker\n",
      "[2021-12-09 16:16:20 +0100] [9542] [INFO] Booting worker with pid: 9542\n",
      "[2021-12-09 16:16:20 +0100] [9542] [INFO] Started server process [9542]\n",
      "[2021-12-09 16:16:20 +0100] [9542] [INFO] Waiting for application startup.\n",
      "[2021-12-09 16:16:20 +0100] [9542] [INFO] Application startup complete.\n"
     ]
    }
   ],
   "source": [
    "pipeline = Pipeline.from_vaex(df)\n",
    "pipeline.save('pipeline.pkl')\n",
    "print('Go to http://127.0.0.1:5000/docs')\n",
    "!gl serve pipeline.pkl"
   ]
  },
  {
   "cell_type": "code",
   "execution_count": null,
   "id": "370bd351",
   "metadata": {},
   "outputs": [],
   "source": []
  }
 ],
 "metadata": {
  "kernelspec": {
   "display_name": "Python 3 (ipykernel)",
   "language": "python",
   "name": "python3"
  },
  "language_info": {
   "codemirror_mode": {
    "name": "ipython",
    "version": 3
   },
   "file_extension": ".py",
   "mimetype": "text/x-python",
   "name": "python",
   "nbconvert_exporter": "python",
   "pygments_lexer": "ipython3",
   "version": "3.7.12"
  }
 },
 "nbformat": 4,
 "nbformat_minor": 5
}
