{
 "cells": [
  {
   "cell_type": "markdown",
   "metadata": {},
   "source": [
    "# Recommendation engine\n",
    "Let's be real, recommendations engines are a bit complicated.    \n",
    "You have content-base, colaborative filtering (personalized) , deep learning, etc,.    \n",
    "\n",
    "I'm not going to show and explain how all of it works for all use-cases out there, but instead the fastest, \"simplest\", personalized good quality, production-ready solution.   \n",
    "Doing adjustments to your use case should be relatively \"stright forward\" as much as those things normally are.    \n",
    "Check out [implicit](https://github.com/benfred/implicit), it's great.\n",
    "\n",
    "We will only use the explicit user, item, ranking."
   ]
  },
  {
   "cell_type": "code",
   "execution_count": 5,
   "metadata": {},
   "outputs": [
    {
     "data": {
      "text/html": [
       "<table>\n",
       "<thead>\n",
       "<tr><th>#                            </th><th style=\"text-align: right;\">  userId</th><th style=\"text-align: right;\">  movieId</th><th style=\"text-align: right;\">  rating</th><th>timestamp      </th><th>name          </th><th>title  </th><th>genres                            </th><th style=\"text-align: right;\">  year</th><th>url                                                </th></tr>\n",
       "</thead>\n",
       "<tbody>\n",
       "<tr><td><i style='opacity: 0.6'>0</i></td><td style=\"text-align: right;\">       1</td><td style=\"text-align: right;\">        2</td><td style=\"text-align: right;\">     3.5</td><td>20050402T235347</td><td>Fausto Orms   </td><td>Jumanji</td><td>[&quot;Adventure&quot;,&quot;Children&quot;,&quot;Fantasy&quot;]</td><td style=\"text-align: right;\">  1995</td><td>&#x27;http://image.tmdb.org/t/p/w500/vzmL6fP7aPKNKPRT...</td></tr>\n",
       "<tr><td><i style='opacity: 0.6'>1</i></td><td style=\"text-align: right;\">       5</td><td style=\"text-align: right;\">        2</td><td style=\"text-align: right;\">     3  </td><td>19961225T152609</td><td>Antony Maguire</td><td>Jumanji</td><td>[&quot;Adventure&quot;,&quot;Children&quot;,&quot;Fantasy&quot;]</td><td style=\"text-align: right;\">  1995</td><td>&#x27;http://image.tmdb.org/t/p/w500/vzmL6fP7aPKNKPRT...</td></tr>\n",
       "</tbody>\n",
       "</table>"
      ],
      "text/plain": [
       "  #    userId    movieId    rating  timestamp        name            title    genres                                year  url\n",
       "  0         1          2       3.5  20050402T235347  Fausto Orms     Jumanji  [\"Adventure\",\"Children\",\"Fantasy\"]    1995  'http://image.tmdb.org/t/p/w500/vzmL6fP7aPKNKPRT...\n",
       "  1         5          2       3    19961225T152609  Antony Maguire  Jumanji  [\"Adventure\",\"Children\",\"Fantasy\"]    1995  'http://image.tmdb.org/t/p/w500/vzmL6fP7aPKNKPRT..."
      ]
     },
     "execution_count": 5,
     "metadata": {},
     "output_type": "execute_result"
    }
   ],
   "source": [
    "import vaex\n",
    "\n",
    "df = vaex.open('data/imdb.parquet')\n",
    "df.head(2)"
   ]
  },
  {
   "cell_type": "markdown",
   "metadata": {},
   "source": [
    "We clean movies no one has watched.    \n",
    "Get a map from item to title for communication purposes. "
   ]
  },
  {
   "cell_type": "code",
   "execution_count": 6,
   "metadata": {},
   "outputs": [],
   "source": [
    "userid = 'userId'\n",
    "itemid = 'movieId'\n",
    "title = 'title'\n",
    "\n",
    "counts = df[itemid].value_counts()\n",
    "counts = counts[counts > 100] # Remove rare movies\n",
    "df = df[df[itemid].isin(counts.index)] \n",
    "unique_movies = df.groupby([itemid, title]).agg({'count': 'count'})\n",
    "titles = {movie: name for movie, name in \n",
    "          zip(unique_movies[itemid].tolist(), unique_movies[title].tolist())}\n",
    "\n",
    "min_rating = 4.4\n",
    "df = df[min_rating < df['rating']]  # We want to learn and recommend only moveis people liked"
   ]
  },
  {
   "cell_type": "markdown",
   "metadata": {},
   "source": [
    "Let's build a matrix-factorization model.\n",
    "* [reference](https://www.benfrederickson.com/matrix-factorization/)"
   ]
  },
  {
   "cell_type": "code",
   "execution_count": 7,
   "metadata": {},
   "outputs": [
    {
     "name": "stderr",
     "output_type": "stream",
     "text": [
      "100%|██████████| 15/15 [01:54<00:00,  7.62s/it]\n"
     ]
    }
   ],
   "source": [
    "import os\n",
    "import numpy as np\n",
    "from scipy.sparse import csr_matrix\n",
    "from implicit.als import AlternatingLeastSquares\n",
    "from implicit.nearest_neighbours import bm25_weight\n",
    "\n",
    "os.environ['OPENBLAS_NUM_THREADS'] = '1' # for implicit\n",
    "\n",
    "ratings = csr_matrix((np.ones(len(df)), (df[itemid].values, df[userid].values)))\n",
    "\n",
    "als = AlternatingLeastSquares(factors=32)\n",
    "als.fit(ratings)"
   ]
  },
  {
   "cell_type": "markdown",
   "metadata": {},
   "source": [
    "To do the recommendations, we \"extend\" vaex with the recommendations function.    \n",
    "* This is a lazy call for the model - great for testing\n",
    "* this is easy to extend and add logic\n",
    "\n",
    "If you need a super fast response time, you should consider persist recommendations per user to any key-value database instead.   \n",
    "When the model get's more complicated, including item and user attriburtes and context, then probably should use a nice cloud instance for it."
   ]
  },
  {
   "cell_type": "code",
   "execution_count": 8,
   "metadata": {},
   "outputs": [
    {
     "data": {
      "text/html": [
       "<table>\n",
       "<thead>\n",
       "<tr><th>#                            </th><th style=\"text-align: right;\">  userId</th><th style=\"text-align: right;\">  movieId</th><th style=\"text-align: right;\">  rating</th><th>timestamp      </th><th>name           </th><th>title  </th><th>genres                            </th><th style=\"text-align: right;\">  year</th><th>url                                                </th><th>recommendations_ids          </th><th>recommendations                                     </th></tr>\n",
       "</thead>\n",
       "<tbody>\n",
       "<tr><td><i style='opacity: 0.6'>0</i></td><td style=\"text-align: right;\">     156</td><td style=\"text-align: right;\">        2</td><td style=\"text-align: right;\">       5</td><td>20021226T212049</td><td>Mike Gallup    </td><td>Jumanji</td><td>[&quot;Adventure&quot;,&quot;Children&quot;,&quot;Fantasy&quot;]</td><td style=\"text-align: right;\">  1995</td><td>&#x27;http://image.tmdb.org/t/p/w500/vzmL6fP7aPKNKPRT...</td><td>[1291, 1250, 1527, 924, 1262]</td><td>&quot;array([&#x27;Indiana Jones and the Last Crusade&#x27;,\\n  ...</td></tr>\n",
       "<tr><td><i style='opacity: 0.6'>1</i></td><td style=\"text-align: right;\">     249</td><td style=\"text-align: right;\">        2</td><td style=\"text-align: right;\">       5</td><td>19960706T080206</td><td>Imogene Hallett</td><td>Jumanji</td><td>[&quot;Adventure&quot;,&quot;Children&quot;,&quot;Fantasy&quot;]</td><td style=\"text-align: right;\">  1995</td><td>&#x27;http://image.tmdb.org/t/p/w500/vzmL6fP7aPKNKPRT...</td><td>[480, 150, 36, 1617, 377]    </td><td>&quot;array([&#x27;Jurassic Park&#x27;, &#x27;Apollo 13&#x27;, &#x27;Dead Man ... </td></tr>\n",
       "</tbody>\n",
       "</table>"
      ],
      "text/plain": [
       "  #    userId    movieId    rating  timestamp        name             title    genres                                year  url                                                  recommendations_ids            recommendations\n",
       "  0       156          2         5  20021226T212049  Mike Gallup      Jumanji  [\"Adventure\",\"Children\",\"Fantasy\"]    1995  'http://image.tmdb.org/t/p/w500/vzmL6fP7aPKNKPRT...  [1291, 1250, 1527, 924, 1262]  \"array(['Indiana Jones and the Last Crusade',\\n  ...\n",
       "  1       249          2         5  19960706T080206  Imogene Hallett  Jumanji  [\"Adventure\",\"Children\",\"Fantasy\"]    1995  'http://image.tmdb.org/t/p/w500/vzmL6fP7aPKNKPRT...  [480, 150, 36, 1617, 377]      \"array(['Jurassic Park', 'Apollo 13', 'Dead Man ..."
      ]
     },
     "execution_count": 8,
     "metadata": {},
     "output_type": "execute_result"
    }
   ],
   "source": [
    "import pyarrow as pa\n",
    "user_items = ratings.T.tocsr()\n",
    "\n",
    "@vaex.register_function()\n",
    "def recommend_als(ar, topk=5, filter_already_liked_items=True):\n",
    "    ret = []\n",
    "    for user in ar.tolist():\n",
    "        recommendations = als.recommend(user, user_items, N=topk,\n",
    "                                        filter_already_liked_items=filter_already_liked_items)        \n",
    "        ret.append([recommendation[0] for recommendation in recommendations ])\n",
    "    return pa.array(ret)\n",
    "df.add_function('recommend_als', recommend_als)\n",
    "df['recommendations_ids'] = df.userId.recommend_als() \n",
    "df['recommendations'] = df['recommendations_ids'].apply(lambda recommendations: [titles.get(item) for item in recommendations])\n",
    "df.head(2)"
   ]
  },
  {
   "cell_type": "markdown",
   "metadata": {},
   "source": [
    "Let's add an explnation for the recommedantions - so the user know we don't read their private facebook messages (and that is how we know what they like)"
   ]
  },
  {
   "cell_type": "code",
   "execution_count": 10,
   "metadata": {},
   "outputs": [
    {
     "data": {
      "text/plain": [
       "{'userId': 249,\n",
       " 'movieId': 2,\n",
       " 'rating': 5.0,\n",
       " 'timestamp': '19960706T080206',\n",
       " 'name': 'Imogene Hallett',\n",
       " 'title': 'Jumanji',\n",
       " 'genres': '[\"Adventure\",\"Children\",\"Fantasy\"]',\n",
       " 'year': 1995,\n",
       " 'url': 'http://image.tmdb.org/t/p/w500/vzmL6fP7aPKNKPRTFnZmiUfciyV.jpg',\n",
       " 'recommendations_ids': array([ 480,  150,   36, 1617,  377]),\n",
       " 'recommendations': ['Jurassic Park',\n",
       "  'Apollo 13',\n",
       "  'Dead Man Walking',\n",
       "  'L.A. Confidential',\n",
       "  'Speed'],\n",
       " 'response': {'Apollo 13': array(['Fugitive, The', 'Babe', 'Pulp Fiction'], dtype=object),\n",
       "  'Dead Man Walking': array(['Fargo', \"Schindler's List\", 'Babe'], dtype=object),\n",
       "  'Jurassic Park': array(['Fugitive, The', 'Independence Day (a.k.a. ID4)', 'Fargo'],\n",
       "        dtype=object),\n",
       "  'L.A. Confidential': array(['Usual Suspects, The', 'Fargo', 'Silence of the Lambs, The'],\n",
       "        dtype=object),\n",
       "  'Speed': array(['Fugitive, The', 'Independence Day (a.k.a. ID4)', 'Jumanji'],\n",
       "        dtype=object)}}"
      ]
     },
     "execution_count": 10,
     "metadata": {},
     "output_type": "execute_result"
    }
   ],
   "source": [
    "@vaex.register_function(on_expression=False)\n",
    "def explain(users, recs, k=3):    \n",
    "    ret = []\n",
    "    for user, user_recs in zip(users.tolist(), recs.tolist()):\n",
    "        user_explnations = {}\n",
    "        for itemid in user_recs:                \n",
    "            rec_title = titles.get(itemid)\n",
    "            score_explained, contributions, W = als.explain(user, user_items, itemid=itemid)            \n",
    "            user_explnations[rec_title]= [titles.get(i) for i, _ in contributions[:k]]\n",
    "        ret.append(user_explnations)\n",
    "    return pa.array(ret)\n",
    "df.add_function('explain', explain)\n",
    "df['response'] = df.func.explain(df[userid], df['recommendations_ids'])\n",
    "df.to_records(1)"
   ]
  },
  {
   "cell_type": "markdown",
   "metadata": {},
   "source": [
    "Let's move this thing into production."
   ]
  },
  {
   "cell_type": "code",
   "execution_count": 11,
   "metadata": {},
   "outputs": [],
   "source": [
    "from goldilox import Pipeline\n",
    "pipeline = Pipeline.from_vaex(df)\n",
    "assert pipeline.validate()"
   ]
  },
  {
   "cell_type": "code",
   "execution_count": null,
   "metadata": {},
   "outputs": [],
   "source": [
    "pipeline.save('pipeline.pkl')\n",
    "print('Go to http://127.0.0.1:5000/docs, and test the inference with only the \"userId\" key, and \"response\" in the columns params')\n",
    "!gl serve pipeline.pkl"
   ]
  },
  {
   "cell_type": "code",
   "execution_count": 17,
   "metadata": {},
   "outputs": [
    {
     "data": {
      "text/plain": [
       "''"
      ]
     },
     "execution_count": 17,
     "metadata": {},
     "output_type": "execute_result"
    }
   ],
   "source": [
    "# results\n",
    "[\n",
    "  {\n",
    "    \"response\": {\n",
    "      \"2001: A Space Odyssey\": [\n",
    "        \"Blade Runner\",\n",
    "        \"Dr. Strangelove or: How I Learned to Stop Worrying and Love the Bomb\",\n",
    "        \"Clockwork Orange, A\"\n",
    "      ],\n",
    "      \"Bridge on the River Kwai, The\": [\n",
    "        \"Saving Private Ryan\",\n",
    "        \"Casablanca\",\n",
    "        \"Butch Cassidy and the Sundance Kid\"\n",
    "      ],\n",
    "      \"Fifth Element, The\": [\n",
    "        \"Twelve Monkeys (a.k.a. 12 Monkeys)\",\n",
    "        \"Blade Runner\",\n",
    "        \"Matrix, The\"\n",
    "      ],\n",
    "      \"Great Escape, The\": [\n",
    "        \"Saving Private Ryan\",\n",
    "        \"Raiders of the Lost Ark (Indiana Jones and the Raiders of the Lost Ark)\",\n",
    "        \"Sting, The\"\n",
    "      ],\n",
    "      \"Indiana Jones and the Last Crusade\": [\n",
    "        \"Raiders of the Lost Ark (Indiana Jones and the Raiders of the Lost Ark)\",\n",
    "        \"Die Hard\",\n",
    "        \"Sixth Sense, The\"\n",
    "      ]\n",
    "    }\n",
    "  }\n",
    "]\n"
   ]
  }
 ],
 "metadata": {
  "interpreter": {
   "hash": "c02e8cefd04ff52e799f4aa259d2ee492875245d06169a1d386f6f6b41a66828"
  },
  "kernelspec": {
   "display_name": "Python 3.7.9 64-bit ('.venv': venv)",
   "language": "python",
   "name": "python3"
  },
  "language_info": {
   "codemirror_mode": {
    "name": "ipython",
    "version": 3
   },
   "file_extension": ".py",
   "mimetype": "text/x-python",
   "name": "python",
   "nbconvert_exporter": "python",
   "pygments_lexer": "ipython3",
   "version": "3.7.9"
  },
  "orig_nbformat": 4
 },
 "nbformat": 4,
 "nbformat_minor": 2
}