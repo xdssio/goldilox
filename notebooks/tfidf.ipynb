{
 "cells": [
  {
   "cell_type": "markdown",
   "metadata": {},
   "source": [
    "# [TFIDF](https://en.wikipedia.org/wiki/Tf%E2%80%93idf)"
   ]
  },
  {
   "cell_type": "markdown",
   "metadata": {},
   "source": [
    "## Vaex"
   ]
  },
  {
   "cell_type": "code",
   "execution_count": 9,
   "metadata": {},
   "outputs": [
    {
     "data": {
      "text/html": [
       "<table>\n",
       "<thead>\n",
       "<tr><th>#                            </th><th>text      </th><th>y  </th><th>prediction  </th></tr>\n",
       "</thead>\n",
       "<tbody>\n",
       "<tr><td><i style='opacity: 0.6'>0</i></td><td>you and me</td><td>-- </td><td>you         </td></tr>\n",
       "</tbody>\n",
       "</table>"
      ],
      "text/plain": [
       "  #  text        y    prediction\n",
       "  0  you and me  --   you"
      ]
     },
     "execution_count": 9,
     "metadata": {},
     "output_type": "execute_result"
    }
   ],
   "source": [
    "import vaex\n",
    "import sklearn.pipeline\n",
    "from sklearn.feature_extraction.text import TfidfVectorizer\n",
    "from sklearn.linear_model import LogisticRegression\n",
    "from vaex.ml.sklearn import Predictor\n",
    "from goldilox import Pipeline\n",
    "\n",
    "\n",
    "text = ['I love soup', 'you love soup']\n",
    "y = ['me', 'you']\n",
    "df = vaex.from_arrays(text=text, y=y)\n",
    "\n",
    "sk_pipeline = sklearn.pipeline.Pipeline([('tfidf', TfidfVectorizer()), ('classifier', LogisticRegression())]).fit(df['text'].to_numpy(), df['y'].to_numpy())\n",
    "\n",
    "\n",
    "@vaex.register_function()\n",
    "def tfidf(ar):\n",
    "    return sk_pipeline.predict(ar.tolist())\n",
    "\n",
    "df.add_function('tfidf', tfidf)\n",
    "df['prediction'] = df['text'].tfidf()\n",
    "\n",
    "# Pipeline\n",
    "pipeline = Pipeline.from_vaex(df)\n",
    "assert pipeline.validate()\n",
    "pipeline.inference({'text':'you and me'})"
   ]
  },
  {
   "cell_type": "markdown",
   "metadata": {},
   "source": [
    "## Sklearn"
   ]
  },
  {
   "cell_type": "code",
   "execution_count": 13,
   "metadata": {},
   "outputs": [
    {
     "name": "stderr",
     "output_type": "stream",
     "text": [
      "WARNING:root:Pipeline doesn't handle na for text\n"
     ]
    },
    {
     "data": {
      "text/html": [
       "<div>\n",
       "<style scoped>\n",
       "    .dataframe tbody tr th:only-of-type {\n",
       "        vertical-align: middle;\n",
       "    }\n",
       "\n",
       "    .dataframe tbody tr th {\n",
       "        vertical-align: top;\n",
       "    }\n",
       "\n",
       "    .dataframe thead th {\n",
       "        text-align: right;\n",
       "    }\n",
       "</style>\n",
       "<table border=\"1\" class=\"dataframe\">\n",
       "  <thead>\n",
       "    <tr style=\"text-align: right;\">\n",
       "      <th></th>\n",
       "      <th>text</th>\n",
       "      <th>prediction</th>\n",
       "    </tr>\n",
       "  </thead>\n",
       "  <tbody>\n",
       "    <tr>\n",
       "      <th>0</th>\n",
       "      <td>I like cats</td>\n",
       "      <td>me</td>\n",
       "    </tr>\n",
       "  </tbody>\n",
       "</table>\n",
       "</div>"
      ],
      "text/plain": [
       "          text prediction\n",
       "0  I like cats         me"
      ]
     },
     "execution_count": 13,
     "metadata": {},
     "output_type": "execute_result"
    }
   ],
   "source": [
    "import sklearn.pipeline\n",
    "from sklearn.feature_extraction.text import TfidfVectorizer\n",
    "from sklearn.linear_model import LogisticRegression\n",
    "from goldilox import Pipeline\n",
    "import pandas as pd\n",
    "\n",
    "text = ['I love soup', 'you love soup']\n",
    "y = ['me', 'you']\n",
    "\n",
    "df = pd.DataFrame({'text':text, \"y\":y})\n",
    "\n",
    "sk_pipeline = sklearn.pipeline.Pipeline([('tfidf', TfidfVectorizer()), ('classifier', LogisticRegression())]).fit(df['text'], df['y'])\n",
    "\n",
    "pipeline = Pipeline.from_sklearn(sk_pipeline, raw={'text':'example'})\n",
    "assert pipeline.validate()\n",
    "pipeline.inference({'text':'I like cats'})"
   ]
  },
  {
   "cell_type": "markdown",
   "metadata": {},
   "source": [
    "# Serve"
   ]
  },
  {
   "cell_type": "code",
   "execution_count": 7,
   "metadata": {},
   "outputs": [
    {
     "name": "stdout",
     "output_type": "stream",
     "text": [
      "Go to the fasgtapi docs here: http://127.0.0.1:5000/docs\n",
      "[2021-11-26 12:10:04 +0100] [39494] [INFO] Starting gunicorn 20.1.0\n",
      "[2021-11-26 12:10:04 +0100] [39494] [INFO] Listening at: http://127.0.0.1:5000 (39494)\n",
      "[2021-11-26 12:10:04 +0100] [39494] [INFO] Using worker: uvicorn.workers.UvicornH11Worker\n",
      "[2021-11-26 12:10:04 +0100] [39527] [INFO] Booting worker with pid: 39527\n",
      "[2021-11-26 12:10:04 +0100] [39527] [INFO] Started server process [39527]\n",
      "[2021-11-26 12:10:04 +0100] [39527] [INFO] Waiting for application startup.\n",
      "[2021-11-26 12:10:04 +0100] [39527] [INFO] Application startup complete.\n",
      "^C\n",
      "[2021-11-26 12:10:21 +0100] [39494] [INFO] Handling signal: int\n"
     ]
    }
   ],
   "source": [
    "pipeline.save('pipeline.pkl')\n",
    "print('Go to the fastapi docs here: http://127.0.0.1:5000/docs')\n",
    "!gl serve 'pipeline.pkl'"
   ]
  }
 ],
 "metadata": {
  "interpreter": {
   "hash": "a24fb10407d98c895ca4ebc991df8bd8db3efe74a86347ed2e2a2998c5b6d91c"
  },
  "kernelspec": {
   "display_name": "Python 3.9.7 64-bit ('.virtualenvs': virtualenv)",
   "language": "python",
   "name": "python3"
  },
  "language_info": {
   "codemirror_mode": {
    "name": "ipython",
    "version": 3
   },
   "file_extension": ".py",
   "mimetype": "text/x-python",
   "name": "python",
   "nbconvert_exporter": "python",
   "pygments_lexer": "ipython3",
   "version": "3.7.9"
  },
  "orig_nbformat": 4
 },
 "nbformat": 4,
 "nbformat_minor": 2
}
