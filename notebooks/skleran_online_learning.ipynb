{
 "cells": [
  {
   "cell_type": "markdown",
   "id": "5cfa1674",
   "metadata": {},
   "source": [
    "# Skleran - batch learning"
   ]
  },
  {
   "cell_type": "markdown",
   "id": "95924944",
   "metadata": {},
   "source": [
    "## [Add a vaex accesor](https://vaex.io/docs/tutorial.html#Adding-DataFrame-accessors) (optional)\n",
    "* The numpy version is about 2X fast"
   ]
  },
  {
   "cell_type": "code",
   "execution_count": 2,
   "id": "b650d3b7",
   "metadata": {
    "ExecuteTime": {
     "end_time": "2022-01-13T14:37:05.190664Z",
     "start_time": "2022-01-13T14:37:03.930297Z"
    },
    "code_folding": [
     5,
     6
    ]
   },
   "outputs": [],
   "source": [
    "import vaex\n",
    "import numpy as np\n",
    "\n",
    "\n",
    "@vaex.register_dataframe_accessor('online', override=True)\n",
    "class Online(object):\n",
    "    def __init__(self, df):\n",
    "        self.df = df\n",
    "\n",
    "    def to_pandas_x_y(self, features=None, target=None, num_epochs=1, batch_size=1000, shuffle=False):\n",
    "        \"\"\"Return a tuple X, y which fits the sklearn pattern\"\"\"\n",
    "        num_features = len(features)        \n",
    "        column_names = features.copy()\n",
    "        n_samples = len(self.df)\n",
    "        if target is not None:\n",
    "            column_names.append(target)\n",
    "        progressbar = vaex.utils.progressbars(True, title=\"training\")\n",
    "        progressbar(0)\n",
    "        def iterator():\n",
    "            for epoch in range(num_epochs):\n",
    "                for i1, i2, chunks in self.df.to_pandas_df(column_names=column_names, \n",
    "                                                           chunk_size=batch_size):\n",
    "                    if shuffle and epoch > 0:\n",
    "                        chunks = chunks.sample(frac=1)\n",
    "                    X = chunks[column_names]\n",
    "                    y = chunks[target]\n",
    "                    yield X, y\n",
    "                    progressbar((n_samples * epoch + i1) / (num_epochs * n_samples))\n",
    "            progressbar(1.0)\n",
    "        return iterator()\n",
    "\n",
    "    def to_x_y(self, features=None, target=None, num_epochs=1, batch_size=1000, shuffle=False):\n",
    "        \"\"\"Return a tuple X, y which fits the sklearn pattern\"\"\"\n",
    "        num_features = len(features)        \n",
    "        column_names = features.copy()\n",
    "        n_samples = len(self.df)\n",
    "        if target is not None:\n",
    "            column_names.append(target)\n",
    "        progressbar = vaex.utils.progressbars(True, title=\"training\")\n",
    "        progressbar(0)\n",
    "        y = None\n",
    "        def iterator():\n",
    "            for epoch in range(num_epochs):\n",
    "                for i1, i2, chunks in self.df.evaluate_iterator(column_names, \n",
    "                                                                chunk_size=batch_size, \n",
    "                                                                progress=False):\n",
    "                    chunks = np.array(chunks).T\n",
    "                    if shuffle and epoch > 0:\n",
    "                        np.random.shuffle(chunks)\n",
    "                    X = chunks[:, 0 : num_features]\n",
    "                    if target is not None:\n",
    "                        y = chunks[:, -1]\n",
    "                    yield X, y\n",
    "                    progressbar((n_samples * epoch + i1) / (num_epochs * n_samples))\n",
    "            progressbar(1.0)\n",
    "        return iterator()"
   ]
  },
  {
   "cell_type": "markdown",
   "id": "0ac7f267",
   "metadata": {},
   "source": [
    "# Get data"
   ]
  },
  {
   "cell_type": "code",
   "execution_count": 3,
   "id": "9eda8502",
   "metadata": {
    "ExecuteTime": {
     "end_time": "2022-01-13T14:37:05.503898Z",
     "start_time": "2022-01-13T14:37:05.191922Z"
    }
   },
   "outputs": [
    {
     "data": {
      "text/html": [
       "<table>\n",
       "<thead>\n",
       "<tr><th>#                            </th><th style=\"text-align: right;\">  feature0</th><th style=\"text-align: right;\">  feature1</th><th style=\"text-align: right;\">  feature2</th><th style=\"text-align: right;\">  feature3</th><th style=\"text-align: right;\">  feature4</th><th style=\"text-align: right;\">  feature5</th><th style=\"text-align: right;\">  feature6</th><th style=\"text-align: right;\">  feature7</th><th style=\"text-align: right;\">  feature8</th><th style=\"text-align: right;\">  feature9</th><th style=\"text-align: right;\">  feature10</th><th style=\"text-align: right;\">  feature11</th><th style=\"text-align: right;\">  feature12</th><th style=\"text-align: right;\">  feature13</th><th style=\"text-align: right;\">  feature14</th><th style=\"text-align: right;\">  feature15</th><th style=\"text-align: right;\">  feature16</th><th style=\"text-align: right;\">  feature17</th><th style=\"text-align: right;\">  feature18</th><th style=\"text-align: right;\">  feature19</th><th style=\"text-align: right;\">  target</th></tr>\n",
       "</thead>\n",
       "<tbody>\n",
       "<tr><td><i style='opacity: 0.6'>0</i></td><td style=\"text-align: right;\">   2.45147</td><td style=\"text-align: right;\"> -0.715539</td><td style=\"text-align: right;\">   0.698  </td><td style=\"text-align: right;\">   3.21942</td><td style=\"text-align: right;\">  0.406325</td><td style=\"text-align: right;\">   2.38479</td><td style=\"text-align: right;\"> -0.103844</td><td style=\"text-align: right;\">  0.391614</td><td style=\"text-align: right;\"> 0.0976282</td><td style=\"text-align: right;\">   5.4911 </td><td style=\"text-align: right;\">   1.76723 </td><td style=\"text-align: right;\">    1.06463</td><td style=\"text-align: right;\">  -0.443518</td><td style=\"text-align: right;\">   0.247427</td><td style=\"text-align: right;\">   0.978219</td><td style=\"text-align: right;\">   -2.61953</td><td style=\"text-align: right;\">  -2.15154 </td><td style=\"text-align: right;\">  -0.544022</td><td style=\"text-align: right;\">  0.0145202</td><td style=\"text-align: right;\">   0.853765</td><td style=\"text-align: right;\">       2</td></tr>\n",
       "<tr><td><i style='opacity: 0.6'>1</i></td><td style=\"text-align: right;\">  -3.65761</td><td style=\"text-align: right;\"> -0.858712</td><td style=\"text-align: right;\">   2.27286</td><td style=\"text-align: right;\">   5.64451</td><td style=\"text-align: right;\">  0.918866</td><td style=\"text-align: right;\">   1.85282</td><td style=\"text-align: right;\">  1.03418 </td><td style=\"text-align: right;\"> -1.97162 </td><td style=\"text-align: right;\"> 0.192771 </td><td style=\"text-align: right;\">   1.60397</td><td style=\"text-align: right;\">   0.496333</td><td style=\"text-align: right;\">   -2.51502</td><td style=\"text-align: right;\">   0.170388</td><td style=\"text-align: right;\">  -1.56123 </td><td style=\"text-align: right;\">  -2.98436 </td><td style=\"text-align: right;\">   -1.45455</td><td style=\"text-align: right;\">  -0.246393</td><td style=\"text-align: right;\">   1.8335  </td><td style=\"text-align: right;\">  0.419694 </td><td style=\"text-align: right;\">  -0.594665</td><td style=\"text-align: right;\">       2</td></tr>\n",
       "</tbody>\n",
       "</table>"
      ],
      "text/plain": [
       "  #    feature0    feature1    feature2    feature3    feature4    feature5    feature6    feature7    feature8    feature9    feature10    feature11    feature12    feature13    feature14    feature15    feature16    feature17    feature18    feature19    target\n",
       "  0     2.45147   -0.715539     0.698       3.21942    0.406325     2.38479   -0.103844    0.391614   0.0976282     5.4911      1.76723       1.06463    -0.443518     0.247427     0.978219     -2.61953    -2.15154     -0.544022    0.0145202     0.853765         2\n",
       "  1    -3.65761   -0.858712     2.27286     5.64451    0.918866     1.85282    1.03418    -1.97162    0.192771      1.60397     0.496333     -2.51502     0.170388    -1.56123     -2.98436      -1.45455    -0.246393     1.8335      0.419694     -0.594665         2"
      ]
     },
     "execution_count": 3,
     "metadata": {},
     "output_type": "execute_result"
    }
   ],
   "source": [
    "from sklearn.datasets import make_classification\n",
    "import vaex\n",
    "\n",
    "X, y = make_classification(n_samples=10000, n_informative=10, n_classes=3)\n",
    "df = vaex.from_arrays(**{f\"feature{i}\": X[:,i] for i in range(20)})\n",
    "features, target = df.get_column_names(), 'target'\n",
    "df[target] = y\n",
    "df.head(2)"
   ]
  },
  {
   "cell_type": "code",
   "execution_count": 4,
   "id": "9ea96052",
   "metadata": {
    "ExecuteTime": {
     "end_time": "2022-01-13T14:37:06.145225Z",
     "start_time": "2022-01-13T14:37:06.066355Z"
    }
   },
   "outputs": [
    {
     "name": "stderr",
     "output_type": "stream",
     "text": [
      "/Users/yonatanalexander/development/xdss/goldilox/.venv/lib/python3.7/site-packages/vaex/ml/__init__.py:31: UserWarning: Make sure the DataFrame is shuffled\n",
      "  warnings.warn('Make sure the DataFrame is shuffled')\n"
     ]
    }
   ],
   "source": [
    "train, test = df.ml.train_test_split()"
   ]
  },
  {
   "cell_type": "markdown",
   "id": "7b4fdb26",
   "metadata": {},
   "source": [
    "## Training "
   ]
  },
  {
   "cell_type": "code",
   "execution_count": 11,
   "id": "6ee89692",
   "metadata": {
    "ExecuteTime": {
     "end_time": "2022-01-13T14:40:03.845521Z",
     "start_time": "2022-01-13T14:39:56.011811Z"
    }
   },
   "outputs": [
    {
     "name": "stdout",
     "output_type": "stream",
     "text": [
      "training [########################################] 100.00% elapsed time  :     7.53s =  0.1m =  0.0h \n",
      " "
     ]
    }
   ],
   "source": [
    "from sklearn.linear_model import SGDClassifier\n",
    "from vaex.ml.sklearn import Predictor\n",
    "import warnings\n",
    "\n",
    "warnings.filterwarnings('ignore')\n",
    "\n",
    "for feature in features:\n",
    "    train[feature] = train[feature].fillna(train[feature].mean())\n",
    "\n",
    "num_epochs = 100\n",
    "batch_size = 5000\n",
    "model = None\n",
    "\n",
    "\n",
    "for X,y in train.online.to_x_y(features=features, \n",
    "                               target=target,\n",
    "                               batch_size=batch_size, \n",
    "                               num_epochs=num_epochs):\n",
    "\n",
    "        model = SGDClassifier().fit(X, y) if model is None else model.partial_fit(X, y) \n",
    "            \n",
    "\n",
    "\n",
    "model = Predictor(model=model,\n",
    "                features=features, \n",
    "                target=target,\n",
    "                prediction_name='prediction')\n",
    "train = model.transform(train)        "
   ]
  },
  {
   "cell_type": "code",
   "execution_count": 12,
   "id": "5ffb12ad",
   "metadata": {
    "ExecuteTime": {
     "end_time": "2022-01-13T14:40:05.815844Z",
     "start_time": "2022-01-13T14:40:04.558323Z"
    }
   },
   "outputs": [
    {
     "name": "stdout",
     "output_type": "stream",
     "text": [
      "Accuracy: 0.6625\n"
     ]
    }
   ],
   "source": [
    "from goldilox import Pipeline\n",
    "from sklearn.metrics import accuracy_score\n",
    "\n",
    "pipeline = Pipeline.from_vaex(train)\n",
    "print(f\"Accuracy: {accuracy_score(pipeline.inference(test)['prediction'].values, test[target].values)}\")"
   ]
  },
  {
   "cell_type": "code",
   "execution_count": null,
   "id": "e25c5b7f",
   "metadata": {},
   "outputs": [],
   "source": []
  }
 ],
 "metadata": {
  "kernelspec": {
   "display_name": "Python 3 (ipykernel)",
   "language": "python",
   "name": "python3"
  },
  "language_info": {
   "codemirror_mode": {
    "name": "ipython",
    "version": 3
   },
   "file_extension": ".py",
   "mimetype": "text/x-python",
   "name": "python",
   "nbconvert_exporter": "python",
   "pygments_lexer": "ipython3",
   "version": "3.7.12"
  }
 },
 "nbformat": 4,
 "nbformat_minor": 5
}
