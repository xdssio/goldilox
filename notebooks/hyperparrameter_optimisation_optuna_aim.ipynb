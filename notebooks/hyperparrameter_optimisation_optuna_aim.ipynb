{
 "cells": [
  {
   "cell_type": "markdown",
   "id": "c9233d38",
   "metadata": {},
   "source": [
    "# Hyperparameter optimisation\n",
    "[Optuna docs](https://optuna.org)\n",
    "[Aim docs](https://aimstack.readthedocs.io/en/stable/)\n",
    "\n",
    "Let's have a look at hyperparameters optimisation (optuna) with experiment tracking (aim)."
   ]
  },
  {
   "cell_type": "code",
   "execution_count": 30,
   "id": "5fc30f00",
   "metadata": {
    "ExecuteTime": {
     "end_time": "2022-02-08T14:45:19.341053Z",
     "start_time": "2022-02-08T14:45:19.306811Z"
    }
   },
   "outputs": [],
   "source": [
    "from sklearn.datasets import make_classification\n",
    "from sklearn.model_selection import train_test_split\n",
    "from sklearn.preprocessing import LabelBinarizer\n",
    "\n",
    "X, y = make_classification(n_samples=10000, n_informative=10, n_classes=3)\n",
    "\n",
    "# It's a good pracrtice to leave chunk of test data which you use only once.\n",
    "X_data, X_test, y_data, y_test = train_test_split(X, y, test_size=0.1) \n",
    "\n",
    "lb = LabelBinarizer().fit(y)"
   ]
  },
  {
   "cell_type": "code",
   "execution_count": 31,
   "id": "13c4e3c9",
   "metadata": {
    "ExecuteTime": {
     "end_time": "2022-02-08T14:46:32.584278Z",
     "start_time": "2022-02-08T14:45:24.452745Z"
    },
    "code_folding": []
   },
   "outputs": [
    {
     "name": "stderr",
     "output_type": "stream",
     "text": [
      "\u001b[32m[I 2022-02-08 15:45:24,478]\u001b[0m A new study created in memory with name: experiment\u001b[0m\n",
      "\u001b[32m[I 2022-02-08 15:45:37,941]\u001b[0m Trial 0 finished with value: 0.9819901656065678 and parameters: {'lambda_l1': 0.03236434327371788, 'lambda_l2': 1.3464980590539399e-08, 'num_leaves': 118, 'feature_fraction': 0.9033231317202044, 'bagging_fraction': 0.9556923677517071, 'bagging_freq': 5}. Best is trial 0 with value: 0.9819901656065678.\u001b[0m\n",
      "\u001b[32m[I 2022-02-08 15:46:00,122]\u001b[0m Trial 1 finished with value: 0.9787093131409725 and parameters: {'lambda_l1': 0.0016743798948805823, 'lambda_l2': 0.00036331606039578785, 'num_leaves': 246, 'feature_fraction': 0.8838231487536684, 'bagging_fraction': 0.9648706255903432, 'bagging_freq': 2}. Best is trial 0 with value: 0.9819901656065678.\u001b[0m\n",
      "\u001b[32m[I 2022-02-08 15:46:16,782]\u001b[0m Trial 2 finished with value: 0.9795117104061709 and parameters: {'lambda_l1': 1.2815210232012302e-05, 'lambda_l2': 0.0012098337176967384, 'num_leaves': 247, 'feature_fraction': 0.885706662506448, 'bagging_fraction': 0.6370061607442772, 'bagging_freq': 3}. Best is trial 0 with value: 0.9819901656065678.\u001b[0m\n",
      "\u001b[32m[I 2022-02-08 15:46:23,906]\u001b[0m Trial 3 finished with value: 0.9708558516332536 and parameters: {'lambda_l1': 1.0327738329730475e-05, 'lambda_l2': 0.019444637340901176, 'num_leaves': 64, 'feature_fraction': 0.7181030538339879, 'bagging_fraction': 0.42428873972378184, 'bagging_freq': 6}. Best is trial 0 with value: 0.9819901656065678.\u001b[0m\n",
      "\u001b[32m[I 2022-02-08 15:46:31,885]\u001b[0m Trial 4 finished with value: 0.9764323784013863 and parameters: {'lambda_l1': 0.00017064572195698015, 'lambda_l2': 0.0016750483605669764, 'num_leaves': 75, 'feature_fraction': 0.5326248109428233, 'bagging_fraction': 0.6710962759849719, 'bagging_freq': 3}. Best is trial 0 with value: 0.9819901656065678.\u001b[0m\n",
      "\u001b[32m[I 2022-02-08 15:46:31,962]\u001b[0m Trial 5 pruned. Trial was pruned at iteration 0.\u001b[0m\n",
      "\u001b[32m[I 2022-02-08 15:46:32,122]\u001b[0m Trial 6 pruned. Trial was pruned at iteration 0.\u001b[0m\n",
      "\u001b[32m[I 2022-02-08 15:46:32,390]\u001b[0m Trial 7 pruned. Trial was pruned at iteration 0.\u001b[0m\n",
      "\u001b[32m[I 2022-02-08 15:46:32,449]\u001b[0m Trial 8 pruned. Trial was pruned at iteration 0.\u001b[0m\n",
      "\u001b[32m[I 2022-02-08 15:46:32,579]\u001b[0m Trial 9 pruned. Trial was pruned at iteration 0.\u001b[0m\n"
     ]
    },
    {
     "name": "stdout",
     "output_type": "stream",
     "text": [
      "Number of finished trials: 10\n",
      "Best trial: {'lambda_l1': 0.03236434327371788, 'lambda_l2': 1.3464980590539399e-08, 'num_leaves': 118, 'feature_fraction': 0.9033231317202044, 'bagging_fraction': 0.9556923677517071, 'bagging_freq': 5}\n"
     ]
    }
   ],
   "source": [
    "import optuna \n",
    "import lightgbm as lgb\n",
    "import numpy as np\n",
    "from sklearn.metrics import accuracy_score, roc_auc_score\n",
    "from aim import Run\n",
    "\n",
    "\n",
    "def get_accuracy(y, predictions):\n",
    "    return accuracy_score(y, np.argmax(predictions, axis=1))\n",
    "\n",
    "def get_auc(y, predictions):\n",
    "    return roc_auc_score(lb.transform(y), predictions)\n",
    "    \n",
    "    \n",
    "def objective(trial):\n",
    "    trial_run = Run(experiment=f\"lightgbm-{trial.number}\")\n",
    "    \n",
    "    X_train, X_validation, y_train, y_validation = train_test_split(X_data, y_data, test_size=0.25)\n",
    "    train = lgb.Dataset(X_train, label=y_train)\n",
    "    validation = lgb.Dataset(X_validation, label=y_validation)\n",
    " \n",
    "    param = {\n",
    "            \"num_class\": 3,\n",
    "            \"objective\": \"multiclass\",\n",
    "            \"metric\": \"auc_mu\",\n",
    "            \"verbosity\": -1,\n",
    "            \"boosting_type\": \"gbdt\",\n",
    "            \"lambda_l1\": trial.suggest_float(\"lambda_l1\", 1e-8, 10.0, log=True),\n",
    "            \"lambda_l2\": trial.suggest_float(\"lambda_l2\", 1e-8, 10.0, log=True),\n",
    "            \"num_leaves\": trial.suggest_int(\"num_leaves\", 2, 256),\n",
    "            \"feature_fraction\": trial.suggest_float(\"feature_fraction\", 0.4, 1.0),\n",
    "            \"bagging_fraction\": trial.suggest_float(\"bagging_fraction\", 0.4, 1.0),\n",
    "            \"bagging_freq\": trial.suggest_int(\"bagging_freq\", 1, 7),\n",
    "        }\n",
    "\n",
    "    trial_run['hparams'] = param\n",
    "\n",
    "    pruning_callback = optuna.integration.LightGBMPruningCallback(trial, \"auc_mu\")\n",
    "    gbm = lgb.train(\n",
    "        param, train, valid_sets=[validation], callbacks=[pruning_callback]        \n",
    "    )\n",
    "    train_predictions = gbm.predict(X_train)\n",
    "    validation_predictions = gbm.predict(X_validation)\n",
    "    \n",
    "    train_auc = get_auc(y_train, train_predictions)\n",
    "    validation_auc = get_auc(y_validation, validation_predictions)\n",
    "    \n",
    "    train_accuracy = get_accuracy(y_train, train_predictions)\n",
    "    validation_accuracy = get_accuracy(y_validation, validation_predictions)        \n",
    "    \n",
    "    trial_run.track(train_accuracy, name='accuracy', epoch=trial.number, context={ \"subset\":\"train\" })\n",
    "    trial_run.track(validation_accuracy, name='accuracy', epoch=trial.number, context={ \"subset\":\"validation\" })\n",
    "    trial_run.track(train_auc, name='auc', epoch=trial.number, context={ \"subset\":\"train\" })\n",
    "    trial_run.track(validation_auc, name='auc', epoch=trial.number, context={ \"subset\":\"validation\" })\n",
    "    return validation_auc\n",
    " \n",
    "study = optuna.create_study(study_name='experiment',direction='maximize')\n",
    "study.optimize(objective, n_trials=10)\n",
    "\n",
    "print('Number of finished trials:', len(study.trials))\n",
    "print('Best trial:', study.best_trial.params)"
   ]
  },
  {
   "cell_type": "markdown",
   "id": "629ee53f",
   "metadata": {},
   "source": [
    "### Last evaluation on the data we put aside"
   ]
  },
  {
   "cell_type": "code",
   "execution_count": 32,
   "id": "398efd71",
   "metadata": {
    "ExecuteTime": {
     "end_time": "2022-02-08T14:47:57.156247Z",
     "start_time": "2022-02-08T14:47:37.096544Z"
    }
   },
   "outputs": [],
   "source": [
    "from lightgbm.sklearn import LGBMClassifier\n",
    "from goldilox import Pipeline\n",
    "\n",
    "run = Run(experiment=f\"lightgbm-final\")\n",
    "run['hparams'] = study.best_trial.params\n",
    "\n",
    "model = LGBMClassifier(**study.best_trial.params).fit(X_data, y_data)\n",
    "\n",
    "train_probabilities = model.predict_proba(X_data)\n",
    "test_probabilities = model.predict_proba(X_test)\n",
    "\n",
    "train_accuracy = get_accuracy(y_data, train_probabilities)\n",
    "test_accuracy = get_accuracy(y_test, test_probabilities)\n",
    "train_auc = get_auc(y_data, train_probabilities)\n",
    "test_auc = get_auc(y_test, test_probabilities)\n",
    "\n",
    "run.track(train_accuracy, name='accuracy', context={ \"subset\":\"train\" })\n",
    "run.track(train_accuracy, name='accuracy', context={ \"subset\":\"test\" })\n",
    "run.track(train_auc, name='auc', context={ \"subset\":\"train\" })\n",
    "run.track(test_auc, name='auc', context={ \"subset\":\"test\" })"
   ]
  },
  {
   "cell_type": "markdown",
   "id": "42ea6754",
   "metadata": {
    "ExecuteTime": {
     "end_time": "2022-02-08T14:41:33.231636Z",
     "start_time": "2022-02-08T14:41:33.091793Z"
    }
   },
   "source": [
    "### For production we fit on the entire data\n",
    "We save the metrices of the last final run and it's params to the pipeline so it is available."
   ]
  },
  {
   "cell_type": "code",
   "execution_count": 33,
   "id": "bde3f263",
   "metadata": {
    "ExecuteTime": {
     "end_time": "2022-02-08T14:48:13.366958Z",
     "start_time": "2022-02-08T14:47:57.157768Z"
    }
   },
   "outputs": [
    {
     "name": "stdout",
     "output_type": "stream",
     "text": [
      "[LightGBM] [Warning] bagging_freq is set=5, subsample_freq=0 will be ignored. Current value: bagging_freq=5\n",
      "[LightGBM] [Warning] lambda_l1 is set=0.03236434327371788, reg_alpha=0.0 will be ignored. Current value: lambda_l1=0.03236434327371788\n",
      "[LightGBM] [Warning] feature_fraction is set=0.9033231317202044, colsample_bytree=1.0 will be ignored. Current value: feature_fraction=0.9033231317202044\n",
      "[LightGBM] [Warning] bagging_fraction is set=0.9556923677517071, subsample=1.0 will be ignored. Current value: bagging_fraction=0.9556923677517071\n",
      "[LightGBM] [Warning] lambda_l2 is set=1.3464980590539399e-08, reg_lambda=0.0 will be ignored. Current value: lambda_l2=1.3464980590539399e-08\n"
     ]
    },
    {
     "name": "stderr",
     "output_type": "stream",
     "text": [
      "WARNING: Pipeline doesn't handle NA for 0\n",
      "WARNING: Pipeline doesn't handle NA for 1\n",
      "WARNING: Pipeline doesn't handle NA for 2\n",
      "WARNING: Pipeline doesn't handle NA for 3\n",
      "WARNING: Pipeline doesn't handle NA for 4\n",
      "WARNING: Pipeline doesn't handle NA for 5\n",
      "WARNING: Pipeline doesn't handle NA for 6\n",
      "WARNING: Pipeline doesn't handle NA for 7\n",
      "WARNING: Pipeline doesn't handle NA for 8\n",
      "WARNING: Pipeline doesn't handle NA for 9\n",
      "WARNING: Pipeline doesn't handle NA for 10\n",
      "WARNING: Pipeline doesn't handle NA for 11\n",
      "WARNING: Pipeline doesn't handle NA for 12\n",
      "WARNING: Pipeline doesn't handle NA for 13\n",
      "WARNING: Pipeline doesn't handle NA for 14\n",
      "WARNING: Pipeline doesn't handle NA for 15\n",
      "WARNING: Pipeline doesn't handle NA for 16\n",
      "WARNING: Pipeline doesn't handle NA for 17\n",
      "WARNING: Pipeline doesn't handle NA for 18\n",
      "WARNING: Pipeline doesn't handle NA for 19\n"
     ]
    }
   ],
   "source": [
    "from goldilox import Pipeline\n",
    "\n",
    "pipeline = Pipeline.from_sklearn(LGBMClassifier(**study.best_trial.params),  \n",
    "                                 variables={'hparams':study.best_trial.params,\n",
    "                                            'metrices':{'train_accuracy':train_accuracy,\n",
    "                                                   'test_accuracy':test_accuracy,\n",
    "                                                   'train_auc':train_auc,\n",
    "                                                   'test_auc':test_auc}}).fit(X,y)"
   ]
  },
  {
   "cell_type": "code",
   "execution_count": 34,
   "id": "83549e53",
   "metadata": {
    "ExecuteTime": {
     "end_time": "2022-02-08T14:48:13.386757Z",
     "start_time": "2022-02-08T14:48:13.368602Z"
    }
   },
   "outputs": [
    {
     "data": {
      "text/html": [
       "<div>\n",
       "<style scoped>\n",
       "    .dataframe tbody tr th:only-of-type {\n",
       "        vertical-align: middle;\n",
       "    }\n",
       "\n",
       "    .dataframe tbody tr th {\n",
       "        vertical-align: top;\n",
       "    }\n",
       "\n",
       "    .dataframe thead th {\n",
       "        text-align: right;\n",
       "    }\n",
       "</style>\n",
       "<table border=\"1\" class=\"dataframe\">\n",
       "  <thead>\n",
       "    <tr style=\"text-align: right;\">\n",
       "      <th></th>\n",
       "      <th>0</th>\n",
       "      <th>1</th>\n",
       "      <th>2</th>\n",
       "      <th>3</th>\n",
       "      <th>4</th>\n",
       "      <th>5</th>\n",
       "      <th>6</th>\n",
       "      <th>7</th>\n",
       "      <th>8</th>\n",
       "      <th>9</th>\n",
       "      <th>...</th>\n",
       "      <th>11</th>\n",
       "      <th>12</th>\n",
       "      <th>13</th>\n",
       "      <th>14</th>\n",
       "      <th>15</th>\n",
       "      <th>16</th>\n",
       "      <th>17</th>\n",
       "      <th>18</th>\n",
       "      <th>19</th>\n",
       "      <th>prediction</th>\n",
       "    </tr>\n",
       "  </thead>\n",
       "  <tbody>\n",
       "    <tr>\n",
       "      <th>0</th>\n",
       "      <td>-1.104461</td>\n",
       "      <td>1.347733</td>\n",
       "      <td>1.131951</td>\n",
       "      <td>4.301946</td>\n",
       "      <td>-1.108296</td>\n",
       "      <td>0.763974</td>\n",
       "      <td>-4.688927</td>\n",
       "      <td>0.295072</td>\n",
       "      <td>-0.818672</td>\n",
       "      <td>0.95454</td>\n",
       "      <td>...</td>\n",
       "      <td>0.839913</td>\n",
       "      <td>-3.275066</td>\n",
       "      <td>3.49597</td>\n",
       "      <td>1.474378</td>\n",
       "      <td>-0.291933</td>\n",
       "      <td>-0.633007</td>\n",
       "      <td>-1.70554</td>\n",
       "      <td>-0.683422</td>\n",
       "      <td>1.861085</td>\n",
       "      <td>0</td>\n",
       "    </tr>\n",
       "  </tbody>\n",
       "</table>\n",
       "<p>1 rows × 21 columns</p>\n",
       "</div>"
      ],
      "text/plain": [
       "          0         1         2         3         4         5         6  \\\n",
       "0 -1.104461  1.347733  1.131951  4.301946 -1.108296  0.763974 -4.688927   \n",
       "\n",
       "          7         8        9  ...        11        12       13        14  \\\n",
       "0  0.295072 -0.818672  0.95454  ...  0.839913 -3.275066  3.49597  1.474378   \n",
       "\n",
       "         15        16       17        18        19  prediction  \n",
       "0 -0.291933 -0.633007 -1.70554 -0.683422  1.861085           0  \n",
       "\n",
       "[1 rows x 21 columns]"
      ]
     },
     "execution_count": 34,
     "metadata": {},
     "output_type": "execute_result"
    }
   ],
   "source": [
    "pipeline.inference(pipeline.raw)"
   ]
  },
  {
   "cell_type": "code",
   "execution_count": 35,
   "id": "303bdca2",
   "metadata": {
    "ExecuteTime": {
     "end_time": "2022-02-08T14:48:13.392433Z",
     "start_time": "2022-02-08T14:48:13.389000Z"
    }
   },
   "outputs": [
    {
     "data": {
      "text/plain": [
       "{'hparams': {'lambda_l1': 0.03236434327371788,\n",
       "  'lambda_l2': 1.3464980590539399e-08,\n",
       "  'num_leaves': 118,\n",
       "  'feature_fraction': 0.9033231317202044,\n",
       "  'bagging_fraction': 0.9556923677517071,\n",
       "  'bagging_freq': 5},\n",
       " 'metrices': {'train_accuracy': 1.0,\n",
       "  'test_accuracy': 0.898,\n",
       "  'train_auc': 1.0,\n",
       "  'test_auc': 0.9759710820535412}}"
      ]
     },
     "execution_count": 35,
     "metadata": {},
     "output_type": "execute_result"
    }
   ],
   "source": [
    "pipeline.variables"
   ]
  },
  {
   "cell_type": "markdown",
   "id": "e6c7c671",
   "metadata": {},
   "source": [
    "### Let's look at the experiments"
   ]
  },
  {
   "cell_type": "code",
   "execution_count": 36,
   "id": "5af3dd22",
   "metadata": {
    "ExecuteTime": {
     "end_time": "2022-02-08T14:48:21.151101Z",
     "start_time": "2022-02-08T14:48:17.928889Z"
    }
   },
   "outputs": [
    {
     "name": "stdout",
     "output_type": "stream",
     "text": [
      "The aim extension is already loaded. To reload it, use:\n",
      "  %reload_ext aim\n"
     ]
    },
    {
     "data": {
      "text/html": [
       "\n",
       "          <iframe id=\"aim\" width=\"100%\" height=\"800\" frameborder=\"0\" src=http://127.0.0.1:43800/notebook/>\n",
       "          </iframe>\n",
       "        "
      ],
      "text/plain": [
       "<IPython.core.display.HTML object>"
      ]
     },
     "metadata": {},
     "output_type": "display_data"
    }
   ],
   "source": [
    "%load_ext aim\n",
    "%aim up"
   ]
  },
  {
   "cell_type": "code",
   "execution_count": null,
   "id": "afd5741b",
   "metadata": {},
   "outputs": [],
   "source": []
  }
 ],
 "metadata": {
  "kernelspec": {
   "display_name": "Python 3 (ipykernel)",
   "language": "python",
   "name": "python3"
  },
  "language_info": {
   "codemirror_mode": {
    "name": "ipython",
    "version": 3
   },
   "file_extension": ".py",
   "mimetype": "text/x-python",
   "name": "python",
   "nbconvert_exporter": "python",
   "pygments_lexer": "ipython3",
   "version": "3.7.12"
  }
 },
 "nbformat": 4,
 "nbformat_minor": 5
}
